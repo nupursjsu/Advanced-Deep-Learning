{
  "nbformat": 4,
  "nbformat_minor": 0,
  "metadata": {
    "colab": {
      "name": "MIL_on_Breast_Histopathological_Images.ipynb",
      "provenance": [],
      "collapsed_sections": [
        "CqCVeGVhaqGV",
        "MJ7ysCF-a5OY",
        "clI8KxSWbLKm",
        "FhqlM1tTblSA",
        "8ruitak4dXx8",
        "bR0MiYl1dS2D",
        "Tweg490Odrj1"
      ],
      "include_colab_link": true
    },
    "kernelspec": {
      "name": "python3",
      "display_name": "Python 3"
    },
    "accelerator": "GPU",
    "widgets": {
      "application/vnd.jupyter.widget-state+json": {
        "5cf98e6d13014bdea031537b77392fe9": {
          "model_module": "@jupyter-widgets/controls",
          "model_name": "HBoxModel",
          "state": {
            "_view_name": "HBoxView",
            "_dom_classes": [],
            "_model_name": "HBoxModel",
            "_view_module": "@jupyter-widgets/controls",
            "_model_module_version": "1.5.0",
            "_view_count": null,
            "_view_module_version": "1.5.0",
            "box_style": "",
            "layout": "IPY_MODEL_857561784a33499e80faf7524401510f",
            "_model_module": "@jupyter-widgets/controls",
            "children": [
              "IPY_MODEL_ae5f55de56cb495ab9348b75728c2f9d",
              "IPY_MODEL_94ebb3f6e83e4a3290633966f3455dde"
            ]
          }
        },
        "857561784a33499e80faf7524401510f": {
          "model_module": "@jupyter-widgets/base",
          "model_name": "LayoutModel",
          "state": {
            "_view_name": "LayoutView",
            "grid_template_rows": null,
            "right": null,
            "justify_content": null,
            "_view_module": "@jupyter-widgets/base",
            "overflow": null,
            "_model_module_version": "1.2.0",
            "_view_count": null,
            "flex_flow": null,
            "width": null,
            "min_width": null,
            "border": null,
            "align_items": null,
            "bottom": null,
            "_model_module": "@jupyter-widgets/base",
            "top": null,
            "grid_column": null,
            "overflow_y": null,
            "overflow_x": null,
            "grid_auto_flow": null,
            "grid_area": null,
            "grid_template_columns": null,
            "flex": null,
            "_model_name": "LayoutModel",
            "justify_items": null,
            "grid_row": null,
            "max_height": null,
            "align_content": null,
            "visibility": null,
            "align_self": null,
            "height": null,
            "min_height": null,
            "padding": null,
            "grid_auto_rows": null,
            "grid_gap": null,
            "max_width": null,
            "order": null,
            "_view_module_version": "1.2.0",
            "grid_template_areas": null,
            "object_position": null,
            "object_fit": null,
            "grid_auto_columns": null,
            "margin": null,
            "display": null,
            "left": null
          }
        },
        "ae5f55de56cb495ab9348b75728c2f9d": {
          "model_module": "@jupyter-widgets/controls",
          "model_name": "FloatProgressModel",
          "state": {
            "_view_name": "ProgressView",
            "style": "IPY_MODEL_deaf33c6d642418f9895e420c051418d",
            "_dom_classes": [],
            "description": "Loss:  18%",
            "_model_name": "FloatProgressModel",
            "bar_style": "danger",
            "max": 60000,
            "_view_module": "@jupyter-widgets/controls",
            "_model_module_version": "1.5.0",
            "value": 10999,
            "_view_count": null,
            "_view_module_version": "1.5.0",
            "orientation": "horizontal",
            "min": 0,
            "description_tooltip": null,
            "_model_module": "@jupyter-widgets/controls",
            "layout": "IPY_MODEL_b18b74e07d734522a97fb5b30039b15e"
          }
        },
        "94ebb3f6e83e4a3290633966f3455dde": {
          "model_module": "@jupyter-widgets/controls",
          "model_name": "HTMLModel",
          "state": {
            "_view_name": "HTMLView",
            "style": "IPY_MODEL_fe20a5fd2cb543cdad415aa5e0435e58",
            "_dom_classes": [],
            "description": "",
            "_model_name": "HTMLModel",
            "placeholder": "​",
            "_view_module": "@jupyter-widgets/controls",
            "_model_module_version": "1.5.0",
            "value": " 10999/60000 [15:14&lt;1:07:12, 12.15it/s]",
            "_view_count": null,
            "_view_module_version": "1.5.0",
            "description_tooltip": null,
            "_model_module": "@jupyter-widgets/controls",
            "layout": "IPY_MODEL_122de14f4b584ae9a704f2647c92c9b3"
          }
        },
        "deaf33c6d642418f9895e420c051418d": {
          "model_module": "@jupyter-widgets/controls",
          "model_name": "ProgressStyleModel",
          "state": {
            "_view_name": "StyleView",
            "_model_name": "ProgressStyleModel",
            "description_width": "initial",
            "_view_module": "@jupyter-widgets/base",
            "_model_module_version": "1.5.0",
            "_view_count": null,
            "_view_module_version": "1.2.0",
            "bar_color": null,
            "_model_module": "@jupyter-widgets/controls"
          }
        },
        "b18b74e07d734522a97fb5b30039b15e": {
          "model_module": "@jupyter-widgets/base",
          "model_name": "LayoutModel",
          "state": {
            "_view_name": "LayoutView",
            "grid_template_rows": null,
            "right": null,
            "justify_content": null,
            "_view_module": "@jupyter-widgets/base",
            "overflow": null,
            "_model_module_version": "1.2.0",
            "_view_count": null,
            "flex_flow": null,
            "width": null,
            "min_width": null,
            "border": null,
            "align_items": null,
            "bottom": null,
            "_model_module": "@jupyter-widgets/base",
            "top": null,
            "grid_column": null,
            "overflow_y": null,
            "overflow_x": null,
            "grid_auto_flow": null,
            "grid_area": null,
            "grid_template_columns": null,
            "flex": null,
            "_model_name": "LayoutModel",
            "justify_items": null,
            "grid_row": null,
            "max_height": null,
            "align_content": null,
            "visibility": null,
            "align_self": null,
            "height": null,
            "min_height": null,
            "padding": null,
            "grid_auto_rows": null,
            "grid_gap": null,
            "max_width": null,
            "order": null,
            "_view_module_version": "1.2.0",
            "grid_template_areas": null,
            "object_position": null,
            "object_fit": null,
            "grid_auto_columns": null,
            "margin": null,
            "display": null,
            "left": null
          }
        },
        "fe20a5fd2cb543cdad415aa5e0435e58": {
          "model_module": "@jupyter-widgets/controls",
          "model_name": "DescriptionStyleModel",
          "state": {
            "_view_name": "StyleView",
            "_model_name": "DescriptionStyleModel",
            "description_width": "",
            "_view_module": "@jupyter-widgets/base",
            "_model_module_version": "1.5.0",
            "_view_count": null,
            "_view_module_version": "1.2.0",
            "_model_module": "@jupyter-widgets/controls"
          }
        },
        "122de14f4b584ae9a704f2647c92c9b3": {
          "model_module": "@jupyter-widgets/base",
          "model_name": "LayoutModel",
          "state": {
            "_view_name": "LayoutView",
            "grid_template_rows": null,
            "right": null,
            "justify_content": null,
            "_view_module": "@jupyter-widgets/base",
            "overflow": null,
            "_model_module_version": "1.2.0",
            "_view_count": null,
            "flex_flow": null,
            "width": null,
            "min_width": null,
            "border": null,
            "align_items": null,
            "bottom": null,
            "_model_module": "@jupyter-widgets/base",
            "top": null,
            "grid_column": null,
            "overflow_y": null,
            "overflow_x": null,
            "grid_auto_flow": null,
            "grid_area": null,
            "grid_template_columns": null,
            "flex": null,
            "_model_name": "LayoutModel",
            "justify_items": null,
            "grid_row": null,
            "max_height": null,
            "align_content": null,
            "visibility": null,
            "align_self": null,
            "height": null,
            "min_height": null,
            "padding": null,
            "grid_auto_rows": null,
            "grid_gap": null,
            "max_width": null,
            "order": null,
            "_view_module_version": "1.2.0",
            "grid_template_areas": null,
            "object_position": null,
            "object_fit": null,
            "grid_auto_columns": null,
            "margin": null,
            "display": null,
            "left": null
          }
        },
        "c6b39a364a1d4a57a21eabd8d13b2fa6": {
          "model_module": "@jupyter-widgets/controls",
          "model_name": "HBoxModel",
          "state": {
            "_view_name": "HBoxView",
            "_dom_classes": [],
            "_model_name": "HBoxModel",
            "_view_module": "@jupyter-widgets/controls",
            "_model_module_version": "1.5.0",
            "_view_count": null,
            "_view_module_version": "1.5.0",
            "box_style": "",
            "layout": "IPY_MODEL_872a53b459b24dd69776482e39ce7540",
            "_model_module": "@jupyter-widgets/controls",
            "children": [
              "IPY_MODEL_a78b85830a354b3fb549c73ae16f46cd",
              "IPY_MODEL_cc89cbdc720b4dacac42d30830f37b4c"
            ]
          }
        },
        "872a53b459b24dd69776482e39ce7540": {
          "model_module": "@jupyter-widgets/base",
          "model_name": "LayoutModel",
          "state": {
            "_view_name": "LayoutView",
            "grid_template_rows": null,
            "right": null,
            "justify_content": null,
            "_view_module": "@jupyter-widgets/base",
            "overflow": null,
            "_model_module_version": "1.2.0",
            "_view_count": null,
            "flex_flow": null,
            "width": null,
            "min_width": null,
            "border": null,
            "align_items": null,
            "bottom": null,
            "_model_module": "@jupyter-widgets/base",
            "top": null,
            "grid_column": null,
            "overflow_y": null,
            "overflow_x": null,
            "grid_auto_flow": null,
            "grid_area": null,
            "grid_template_columns": null,
            "flex": null,
            "_model_name": "LayoutModel",
            "justify_items": null,
            "grid_row": null,
            "max_height": null,
            "align_content": null,
            "visibility": null,
            "align_self": null,
            "height": null,
            "min_height": null,
            "padding": null,
            "grid_auto_rows": null,
            "grid_gap": null,
            "max_width": null,
            "order": null,
            "_view_module_version": "1.2.0",
            "grid_template_areas": null,
            "object_position": null,
            "object_fit": null,
            "grid_auto_columns": null,
            "margin": null,
            "display": null,
            "left": null
          }
        },
        "a78b85830a354b3fb549c73ae16f46cd": {
          "model_module": "@jupyter-widgets/controls",
          "model_name": "FloatProgressModel",
          "state": {
            "_view_name": "ProgressView",
            "style": "IPY_MODEL_0500a95784e740b4aa64ffc33f942e40",
            "_dom_classes": [],
            "description": "Loss:  15%",
            "_model_name": "FloatProgressModel",
            "bar_style": "danger",
            "max": 60000,
            "_view_module": "@jupyter-widgets/controls",
            "_model_module_version": "1.5.0",
            "value": 8999,
            "_view_count": null,
            "_view_module_version": "1.5.0",
            "orientation": "horizontal",
            "min": 0,
            "description_tooltip": null,
            "_model_module": "@jupyter-widgets/controls",
            "layout": "IPY_MODEL_503b634081af45c892e57120a7950d42"
          }
        },
        "cc89cbdc720b4dacac42d30830f37b4c": {
          "model_module": "@jupyter-widgets/controls",
          "model_name": "HTMLModel",
          "state": {
            "_view_name": "HTMLView",
            "style": "IPY_MODEL_8af6638d252e45c0b911c97b890d5263",
            "_dom_classes": [],
            "description": "",
            "_model_name": "HTMLModel",
            "placeholder": "​",
            "_view_module": "@jupyter-widgets/controls",
            "_model_module_version": "1.5.0",
            "value": " 8999/60000 [12:24&lt;1:06:57, 12.69it/s]",
            "_view_count": null,
            "_view_module_version": "1.5.0",
            "description_tooltip": null,
            "_model_module": "@jupyter-widgets/controls",
            "layout": "IPY_MODEL_de14cbe6771d4ed5bbff00eabeae8310"
          }
        },
        "0500a95784e740b4aa64ffc33f942e40": {
          "model_module": "@jupyter-widgets/controls",
          "model_name": "ProgressStyleModel",
          "state": {
            "_view_name": "StyleView",
            "_model_name": "ProgressStyleModel",
            "description_width": "initial",
            "_view_module": "@jupyter-widgets/base",
            "_model_module_version": "1.5.0",
            "_view_count": null,
            "_view_module_version": "1.2.0",
            "bar_color": null,
            "_model_module": "@jupyter-widgets/controls"
          }
        },
        "503b634081af45c892e57120a7950d42": {
          "model_module": "@jupyter-widgets/base",
          "model_name": "LayoutModel",
          "state": {
            "_view_name": "LayoutView",
            "grid_template_rows": null,
            "right": null,
            "justify_content": null,
            "_view_module": "@jupyter-widgets/base",
            "overflow": null,
            "_model_module_version": "1.2.0",
            "_view_count": null,
            "flex_flow": null,
            "width": null,
            "min_width": null,
            "border": null,
            "align_items": null,
            "bottom": null,
            "_model_module": "@jupyter-widgets/base",
            "top": null,
            "grid_column": null,
            "overflow_y": null,
            "overflow_x": null,
            "grid_auto_flow": null,
            "grid_area": null,
            "grid_template_columns": null,
            "flex": null,
            "_model_name": "LayoutModel",
            "justify_items": null,
            "grid_row": null,
            "max_height": null,
            "align_content": null,
            "visibility": null,
            "align_self": null,
            "height": null,
            "min_height": null,
            "padding": null,
            "grid_auto_rows": null,
            "grid_gap": null,
            "max_width": null,
            "order": null,
            "_view_module_version": "1.2.0",
            "grid_template_areas": null,
            "object_position": null,
            "object_fit": null,
            "grid_auto_columns": null,
            "margin": null,
            "display": null,
            "left": null
          }
        },
        "8af6638d252e45c0b911c97b890d5263": {
          "model_module": "@jupyter-widgets/controls",
          "model_name": "DescriptionStyleModel",
          "state": {
            "_view_name": "StyleView",
            "_model_name": "DescriptionStyleModel",
            "description_width": "",
            "_view_module": "@jupyter-widgets/base",
            "_model_module_version": "1.5.0",
            "_view_count": null,
            "_view_module_version": "1.2.0",
            "_model_module": "@jupyter-widgets/controls"
          }
        },
        "de14cbe6771d4ed5bbff00eabeae8310": {
          "model_module": "@jupyter-widgets/base",
          "model_name": "LayoutModel",
          "state": {
            "_view_name": "LayoutView",
            "grid_template_rows": null,
            "right": null,
            "justify_content": null,
            "_view_module": "@jupyter-widgets/base",
            "overflow": null,
            "_model_module_version": "1.2.0",
            "_view_count": null,
            "flex_flow": null,
            "width": null,
            "min_width": null,
            "border": null,
            "align_items": null,
            "bottom": null,
            "_model_module": "@jupyter-widgets/base",
            "top": null,
            "grid_column": null,
            "overflow_y": null,
            "overflow_x": null,
            "grid_auto_flow": null,
            "grid_area": null,
            "grid_template_columns": null,
            "flex": null,
            "_model_name": "LayoutModel",
            "justify_items": null,
            "grid_row": null,
            "max_height": null,
            "align_content": null,
            "visibility": null,
            "align_self": null,
            "height": null,
            "min_height": null,
            "padding": null,
            "grid_auto_rows": null,
            "grid_gap": null,
            "max_width": null,
            "order": null,
            "_view_module_version": "1.2.0",
            "grid_template_areas": null,
            "object_position": null,
            "object_fit": null,
            "grid_auto_columns": null,
            "margin": null,
            "display": null,
            "left": null
          }
        },
        "0eb9eabf947043c4b30f51d508955d38": {
          "model_module": "@jupyter-widgets/controls",
          "model_name": "HBoxModel",
          "state": {
            "_view_name": "HBoxView",
            "_dom_classes": [],
            "_model_name": "HBoxModel",
            "_view_module": "@jupyter-widgets/controls",
            "_model_module_version": "1.5.0",
            "_view_count": null,
            "_view_module_version": "1.5.0",
            "box_style": "",
            "layout": "IPY_MODEL_86a5adc297c6428e813eab5f3992fa7e",
            "_model_module": "@jupyter-widgets/controls",
            "children": [
              "IPY_MODEL_0f4d704ec66a477f8c0a2fc00a068c67",
              "IPY_MODEL_0299d80a87a54d5992cc23e8e6470add"
            ]
          }
        },
        "86a5adc297c6428e813eab5f3992fa7e": {
          "model_module": "@jupyter-widgets/base",
          "model_name": "LayoutModel",
          "state": {
            "_view_name": "LayoutView",
            "grid_template_rows": null,
            "right": null,
            "justify_content": null,
            "_view_module": "@jupyter-widgets/base",
            "overflow": null,
            "_model_module_version": "1.2.0",
            "_view_count": null,
            "flex_flow": null,
            "width": null,
            "min_width": null,
            "border": null,
            "align_items": null,
            "bottom": null,
            "_model_module": "@jupyter-widgets/base",
            "top": null,
            "grid_column": null,
            "overflow_y": null,
            "overflow_x": null,
            "grid_auto_flow": null,
            "grid_area": null,
            "grid_template_columns": null,
            "flex": null,
            "_model_name": "LayoutModel",
            "justify_items": null,
            "grid_row": null,
            "max_height": null,
            "align_content": null,
            "visibility": null,
            "align_self": null,
            "height": null,
            "min_height": null,
            "padding": null,
            "grid_auto_rows": null,
            "grid_gap": null,
            "max_width": null,
            "order": null,
            "_view_module_version": "1.2.0",
            "grid_template_areas": null,
            "object_position": null,
            "object_fit": null,
            "grid_auto_columns": null,
            "margin": null,
            "display": null,
            "left": null
          }
        },
        "0f4d704ec66a477f8c0a2fc00a068c67": {
          "model_module": "@jupyter-widgets/controls",
          "model_name": "FloatProgressModel",
          "state": {
            "_view_name": "ProgressView",
            "style": "IPY_MODEL_a9e023ddb5be470dbfcd5685ea4b7593",
            "_dom_classes": [],
            "description": "Loss: 0.7409: 100%",
            "_model_name": "FloatProgressModel",
            "bar_style": "success",
            "max": 2200,
            "_view_module": "@jupyter-widgets/controls",
            "_model_module_version": "1.5.0",
            "value": 2200,
            "_view_count": null,
            "_view_module_version": "1.5.0",
            "orientation": "horizontal",
            "min": 0,
            "description_tooltip": null,
            "_model_module": "@jupyter-widgets/controls",
            "layout": "IPY_MODEL_3153755178dc431ba5cc01bfbfbaf5da"
          }
        },
        "0299d80a87a54d5992cc23e8e6470add": {
          "model_module": "@jupyter-widgets/controls",
          "model_name": "HTMLModel",
          "state": {
            "_view_name": "HTMLView",
            "style": "IPY_MODEL_e118a81c71d94324b2423dc5af90ab10",
            "_dom_classes": [],
            "description": "",
            "_model_name": "HTMLModel",
            "placeholder": "​",
            "_view_module": "@jupyter-widgets/controls",
            "_model_module_version": "1.5.0",
            "value": " 2200/2200 [00:16&lt;00:00, 130.10it/s]",
            "_view_count": null,
            "_view_module_version": "1.5.0",
            "description_tooltip": null,
            "_model_module": "@jupyter-widgets/controls",
            "layout": "IPY_MODEL_835bb1df971b43f8b2c6436c6c10edbf"
          }
        },
        "a9e023ddb5be470dbfcd5685ea4b7593": {
          "model_module": "@jupyter-widgets/controls",
          "model_name": "ProgressStyleModel",
          "state": {
            "_view_name": "StyleView",
            "_model_name": "ProgressStyleModel",
            "description_width": "initial",
            "_view_module": "@jupyter-widgets/base",
            "_model_module_version": "1.5.0",
            "_view_count": null,
            "_view_module_version": "1.2.0",
            "bar_color": null,
            "_model_module": "@jupyter-widgets/controls"
          }
        },
        "3153755178dc431ba5cc01bfbfbaf5da": {
          "model_module": "@jupyter-widgets/base",
          "model_name": "LayoutModel",
          "state": {
            "_view_name": "LayoutView",
            "grid_template_rows": null,
            "right": null,
            "justify_content": null,
            "_view_module": "@jupyter-widgets/base",
            "overflow": null,
            "_model_module_version": "1.2.0",
            "_view_count": null,
            "flex_flow": null,
            "width": null,
            "min_width": null,
            "border": null,
            "align_items": null,
            "bottom": null,
            "_model_module": "@jupyter-widgets/base",
            "top": null,
            "grid_column": null,
            "overflow_y": null,
            "overflow_x": null,
            "grid_auto_flow": null,
            "grid_area": null,
            "grid_template_columns": null,
            "flex": null,
            "_model_name": "LayoutModel",
            "justify_items": null,
            "grid_row": null,
            "max_height": null,
            "align_content": null,
            "visibility": null,
            "align_self": null,
            "height": null,
            "min_height": null,
            "padding": null,
            "grid_auto_rows": null,
            "grid_gap": null,
            "max_width": null,
            "order": null,
            "_view_module_version": "1.2.0",
            "grid_template_areas": null,
            "object_position": null,
            "object_fit": null,
            "grid_auto_columns": null,
            "margin": null,
            "display": null,
            "left": null
          }
        },
        "e118a81c71d94324b2423dc5af90ab10": {
          "model_module": "@jupyter-widgets/controls",
          "model_name": "DescriptionStyleModel",
          "state": {
            "_view_name": "StyleView",
            "_model_name": "DescriptionStyleModel",
            "description_width": "",
            "_view_module": "@jupyter-widgets/base",
            "_model_module_version": "1.5.0",
            "_view_count": null,
            "_view_module_version": "1.2.0",
            "_model_module": "@jupyter-widgets/controls"
          }
        },
        "835bb1df971b43f8b2c6436c6c10edbf": {
          "model_module": "@jupyter-widgets/base",
          "model_name": "LayoutModel",
          "state": {
            "_view_name": "LayoutView",
            "grid_template_rows": null,
            "right": null,
            "justify_content": null,
            "_view_module": "@jupyter-widgets/base",
            "overflow": null,
            "_model_module_version": "1.2.0",
            "_view_count": null,
            "flex_flow": null,
            "width": null,
            "min_width": null,
            "border": null,
            "align_items": null,
            "bottom": null,
            "_model_module": "@jupyter-widgets/base",
            "top": null,
            "grid_column": null,
            "overflow_y": null,
            "overflow_x": null,
            "grid_auto_flow": null,
            "grid_area": null,
            "grid_template_columns": null,
            "flex": null,
            "_model_name": "LayoutModel",
            "justify_items": null,
            "grid_row": null,
            "max_height": null,
            "align_content": null,
            "visibility": null,
            "align_self": null,
            "height": null,
            "min_height": null,
            "padding": null,
            "grid_auto_rows": null,
            "grid_gap": null,
            "max_width": null,
            "order": null,
            "_view_module_version": "1.2.0",
            "grid_template_areas": null,
            "object_position": null,
            "object_fit": null,
            "grid_auto_columns": null,
            "margin": null,
            "display": null,
            "left": null
          }
        },
        "4c07c026cdf443e8a79f1c28e359150c": {
          "model_module": "@jupyter-widgets/controls",
          "model_name": "HBoxModel",
          "state": {
            "_view_name": "HBoxView",
            "_dom_classes": [],
            "_model_name": "HBoxModel",
            "_view_module": "@jupyter-widgets/controls",
            "_model_module_version": "1.5.0",
            "_view_count": null,
            "_view_module_version": "1.5.0",
            "box_style": "",
            "layout": "IPY_MODEL_3b8d211d8d3f487d9d36813dbe9fc156",
            "_model_module": "@jupyter-widgets/controls",
            "children": [
              "IPY_MODEL_30d9ce0dca3d43c7ba64d676c88d953d",
              "IPY_MODEL_4ce67b26e81243efabd9116cff0ab993"
            ]
          }
        },
        "3b8d211d8d3f487d9d36813dbe9fc156": {
          "model_module": "@jupyter-widgets/base",
          "model_name": "LayoutModel",
          "state": {
            "_view_name": "LayoutView",
            "grid_template_rows": null,
            "right": null,
            "justify_content": null,
            "_view_module": "@jupyter-widgets/base",
            "overflow": null,
            "_model_module_version": "1.2.0",
            "_view_count": null,
            "flex_flow": null,
            "width": null,
            "min_width": null,
            "border": null,
            "align_items": null,
            "bottom": null,
            "_model_module": "@jupyter-widgets/base",
            "top": null,
            "grid_column": null,
            "overflow_y": null,
            "overflow_x": null,
            "grid_auto_flow": null,
            "grid_area": null,
            "grid_template_columns": null,
            "flex": null,
            "_model_name": "LayoutModel",
            "justify_items": null,
            "grid_row": null,
            "max_height": null,
            "align_content": null,
            "visibility": null,
            "align_self": null,
            "height": null,
            "min_height": null,
            "padding": null,
            "grid_auto_rows": null,
            "grid_gap": null,
            "max_width": null,
            "order": null,
            "_view_module_version": "1.2.0",
            "grid_template_areas": null,
            "object_position": null,
            "object_fit": null,
            "grid_auto_columns": null,
            "margin": null,
            "display": null,
            "left": null
          }
        },
        "30d9ce0dca3d43c7ba64d676c88d953d": {
          "model_module": "@jupyter-widgets/controls",
          "model_name": "FloatProgressModel",
          "state": {
            "_view_name": "ProgressView",
            "style": "IPY_MODEL_5d068922248841248a4b760b5a19914b",
            "_dom_classes": [],
            "description": "Loss: 0.6837: 100%",
            "_model_name": "FloatProgressModel",
            "bar_style": "success",
            "max": 2200,
            "_view_module": "@jupyter-widgets/controls",
            "_model_module_version": "1.5.0",
            "value": 2200,
            "_view_count": null,
            "_view_module_version": "1.5.0",
            "orientation": "horizontal",
            "min": 0,
            "description_tooltip": null,
            "_model_module": "@jupyter-widgets/controls",
            "layout": "IPY_MODEL_a4e02dc966b84b7499e9df9713e40b35"
          }
        },
        "4ce67b26e81243efabd9116cff0ab993": {
          "model_module": "@jupyter-widgets/controls",
          "model_name": "HTMLModel",
          "state": {
            "_view_name": "HTMLView",
            "style": "IPY_MODEL_0e1105a02e074e01b32044f94355dd4f",
            "_dom_classes": [],
            "description": "",
            "_model_name": "HTMLModel",
            "placeholder": "​",
            "_view_module": "@jupyter-widgets/controls",
            "_model_module_version": "1.5.0",
            "value": " 2200/2200 [01:08&lt;00:00, 31.89it/s]",
            "_view_count": null,
            "_view_module_version": "1.5.0",
            "description_tooltip": null,
            "_model_module": "@jupyter-widgets/controls",
            "layout": "IPY_MODEL_1cf1688e47f44f60b22bdbaefa023bd5"
          }
        },
        "5d068922248841248a4b760b5a19914b": {
          "model_module": "@jupyter-widgets/controls",
          "model_name": "ProgressStyleModel",
          "state": {
            "_view_name": "StyleView",
            "_model_name": "ProgressStyleModel",
            "description_width": "initial",
            "_view_module": "@jupyter-widgets/base",
            "_model_module_version": "1.5.0",
            "_view_count": null,
            "_view_module_version": "1.2.0",
            "bar_color": null,
            "_model_module": "@jupyter-widgets/controls"
          }
        },
        "a4e02dc966b84b7499e9df9713e40b35": {
          "model_module": "@jupyter-widgets/base",
          "model_name": "LayoutModel",
          "state": {
            "_view_name": "LayoutView",
            "grid_template_rows": null,
            "right": null,
            "justify_content": null,
            "_view_module": "@jupyter-widgets/base",
            "overflow": null,
            "_model_module_version": "1.2.0",
            "_view_count": null,
            "flex_flow": null,
            "width": null,
            "min_width": null,
            "border": null,
            "align_items": null,
            "bottom": null,
            "_model_module": "@jupyter-widgets/base",
            "top": null,
            "grid_column": null,
            "overflow_y": null,
            "overflow_x": null,
            "grid_auto_flow": null,
            "grid_area": null,
            "grid_template_columns": null,
            "flex": null,
            "_model_name": "LayoutModel",
            "justify_items": null,
            "grid_row": null,
            "max_height": null,
            "align_content": null,
            "visibility": null,
            "align_self": null,
            "height": null,
            "min_height": null,
            "padding": null,
            "grid_auto_rows": null,
            "grid_gap": null,
            "max_width": null,
            "order": null,
            "_view_module_version": "1.2.0",
            "grid_template_areas": null,
            "object_position": null,
            "object_fit": null,
            "grid_auto_columns": null,
            "margin": null,
            "display": null,
            "left": null
          }
        },
        "0e1105a02e074e01b32044f94355dd4f": {
          "model_module": "@jupyter-widgets/controls",
          "model_name": "DescriptionStyleModel",
          "state": {
            "_view_name": "StyleView",
            "_model_name": "DescriptionStyleModel",
            "description_width": "",
            "_view_module": "@jupyter-widgets/base",
            "_model_module_version": "1.5.0",
            "_view_count": null,
            "_view_module_version": "1.2.0",
            "_model_module": "@jupyter-widgets/controls"
          }
        },
        "1cf1688e47f44f60b22bdbaefa023bd5": {
          "model_module": "@jupyter-widgets/base",
          "model_name": "LayoutModel",
          "state": {
            "_view_name": "LayoutView",
            "grid_template_rows": null,
            "right": null,
            "justify_content": null,
            "_view_module": "@jupyter-widgets/base",
            "overflow": null,
            "_model_module_version": "1.2.0",
            "_view_count": null,
            "flex_flow": null,
            "width": null,
            "min_width": null,
            "border": null,
            "align_items": null,
            "bottom": null,
            "_model_module": "@jupyter-widgets/base",
            "top": null,
            "grid_column": null,
            "overflow_y": null,
            "overflow_x": null,
            "grid_auto_flow": null,
            "grid_area": null,
            "grid_template_columns": null,
            "flex": null,
            "_model_name": "LayoutModel",
            "justify_items": null,
            "grid_row": null,
            "max_height": null,
            "align_content": null,
            "visibility": null,
            "align_self": null,
            "height": null,
            "min_height": null,
            "padding": null,
            "grid_auto_rows": null,
            "grid_gap": null,
            "max_width": null,
            "order": null,
            "_view_module_version": "1.2.0",
            "grid_template_areas": null,
            "object_position": null,
            "object_fit": null,
            "grid_auto_columns": null,
            "margin": null,
            "display": null,
            "left": null
          }
        },
        "836091cc52d84a49a8a6eff0cefa2d1a": {
          "model_module": "@jupyter-widgets/controls",
          "model_name": "HBoxModel",
          "state": {
            "_view_name": "HBoxView",
            "_dom_classes": [],
            "_model_name": "HBoxModel",
            "_view_module": "@jupyter-widgets/controls",
            "_model_module_version": "1.5.0",
            "_view_count": null,
            "_view_module_version": "1.5.0",
            "box_style": "",
            "layout": "IPY_MODEL_5795f43f209b44859fbae42332da599f",
            "_model_module": "@jupyter-widgets/controls",
            "children": [
              "IPY_MODEL_ef5446481d154e52978361e4dc408def",
              "IPY_MODEL_b731a09da46745a6bd0b660c3ffafccc"
            ]
          }
        },
        "5795f43f209b44859fbae42332da599f": {
          "model_module": "@jupyter-widgets/base",
          "model_name": "LayoutModel",
          "state": {
            "_view_name": "LayoutView",
            "grid_template_rows": null,
            "right": null,
            "justify_content": null,
            "_view_module": "@jupyter-widgets/base",
            "overflow": null,
            "_model_module_version": "1.2.0",
            "_view_count": null,
            "flex_flow": null,
            "width": null,
            "min_width": null,
            "border": null,
            "align_items": null,
            "bottom": null,
            "_model_module": "@jupyter-widgets/base",
            "top": null,
            "grid_column": null,
            "overflow_y": null,
            "overflow_x": null,
            "grid_auto_flow": null,
            "grid_area": null,
            "grid_template_columns": null,
            "flex": null,
            "_model_name": "LayoutModel",
            "justify_items": null,
            "grid_row": null,
            "max_height": null,
            "align_content": null,
            "visibility": null,
            "align_self": null,
            "height": null,
            "min_height": null,
            "padding": null,
            "grid_auto_rows": null,
            "grid_gap": null,
            "max_width": null,
            "order": null,
            "_view_module_version": "1.2.0",
            "grid_template_areas": null,
            "object_position": null,
            "object_fit": null,
            "grid_auto_columns": null,
            "margin": null,
            "display": null,
            "left": null
          }
        },
        "ef5446481d154e52978361e4dc408def": {
          "model_module": "@jupyter-widgets/controls",
          "model_name": "FloatProgressModel",
          "state": {
            "_view_name": "ProgressView",
            "style": "IPY_MODEL_9ec2401b971041a1a707ee81057aa679",
            "_dom_classes": [],
            "description": "Loss: 0.6614: 100%",
            "_model_name": "FloatProgressModel",
            "bar_style": "success",
            "max": 2200,
            "_view_module": "@jupyter-widgets/controls",
            "_model_module_version": "1.5.0",
            "value": 2200,
            "_view_count": null,
            "_view_module_version": "1.5.0",
            "orientation": "horizontal",
            "min": 0,
            "description_tooltip": null,
            "_model_module": "@jupyter-widgets/controls",
            "layout": "IPY_MODEL_22db5c9279344119826a3ed5cdd8a8f9"
          }
        },
        "b731a09da46745a6bd0b660c3ffafccc": {
          "model_module": "@jupyter-widgets/controls",
          "model_name": "HTMLModel",
          "state": {
            "_view_name": "HTMLView",
            "style": "IPY_MODEL_15266afa955d4bb38284911a7d173e10",
            "_dom_classes": [],
            "description": "",
            "_model_name": "HTMLModel",
            "placeholder": "​",
            "_view_module": "@jupyter-widgets/controls",
            "_model_module_version": "1.5.0",
            "value": " 2200/2200 [00:46&lt;00:00, 47.75it/s]",
            "_view_count": null,
            "_view_module_version": "1.5.0",
            "description_tooltip": null,
            "_model_module": "@jupyter-widgets/controls",
            "layout": "IPY_MODEL_bdf2d8e7d5ec40dba675b247e8e2c49c"
          }
        },
        "9ec2401b971041a1a707ee81057aa679": {
          "model_module": "@jupyter-widgets/controls",
          "model_name": "ProgressStyleModel",
          "state": {
            "_view_name": "StyleView",
            "_model_name": "ProgressStyleModel",
            "description_width": "initial",
            "_view_module": "@jupyter-widgets/base",
            "_model_module_version": "1.5.0",
            "_view_count": null,
            "_view_module_version": "1.2.0",
            "bar_color": null,
            "_model_module": "@jupyter-widgets/controls"
          }
        },
        "22db5c9279344119826a3ed5cdd8a8f9": {
          "model_module": "@jupyter-widgets/base",
          "model_name": "LayoutModel",
          "state": {
            "_view_name": "LayoutView",
            "grid_template_rows": null,
            "right": null,
            "justify_content": null,
            "_view_module": "@jupyter-widgets/base",
            "overflow": null,
            "_model_module_version": "1.2.0",
            "_view_count": null,
            "flex_flow": null,
            "width": null,
            "min_width": null,
            "border": null,
            "align_items": null,
            "bottom": null,
            "_model_module": "@jupyter-widgets/base",
            "top": null,
            "grid_column": null,
            "overflow_y": null,
            "overflow_x": null,
            "grid_auto_flow": null,
            "grid_area": null,
            "grid_template_columns": null,
            "flex": null,
            "_model_name": "LayoutModel",
            "justify_items": null,
            "grid_row": null,
            "max_height": null,
            "align_content": null,
            "visibility": null,
            "align_self": null,
            "height": null,
            "min_height": null,
            "padding": null,
            "grid_auto_rows": null,
            "grid_gap": null,
            "max_width": null,
            "order": null,
            "_view_module_version": "1.2.0",
            "grid_template_areas": null,
            "object_position": null,
            "object_fit": null,
            "grid_auto_columns": null,
            "margin": null,
            "display": null,
            "left": null
          }
        },
        "15266afa955d4bb38284911a7d173e10": {
          "model_module": "@jupyter-widgets/controls",
          "model_name": "DescriptionStyleModel",
          "state": {
            "_view_name": "StyleView",
            "_model_name": "DescriptionStyleModel",
            "description_width": "",
            "_view_module": "@jupyter-widgets/base",
            "_model_module_version": "1.5.0",
            "_view_count": null,
            "_view_module_version": "1.2.0",
            "_model_module": "@jupyter-widgets/controls"
          }
        },
        "bdf2d8e7d5ec40dba675b247e8e2c49c": {
          "model_module": "@jupyter-widgets/base",
          "model_name": "LayoutModel",
          "state": {
            "_view_name": "LayoutView",
            "grid_template_rows": null,
            "right": null,
            "justify_content": null,
            "_view_module": "@jupyter-widgets/base",
            "overflow": null,
            "_model_module_version": "1.2.0",
            "_view_count": null,
            "flex_flow": null,
            "width": null,
            "min_width": null,
            "border": null,
            "align_items": null,
            "bottom": null,
            "_model_module": "@jupyter-widgets/base",
            "top": null,
            "grid_column": null,
            "overflow_y": null,
            "overflow_x": null,
            "grid_auto_flow": null,
            "grid_area": null,
            "grid_template_columns": null,
            "flex": null,
            "_model_name": "LayoutModel",
            "justify_items": null,
            "grid_row": null,
            "max_height": null,
            "align_content": null,
            "visibility": null,
            "align_self": null,
            "height": null,
            "min_height": null,
            "padding": null,
            "grid_auto_rows": null,
            "grid_gap": null,
            "max_width": null,
            "order": null,
            "_view_module_version": "1.2.0",
            "grid_template_areas": null,
            "object_position": null,
            "object_fit": null,
            "grid_auto_columns": null,
            "margin": null,
            "display": null,
            "left": null
          }
        },
        "4be7247a8831434593d7f9dad3bb293b": {
          "model_module": "@jupyter-widgets/controls",
          "model_name": "HBoxModel",
          "state": {
            "_view_name": "HBoxView",
            "_dom_classes": [],
            "_model_name": "HBoxModel",
            "_view_module": "@jupyter-widgets/controls",
            "_model_module_version": "1.5.0",
            "_view_count": null,
            "_view_module_version": "1.5.0",
            "box_style": "",
            "layout": "IPY_MODEL_e8eff8361fa44c7b8c7fdddf0ffc5f66",
            "_model_module": "@jupyter-widgets/controls",
            "children": [
              "IPY_MODEL_2e87d5eef512460eac299a2cfd0be6c1",
              "IPY_MODEL_2a6755de6aa648e097cb11eb7b5a96eb"
            ]
          }
        },
        "e8eff8361fa44c7b8c7fdddf0ffc5f66": {
          "model_module": "@jupyter-widgets/base",
          "model_name": "LayoutModel",
          "state": {
            "_view_name": "LayoutView",
            "grid_template_rows": null,
            "right": null,
            "justify_content": null,
            "_view_module": "@jupyter-widgets/base",
            "overflow": null,
            "_model_module_version": "1.2.0",
            "_view_count": null,
            "flex_flow": null,
            "width": null,
            "min_width": null,
            "border": null,
            "align_items": null,
            "bottom": null,
            "_model_module": "@jupyter-widgets/base",
            "top": null,
            "grid_column": null,
            "overflow_y": null,
            "overflow_x": null,
            "grid_auto_flow": null,
            "grid_area": null,
            "grid_template_columns": null,
            "flex": null,
            "_model_name": "LayoutModel",
            "justify_items": null,
            "grid_row": null,
            "max_height": null,
            "align_content": null,
            "visibility": null,
            "align_self": null,
            "height": null,
            "min_height": null,
            "padding": null,
            "grid_auto_rows": null,
            "grid_gap": null,
            "max_width": null,
            "order": null,
            "_view_module_version": "1.2.0",
            "grid_template_areas": null,
            "object_position": null,
            "object_fit": null,
            "grid_auto_columns": null,
            "margin": null,
            "display": null,
            "left": null
          }
        },
        "2e87d5eef512460eac299a2cfd0be6c1": {
          "model_module": "@jupyter-widgets/controls",
          "model_name": "FloatProgressModel",
          "state": {
            "_view_name": "ProgressView",
            "style": "IPY_MODEL_cc0248dbad7748919816a55d5e691b90",
            "_dom_classes": [],
            "description": "Loss: 0.6521: 100%",
            "_model_name": "FloatProgressModel",
            "bar_style": "success",
            "max": 2200,
            "_view_module": "@jupyter-widgets/controls",
            "_model_module_version": "1.5.0",
            "value": 2200,
            "_view_count": null,
            "_view_module_version": "1.5.0",
            "orientation": "horizontal",
            "min": 0,
            "description_tooltip": null,
            "_model_module": "@jupyter-widgets/controls",
            "layout": "IPY_MODEL_12a39b68764c477d83537ecede204d9e"
          }
        },
        "2a6755de6aa648e097cb11eb7b5a96eb": {
          "model_module": "@jupyter-widgets/controls",
          "model_name": "HTMLModel",
          "state": {
            "_view_name": "HTMLView",
            "style": "IPY_MODEL_2e6bf4b91ce94142ab06901ac67ac436",
            "_dom_classes": [],
            "description": "",
            "_model_name": "HTMLModel",
            "placeholder": "​",
            "_view_module": "@jupyter-widgets/controls",
            "_model_module_version": "1.5.0",
            "value": " 2200/2200 [00:16&lt;00:00, 130.09it/s]",
            "_view_count": null,
            "_view_module_version": "1.5.0",
            "description_tooltip": null,
            "_model_module": "@jupyter-widgets/controls",
            "layout": "IPY_MODEL_3c24fde45a8447b29977999c47c25af4"
          }
        },
        "cc0248dbad7748919816a55d5e691b90": {
          "model_module": "@jupyter-widgets/controls",
          "model_name": "ProgressStyleModel",
          "state": {
            "_view_name": "StyleView",
            "_model_name": "ProgressStyleModel",
            "description_width": "initial",
            "_view_module": "@jupyter-widgets/base",
            "_model_module_version": "1.5.0",
            "_view_count": null,
            "_view_module_version": "1.2.0",
            "bar_color": null,
            "_model_module": "@jupyter-widgets/controls"
          }
        },
        "12a39b68764c477d83537ecede204d9e": {
          "model_module": "@jupyter-widgets/base",
          "model_name": "LayoutModel",
          "state": {
            "_view_name": "LayoutView",
            "grid_template_rows": null,
            "right": null,
            "justify_content": null,
            "_view_module": "@jupyter-widgets/base",
            "overflow": null,
            "_model_module_version": "1.2.0",
            "_view_count": null,
            "flex_flow": null,
            "width": null,
            "min_width": null,
            "border": null,
            "align_items": null,
            "bottom": null,
            "_model_module": "@jupyter-widgets/base",
            "top": null,
            "grid_column": null,
            "overflow_y": null,
            "overflow_x": null,
            "grid_auto_flow": null,
            "grid_area": null,
            "grid_template_columns": null,
            "flex": null,
            "_model_name": "LayoutModel",
            "justify_items": null,
            "grid_row": null,
            "max_height": null,
            "align_content": null,
            "visibility": null,
            "align_self": null,
            "height": null,
            "min_height": null,
            "padding": null,
            "grid_auto_rows": null,
            "grid_gap": null,
            "max_width": null,
            "order": null,
            "_view_module_version": "1.2.0",
            "grid_template_areas": null,
            "object_position": null,
            "object_fit": null,
            "grid_auto_columns": null,
            "margin": null,
            "display": null,
            "left": null
          }
        },
        "2e6bf4b91ce94142ab06901ac67ac436": {
          "model_module": "@jupyter-widgets/controls",
          "model_name": "DescriptionStyleModel",
          "state": {
            "_view_name": "StyleView",
            "_model_name": "DescriptionStyleModel",
            "description_width": "",
            "_view_module": "@jupyter-widgets/base",
            "_model_module_version": "1.5.0",
            "_view_count": null,
            "_view_module_version": "1.2.0",
            "_model_module": "@jupyter-widgets/controls"
          }
        },
        "3c24fde45a8447b29977999c47c25af4": {
          "model_module": "@jupyter-widgets/base",
          "model_name": "LayoutModel",
          "state": {
            "_view_name": "LayoutView",
            "grid_template_rows": null,
            "right": null,
            "justify_content": null,
            "_view_module": "@jupyter-widgets/base",
            "overflow": null,
            "_model_module_version": "1.2.0",
            "_view_count": null,
            "flex_flow": null,
            "width": null,
            "min_width": null,
            "border": null,
            "align_items": null,
            "bottom": null,
            "_model_module": "@jupyter-widgets/base",
            "top": null,
            "grid_column": null,
            "overflow_y": null,
            "overflow_x": null,
            "grid_auto_flow": null,
            "grid_area": null,
            "grid_template_columns": null,
            "flex": null,
            "_model_name": "LayoutModel",
            "justify_items": null,
            "grid_row": null,
            "max_height": null,
            "align_content": null,
            "visibility": null,
            "align_self": null,
            "height": null,
            "min_height": null,
            "padding": null,
            "grid_auto_rows": null,
            "grid_gap": null,
            "max_width": null,
            "order": null,
            "_view_module_version": "1.2.0",
            "grid_template_areas": null,
            "object_position": null,
            "object_fit": null,
            "grid_auto_columns": null,
            "margin": null,
            "display": null,
            "left": null
          }
        },
        "149ee9dfdf2b48bc871e45b3054cb6a3": {
          "model_module": "@jupyter-widgets/controls",
          "model_name": "HBoxModel",
          "state": {
            "_view_name": "HBoxView",
            "_dom_classes": [],
            "_model_name": "HBoxModel",
            "_view_module": "@jupyter-widgets/controls",
            "_model_module_version": "1.5.0",
            "_view_count": null,
            "_view_module_version": "1.5.0",
            "box_style": "",
            "layout": "IPY_MODEL_7b3bc6ca074a490f9a7281c0bebb78d4",
            "_model_module": "@jupyter-widgets/controls",
            "children": [
              "IPY_MODEL_4babf34875f346e4b5a815c01398575f",
              "IPY_MODEL_2c68b175a97c4965923bbc822f6271ed"
            ]
          }
        },
        "7b3bc6ca074a490f9a7281c0bebb78d4": {
          "model_module": "@jupyter-widgets/base",
          "model_name": "LayoutModel",
          "state": {
            "_view_name": "LayoutView",
            "grid_template_rows": null,
            "right": null,
            "justify_content": null,
            "_view_module": "@jupyter-widgets/base",
            "overflow": null,
            "_model_module_version": "1.2.0",
            "_view_count": null,
            "flex_flow": null,
            "width": null,
            "min_width": null,
            "border": null,
            "align_items": null,
            "bottom": null,
            "_model_module": "@jupyter-widgets/base",
            "top": null,
            "grid_column": null,
            "overflow_y": null,
            "overflow_x": null,
            "grid_auto_flow": null,
            "grid_area": null,
            "grid_template_columns": null,
            "flex": null,
            "_model_name": "LayoutModel",
            "justify_items": null,
            "grid_row": null,
            "max_height": null,
            "align_content": null,
            "visibility": null,
            "align_self": null,
            "height": null,
            "min_height": null,
            "padding": null,
            "grid_auto_rows": null,
            "grid_gap": null,
            "max_width": null,
            "order": null,
            "_view_module_version": "1.2.0",
            "grid_template_areas": null,
            "object_position": null,
            "object_fit": null,
            "grid_auto_columns": null,
            "margin": null,
            "display": null,
            "left": null
          }
        },
        "4babf34875f346e4b5a815c01398575f": {
          "model_module": "@jupyter-widgets/controls",
          "model_name": "FloatProgressModel",
          "state": {
            "_view_name": "ProgressView",
            "style": "IPY_MODEL_cd72745b4f5e4394809d8add6aacd813",
            "_dom_classes": [],
            "description": "Loss: 0.6419: 100%",
            "_model_name": "FloatProgressModel",
            "bar_style": "success",
            "max": 2200,
            "_view_module": "@jupyter-widgets/controls",
            "_model_module_version": "1.5.0",
            "value": 2200,
            "_view_count": null,
            "_view_module_version": "1.5.0",
            "orientation": "horizontal",
            "min": 0,
            "description_tooltip": null,
            "_model_module": "@jupyter-widgets/controls",
            "layout": "IPY_MODEL_672f6518201347879ac7affc6e304b96"
          }
        },
        "2c68b175a97c4965923bbc822f6271ed": {
          "model_module": "@jupyter-widgets/controls",
          "model_name": "HTMLModel",
          "state": {
            "_view_name": "HTMLView",
            "style": "IPY_MODEL_8e00d9f0c86a4e62bf7192e97958c159",
            "_dom_classes": [],
            "description": "",
            "_model_name": "HTMLModel",
            "placeholder": "​",
            "_view_module": "@jupyter-widgets/controls",
            "_model_module_version": "1.5.0",
            "value": " 2200/2200 [00:16&lt;00:00, 132.84it/s]",
            "_view_count": null,
            "_view_module_version": "1.5.0",
            "description_tooltip": null,
            "_model_module": "@jupyter-widgets/controls",
            "layout": "IPY_MODEL_510d63ad07bd4206a62c8d38313f6fdc"
          }
        },
        "cd72745b4f5e4394809d8add6aacd813": {
          "model_module": "@jupyter-widgets/controls",
          "model_name": "ProgressStyleModel",
          "state": {
            "_view_name": "StyleView",
            "_model_name": "ProgressStyleModel",
            "description_width": "initial",
            "_view_module": "@jupyter-widgets/base",
            "_model_module_version": "1.5.0",
            "_view_count": null,
            "_view_module_version": "1.2.0",
            "bar_color": null,
            "_model_module": "@jupyter-widgets/controls"
          }
        },
        "672f6518201347879ac7affc6e304b96": {
          "model_module": "@jupyter-widgets/base",
          "model_name": "LayoutModel",
          "state": {
            "_view_name": "LayoutView",
            "grid_template_rows": null,
            "right": null,
            "justify_content": null,
            "_view_module": "@jupyter-widgets/base",
            "overflow": null,
            "_model_module_version": "1.2.0",
            "_view_count": null,
            "flex_flow": null,
            "width": null,
            "min_width": null,
            "border": null,
            "align_items": null,
            "bottom": null,
            "_model_module": "@jupyter-widgets/base",
            "top": null,
            "grid_column": null,
            "overflow_y": null,
            "overflow_x": null,
            "grid_auto_flow": null,
            "grid_area": null,
            "grid_template_columns": null,
            "flex": null,
            "_model_name": "LayoutModel",
            "justify_items": null,
            "grid_row": null,
            "max_height": null,
            "align_content": null,
            "visibility": null,
            "align_self": null,
            "height": null,
            "min_height": null,
            "padding": null,
            "grid_auto_rows": null,
            "grid_gap": null,
            "max_width": null,
            "order": null,
            "_view_module_version": "1.2.0",
            "grid_template_areas": null,
            "object_position": null,
            "object_fit": null,
            "grid_auto_columns": null,
            "margin": null,
            "display": null,
            "left": null
          }
        },
        "8e00d9f0c86a4e62bf7192e97958c159": {
          "model_module": "@jupyter-widgets/controls",
          "model_name": "DescriptionStyleModel",
          "state": {
            "_view_name": "StyleView",
            "_model_name": "DescriptionStyleModel",
            "description_width": "",
            "_view_module": "@jupyter-widgets/base",
            "_model_module_version": "1.5.0",
            "_view_count": null,
            "_view_module_version": "1.2.0",
            "_model_module": "@jupyter-widgets/controls"
          }
        },
        "510d63ad07bd4206a62c8d38313f6fdc": {
          "model_module": "@jupyter-widgets/base",
          "model_name": "LayoutModel",
          "state": {
            "_view_name": "LayoutView",
            "grid_template_rows": null,
            "right": null,
            "justify_content": null,
            "_view_module": "@jupyter-widgets/base",
            "overflow": null,
            "_model_module_version": "1.2.0",
            "_view_count": null,
            "flex_flow": null,
            "width": null,
            "min_width": null,
            "border": null,
            "align_items": null,
            "bottom": null,
            "_model_module": "@jupyter-widgets/base",
            "top": null,
            "grid_column": null,
            "overflow_y": null,
            "overflow_x": null,
            "grid_auto_flow": null,
            "grid_area": null,
            "grid_template_columns": null,
            "flex": null,
            "_model_name": "LayoutModel",
            "justify_items": null,
            "grid_row": null,
            "max_height": null,
            "align_content": null,
            "visibility": null,
            "align_self": null,
            "height": null,
            "min_height": null,
            "padding": null,
            "grid_auto_rows": null,
            "grid_gap": null,
            "max_width": null,
            "order": null,
            "_view_module_version": "1.2.0",
            "grid_template_areas": null,
            "object_position": null,
            "object_fit": null,
            "grid_auto_columns": null,
            "margin": null,
            "display": null,
            "left": null
          }
        },
        "9dc310bc29b44393aa66e929d3cace76": {
          "model_module": "@jupyter-widgets/controls",
          "model_name": "HBoxModel",
          "state": {
            "_view_name": "HBoxView",
            "_dom_classes": [],
            "_model_name": "HBoxModel",
            "_view_module": "@jupyter-widgets/controls",
            "_model_module_version": "1.5.0",
            "_view_count": null,
            "_view_module_version": "1.5.0",
            "box_style": "",
            "layout": "IPY_MODEL_97bde155b7e94a1c8d45e8174e3d2fbc",
            "_model_module": "@jupyter-widgets/controls",
            "children": [
              "IPY_MODEL_86f429d8bc9e4299a2d0d7baf70bef04",
              "IPY_MODEL_2ba77535825f41d19c3b9e7e3f3b049c"
            ]
          }
        },
        "97bde155b7e94a1c8d45e8174e3d2fbc": {
          "model_module": "@jupyter-widgets/base",
          "model_name": "LayoutModel",
          "state": {
            "_view_name": "LayoutView",
            "grid_template_rows": null,
            "right": null,
            "justify_content": null,
            "_view_module": "@jupyter-widgets/base",
            "overflow": null,
            "_model_module_version": "1.2.0",
            "_view_count": null,
            "flex_flow": null,
            "width": null,
            "min_width": null,
            "border": null,
            "align_items": null,
            "bottom": null,
            "_model_module": "@jupyter-widgets/base",
            "top": null,
            "grid_column": null,
            "overflow_y": null,
            "overflow_x": null,
            "grid_auto_flow": null,
            "grid_area": null,
            "grid_template_columns": null,
            "flex": null,
            "_model_name": "LayoutModel",
            "justify_items": null,
            "grid_row": null,
            "max_height": null,
            "align_content": null,
            "visibility": null,
            "align_self": null,
            "height": null,
            "min_height": null,
            "padding": null,
            "grid_auto_rows": null,
            "grid_gap": null,
            "max_width": null,
            "order": null,
            "_view_module_version": "1.2.0",
            "grid_template_areas": null,
            "object_position": null,
            "object_fit": null,
            "grid_auto_columns": null,
            "margin": null,
            "display": null,
            "left": null
          }
        },
        "86f429d8bc9e4299a2d0d7baf70bef04": {
          "model_module": "@jupyter-widgets/controls",
          "model_name": "FloatProgressModel",
          "state": {
            "_view_name": "ProgressView",
            "style": "IPY_MODEL_d7e0bf614bd1402cae5f4176b39b185c",
            "_dom_classes": [],
            "description": "Loss: 0.6351: 100%",
            "_model_name": "FloatProgressModel",
            "bar_style": "success",
            "max": 2200,
            "_view_module": "@jupyter-widgets/controls",
            "_model_module_version": "1.5.0",
            "value": 2200,
            "_view_count": null,
            "_view_module_version": "1.5.0",
            "orientation": "horizontal",
            "min": 0,
            "description_tooltip": null,
            "_model_module": "@jupyter-widgets/controls",
            "layout": "IPY_MODEL_f8c4f08466814238be66c0c5668ca7cb"
          }
        },
        "2ba77535825f41d19c3b9e7e3f3b049c": {
          "model_module": "@jupyter-widgets/controls",
          "model_name": "HTMLModel",
          "state": {
            "_view_name": "HTMLView",
            "style": "IPY_MODEL_73e7e5d97f164a5ca0f306d028348742",
            "_dom_classes": [],
            "description": "",
            "_model_name": "HTMLModel",
            "placeholder": "​",
            "_view_module": "@jupyter-widgets/controls",
            "_model_module_version": "1.5.0",
            "value": " 2200/2200 [01:08&lt;00:00, 31.90it/s]",
            "_view_count": null,
            "_view_module_version": "1.5.0",
            "description_tooltip": null,
            "_model_module": "@jupyter-widgets/controls",
            "layout": "IPY_MODEL_ac306c2c744f4d67b44986f939e8f32c"
          }
        },
        "d7e0bf614bd1402cae5f4176b39b185c": {
          "model_module": "@jupyter-widgets/controls",
          "model_name": "ProgressStyleModel",
          "state": {
            "_view_name": "StyleView",
            "_model_name": "ProgressStyleModel",
            "description_width": "initial",
            "_view_module": "@jupyter-widgets/base",
            "_model_module_version": "1.5.0",
            "_view_count": null,
            "_view_module_version": "1.2.0",
            "bar_color": null,
            "_model_module": "@jupyter-widgets/controls"
          }
        },
        "f8c4f08466814238be66c0c5668ca7cb": {
          "model_module": "@jupyter-widgets/base",
          "model_name": "LayoutModel",
          "state": {
            "_view_name": "LayoutView",
            "grid_template_rows": null,
            "right": null,
            "justify_content": null,
            "_view_module": "@jupyter-widgets/base",
            "overflow": null,
            "_model_module_version": "1.2.0",
            "_view_count": null,
            "flex_flow": null,
            "width": null,
            "min_width": null,
            "border": null,
            "align_items": null,
            "bottom": null,
            "_model_module": "@jupyter-widgets/base",
            "top": null,
            "grid_column": null,
            "overflow_y": null,
            "overflow_x": null,
            "grid_auto_flow": null,
            "grid_area": null,
            "grid_template_columns": null,
            "flex": null,
            "_model_name": "LayoutModel",
            "justify_items": null,
            "grid_row": null,
            "max_height": null,
            "align_content": null,
            "visibility": null,
            "align_self": null,
            "height": null,
            "min_height": null,
            "padding": null,
            "grid_auto_rows": null,
            "grid_gap": null,
            "max_width": null,
            "order": null,
            "_view_module_version": "1.2.0",
            "grid_template_areas": null,
            "object_position": null,
            "object_fit": null,
            "grid_auto_columns": null,
            "margin": null,
            "display": null,
            "left": null
          }
        },
        "73e7e5d97f164a5ca0f306d028348742": {
          "model_module": "@jupyter-widgets/controls",
          "model_name": "DescriptionStyleModel",
          "state": {
            "_view_name": "StyleView",
            "_model_name": "DescriptionStyleModel",
            "description_width": "",
            "_view_module": "@jupyter-widgets/base",
            "_model_module_version": "1.5.0",
            "_view_count": null,
            "_view_module_version": "1.2.0",
            "_model_module": "@jupyter-widgets/controls"
          }
        },
        "ac306c2c744f4d67b44986f939e8f32c": {
          "model_module": "@jupyter-widgets/base",
          "model_name": "LayoutModel",
          "state": {
            "_view_name": "LayoutView",
            "grid_template_rows": null,
            "right": null,
            "justify_content": null,
            "_view_module": "@jupyter-widgets/base",
            "overflow": null,
            "_model_module_version": "1.2.0",
            "_view_count": null,
            "flex_flow": null,
            "width": null,
            "min_width": null,
            "border": null,
            "align_items": null,
            "bottom": null,
            "_model_module": "@jupyter-widgets/base",
            "top": null,
            "grid_column": null,
            "overflow_y": null,
            "overflow_x": null,
            "grid_auto_flow": null,
            "grid_area": null,
            "grid_template_columns": null,
            "flex": null,
            "_model_name": "LayoutModel",
            "justify_items": null,
            "grid_row": null,
            "max_height": null,
            "align_content": null,
            "visibility": null,
            "align_self": null,
            "height": null,
            "min_height": null,
            "padding": null,
            "grid_auto_rows": null,
            "grid_gap": null,
            "max_width": null,
            "order": null,
            "_view_module_version": "1.2.0",
            "grid_template_areas": null,
            "object_position": null,
            "object_fit": null,
            "grid_auto_columns": null,
            "margin": null,
            "display": null,
            "left": null
          }
        },
        "3c6f74dcb6154e0f812c1da0e49696d9": {
          "model_module": "@jupyter-widgets/controls",
          "model_name": "HBoxModel",
          "state": {
            "_view_name": "HBoxView",
            "_dom_classes": [],
            "_model_name": "HBoxModel",
            "_view_module": "@jupyter-widgets/controls",
            "_model_module_version": "1.5.0",
            "_view_count": null,
            "_view_module_version": "1.5.0",
            "box_style": "",
            "layout": "IPY_MODEL_88950bab45dc496ab9aee1f78ada1e05",
            "_model_module": "@jupyter-widgets/controls",
            "children": [
              "IPY_MODEL_21531514dff14a65aba1e6e780fe6297",
              "IPY_MODEL_9115b6bf13ac44fa88486a2551d744a5"
            ]
          }
        },
        "88950bab45dc496ab9aee1f78ada1e05": {
          "model_module": "@jupyter-widgets/base",
          "model_name": "LayoutModel",
          "state": {
            "_view_name": "LayoutView",
            "grid_template_rows": null,
            "right": null,
            "justify_content": null,
            "_view_module": "@jupyter-widgets/base",
            "overflow": null,
            "_model_module_version": "1.2.0",
            "_view_count": null,
            "flex_flow": null,
            "width": null,
            "min_width": null,
            "border": null,
            "align_items": null,
            "bottom": null,
            "_model_module": "@jupyter-widgets/base",
            "top": null,
            "grid_column": null,
            "overflow_y": null,
            "overflow_x": null,
            "grid_auto_flow": null,
            "grid_area": null,
            "grid_template_columns": null,
            "flex": null,
            "_model_name": "LayoutModel",
            "justify_items": null,
            "grid_row": null,
            "max_height": null,
            "align_content": null,
            "visibility": null,
            "align_self": null,
            "height": null,
            "min_height": null,
            "padding": null,
            "grid_auto_rows": null,
            "grid_gap": null,
            "max_width": null,
            "order": null,
            "_view_module_version": "1.2.0",
            "grid_template_areas": null,
            "object_position": null,
            "object_fit": null,
            "grid_auto_columns": null,
            "margin": null,
            "display": null,
            "left": null
          }
        },
        "21531514dff14a65aba1e6e780fe6297": {
          "model_module": "@jupyter-widgets/controls",
          "model_name": "FloatProgressModel",
          "state": {
            "_view_name": "ProgressView",
            "style": "IPY_MODEL_4c090ca3a7144ef1b3e5ceb27b0684be",
            "_dom_classes": [],
            "description": "Loss: 0.6301: 100%",
            "_model_name": "FloatProgressModel",
            "bar_style": "success",
            "max": 2200,
            "_view_module": "@jupyter-widgets/controls",
            "_model_module_version": "1.5.0",
            "value": 2200,
            "_view_count": null,
            "_view_module_version": "1.5.0",
            "orientation": "horizontal",
            "min": 0,
            "description_tooltip": null,
            "_model_module": "@jupyter-widgets/controls",
            "layout": "IPY_MODEL_d21404e1189c4f49989e3c3069fec016"
          }
        },
        "9115b6bf13ac44fa88486a2551d744a5": {
          "model_module": "@jupyter-widgets/controls",
          "model_name": "HTMLModel",
          "state": {
            "_view_name": "HTMLView",
            "style": "IPY_MODEL_f516888f1d7b4bd694d0e707eac1c3e5",
            "_dom_classes": [],
            "description": "",
            "_model_name": "HTMLModel",
            "placeholder": "​",
            "_view_module": "@jupyter-widgets/controls",
            "_model_module_version": "1.5.0",
            "value": " 2200/2200 [00:46&lt;00:00, 47.75it/s]",
            "_view_count": null,
            "_view_module_version": "1.5.0",
            "description_tooltip": null,
            "_model_module": "@jupyter-widgets/controls",
            "layout": "IPY_MODEL_c9233c03db5540129d1d8576cc101710"
          }
        },
        "4c090ca3a7144ef1b3e5ceb27b0684be": {
          "model_module": "@jupyter-widgets/controls",
          "model_name": "ProgressStyleModel",
          "state": {
            "_view_name": "StyleView",
            "_model_name": "ProgressStyleModel",
            "description_width": "initial",
            "_view_module": "@jupyter-widgets/base",
            "_model_module_version": "1.5.0",
            "_view_count": null,
            "_view_module_version": "1.2.0",
            "bar_color": null,
            "_model_module": "@jupyter-widgets/controls"
          }
        },
        "d21404e1189c4f49989e3c3069fec016": {
          "model_module": "@jupyter-widgets/base",
          "model_name": "LayoutModel",
          "state": {
            "_view_name": "LayoutView",
            "grid_template_rows": null,
            "right": null,
            "justify_content": null,
            "_view_module": "@jupyter-widgets/base",
            "overflow": null,
            "_model_module_version": "1.2.0",
            "_view_count": null,
            "flex_flow": null,
            "width": null,
            "min_width": null,
            "border": null,
            "align_items": null,
            "bottom": null,
            "_model_module": "@jupyter-widgets/base",
            "top": null,
            "grid_column": null,
            "overflow_y": null,
            "overflow_x": null,
            "grid_auto_flow": null,
            "grid_area": null,
            "grid_template_columns": null,
            "flex": null,
            "_model_name": "LayoutModel",
            "justify_items": null,
            "grid_row": null,
            "max_height": null,
            "align_content": null,
            "visibility": null,
            "align_self": null,
            "height": null,
            "min_height": null,
            "padding": null,
            "grid_auto_rows": null,
            "grid_gap": null,
            "max_width": null,
            "order": null,
            "_view_module_version": "1.2.0",
            "grid_template_areas": null,
            "object_position": null,
            "object_fit": null,
            "grid_auto_columns": null,
            "margin": null,
            "display": null,
            "left": null
          }
        },
        "f516888f1d7b4bd694d0e707eac1c3e5": {
          "model_module": "@jupyter-widgets/controls",
          "model_name": "DescriptionStyleModel",
          "state": {
            "_view_name": "StyleView",
            "_model_name": "DescriptionStyleModel",
            "description_width": "",
            "_view_module": "@jupyter-widgets/base",
            "_model_module_version": "1.5.0",
            "_view_count": null,
            "_view_module_version": "1.2.0",
            "_model_module": "@jupyter-widgets/controls"
          }
        },
        "c9233c03db5540129d1d8576cc101710": {
          "model_module": "@jupyter-widgets/base",
          "model_name": "LayoutModel",
          "state": {
            "_view_name": "LayoutView",
            "grid_template_rows": null,
            "right": null,
            "justify_content": null,
            "_view_module": "@jupyter-widgets/base",
            "overflow": null,
            "_model_module_version": "1.2.0",
            "_view_count": null,
            "flex_flow": null,
            "width": null,
            "min_width": null,
            "border": null,
            "align_items": null,
            "bottom": null,
            "_model_module": "@jupyter-widgets/base",
            "top": null,
            "grid_column": null,
            "overflow_y": null,
            "overflow_x": null,
            "grid_auto_flow": null,
            "grid_area": null,
            "grid_template_columns": null,
            "flex": null,
            "_model_name": "LayoutModel",
            "justify_items": null,
            "grid_row": null,
            "max_height": null,
            "align_content": null,
            "visibility": null,
            "align_self": null,
            "height": null,
            "min_height": null,
            "padding": null,
            "grid_auto_rows": null,
            "grid_gap": null,
            "max_width": null,
            "order": null,
            "_view_module_version": "1.2.0",
            "grid_template_areas": null,
            "object_position": null,
            "object_fit": null,
            "grid_auto_columns": null,
            "margin": null,
            "display": null,
            "left": null
          }
        },
        "c6f2fe48afda46f99e67c5001c3f8f1e": {
          "model_module": "@jupyter-widgets/controls",
          "model_name": "HBoxModel",
          "state": {
            "_view_name": "HBoxView",
            "_dom_classes": [],
            "_model_name": "HBoxModel",
            "_view_module": "@jupyter-widgets/controls",
            "_model_module_version": "1.5.0",
            "_view_count": null,
            "_view_module_version": "1.5.0",
            "box_style": "",
            "layout": "IPY_MODEL_39ec1a2254824a57b921ea0acd9b1ab3",
            "_model_module": "@jupyter-widgets/controls",
            "children": [
              "IPY_MODEL_c9d1bd912c774c6991b4b940957de810",
              "IPY_MODEL_c286a624852a490a955d800877832199"
            ]
          }
        },
        "39ec1a2254824a57b921ea0acd9b1ab3": {
          "model_module": "@jupyter-widgets/base",
          "model_name": "LayoutModel",
          "state": {
            "_view_name": "LayoutView",
            "grid_template_rows": null,
            "right": null,
            "justify_content": null,
            "_view_module": "@jupyter-widgets/base",
            "overflow": null,
            "_model_module_version": "1.2.0",
            "_view_count": null,
            "flex_flow": null,
            "width": null,
            "min_width": null,
            "border": null,
            "align_items": null,
            "bottom": null,
            "_model_module": "@jupyter-widgets/base",
            "top": null,
            "grid_column": null,
            "overflow_y": null,
            "overflow_x": null,
            "grid_auto_flow": null,
            "grid_area": null,
            "grid_template_columns": null,
            "flex": null,
            "_model_name": "LayoutModel",
            "justify_items": null,
            "grid_row": null,
            "max_height": null,
            "align_content": null,
            "visibility": null,
            "align_self": null,
            "height": null,
            "min_height": null,
            "padding": null,
            "grid_auto_rows": null,
            "grid_gap": null,
            "max_width": null,
            "order": null,
            "_view_module_version": "1.2.0",
            "grid_template_areas": null,
            "object_position": null,
            "object_fit": null,
            "grid_auto_columns": null,
            "margin": null,
            "display": null,
            "left": null
          }
        },
        "c9d1bd912c774c6991b4b940957de810": {
          "model_module": "@jupyter-widgets/controls",
          "model_name": "FloatProgressModel",
          "state": {
            "_view_name": "ProgressView",
            "style": "IPY_MODEL_b7d2a218f9284c3ab498d0f19549153f",
            "_dom_classes": [],
            "description": "Loss: 0.6192: 100%",
            "_model_name": "FloatProgressModel",
            "bar_style": "success",
            "max": 2200,
            "_view_module": "@jupyter-widgets/controls",
            "_model_module_version": "1.5.0",
            "value": 2200,
            "_view_count": null,
            "_view_module_version": "1.5.0",
            "orientation": "horizontal",
            "min": 0,
            "description_tooltip": null,
            "_model_module": "@jupyter-widgets/controls",
            "layout": "IPY_MODEL_44fbf661a31d45ef9fc79d8dcbfb6fb3"
          }
        },
        "c286a624852a490a955d800877832199": {
          "model_module": "@jupyter-widgets/controls",
          "model_name": "HTMLModel",
          "state": {
            "_view_name": "HTMLView",
            "style": "IPY_MODEL_50078200cfa445c5bc368405b128cff6",
            "_dom_classes": [],
            "description": "",
            "_model_name": "HTMLModel",
            "placeholder": "​",
            "_view_module": "@jupyter-widgets/controls",
            "_model_module_version": "1.5.0",
            "value": " 2200/2200 [00:16&lt;00:00, 131.58it/s]",
            "_view_count": null,
            "_view_module_version": "1.5.0",
            "description_tooltip": null,
            "_model_module": "@jupyter-widgets/controls",
            "layout": "IPY_MODEL_7833453af63f4513bbbe7273ea1414a4"
          }
        },
        "b7d2a218f9284c3ab498d0f19549153f": {
          "model_module": "@jupyter-widgets/controls",
          "model_name": "ProgressStyleModel",
          "state": {
            "_view_name": "StyleView",
            "_model_name": "ProgressStyleModel",
            "description_width": "initial",
            "_view_module": "@jupyter-widgets/base",
            "_model_module_version": "1.5.0",
            "_view_count": null,
            "_view_module_version": "1.2.0",
            "bar_color": null,
            "_model_module": "@jupyter-widgets/controls"
          }
        },
        "44fbf661a31d45ef9fc79d8dcbfb6fb3": {
          "model_module": "@jupyter-widgets/base",
          "model_name": "LayoutModel",
          "state": {
            "_view_name": "LayoutView",
            "grid_template_rows": null,
            "right": null,
            "justify_content": null,
            "_view_module": "@jupyter-widgets/base",
            "overflow": null,
            "_model_module_version": "1.2.0",
            "_view_count": null,
            "flex_flow": null,
            "width": null,
            "min_width": null,
            "border": null,
            "align_items": null,
            "bottom": null,
            "_model_module": "@jupyter-widgets/base",
            "top": null,
            "grid_column": null,
            "overflow_y": null,
            "overflow_x": null,
            "grid_auto_flow": null,
            "grid_area": null,
            "grid_template_columns": null,
            "flex": null,
            "_model_name": "LayoutModel",
            "justify_items": null,
            "grid_row": null,
            "max_height": null,
            "align_content": null,
            "visibility": null,
            "align_self": null,
            "height": null,
            "min_height": null,
            "padding": null,
            "grid_auto_rows": null,
            "grid_gap": null,
            "max_width": null,
            "order": null,
            "_view_module_version": "1.2.0",
            "grid_template_areas": null,
            "object_position": null,
            "object_fit": null,
            "grid_auto_columns": null,
            "margin": null,
            "display": null,
            "left": null
          }
        },
        "50078200cfa445c5bc368405b128cff6": {
          "model_module": "@jupyter-widgets/controls",
          "model_name": "DescriptionStyleModel",
          "state": {
            "_view_name": "StyleView",
            "_model_name": "DescriptionStyleModel",
            "description_width": "",
            "_view_module": "@jupyter-widgets/base",
            "_model_module_version": "1.5.0",
            "_view_count": null,
            "_view_module_version": "1.2.0",
            "_model_module": "@jupyter-widgets/controls"
          }
        },
        "7833453af63f4513bbbe7273ea1414a4": {
          "model_module": "@jupyter-widgets/base",
          "model_name": "LayoutModel",
          "state": {
            "_view_name": "LayoutView",
            "grid_template_rows": null,
            "right": null,
            "justify_content": null,
            "_view_module": "@jupyter-widgets/base",
            "overflow": null,
            "_model_module_version": "1.2.0",
            "_view_count": null,
            "flex_flow": null,
            "width": null,
            "min_width": null,
            "border": null,
            "align_items": null,
            "bottom": null,
            "_model_module": "@jupyter-widgets/base",
            "top": null,
            "grid_column": null,
            "overflow_y": null,
            "overflow_x": null,
            "grid_auto_flow": null,
            "grid_area": null,
            "grid_template_columns": null,
            "flex": null,
            "_model_name": "LayoutModel",
            "justify_items": null,
            "grid_row": null,
            "max_height": null,
            "align_content": null,
            "visibility": null,
            "align_self": null,
            "height": null,
            "min_height": null,
            "padding": null,
            "grid_auto_rows": null,
            "grid_gap": null,
            "max_width": null,
            "order": null,
            "_view_module_version": "1.2.0",
            "grid_template_areas": null,
            "object_position": null,
            "object_fit": null,
            "grid_auto_columns": null,
            "margin": null,
            "display": null,
            "left": null
          }
        },
        "e108c67c24d74572823ac174d023cfa3": {
          "model_module": "@jupyter-widgets/controls",
          "model_name": "HBoxModel",
          "state": {
            "_view_name": "HBoxView",
            "_dom_classes": [],
            "_model_name": "HBoxModel",
            "_view_module": "@jupyter-widgets/controls",
            "_model_module_version": "1.5.0",
            "_view_count": null,
            "_view_module_version": "1.5.0",
            "box_style": "",
            "layout": "IPY_MODEL_01fd9f720807407a946bb56c22673583",
            "_model_module": "@jupyter-widgets/controls",
            "children": [
              "IPY_MODEL_0a2bc1b756724401b6fd3719a591b6f8",
              "IPY_MODEL_8aa8df4f0a114b68908b8e7669c9d83b"
            ]
          }
        },
        "01fd9f720807407a946bb56c22673583": {
          "model_module": "@jupyter-widgets/base",
          "model_name": "LayoutModel",
          "state": {
            "_view_name": "LayoutView",
            "grid_template_rows": null,
            "right": null,
            "justify_content": null,
            "_view_module": "@jupyter-widgets/base",
            "overflow": null,
            "_model_module_version": "1.2.0",
            "_view_count": null,
            "flex_flow": null,
            "width": null,
            "min_width": null,
            "border": null,
            "align_items": null,
            "bottom": null,
            "_model_module": "@jupyter-widgets/base",
            "top": null,
            "grid_column": null,
            "overflow_y": null,
            "overflow_x": null,
            "grid_auto_flow": null,
            "grid_area": null,
            "grid_template_columns": null,
            "flex": null,
            "_model_name": "LayoutModel",
            "justify_items": null,
            "grid_row": null,
            "max_height": null,
            "align_content": null,
            "visibility": null,
            "align_self": null,
            "height": null,
            "min_height": null,
            "padding": null,
            "grid_auto_rows": null,
            "grid_gap": null,
            "max_width": null,
            "order": null,
            "_view_module_version": "1.2.0",
            "grid_template_areas": null,
            "object_position": null,
            "object_fit": null,
            "grid_auto_columns": null,
            "margin": null,
            "display": null,
            "left": null
          }
        },
        "0a2bc1b756724401b6fd3719a591b6f8": {
          "model_module": "@jupyter-widgets/controls",
          "model_name": "FloatProgressModel",
          "state": {
            "_view_name": "ProgressView",
            "style": "IPY_MODEL_24ece3a081e6415596ee438bbea1a2b1",
            "_dom_classes": [],
            "description": "Loss: 0.6156: 100%",
            "_model_name": "FloatProgressModel",
            "bar_style": "success",
            "max": 2200,
            "_view_module": "@jupyter-widgets/controls",
            "_model_module_version": "1.5.0",
            "value": 2200,
            "_view_count": null,
            "_view_module_version": "1.5.0",
            "orientation": "horizontal",
            "min": 0,
            "description_tooltip": null,
            "_model_module": "@jupyter-widgets/controls",
            "layout": "IPY_MODEL_f5fa0218d23b49caa431c93c6e78913b"
          }
        },
        "8aa8df4f0a114b68908b8e7669c9d83b": {
          "model_module": "@jupyter-widgets/controls",
          "model_name": "HTMLModel",
          "state": {
            "_view_name": "HTMLView",
            "style": "IPY_MODEL_3ee61ac9a4fa4e83b9f509b29eaaaa31",
            "_dom_classes": [],
            "description": "",
            "_model_name": "HTMLModel",
            "placeholder": "​",
            "_view_module": "@jupyter-widgets/controls",
            "_model_module_version": "1.5.0",
            "value": " 2200/2200 [00:16&lt;00:00, 131.27it/s]",
            "_view_count": null,
            "_view_module_version": "1.5.0",
            "description_tooltip": null,
            "_model_module": "@jupyter-widgets/controls",
            "layout": "IPY_MODEL_7406221a70114407ace0a8de06942cf8"
          }
        },
        "24ece3a081e6415596ee438bbea1a2b1": {
          "model_module": "@jupyter-widgets/controls",
          "model_name": "ProgressStyleModel",
          "state": {
            "_view_name": "StyleView",
            "_model_name": "ProgressStyleModel",
            "description_width": "initial",
            "_view_module": "@jupyter-widgets/base",
            "_model_module_version": "1.5.0",
            "_view_count": null,
            "_view_module_version": "1.2.0",
            "bar_color": null,
            "_model_module": "@jupyter-widgets/controls"
          }
        },
        "f5fa0218d23b49caa431c93c6e78913b": {
          "model_module": "@jupyter-widgets/base",
          "model_name": "LayoutModel",
          "state": {
            "_view_name": "LayoutView",
            "grid_template_rows": null,
            "right": null,
            "justify_content": null,
            "_view_module": "@jupyter-widgets/base",
            "overflow": null,
            "_model_module_version": "1.2.0",
            "_view_count": null,
            "flex_flow": null,
            "width": null,
            "min_width": null,
            "border": null,
            "align_items": null,
            "bottom": null,
            "_model_module": "@jupyter-widgets/base",
            "top": null,
            "grid_column": null,
            "overflow_y": null,
            "overflow_x": null,
            "grid_auto_flow": null,
            "grid_area": null,
            "grid_template_columns": null,
            "flex": null,
            "_model_name": "LayoutModel",
            "justify_items": null,
            "grid_row": null,
            "max_height": null,
            "align_content": null,
            "visibility": null,
            "align_self": null,
            "height": null,
            "min_height": null,
            "padding": null,
            "grid_auto_rows": null,
            "grid_gap": null,
            "max_width": null,
            "order": null,
            "_view_module_version": "1.2.0",
            "grid_template_areas": null,
            "object_position": null,
            "object_fit": null,
            "grid_auto_columns": null,
            "margin": null,
            "display": null,
            "left": null
          }
        },
        "3ee61ac9a4fa4e83b9f509b29eaaaa31": {
          "model_module": "@jupyter-widgets/controls",
          "model_name": "DescriptionStyleModel",
          "state": {
            "_view_name": "StyleView",
            "_model_name": "DescriptionStyleModel",
            "description_width": "",
            "_view_module": "@jupyter-widgets/base",
            "_model_module_version": "1.5.0",
            "_view_count": null,
            "_view_module_version": "1.2.0",
            "_model_module": "@jupyter-widgets/controls"
          }
        },
        "7406221a70114407ace0a8de06942cf8": {
          "model_module": "@jupyter-widgets/base",
          "model_name": "LayoutModel",
          "state": {
            "_view_name": "LayoutView",
            "grid_template_rows": null,
            "right": null,
            "justify_content": null,
            "_view_module": "@jupyter-widgets/base",
            "overflow": null,
            "_model_module_version": "1.2.0",
            "_view_count": null,
            "flex_flow": null,
            "width": null,
            "min_width": null,
            "border": null,
            "align_items": null,
            "bottom": null,
            "_model_module": "@jupyter-widgets/base",
            "top": null,
            "grid_column": null,
            "overflow_y": null,
            "overflow_x": null,
            "grid_auto_flow": null,
            "grid_area": null,
            "grid_template_columns": null,
            "flex": null,
            "_model_name": "LayoutModel",
            "justify_items": null,
            "grid_row": null,
            "max_height": null,
            "align_content": null,
            "visibility": null,
            "align_self": null,
            "height": null,
            "min_height": null,
            "padding": null,
            "grid_auto_rows": null,
            "grid_gap": null,
            "max_width": null,
            "order": null,
            "_view_module_version": "1.2.0",
            "grid_template_areas": null,
            "object_position": null,
            "object_fit": null,
            "grid_auto_columns": null,
            "margin": null,
            "display": null,
            "left": null
          }
        },
        "192ac5cb5e4e43f691f3a7dd3c829d91": {
          "model_module": "@jupyter-widgets/controls",
          "model_name": "HBoxModel",
          "state": {
            "_view_name": "HBoxView",
            "_dom_classes": [],
            "_model_name": "HBoxModel",
            "_view_module": "@jupyter-widgets/controls",
            "_model_module_version": "1.5.0",
            "_view_count": null,
            "_view_module_version": "1.5.0",
            "box_style": "",
            "layout": "IPY_MODEL_a7df8734a1bd4d9ca90518919103096b",
            "_model_module": "@jupyter-widgets/controls",
            "children": [
              "IPY_MODEL_32cd7d4569704d009ce0b9a3ede38ea5",
              "IPY_MODEL_fed47a50df6c4b47b6f38faa020eabb4"
            ]
          }
        },
        "a7df8734a1bd4d9ca90518919103096b": {
          "model_module": "@jupyter-widgets/base",
          "model_name": "LayoutModel",
          "state": {
            "_view_name": "LayoutView",
            "grid_template_rows": null,
            "right": null,
            "justify_content": null,
            "_view_module": "@jupyter-widgets/base",
            "overflow": null,
            "_model_module_version": "1.2.0",
            "_view_count": null,
            "flex_flow": null,
            "width": null,
            "min_width": null,
            "border": null,
            "align_items": null,
            "bottom": null,
            "_model_module": "@jupyter-widgets/base",
            "top": null,
            "grid_column": null,
            "overflow_y": null,
            "overflow_x": null,
            "grid_auto_flow": null,
            "grid_area": null,
            "grid_template_columns": null,
            "flex": null,
            "_model_name": "LayoutModel",
            "justify_items": null,
            "grid_row": null,
            "max_height": null,
            "align_content": null,
            "visibility": null,
            "align_self": null,
            "height": null,
            "min_height": null,
            "padding": null,
            "grid_auto_rows": null,
            "grid_gap": null,
            "max_width": null,
            "order": null,
            "_view_module_version": "1.2.0",
            "grid_template_areas": null,
            "object_position": null,
            "object_fit": null,
            "grid_auto_columns": null,
            "margin": null,
            "display": null,
            "left": null
          }
        },
        "32cd7d4569704d009ce0b9a3ede38ea5": {
          "model_module": "@jupyter-widgets/controls",
          "model_name": "FloatProgressModel",
          "state": {
            "_view_name": "ProgressView",
            "style": "IPY_MODEL_0140b1e5071642188cbfe02a9b7a31a9",
            "_dom_classes": [],
            "description": "Loss: 0.6012: 100%",
            "_model_name": "FloatProgressModel",
            "bar_style": "success",
            "max": 2200,
            "_view_module": "@jupyter-widgets/controls",
            "_model_module_version": "1.5.0",
            "value": 2200,
            "_view_count": null,
            "_view_module_version": "1.5.0",
            "orientation": "horizontal",
            "min": 0,
            "description_tooltip": null,
            "_model_module": "@jupyter-widgets/controls",
            "layout": "IPY_MODEL_5152cbdf86094cab98896da866f1b0bb"
          }
        },
        "fed47a50df6c4b47b6f38faa020eabb4": {
          "model_module": "@jupyter-widgets/controls",
          "model_name": "HTMLModel",
          "state": {
            "_view_name": "HTMLView",
            "style": "IPY_MODEL_8e4478bf5d244c65b99ca13a45b407e4",
            "_dom_classes": [],
            "description": "",
            "_model_name": "HTMLModel",
            "placeholder": "​",
            "_view_module": "@jupyter-widgets/controls",
            "_model_module_version": "1.5.0",
            "value": " 2200/2200 [00:16&lt;00:00, 132.13it/s]",
            "_view_count": null,
            "_view_module_version": "1.5.0",
            "description_tooltip": null,
            "_model_module": "@jupyter-widgets/controls",
            "layout": "IPY_MODEL_bce0492938bc4cb890766a8e5c0d3772"
          }
        },
        "0140b1e5071642188cbfe02a9b7a31a9": {
          "model_module": "@jupyter-widgets/controls",
          "model_name": "ProgressStyleModel",
          "state": {
            "_view_name": "StyleView",
            "_model_name": "ProgressStyleModel",
            "description_width": "initial",
            "_view_module": "@jupyter-widgets/base",
            "_model_module_version": "1.5.0",
            "_view_count": null,
            "_view_module_version": "1.2.0",
            "bar_color": null,
            "_model_module": "@jupyter-widgets/controls"
          }
        },
        "5152cbdf86094cab98896da866f1b0bb": {
          "model_module": "@jupyter-widgets/base",
          "model_name": "LayoutModel",
          "state": {
            "_view_name": "LayoutView",
            "grid_template_rows": null,
            "right": null,
            "justify_content": null,
            "_view_module": "@jupyter-widgets/base",
            "overflow": null,
            "_model_module_version": "1.2.0",
            "_view_count": null,
            "flex_flow": null,
            "width": null,
            "min_width": null,
            "border": null,
            "align_items": null,
            "bottom": null,
            "_model_module": "@jupyter-widgets/base",
            "top": null,
            "grid_column": null,
            "overflow_y": null,
            "overflow_x": null,
            "grid_auto_flow": null,
            "grid_area": null,
            "grid_template_columns": null,
            "flex": null,
            "_model_name": "LayoutModel",
            "justify_items": null,
            "grid_row": null,
            "max_height": null,
            "align_content": null,
            "visibility": null,
            "align_self": null,
            "height": null,
            "min_height": null,
            "padding": null,
            "grid_auto_rows": null,
            "grid_gap": null,
            "max_width": null,
            "order": null,
            "_view_module_version": "1.2.0",
            "grid_template_areas": null,
            "object_position": null,
            "object_fit": null,
            "grid_auto_columns": null,
            "margin": null,
            "display": null,
            "left": null
          }
        },
        "8e4478bf5d244c65b99ca13a45b407e4": {
          "model_module": "@jupyter-widgets/controls",
          "model_name": "DescriptionStyleModel",
          "state": {
            "_view_name": "StyleView",
            "_model_name": "DescriptionStyleModel",
            "description_width": "",
            "_view_module": "@jupyter-widgets/base",
            "_model_module_version": "1.5.0",
            "_view_count": null,
            "_view_module_version": "1.2.0",
            "_model_module": "@jupyter-widgets/controls"
          }
        },
        "bce0492938bc4cb890766a8e5c0d3772": {
          "model_module": "@jupyter-widgets/base",
          "model_name": "LayoutModel",
          "state": {
            "_view_name": "LayoutView",
            "grid_template_rows": null,
            "right": null,
            "justify_content": null,
            "_view_module": "@jupyter-widgets/base",
            "overflow": null,
            "_model_module_version": "1.2.0",
            "_view_count": null,
            "flex_flow": null,
            "width": null,
            "min_width": null,
            "border": null,
            "align_items": null,
            "bottom": null,
            "_model_module": "@jupyter-widgets/base",
            "top": null,
            "grid_column": null,
            "overflow_y": null,
            "overflow_x": null,
            "grid_auto_flow": null,
            "grid_area": null,
            "grid_template_columns": null,
            "flex": null,
            "_model_name": "LayoutModel",
            "justify_items": null,
            "grid_row": null,
            "max_height": null,
            "align_content": null,
            "visibility": null,
            "align_self": null,
            "height": null,
            "min_height": null,
            "padding": null,
            "grid_auto_rows": null,
            "grid_gap": null,
            "max_width": null,
            "order": null,
            "_view_module_version": "1.2.0",
            "grid_template_areas": null,
            "object_position": null,
            "object_fit": null,
            "grid_auto_columns": null,
            "margin": null,
            "display": null,
            "left": null
          }
        }
      }
    }
  },
  "cells": [
    {
      "cell_type": "markdown",
      "metadata": {
        "id": "view-in-github",
        "colab_type": "text"
      },
      "source": [
        "<a href=\"https://colab.research.google.com/github/nupursjsu/Advanced-Deep-Learning/blob/master/Project/MIL_on_Breast_Histopathological_Images.ipynb\" target=\"_parent\"><img src=\"https://colab.research.google.com/assets/colab-badge.svg\" alt=\"Open In Colab\"/></a>"
      ]
    },
    {
      "cell_type": "markdown",
      "metadata": {
        "id": "CQzFVizyTy_y"
      },
      "source": [
        "# Multi Instance Learning on breast histopathological images to detect breast cancer"
      ]
    },
    {
      "cell_type": "markdown",
      "metadata": {
        "id": "RIYJX2YH5l8m"
      },
      "source": [
        "**Multiple instance learning is a weekly supervised learning** method where instead of providing a set of labeled instances, **the model is provided with a set of labeled bags containing many instances**. The number of instances in a bag are different.\n",
        "\n",
        "It has various applications in medical field. For example, detecting cancerous cells on pathology slides.\n",
        "\n",
        "Here, **we have used breast histopathological images dataset for demonstrating multi instance learning**.\n"
      ]
    },
    {
      "cell_type": "markdown",
      "metadata": {
        "id": "WF3zCPBXT5sg"
      },
      "source": [
        "## Importing necessary libraries"
      ]
    },
    {
      "cell_type": "code",
      "metadata": {
        "id": "ZkC3lhyzT5WM"
      },
      "source": [
        "import numpy as np\n",
        "import pandas as pd\n",
        "from functools import partial, reduce\n",
        "from random import shuffle\n",
        "import random\n",
        "\n",
        "import os\n",
        "import datetime\n",
        "import copy\n",
        "import re\n",
        "import yaml\n",
        "import uuid\n",
        "import warnings\n",
        "import time\n",
        "import inspect\n",
        "\n",
        "import torch\n",
        "from torch import nn, optim\n",
        "from torch import nn\n",
        "from torch.nn import functional as F\n",
        "from torch.utils.data.dataset import Dataset\n",
        "from torch.utils.data import DataLoader\n",
        "from torch.utils.data import DataLoader\n",
        "from torchvision.models import resnet\n",
        "from torchvision.transforms import Compose, ToTensor, Normalize, Resize\n",
        "from torchvision.models.resnet import ResNet, BasicBlock\n",
        "import tensorflow as tf\n",
        "from tqdm.autonotebook import tqdm\n",
        "from sklearn.metrics import precision_score, recall_score, f1_score, accuracy_score\n",
        "from sklearn import metrics as mtx\n",
        "from sklearn import model_selection as ms"
      ],
      "execution_count": 31,
      "outputs": []
    },
    {
      "cell_type": "markdown",
      "metadata": {
        "id": "yp9Q_NUsUXca"
      },
      "source": [
        "## Getting the breast histopathological images dataset"
      ]
    },
    {
      "cell_type": "markdown",
      "metadata": {
        "id": "Ybtc581I7YQk"
      },
      "source": [
        "The original dataset consisted of 279 whole mount slide images of Breast Cancer (BCa) specimens scanned at 40x. From that, 277,524 patches of size 50 x 50 were extracted (198,738 IDC negative and 78,786 IDC positive)."
      ]
    },
    {
      "cell_type": "code",
      "metadata": {
        "id": "dqX8JLkaBZ1O"
      },
      "source": [
        "#Loading the Breast histopathological images dataset\n",
        "!pip install -U -q PyDrive\n",
        "from pydrive.auth import GoogleAuth\n",
        "from pydrive.drive import GoogleDrive\n",
        "from google.colab import auth\n",
        "from oauth2client.client import GoogleCredentials\n",
        "\n",
        "auth.authenticate_user()\n",
        "gauth = GoogleAuth()\n",
        "gauth.credentials = GoogleCredentials.get_application_default()\n",
        "drive = GoogleDrive(gauth)"
      ],
      "execution_count": 1,
      "outputs": []
    },
    {
      "cell_type": "code",
      "metadata": {
        "id": "Ld74C7aGBamr"
      },
      "source": [
        "link = ' https://drive.google.com/open?id=13kQY2kWaVlbezu2qmSK7VLV9jZ728Iea'\n",
        "fluff, id = link.split('=')\n",
        "\n",
        "\n",
        "downloaded = drive.CreateFile({'id':id}) \n",
        "downloaded.GetContentFile('archive.zip')\n",
        "\n",
        "import zipfile\n",
        "with zipfile.ZipFile('archive.zip', 'r') as zip_ref:\n",
        "    zip_ref.extractall()"
      ],
      "execution_count": 4,
      "outputs": []
    },
    {
      "cell_type": "code",
      "metadata": {
        "colab": {
          "base_uri": "https://localhost:8080/"
        },
        "id": "5JMPFYp3B5wr",
        "outputId": "45fe9d9e-244b-4d63-d902-07b490ca01b8"
      },
      "source": [
        "from os import listdir\n",
        "files = listdir(\"/content/IDC_regular_ps50_idx5/\")"
      ],
      "execution_count": 7,
      "outputs": [
        {
          "output_type": "execute_result",
          "data": {
            "text/plain": [
              "279"
            ]
          },
          "metadata": {
            "tags": []
          },
          "execution_count": 7
        }
      ]
    },
    {
      "cell_type": "markdown",
      "metadata": {
        "id": "80ctDAV-Mwv4"
      },
      "source": [
        "There are a total of 279 patients whole slide images."
      ]
    },
    {
      "cell_type": "code",
      "metadata": {
        "id": "NNeM3Dm4G29X"
      },
      "source": [
        "from shutil import copyfile\n",
        "for file in files:\n",
        "  for img in listdir(file + \"/0/\"):\n",
        "    copyfile(file + \"/0/\" + img, \"/content/combined/0/\" + img)\n",
        "\n",
        "  for img in listdir(file + \"/1/\"):\n",
        "    copyfile(file + \"/1/\" + img, \"/content/combined/1/\" + img)\n"
      ],
      "execution_count": 24,
      "outputs": []
    },
    {
      "cell_type": "code",
      "metadata": {
        "id": "boKgXZIlTM-K",
        "colab": {
          "base_uri": "https://localhost:8080/"
        },
        "outputId": "c3b5cbc4-5b16-42fa-e108-8e3746b92cf2"
      },
      "source": [
        "len(listdir(\"/content/combined/0\"))"
      ],
      "execution_count": 25,
      "outputs": [
        {
          "output_type": "execute_result",
          "data": {
            "text/plain": [
              "198738"
            ]
          },
          "metadata": {
            "tags": []
          },
          "execution_count": 25
        }
      ]
    },
    {
      "cell_type": "markdown",
      "metadata": {
        "id": "Mn18H5KXNDGw"
      },
      "source": [
        "There are a total of 198,738 IDC negative patches of size 50 x 50."
      ]
    },
    {
      "cell_type": "code",
      "metadata": {
        "colab": {
          "base_uri": "https://localhost:8080/"
        },
        "id": "AUD46FUMMUJE",
        "outputId": "a05509e6-b33f-44db-9a44-263adb96280a"
      },
      "source": [
        "len(listdir(\"/content/combined/1\"))"
      ],
      "execution_count": 26,
      "outputs": [
        {
          "output_type": "execute_result",
          "data": {
            "text/plain": [
              "78786"
            ]
          },
          "metadata": {
            "tags": []
          },
          "execution_count": 26
        }
      ]
    },
    {
      "cell_type": "markdown",
      "metadata": {
        "id": "H7ZUijkZNXeO"
      },
      "source": [
        "There are a total of 78,786 IDC positive patches of size 50 x 50."
      ]
    },
    {
      "cell_type": "code",
      "metadata": {
        "id": "UMEtjvi1PRAe"
      },
      "source": [
        "#Defining the train and validation batch size\n",
        "train_batch_size = 256\n",
        "val_batch_size = 256\n",
        "\n",
        "train_loader, valid_loader = get_data_loaders(train_batch_size, val_batch_size)"
      ],
      "execution_count": null,
      "outputs": []
    },
    {
      "cell_type": "markdown",
      "metadata": {
        "id": "wgndFB-nXghc"
      },
      "source": [
        "## Defining and pretraining the RESNET model"
      ]
    },
    {
      "cell_type": "markdown",
      "metadata": {
        "id": "LaGrIzaWWq0y"
      },
      "source": [
        "### Defining the RESNET model"
      ]
    },
    {
      "cell_type": "code",
      "metadata": {
        "id": "Ftz4v34cUmVe"
      },
      "source": [
        "class BreastCancerResNet(ResNet):\n",
        "    def __init__(self):\n",
        "        super(BreastCancerResNet, self).__init__(BasicBlock, [2, 2, 2, 2], num_classes=10)\n",
        "        self.conv1 = torch.nn.Conv2d(1, 64, kernel_size=(7, 7), stride=(2, 2), padding=(3, 3), bias=False)\n",
        "        \n",
        "    def forward(self, x):\n",
        "        return torch.softmax(super(BreastCancerResNet, self).forward(x), dim=-1)"
      ],
      "execution_count": 32,
      "outputs": []
    },
    {
      "cell_type": "markdown",
      "metadata": {
        "id": "J17nMxYK_XjC"
      },
      "source": [
        "### Helper functions for calculating the metrices such as precision, recall, accuracy etc."
      ]
    },
    {
      "cell_type": "code",
      "metadata": {
        "id": "9AKjnX_vWu9D"
      },
      "source": [
        "def calculate_metric(metric_fn, true_y, pred_y):\n",
        "    # multi class problems need to have averaging method\n",
        "    if \"average\" in inspect.getfullargspec(metric_fn).args:\n",
        "        return metric_fn(true_y, pred_y, average=\"macro\")\n",
        "    else:\n",
        "        return metric_fn(true_y, pred_y)\n",
        "    \n",
        "def print_scores(p, r, f1, a, batch_size):\n",
        "    # just an utility printing function\n",
        "    for name, scores in zip((\"precision\", \"recall\", \"F1\", \"accuracy\"), (p, r, f1, a)):\n",
        "        print(f\"\\t{name.rjust(14, ' ')}: {sum(scores)/batch_size:.4f}\")"
      ],
      "execution_count": 33,
      "outputs": []
    },
    {
      "cell_type": "markdown",
      "metadata": {
        "id": "yXqYODeqXPAc"
      },
      "source": [
        "### Pretraining the defined model"
      ]
    },
    {
      "cell_type": "markdown",
      "metadata": {
        "id": "Yuto3tlw_wsU"
      },
      "source": [
        "We are using GPU for training our RESNET model. We have used CrossEntropy as our loss function because it works best for multi-class problems and adam as optimizer.\n"
      ]
    },
    {
      "cell_type": "code",
      "metadata": {
        "id": "HyELrP7bXBzj",
        "colab": {
          "base_uri": "https://localhost:8080/",
          "height": 232
        },
        "outputId": "89e84da1-e0a2-4c27-fb1e-eac682be8698"
      },
      "source": [
        "start_ts = time.time()\n",
        "device = torch.device(\"cuda:0\" if torch.cuda.is_available() else \"cpu\")\n",
        "\n",
        "\n",
        "# model:\n",
        "model = BreastCancerResNet().to(device)\n",
        "\n",
        "# params you need to specify:\n",
        "epochs = 2\n",
        "train_loader, val_loader = get_data_loaders(train_batch_size, val_batch_size)\n",
        "loss_function = nn.CrossEntropyLoss() # your loss function, cross entropy works well for multi-class problems\n",
        "\n",
        "# optimizer, I've used Adadelta, as it wokrs well without any magic numbers\n",
        "optimizer = optim.Adadelta(model.parameters())\n",
        "\n",
        "\n",
        "losses = []\n",
        "batches = len(train_loader)\n",
        "val_batches = len(val_loader)\n",
        "\n",
        "# loop for every epoch (training + evaluation)\n",
        "for epoch in range(epochs):\n",
        "    total_loss = 0\n",
        "\n",
        "    # progress bar (works in Jupyter notebook too!)\n",
        "    progress = tqdm(enumerate(train_loader), desc=\"Loss: \", total=batches)\n",
        "\n",
        "    # ----------------- TRAINING  -------------------- \n",
        "    # set model to training\n",
        "    model.train()\n",
        "    \n",
        "    for i, data in progress:\n",
        "        X, y = data[0].to(device), data[1].to(device)\n",
        "        # training step for single batch\n",
        "        model.zero_grad() # to make sure that all the grads are 0 \n",
        "        \n",
        "        outputs = model(X) # forward\n",
        "        loss = loss_function(outputs, y) # get loss\n",
        "        loss.backward() # accumulates the gradient (by addition) for each parameter.\n",
        "        optimizer.step() # performs a parameter update based on the current gradient \n",
        "\n",
        "        # getting training quality data\n",
        "        current_loss = loss.item()\n",
        "        total_loss += current_loss\n",
        "\n",
        "        # updating progress bar\n",
        "        progress.set_description(\"Loss: {:.4f}\".format(total_loss/(i+1)))\n",
        "        \n",
        "    # releasing unceseccary memory in GPU\n",
        "    if torch.cuda.is_available():\n",
        "        torch.cuda.empty_cache()\n",
        "    \n",
        "    # ----------------- VALIDATION  ----------------- \n",
        "    val_losses = 0\n",
        "    precision, recall, f1, accuracy = [], [], [], []\n",
        "    \n",
        "    # set model to evaluating (testing)\n",
        "    model.eval()\n",
        "    with torch.no_grad():\n",
        "        for i, data in enumerate(val_loader):\n",
        "            X, y = data[0].to(device), data[1].to(device)\n",
        "\n",
        "            outputs = model(X) # this get's the prediction from the network\n",
        "\n",
        "            val_losses += loss_function(outputs, y)\n",
        "\n",
        "            predicted_classes = torch.max(outputs, 1)[1] # get class from network's prediction\n",
        "            \n",
        "            # calculate P/R/F1/A metrics for batch\n",
        "            for acc, metric in zip((precision, recall, f1, accuracy), \n",
        "                                   (precision_score, recall_score, f1_score, accuracy_score)):\n",
        "                acc.append(\n",
        "                    calculate_metric(metric, y.cpu(), predicted_classes.cpu())\n",
        "                )\n",
        "          \n",
        "    print(f\"Epoch {epoch+1}/{epochs}, training loss: {total_loss/batches}, validation loss: {val_losses/val_batches}\")\n",
        "    print_scores(precision, recall, f1, accuracy, val_batches)\n",
        "    losses.append(total_loss/batches) # for plotting learning curve\n",
        "print(f\"Training time: {time.time()-start_ts}s\")"
      ],
      "execution_count": 34,
      "outputs": [
        {
          "output_type": "error",
          "ename": "NameError",
          "evalue": "ignored",
          "traceback": [
            "\u001b[0;31m---------------------------------------------------------------------------\u001b[0m",
            "\u001b[0;31mNameError\u001b[0m                                 Traceback (most recent call last)",
            "\u001b[0;32m<ipython-input-34-3387ddbc9c9f>\u001b[0m in \u001b[0;36m<module>\u001b[0;34m()\u001b[0m\n\u001b[1;32m      8\u001b[0m \u001b[0;31m# params you need to specify:\u001b[0m\u001b[0;34m\u001b[0m\u001b[0;34m\u001b[0m\u001b[0;34m\u001b[0m\u001b[0m\n\u001b[1;32m      9\u001b[0m \u001b[0mepochs\u001b[0m \u001b[0;34m=\u001b[0m \u001b[0;36m2\u001b[0m\u001b[0;34m\u001b[0m\u001b[0;34m\u001b[0m\u001b[0m\n\u001b[0;32m---> 10\u001b[0;31m \u001b[0mtrain_loader\u001b[0m\u001b[0;34m,\u001b[0m \u001b[0mval_loader\u001b[0m \u001b[0;34m=\u001b[0m \u001b[0mget_data_loaders\u001b[0m\u001b[0;34m(\u001b[0m\u001b[0mtrain_batch_size\u001b[0m\u001b[0;34m,\u001b[0m \u001b[0mval_batch_size\u001b[0m\u001b[0;34m)\u001b[0m\u001b[0;34m\u001b[0m\u001b[0;34m\u001b[0m\u001b[0m\n\u001b[0m\u001b[1;32m     11\u001b[0m \u001b[0mloss_function\u001b[0m \u001b[0;34m=\u001b[0m \u001b[0mnn\u001b[0m\u001b[0;34m.\u001b[0m\u001b[0mCrossEntropyLoss\u001b[0m\u001b[0;34m(\u001b[0m\u001b[0;34m)\u001b[0m \u001b[0;31m# your loss function, cross entropy works well for multi-class problems\u001b[0m\u001b[0;34m\u001b[0m\u001b[0;34m\u001b[0m\u001b[0m\n\u001b[1;32m     12\u001b[0m \u001b[0;34m\u001b[0m\u001b[0m\n",
            "\u001b[0;31mNameError\u001b[0m: name 'get_data_loaders' is not defined"
          ]
        }
      ]
    },
    {
      "cell_type": "markdown",
      "metadata": {
        "id": "zWSDsC2PXXox"
      },
      "source": [
        "### Saving the pretrained model"
      ]
    },
    {
      "cell_type": "code",
      "metadata": {
        "id": "mwQtsC4EXXET"
      },
      "source": [
        "torch.save(model.state_dict(), 'mnist_pretrain.pt')"
      ],
      "execution_count": null,
      "outputs": []
    },
    {
      "cell_type": "markdown",
      "metadata": {
        "id": "w6BNWV-RYARE"
      },
      "source": [
        "## Data Preprocessing for MNIST dataset"
      ]
    },
    {
      "cell_type": "markdown",
      "metadata": {
        "id": "a9j8nX38Yuy5"
      },
      "source": [
        "### Loading the MNIST data using Keras library"
      ]
    },
    {
      "cell_type": "code",
      "metadata": {
        "id": "akRGKq-1YTUC"
      },
      "source": [
        "(x_train, y_train), (x_test, y_test) = tf.keras.datasets.mnist.load_data()"
      ],
      "execution_count": null,
      "outputs": []
    },
    {
      "cell_type": "code",
      "metadata": {
        "id": "E1j0TJEyY0lp",
        "colab": {
          "base_uri": "https://localhost:8080/",
          "height": 34
        },
        "outputId": "abfd408e-23e6-4eda-8ef2-96539b3e5d6e"
      },
      "source": [
        "#Checking the shape of data\n",
        "x_train.shape"
      ],
      "execution_count": null,
      "outputs": [
        {
          "output_type": "execute_result",
          "data": {
            "text/plain": [
              "(60000, 28, 28)"
            ]
          },
          "metadata": {
            "tags": []
          },
          "execution_count": 103
        }
      ]
    },
    {
      "cell_type": "code",
      "metadata": {
        "id": "wtwBG1HiY5uP"
      },
      "source": [
        "#Splitting the data into train ans test set\n",
        "x_train = x_train[:11000]\n",
        "y_train = y_train[:11000]\n",
        "x_test = x_test[:9000]\n",
        "y_test = y_test[:9000]"
      ],
      "execution_count": null,
      "outputs": []
    },
    {
      "cell_type": "code",
      "metadata": {
        "id": "w_5_58TbZBOe",
        "colab": {
          "base_uri": "https://localhost:8080/",
          "height": 68
        },
        "outputId": "d7eddb1e-ebea-4a3d-acbb-77a182fd323e"
      },
      "source": [
        "#Converting the data to float\n",
        "x_train = x_train.astype('float32')\n",
        "x_test = x_test.astype('float32')\n",
        "\n",
        "#Normalizing the RGB codes by dividing it to the max RGB value.\n",
        "x_train /= 255\n",
        "x_test /= 255\n",
        "print('x_train shape:', x_train.shape)\n",
        "print('Number of images in x_train', x_train.shape[0])\n",
        "print('Number of images in x_test', x_test.shape[0])"
      ],
      "execution_count": null,
      "outputs": [
        {
          "output_type": "stream",
          "text": [
            "x_train shape: (11000, 28, 28)\n",
            "Number of images in x_train 11000\n",
            "Number of images in x_test 9000\n"
          ],
          "name": "stdout"
        }
      ]
    },
    {
      "cell_type": "markdown",
      "metadata": {
        "id": "L9F4ocq0ZXkT"
      },
      "source": [
        "### Creating tuple as index, label for train and test data"
      ]
    },
    {
      "cell_type": "code",
      "metadata": {
        "id": "1S0tVPknZQNK"
      },
      "source": [
        "instance_index_label = [(i, y_train[i]) for i in range(x_train.shape[0])]\n",
        "instance_index_label_test = [(i, y_test[i]) for i in range(x_test.shape[0])]"
      ],
      "execution_count": null,
      "outputs": []
    },
    {
      "cell_type": "code",
      "metadata": {
        "id": "1HAa7DliZiq5"
      },
      "source": [
        "#Finding the index where the label is 1\n",
        "find_index = [instance_index_label[i][0] for i in range(len(instance_index_label)) if instance_index_label[i][1]==1]\n",
        "#Finding the index where the label is 1\n",
        "find_index_test = [instance_index_label_test[i][0] for i in range(len(instance_index_label_test))\n",
        "                   if instance_index_label_test[i][1]==1]"
      ],
      "execution_count": null,
      "outputs": []
    },
    {
      "cell_type": "code",
      "metadata": {
        "id": "yMoscH4CZyyM",
        "colab": {
          "base_uri": "https://localhost:8080/",
          "height": 51
        },
        "outputId": "9de22fd2-1f42-445e-b9b2-a9dbeda4b401"
      },
      "source": [
        "#Printing index and label for a instance\n",
        "print('index:', instance_index_label[0][0]) #index\n",
        "print('label:', instance_index_label[0][1]) #label"
      ],
      "execution_count": null,
      "outputs": [
        {
          "output_type": "stream",
          "text": [
            "index: 0\n",
            "label: 5\n"
          ],
          "name": "stdout"
        }
      ]
    },
    {
      "cell_type": "markdown",
      "metadata": {
        "id": "Fykk9crkZ-it"
      },
      "source": [
        "### Loading the pretrained model"
      ]
    },
    {
      "cell_type": "code",
      "metadata": {
        "id": "lQSLCPRUZ50C"
      },
      "source": [
        "import torch\n",
        "from torchvision.models.resnet import ResNet, BasicBlock\n",
        "class MnistResNet(ResNet):\n",
        "    def __init__(self):\n",
        "        super(MnistResNet, self).__init__(BasicBlock, [2, 2, 2, 2], num_classes=10)\n",
        "        self.conv1 = torch.nn.Conv2d(1, 64, kernel_size=(7, 7), stride=(2, 2), padding=(3, 3), bias=False)\n",
        "        \n",
        "    def forward(self, x):\n",
        "        return torch.softmax(super(MnistResNet, self).forward(x), dim=-1)"
      ],
      "execution_count": null,
      "outputs": []
    },
    {
      "cell_type": "code",
      "metadata": {
        "id": "V3fzoDidaJfr",
        "colab": {
          "base_uri": "https://localhost:8080/",
          "height": 1000
        },
        "outputId": "5ac234df-fc6f-4935-e995-4eb196ca81f3"
      },
      "source": [
        "model = MnistResNet()\n",
        "model.load_state_dict(torch.load('mnist_pretrain.pt'))\n",
        "body = nn.Sequential(*list(model.children()))\n",
        "# extract the last layer\n",
        "model = body[:9]\n",
        "# the model we will use\n",
        "model.eval()"
      ],
      "execution_count": null,
      "outputs": [
        {
          "output_type": "execute_result",
          "data": {
            "text/plain": [
              "Sequential(\n",
              "  (0): Conv2d(1, 64, kernel_size=(7, 7), stride=(2, 2), padding=(3, 3), bias=False)\n",
              "  (1): BatchNorm2d(64, eps=1e-05, momentum=0.1, affine=True, track_running_stats=True)\n",
              "  (2): ReLU(inplace=True)\n",
              "  (3): MaxPool2d(kernel_size=3, stride=2, padding=1, dilation=1, ceil_mode=False)\n",
              "  (4): Sequential(\n",
              "    (0): BasicBlock(\n",
              "      (conv1): Conv2d(64, 64, kernel_size=(3, 3), stride=(1, 1), padding=(1, 1), bias=False)\n",
              "      (bn1): BatchNorm2d(64, eps=1e-05, momentum=0.1, affine=True, track_running_stats=True)\n",
              "      (relu): ReLU(inplace=True)\n",
              "      (conv2): Conv2d(64, 64, kernel_size=(3, 3), stride=(1, 1), padding=(1, 1), bias=False)\n",
              "      (bn2): BatchNorm2d(64, eps=1e-05, momentum=0.1, affine=True, track_running_stats=True)\n",
              "    )\n",
              "    (1): BasicBlock(\n",
              "      (conv1): Conv2d(64, 64, kernel_size=(3, 3), stride=(1, 1), padding=(1, 1), bias=False)\n",
              "      (bn1): BatchNorm2d(64, eps=1e-05, momentum=0.1, affine=True, track_running_stats=True)\n",
              "      (relu): ReLU(inplace=True)\n",
              "      (conv2): Conv2d(64, 64, kernel_size=(3, 3), stride=(1, 1), padding=(1, 1), bias=False)\n",
              "      (bn2): BatchNorm2d(64, eps=1e-05, momentum=0.1, affine=True, track_running_stats=True)\n",
              "    )\n",
              "  )\n",
              "  (5): Sequential(\n",
              "    (0): BasicBlock(\n",
              "      (conv1): Conv2d(64, 128, kernel_size=(3, 3), stride=(2, 2), padding=(1, 1), bias=False)\n",
              "      (bn1): BatchNorm2d(128, eps=1e-05, momentum=0.1, affine=True, track_running_stats=True)\n",
              "      (relu): ReLU(inplace=True)\n",
              "      (conv2): Conv2d(128, 128, kernel_size=(3, 3), stride=(1, 1), padding=(1, 1), bias=False)\n",
              "      (bn2): BatchNorm2d(128, eps=1e-05, momentum=0.1, affine=True, track_running_stats=True)\n",
              "      (downsample): Sequential(\n",
              "        (0): Conv2d(64, 128, kernel_size=(1, 1), stride=(2, 2), bias=False)\n",
              "        (1): BatchNorm2d(128, eps=1e-05, momentum=0.1, affine=True, track_running_stats=True)\n",
              "      )\n",
              "    )\n",
              "    (1): BasicBlock(\n",
              "      (conv1): Conv2d(128, 128, kernel_size=(3, 3), stride=(1, 1), padding=(1, 1), bias=False)\n",
              "      (bn1): BatchNorm2d(128, eps=1e-05, momentum=0.1, affine=True, track_running_stats=True)\n",
              "      (relu): ReLU(inplace=True)\n",
              "      (conv2): Conv2d(128, 128, kernel_size=(3, 3), stride=(1, 1), padding=(1, 1), bias=False)\n",
              "      (bn2): BatchNorm2d(128, eps=1e-05, momentum=0.1, affine=True, track_running_stats=True)\n",
              "    )\n",
              "  )\n",
              "  (6): Sequential(\n",
              "    (0): BasicBlock(\n",
              "      (conv1): Conv2d(128, 256, kernel_size=(3, 3), stride=(2, 2), padding=(1, 1), bias=False)\n",
              "      (bn1): BatchNorm2d(256, eps=1e-05, momentum=0.1, affine=True, track_running_stats=True)\n",
              "      (relu): ReLU(inplace=True)\n",
              "      (conv2): Conv2d(256, 256, kernel_size=(3, 3), stride=(1, 1), padding=(1, 1), bias=False)\n",
              "      (bn2): BatchNorm2d(256, eps=1e-05, momentum=0.1, affine=True, track_running_stats=True)\n",
              "      (downsample): Sequential(\n",
              "        (0): Conv2d(128, 256, kernel_size=(1, 1), stride=(2, 2), bias=False)\n",
              "        (1): BatchNorm2d(256, eps=1e-05, momentum=0.1, affine=True, track_running_stats=True)\n",
              "      )\n",
              "    )\n",
              "    (1): BasicBlock(\n",
              "      (conv1): Conv2d(256, 256, kernel_size=(3, 3), stride=(1, 1), padding=(1, 1), bias=False)\n",
              "      (bn1): BatchNorm2d(256, eps=1e-05, momentum=0.1, affine=True, track_running_stats=True)\n",
              "      (relu): ReLU(inplace=True)\n",
              "      (conv2): Conv2d(256, 256, kernel_size=(3, 3), stride=(1, 1), padding=(1, 1), bias=False)\n",
              "      (bn2): BatchNorm2d(256, eps=1e-05, momentum=0.1, affine=True, track_running_stats=True)\n",
              "    )\n",
              "  )\n",
              "  (7): Sequential(\n",
              "    (0): BasicBlock(\n",
              "      (conv1): Conv2d(256, 512, kernel_size=(3, 3), stride=(2, 2), padding=(1, 1), bias=False)\n",
              "      (bn1): BatchNorm2d(512, eps=1e-05, momentum=0.1, affine=True, track_running_stats=True)\n",
              "      (relu): ReLU(inplace=True)\n",
              "      (conv2): Conv2d(512, 512, kernel_size=(3, 3), stride=(1, 1), padding=(1, 1), bias=False)\n",
              "      (bn2): BatchNorm2d(512, eps=1e-05, momentum=0.1, affine=True, track_running_stats=True)\n",
              "      (downsample): Sequential(\n",
              "        (0): Conv2d(256, 512, kernel_size=(1, 1), stride=(2, 2), bias=False)\n",
              "        (1): BatchNorm2d(512, eps=1e-05, momentum=0.1, affine=True, track_running_stats=True)\n",
              "      )\n",
              "    )\n",
              "    (1): BasicBlock(\n",
              "      (conv1): Conv2d(512, 512, kernel_size=(3, 3), stride=(1, 1), padding=(1, 1), bias=False)\n",
              "      (bn1): BatchNorm2d(512, eps=1e-05, momentum=0.1, affine=True, track_running_stats=True)\n",
              "      (relu): ReLU(inplace=True)\n",
              "      (conv2): Conv2d(512, 512, kernel_size=(3, 3), stride=(1, 1), padding=(1, 1), bias=False)\n",
              "      (bn2): BatchNorm2d(512, eps=1e-05, momentum=0.1, affine=True, track_running_stats=True)\n",
              "    )\n",
              "  )\n",
              "  (8): AdaptiveAvgPool2d(output_size=(1, 1))\n",
              ")"
            ]
          },
          "metadata": {
            "tags": []
          },
          "execution_count": 110
        }
      ]
    },
    {
      "cell_type": "markdown",
      "metadata": {
        "id": "_zQRnrABaVrO"
      },
      "source": [
        "### Getting features for train and test data"
      ]
    },
    {
      "cell_type": "code",
      "metadata": {
        "id": "5JTwLCXsaLPI",
        "colab": {
          "base_uri": "https://localhost:8080/",
          "height": 51
        },
        "outputId": "68a850ee-4f5e-4bec-87bf-1cbc62879ee7"
      },
      "source": [
        "train_batch_size = 1\n",
        "val_batch_size = 1\n",
        "train_loader, val_loader = get_data_loaders(train_batch_size, val_batch_size)\n",
        "loss_function = nn.CrossEntropyLoss() # your loss function, cross entropy works well for multi-class problems\n",
        "\n",
        "# optimizer\n",
        "optimizer = optim.Adadelta(model.parameters())"
      ],
      "execution_count": null,
      "outputs": [
        {
          "output_type": "stream",
          "text": [
            "/usr/local/lib/python3.6/dist-packages/torchvision/datasets/mnist.py:55: UserWarning: train_data has been renamed data\n",
            "  warnings.warn(\"train_data has been renamed data\")\n"
          ],
          "name": "stderr"
        }
      ]
    },
    {
      "cell_type": "code",
      "metadata": {
        "id": "-2xtzLzham_O"
      },
      "source": [
        "losses = []\n",
        "batches = len(train_loader)\n",
        "val_batches = len(val_loader)"
      ],
      "execution_count": null,
      "outputs": []
    },
    {
      "cell_type": "markdown",
      "metadata": {
        "id": "CqCVeGVhaqGV"
      },
      "source": [
        "#### Getting features for train data"
      ]
    },
    {
      "cell_type": "code",
      "metadata": {
        "id": "i-nl93zTavAK",
        "colab": {
          "base_uri": "https://localhost:8080/",
          "height": 49,
          "referenced_widgets": [
            "5cf98e6d13014bdea031537b77392fe9",
            "857561784a33499e80faf7524401510f",
            "ae5f55de56cb495ab9348b75728c2f9d",
            "94ebb3f6e83e4a3290633966f3455dde",
            "deaf33c6d642418f9895e420c051418d",
            "b18b74e07d734522a97fb5b30039b15e",
            "fe20a5fd2cb543cdad415aa5e0435e58",
            "122de14f4b584ae9a704f2647c92c9b3"
          ]
        },
        "outputId": "8375c30d-f090-4743-81f6-815c9f5673fa"
      },
      "source": [
        "# loop for every epoch (training + evaluation)\n",
        "meta_table = dict()\n",
        "feature_result = []\n",
        "\n",
        "# progress bar\n",
        "progress = tqdm(enumerate(train_loader), desc=\"Loss: \", total=batches)\n",
        "\n",
        "model.eval()\n",
        "\n",
        "for i, data in progress:\n",
        "    if i==11000:\n",
        "        break\n",
        "    X, y = data[0], data[1]\n",
        "    # training step for single batch\n",
        "    model.zero_grad()\n",
        "    outputs = model(X)\n",
        "    feature_result.append(outputs.reshape(-1).tolist())\n",
        "    meta_table[i] = outputs.reshape(-1).tolist()\n",
        "    \n",
        "feature_array = np.array(feature_result)"
      ],
      "execution_count": null,
      "outputs": [
        {
          "output_type": "display_data",
          "data": {
            "application/vnd.jupyter.widget-view+json": {
              "model_id": "5cf98e6d13014bdea031537b77392fe9",
              "version_minor": 0,
              "version_major": 2
            },
            "text/plain": [
              "HBox(children=(FloatProgress(value=0.0, description='Loss: ', max=60000.0, style=ProgressStyle(description_wid…"
            ]
          },
          "metadata": {
            "tags": []
          }
        }
      ]
    },
    {
      "cell_type": "markdown",
      "metadata": {
        "id": "MJ7ysCF-a5OY"
      },
      "source": [
        "#### Getting features for test data"
      ]
    },
    {
      "cell_type": "code",
      "metadata": {
        "id": "fjJ0c5yQa7ds",
        "colab": {
          "base_uri": "https://localhost:8080/",
          "height": 49,
          "referenced_widgets": [
            "c6b39a364a1d4a57a21eabd8d13b2fa6",
            "872a53b459b24dd69776482e39ce7540",
            "a78b85830a354b3fb549c73ae16f46cd",
            "cc89cbdc720b4dacac42d30830f37b4c",
            "0500a95784e740b4aa64ffc33f942e40",
            "503b634081af45c892e57120a7950d42",
            "8af6638d252e45c0b911c97b890d5263",
            "de14cbe6771d4ed5bbff00eabeae8310"
          ]
        },
        "outputId": "664e66d4-7a1e-4ec6-b2dc-4d8edd7792bc"
      },
      "source": [
        "# loop for every epoch (training + evaluation)\n",
        "meta_t_table = dict()\n",
        "feature_t_result = []\n",
        "\n",
        "# progress bar\n",
        "progress = tqdm(enumerate(val_loader), desc=\"Loss: \", total=batches)\n",
        "\n",
        "model.eval()\n",
        "\n",
        "for i, data in progress:\n",
        "    if i==9000:\n",
        "        break\n",
        "    X, y = data[0], data[1]\n",
        "    # training step for single batch\n",
        "    model.zero_grad()\n",
        "    outputs_t = model(X)\n",
        "    feature_t_result.append(outputs_t.reshape(-1).tolist())\n",
        "    meta_t_table[i] = outputs_t.reshape(-1).tolist()\n",
        "\n",
        "feature_test_array = np.array(feature_t_result)"
      ],
      "execution_count": null,
      "outputs": [
        {
          "output_type": "display_data",
          "data": {
            "application/vnd.jupyter.widget-view+json": {
              "model_id": "c6b39a364a1d4a57a21eabd8d13b2fa6",
              "version_minor": 0,
              "version_major": 2
            },
            "text/plain": [
              "HBox(children=(FloatProgress(value=0.0, description='Loss: ', max=60000.0, style=ProgressStyle(description_wid…"
            ]
          },
          "metadata": {
            "tags": []
          }
        }
      ]
    },
    {
      "cell_type": "markdown",
      "metadata": {
        "id": "0Tk67Q0BbD-Y"
      },
      "source": [
        "### Generating data"
      ]
    },
    {
      "cell_type": "markdown",
      "metadata": {
        "id": "clI8KxSWbLKm"
      },
      "source": [
        "#### Generating train data"
      ]
    },
    {
      "cell_type": "code",
      "metadata": {
        "id": "bMuLCJl5bGg8"
      },
      "source": [
        "from typing import List, Dict, Tuple\n",
        "def data_generation(instance_index_label: List[Tuple]) -> List[Dict]:\n",
        "    \n",
        "    bag_size = np.random.randint(3,7,size=len(instance_index_label)//5)\n",
        "    data_cp = copy.copy(instance_index_label)\n",
        "    np.random.shuffle(data_cp)\n",
        "    bags = {}\n",
        "    bags_per_instance_labels = {}\n",
        "    bags_labels = {}\n",
        "    for bag_ind, size in enumerate(bag_size):\n",
        "        bags[bag_ind] = []\n",
        "        bags_per_instance_labels[bag_ind] = []\n",
        "        try:\n",
        "            for _ in range(size):\n",
        "                inst_ind, lbl = data_cp.pop()\n",
        "                bags[bag_ind].append(inst_ind)\n",
        "                # simplfy, just use a temporary variable instead of bags_per_instance_labels\n",
        "                bags_per_instance_labels[bag_ind].append(lbl)\n",
        "            bags_labels[bag_ind] = bag_label_from_instance_labels(bags_per_instance_labels[bag_ind])\n",
        "        except:\n",
        "            break\n",
        "    return bags, bags_labels\n",
        "\n",
        "def bag_label_from_instance_labels(instance_labels):\n",
        "    return int(any(((x==1) for x in instance_labels)))"
      ],
      "execution_count": null,
      "outputs": []
    },
    {
      "cell_type": "code",
      "metadata": {
        "id": "9V2MluAYbQdp"
      },
      "source": [
        "bag_indices, bag_labels = data_generation(instance_index_label)\n",
        "bag_features = {kk: torch.Tensor(feature_array[inds]) for kk, inds in bag_indices.items()}"
      ],
      "execution_count": null,
      "outputs": []
    },
    {
      "cell_type": "code",
      "metadata": {
        "id": "_rAbiMikbXJ3"
      },
      "source": [
        "# save\n",
        "import pickle\n",
        "pickle.dump(bag_indices, open( \"bag_indices\", \"wb\" ) )\n",
        "pickle.dump(bag_labels, open( \"bag_labels\", \"wb\" ) )\n",
        "pickle.dump(bag_features, open( \"bag_features\", \"wb\" ) )"
      ],
      "execution_count": null,
      "outputs": []
    },
    {
      "cell_type": "code",
      "metadata": {
        "id": "b3tZk8pVbgbB"
      },
      "source": [
        "import pickle\n",
        "bag_indices = pickle.load( open( \"bag_indices\", \"rb\" ) )\n",
        "bag_labels = pickle.load( open( \"bag_labels\", \"rb\" ) )\n",
        "bag_features = pickle.load( open( \"bag_features\", \"rb\" ) )"
      ],
      "execution_count": null,
      "outputs": []
    },
    {
      "cell_type": "markdown",
      "metadata": {
        "id": "FhqlM1tTblSA"
      },
      "source": [
        "#### Generating test data"
      ]
    },
    {
      "cell_type": "code",
      "metadata": {
        "id": "OHSgeaDAbnmx"
      },
      "source": [
        "bag_t_indices, bag_t_labels = data_generation(instance_index_label_test)"
      ],
      "execution_count": null,
      "outputs": []
    },
    {
      "cell_type": "code",
      "metadata": {
        "id": "OmZS4Pk9bsAH"
      },
      "source": [
        "bag_t_features = {kk: torch.Tensor(feature_test_array[inds]) for kk, inds in bag_t_indices.items()}"
      ],
      "execution_count": null,
      "outputs": []
    },
    {
      "cell_type": "code",
      "metadata": {
        "id": "6Ri8cI7_buXS"
      },
      "source": [
        "pickle.dump(bag_t_indices, open( \"bag_t_indices\", \"wb\" ) )\n",
        "pickle.dump(bag_t_labels, open( \"bag_t_labels\", \"wb\" ) )\n",
        "pickle.dump(bag_t_features, open( \"bag_t_features\", \"wb\" ) )"
      ],
      "execution_count": null,
      "outputs": []
    },
    {
      "cell_type": "code",
      "metadata": {
        "id": "tm0c-_n_b1K7"
      },
      "source": [
        "bag_t_indices = pickle.load( open( \"bag_t_indices\", \"rb\" ) )\n",
        "bag_t_labels = pickle.load( open( \"bag_t_labels\", \"rb\" ) )\n",
        "bag_t_features = pickle.load( open( \"bag_t_features\", \"rb\" ) )"
      ],
      "execution_count": null,
      "outputs": []
    },
    {
      "cell_type": "markdown",
      "metadata": {
        "id": "XVQgwWm6b4mX"
      },
      "source": [
        "## Performing Multiple Instance Learning on MNIST data"
      ]
    },
    {
      "cell_type": "markdown",
      "metadata": {
        "id": "h_yY62OMcDA-"
      },
      "source": [
        "### Preparing the MNIST data to feed to the model"
      ]
    },
    {
      "cell_type": "code",
      "metadata": {
        "id": "E3WrR_-tb-jw"
      },
      "source": [
        "from torch.utils.data import Dataset\n",
        "class Transform_data(Dataset):\n",
        "    \n",
        "    #Padding tensor and transforming data to fit in the input size\n",
        "\n",
        "    def __init__(self, data, transform=None):\n",
        "        self.transform = transform\n",
        "        self.data = data\n",
        "        \n",
        "    def __getitem__(self, index):\n",
        "        tensor = self.data[index][0]\n",
        "        if self.transform is not None:\n",
        "            tensor = self.transform(tensor)\n",
        "        return (tensor, self.data[index][1])\n",
        "\n",
        "    def __len__(self):\n",
        "        return len(self.data)"
      ],
      "execution_count": null,
      "outputs": []
    },
    {
      "cell_type": "code",
      "metadata": {
        "id": "FfnlfyYKcLAE"
      },
      "source": [
        "train_data = [(bag_features[i],bag_labels[i]) for i in range(len(bag_features))]"
      ],
      "execution_count": null,
      "outputs": []
    },
    {
      "cell_type": "code",
      "metadata": {
        "id": "fvkQRrGtcN48",
        "colab": {
          "base_uri": "https://localhost:8080/",
          "height": 102
        },
        "outputId": "cfd5bf75-4ab2-4bcf-f459-f2a1080b20ee"
      },
      "source": [
        "#Displaying the first bag features\n",
        "bag_features[0]"
      ],
      "execution_count": null,
      "outputs": [
        {
          "output_type": "execute_result",
          "data": {
            "text/plain": [
              "tensor([[0.7853, 0.1222, 3.0654,  ..., 0.1883, 0.6064, 0.8310],\n",
              "        [1.4811, 0.0524, 3.4271,  ..., 0.4814, 0.2374, 0.7965],\n",
              "        [0.4771, 0.4451, 2.4803,  ..., 0.4373, 0.4886, 0.5576],\n",
              "        [1.3889, 1.1075, 2.7271,  ..., 0.0497, 0.8311, 2.6448],\n",
              "        [1.1235, 0.3467, 2.9327,  ..., 0.5610, 0.6502, 2.3846]])"
            ]
          },
          "metadata": {
            "tags": []
          },
          "execution_count": 125
        }
      ]
    },
    {
      "cell_type": "code",
      "metadata": {
        "id": "PRiDfO-DcUFt"
      },
      "source": [
        "def pad_tensor(data:list, max_number_instance) -> list:\n",
        "    \n",
        "    #As the bas have different sizes, padding ewach tensor to have the same shape\n",
        "    new_data = []\n",
        "    for bag_index in range(len(data)):\n",
        "        tensor_size = len(data[bag_index][0])\n",
        "        pad_size = max_number_instance - tensor_size\n",
        "        p2d = (0,0, 0, pad_size)\n",
        "        padded = nn.functional.pad(data[bag_index][0], p2d, 'constant', 0)\n",
        "        new_data.append((padded, data[bag_index][1]))\n",
        "    return new_data"
      ],
      "execution_count": null,
      "outputs": []
    },
    {
      "cell_type": "code",
      "metadata": {
        "id": "ogye74eXccKB"
      },
      "source": [
        "max_number_instance = 7\n",
        "padded_train = pad_tensor(train_data, max_number_instance)"
      ],
      "execution_count": null,
      "outputs": []
    },
    {
      "cell_type": "code",
      "metadata": {
        "id": "-vZtBwCBcsd3"
      },
      "source": [
        "test_data = [(bag_t_features[i],bag_t_labels[i]) for i in range(len(bag_t_features))]\n",
        "padded_test = pad_tensor(test_data, max_number_instance)"
      ],
      "execution_count": null,
      "outputs": []
    },
    {
      "cell_type": "code",
      "metadata": {
        "id": "l6ItAiefcvYE"
      },
      "source": [
        "def get_data_loaders(train_data, test_data, train_batch_size, val_batch_size):\n",
        "    train_loader = DataLoader(train_data, batch_size=train_batch_size, shuffle=True)\n",
        "    val_loader = DataLoader(test_data, batch_size=val_batch_size, shuffle=False)\n",
        "    return train_loader, val_loader"
      ],
      "execution_count": null,
      "outputs": []
    },
    {
      "cell_type": "code",
      "metadata": {
        "id": "RE_Y_cAIcz2i"
      },
      "source": [
        "train_loader,valid_loader = get_data_loaders(padded_train, padded_test, 1, 1)"
      ],
      "execution_count": null,
      "outputs": []
    },
    {
      "cell_type": "code",
      "metadata": {
        "id": "AuEl63F7c4BN"
      },
      "source": [
        "train_batch_size = 1\n",
        "val_batch_size = 1"
      ],
      "execution_count": null,
      "outputs": []
    },
    {
      "cell_type": "markdown",
      "metadata": {
        "id": "PphQKUlgc815"
      },
      "source": [
        "### Defining the model"
      ]
    },
    {
      "cell_type": "markdown",
      "metadata": {
        "id": "8ruitak4dXx8"
      },
      "source": [
        "#### Defining the aggregation function model"
      ]
    },
    {
      "cell_type": "code",
      "metadata": {
        "id": "xsWz7qq4c5Kx"
      },
      "source": [
        "class SoftMaxMeanSimple(torch.nn.Module):\n",
        "    def __init__(self, n, n_inst, dim=0):\n",
        "        \n",
        "        super(SoftMaxMeanSimple, self).__init__()\n",
        "        self.dim = dim\n",
        "        self.gate = torch.nn.Softmax(dim=self.dim)      \n",
        "        self.mdl_instance_transform = nn.Sequential(\n",
        "                            nn.Linear(n, n_inst),\n",
        "                            nn.LeakyReLU(),\n",
        "                            nn.Linear(n_inst, n),\n",
        "                            nn.LeakyReLU(),\n",
        "                            )\n",
        "    def forward(self, x):\n",
        "        z = self.mdl_instance_transform(x)\n",
        "        if self.dim==0:\n",
        "            z = z.view((z.shape[0],1)).sum(1)\n",
        "        elif self.dim==1:\n",
        "            z = z.view((1, z.shape[1])).sum(0)\n",
        "        gate_ = self.gate(z)\n",
        "        res = torch.sum(x* gate_, self.dim)\n",
        "        return res, gate_\n",
        "\n",
        "    \n",
        "class AttentionSoftMax(torch.nn.Module):\n",
        "    def __init__(self, in_features = 3, out_features = None):\n",
        "        \n",
        "        super(AttentionSoftMax, self).__init__()\n",
        "        self.otherdim = ''\n",
        "        if out_features is None:\n",
        "            out_features = in_features\n",
        "        self.layer_linear_tr = nn.Linear(in_features, out_features)\n",
        "        self.activation = nn.LeakyReLU()\n",
        "        self.layer_linear_query = nn.Linear(out_features, 1)\n",
        "        \n",
        "    def forward(self, x):\n",
        "        keys = self.layer_linear_tr(x)\n",
        "        keys = self.activation(keys)\n",
        "        attention_map_raw = self.layer_linear_query(keys)[...,0]\n",
        "        attention_map = nn.Softmax(dim=-1)(attention_map_raw)\n",
        "        result = torch.einsum(f'{self.otherdim}i,{self.otherdim}ij->{self.otherdim}j', attention_map, x)\n",
        "        return result, attention_map"
      ],
      "execution_count": null,
      "outputs": []
    },
    {
      "cell_type": "markdown",
      "metadata": {
        "id": "bR0MiYl1dS2D"
      },
      "source": [
        "#### Defining the MIL_NN model"
      ]
    },
    {
      "cell_type": "code",
      "metadata": {
        "id": "3y0kbWuWdRNn"
      },
      "source": [
        "class NoisyAnd(torch.nn.Module):\n",
        "    def __init__(self, a=10, dims=[1,2]):\n",
        "        super(NoisyAnd, self).__init__()\n",
        "#         self.output_dim = output_dim\n",
        "        self.a = a\n",
        "        self.b = torch.nn.Parameter(torch.tensor(0.01))\n",
        "        self.dims =dims\n",
        "        self.sigmoid = nn.Sigmoid()\n",
        "    def forward(self, x):\n",
        "#         h_relu = self.linear1(x).clamp(min=0)\n",
        "        mean = torch.mean(x, self.dims, True)\n",
        "        res = (self.sigmoid(self.a * (mean - self.b)) - self.sigmoid(-self.a * self.b)) / (\n",
        "              self.sigmoid(self.a * (1 - self.b)) - self.sigmoid(-self.a * self.b))\n",
        "        return res\n",
        "    \n",
        "\n",
        "\n",
        "class NN(torch.nn.Module):\n",
        "\n",
        "    def __init__(self, n=512, n_mid = 1024,\n",
        "                 n_out=1, dropout=0.2,\n",
        "                 scoring = None,\n",
        "                ):\n",
        "        super(NN, self).__init__()\n",
        "        self.linear1 = torch.nn.Linear(n, n_mid)\n",
        "        self.non_linearity = torch.nn.LeakyReLU()\n",
        "        self.linear2 = torch.nn.Linear(n_mid, n_out)\n",
        "        self.dropout = torch.nn.Dropout(dropout)\n",
        "        if scoring:\n",
        "            self.scoring = scoring\n",
        "        else:\n",
        "            self.scoring = torch.nn.Softmax() if n_out>1 else torch.nn.Sigmoid()\n",
        "        \n",
        "    def forward(self, x):\n",
        "        z = self.linear1(x)\n",
        "        z = self.non_linearity(z)\n",
        "        z = self.dropout(z)\n",
        "        z = self.linear2(z)\n",
        "        y_pred = self.scoring(z)\n",
        "        return y_pred\n",
        "    \n",
        "\n",
        "class LogisticRegression(torch.nn.Module):\n",
        "    def __init__(self, n=512, n_out=1):\n",
        "        super(LogisticRegression, self).__init__()\n",
        "        self.linear = torch.nn.Linear(n, n_out)\n",
        "        self.scoring = torch.nn.Softmax() if n_out>1 else torch.nn.Sigmoid()\n",
        "\n",
        "    def forward(self, x):\n",
        "        z = self.linear(x)\n",
        "        y_pred = self.scoring(z)\n",
        "        return y_pred\n",
        "\n",
        "    \n",
        "def regularization_loss(params,\n",
        "                        reg_factor = 0.005,\n",
        "                        reg_alpha = 0.5):\n",
        "    params = [pp for pp in params if len(pp.shape)>1]\n",
        "    l1_reg = nn.L1Loss()\n",
        "    l2_reg = nn.MSELoss()\n",
        "    loss_reg =0\n",
        "    for pp in params:\n",
        "        loss_reg+=reg_factor*((1-reg_alpha)*l1_reg(pp, target=torch.zeros_like(pp)) +\\\n",
        "                           reg_alpha*l2_reg(pp, target=torch.zeros_like(pp)))\n",
        "    return loss_reg\n",
        "\n",
        "class MIL_NN(torch.nn.Module):\n",
        "\n",
        "    def __init__(self, n=7*512,  n_mid=7168, n_out=1, \n",
        "                 n_inst=None, dropout=0.1,\n",
        "                 noisy_a=4,\n",
        "                 agg = NoisyAnd(a=4, dims=[0]),\n",
        "                ):\n",
        "        super(MIL_NN, self).__init__()\n",
        "        if agg is None:\n",
        "            print(\"agg is called \")\n",
        "            agg = NoisyAnd(a=noisy_a, dims=[0])\n",
        "        if n_inst is None:\n",
        "            self.mdl_instance = agg\n",
        "            n_inst = n\n",
        "        else:\n",
        "            self.mdl_instance = nn.Sequential(\n",
        "                            nn.Linear(n, n_inst),\n",
        "                            nn.LeakyReLU(),\n",
        "                            agg,\n",
        "                            )\n",
        "        if n_mid == 0:\n",
        "            self.mdl_bag = LogisticRegression(n_inst, n_out)\n",
        "        else:\n",
        "            self.mdl_bag = NN(n_inst, n_mid, n_out, dropout=dropout)\n",
        "        \n",
        "    def forward(self, bag_feature):\n",
        "\n",
        "        y_pred = self.mdl_bag(bag_feature)\n",
        "        return y_pred"
      ],
      "execution_count": null,
      "outputs": []
    },
    {
      "cell_type": "markdown",
      "metadata": {
        "id": "Tweg490Odrj1"
      },
      "source": [
        "#### Defining the helper functions"
      ]
    },
    {
      "cell_type": "code",
      "metadata": {
        "id": "iLBBsAULdnTt"
      },
      "source": [
        "def calculate_metric(metric_fn, true_y, pred_y):\n",
        "    # multi class problems need to have averaging method\n",
        "    if \"average\" in inspect.getfullargspec(metric_fn).args:\n",
        "        return metric_fn(true_y, pred_y, average=\"macro\")\n",
        "    else:\n",
        "        return metric_fn(true_y, pred_y)\n",
        "    \n",
        "def print_scores(p, r, f1, a, batch_size):\n",
        "    # just an utility printing function\n",
        "    for name, scores in zip((\"precision\", \"recall\", \"F1\", \"accuracy\"), (p, r, f1, a)):\n",
        "        print(f\"\\t{name.rjust(14, ' ')}: {sum(scores)/batch_size:.4f}\")"
      ],
      "execution_count": null,
      "outputs": []
    },
    {
      "cell_type": "markdown",
      "metadata": {
        "id": "CjZhz0fPduqI"
      },
      "source": [
        "## Training and testing the model"
      ]
    },
    {
      "cell_type": "code",
      "metadata": {
        "id": "srYHipL7d2uw",
        "colab": {
          "base_uri": "https://localhost:8080/",
          "height": 1000,
          "referenced_widgets": [
            "0eb9eabf947043c4b30f51d508955d38",
            "86a5adc297c6428e813eab5f3992fa7e",
            "0f4d704ec66a477f8c0a2fc00a068c67",
            "0299d80a87a54d5992cc23e8e6470add",
            "a9e023ddb5be470dbfcd5685ea4b7593",
            "3153755178dc431ba5cc01bfbfbaf5da",
            "e118a81c71d94324b2423dc5af90ab10",
            "835bb1df971b43f8b2c6436c6c10edbf",
            "4c07c026cdf443e8a79f1c28e359150c",
            "3b8d211d8d3f487d9d36813dbe9fc156",
            "30d9ce0dca3d43c7ba64d676c88d953d",
            "4ce67b26e81243efabd9116cff0ab993",
            "5d068922248841248a4b760b5a19914b",
            "a4e02dc966b84b7499e9df9713e40b35",
            "0e1105a02e074e01b32044f94355dd4f",
            "1cf1688e47f44f60b22bdbaefa023bd5",
            "836091cc52d84a49a8a6eff0cefa2d1a",
            "5795f43f209b44859fbae42332da599f",
            "ef5446481d154e52978361e4dc408def",
            "b731a09da46745a6bd0b660c3ffafccc",
            "9ec2401b971041a1a707ee81057aa679",
            "22db5c9279344119826a3ed5cdd8a8f9",
            "15266afa955d4bb38284911a7d173e10",
            "bdf2d8e7d5ec40dba675b247e8e2c49c",
            "4be7247a8831434593d7f9dad3bb293b",
            "e8eff8361fa44c7b8c7fdddf0ffc5f66",
            "2e87d5eef512460eac299a2cfd0be6c1",
            "2a6755de6aa648e097cb11eb7b5a96eb",
            "cc0248dbad7748919816a55d5e691b90",
            "12a39b68764c477d83537ecede204d9e",
            "2e6bf4b91ce94142ab06901ac67ac436",
            "3c24fde45a8447b29977999c47c25af4",
            "149ee9dfdf2b48bc871e45b3054cb6a3",
            "7b3bc6ca074a490f9a7281c0bebb78d4",
            "4babf34875f346e4b5a815c01398575f",
            "2c68b175a97c4965923bbc822f6271ed",
            "cd72745b4f5e4394809d8add6aacd813",
            "672f6518201347879ac7affc6e304b96",
            "8e00d9f0c86a4e62bf7192e97958c159",
            "510d63ad07bd4206a62c8d38313f6fdc",
            "9dc310bc29b44393aa66e929d3cace76",
            "97bde155b7e94a1c8d45e8174e3d2fbc",
            "86f429d8bc9e4299a2d0d7baf70bef04",
            "2ba77535825f41d19c3b9e7e3f3b049c",
            "d7e0bf614bd1402cae5f4176b39b185c",
            "f8c4f08466814238be66c0c5668ca7cb",
            "73e7e5d97f164a5ca0f306d028348742",
            "ac306c2c744f4d67b44986f939e8f32c",
            "3c6f74dcb6154e0f812c1da0e49696d9",
            "88950bab45dc496ab9aee1f78ada1e05",
            "21531514dff14a65aba1e6e780fe6297",
            "9115b6bf13ac44fa88486a2551d744a5",
            "4c090ca3a7144ef1b3e5ceb27b0684be",
            "d21404e1189c4f49989e3c3069fec016",
            "f516888f1d7b4bd694d0e707eac1c3e5",
            "c9233c03db5540129d1d8576cc101710",
            "c6f2fe48afda46f99e67c5001c3f8f1e",
            "39ec1a2254824a57b921ea0acd9b1ab3",
            "c9d1bd912c774c6991b4b940957de810",
            "c286a624852a490a955d800877832199",
            "b7d2a218f9284c3ab498d0f19549153f",
            "44fbf661a31d45ef9fc79d8dcbfb6fb3",
            "50078200cfa445c5bc368405b128cff6",
            "7833453af63f4513bbbe7273ea1414a4",
            "e108c67c24d74572823ac174d023cfa3",
            "01fd9f720807407a946bb56c22673583",
            "0a2bc1b756724401b6fd3719a591b6f8",
            "8aa8df4f0a114b68908b8e7669c9d83b",
            "24ece3a081e6415596ee438bbea1a2b1",
            "f5fa0218d23b49caa431c93c6e78913b",
            "3ee61ac9a4fa4e83b9f509b29eaaaa31",
            "7406221a70114407ace0a8de06942cf8",
            "192ac5cb5e4e43f691f3a7dd3c829d91",
            "a7df8734a1bd4d9ca90518919103096b",
            "32cd7d4569704d009ce0b9a3ede38ea5",
            "fed47a50df6c4b47b6f38faa020eabb4",
            "0140b1e5071642188cbfe02a9b7a31a9",
            "5152cbdf86094cab98896da866f1b0bb",
            "8e4478bf5d244c65b99ca13a45b407e4",
            "bce0492938bc4cb890766a8e5c0d3772"
          ]
        },
        "outputId": "ce23844e-c491-47cd-d7ec-1fb06dfe5194"
      },
      "source": [
        "import numpy as np\n",
        "start_ts = time.time()\n",
        "device = torch.device(\"cuda:0\" if torch.cuda.is_available() else \"cpu\")\n",
        "\n",
        "lr0 = 1e-4\n",
        "\n",
        "# model:\n",
        "model = MIL_NN().to(device)\n",
        "\n",
        "# params you need to specify:\n",
        "epochs = 10\n",
        "train_loader, val_loader = get_data_loaders(padded_train, padded_test, 1, 1)\n",
        "loss_function = torch.nn.BCELoss(reduction='mean') # your loss function, cross entropy works well for multi-class problems\n",
        "\n",
        "\n",
        "#optimizer = optim.Adadelta(model.parameters())\n",
        "optimizer = optim.SGD(model.parameters(), lr=lr0, momentum=0.9)\n",
        "\n",
        "losses = []\n",
        "batches = len(train_loader)\n",
        "val_batches = len(val_loader)\n",
        "\n",
        "# loop for every epoch (training + evaluation)\n",
        "for epoch in range(epochs):\n",
        "    total_loss = 0\n",
        "\n",
        "    # progress bar (works in Jupyter notebook too!)\n",
        "    progress = tqdm(enumerate(train_loader), desc=\"Loss: \", total=batches)\n",
        "\n",
        "    # ----------------- TRAINING  -------------------- \n",
        "    # set model to training\n",
        "    model.train()\n",
        "    for i, data in progress:\n",
        "        X, y = data[0].to(device), data[1].to(device)\n",
        "        X = X.reshape([1,7*512])\n",
        "        y = y.type(torch.cuda.FloatTensor)\n",
        "        # training step for single batch\n",
        "        model.zero_grad() # to make sure that all the grads are 0 \n",
        "        \"\"\"\n",
        "        model.zero_grad() and optimizer.zero_grad() are the same \n",
        "        IF all your model parameters are in that optimizer. \n",
        "        I found it is safer to call model.zero_grad() to make sure all grads are zero, \n",
        "        e.g. if you have two or more optimizers for one model.\n",
        "\n",
        "        \"\"\"\n",
        "        \n",
        "        outputs = model(X) # forward\n",
        "        loss = loss_function(outputs, y) # get loss\n",
        "        loss.backward() # accumulates the gradient (by addition) for each parameter.\n",
        "        optimizer.step() # performs a parameter update based on the current gradient \n",
        "\n",
        "        # getting training quality data\n",
        "        current_loss = loss.item()\n",
        "        total_loss += current_loss\n",
        "\n",
        "        # updating progress bar\n",
        "        progress.set_description(\"Loss: {:.4f}\".format(total_loss/(i+1)))\n",
        "        \n",
        "    # releasing unceseccary memory in GPU\n",
        "    if torch.cuda.is_available():\n",
        "        torch.cuda.empty_cache()\n",
        "    \n",
        "    # ----------------- VALIDATION  ----------------- \n",
        "    val_losses = 0\n",
        "    precision, recall, f1, accuracy = [], [], [], []\n",
        "    \n",
        "    # set model to evaluating (testing)\n",
        "    model.eval()\n",
        "    with torch.no_grad():\n",
        "        for i, data in enumerate(val_loader):\n",
        "            X, y = data[0].to(device), data[1].to(device)\n",
        "            X = X.reshape([1,7*512])\n",
        "            y = y.type(torch.cuda.FloatTensor)\n",
        "            outputs = model(X) # this get's the prediction from the network\n",
        "            prediced_classes =outputs.detach().round()\n",
        "            #y_pred.extend(prediced_classes.tolist())\n",
        "            val_losses += loss_function(outputs, y)\n",
        "            \n",
        "            # calculate P/R/F1/A metrics for batch\n",
        "            for acc, metric in zip((precision, recall, f1, accuracy), \n",
        "                                   (precision_score, recall_score, f1_score, accuracy_score)):\n",
        "                acc.append(\n",
        "                    calculate_metric(metric, y.cpu(), prediced_classes.cpu())\n",
        "                )\n",
        "          \n",
        "    print(f\"Epoch {epoch+1}/{epochs}, training loss: {total_loss/batches}, validation loss: {val_losses/val_batches}\")\n",
        "    print_scores(precision, recall, f1, accuracy, val_batches)\n",
        "    losses.append(total_loss/batches) # for plotting learning curve\n",
        "print(f\"Training time: {time.time()-start_ts}s\")"
      ],
      "execution_count": null,
      "outputs": [
        {
          "output_type": "display_data",
          "data": {
            "application/vnd.jupyter.widget-view+json": {
              "model_id": "0eb9eabf947043c4b30f51d508955d38",
              "version_minor": 0,
              "version_major": 2
            },
            "text/plain": [
              "HBox(children=(FloatProgress(value=0.0, description='Loss: ', max=2200.0, style=ProgressStyle(description_widt…"
            ]
          },
          "metadata": {
            "tags": []
          }
        },
        {
          "output_type": "stream",
          "text": [
            "/usr/local/lib/python3.6/dist-packages/torch/nn/modules/loss.py:529: UserWarning: Using a target size (torch.Size([1])) that is different to the input size (torch.Size([1, 1])) is deprecated. Please ensure they have the same size.\n",
            "  return F.binary_cross_entropy(input, target, weight=self.weight, reduction=self.reduction)\n"
          ],
          "name": "stderr"
        },
        {
          "output_type": "stream",
          "text": [
            "\n"
          ],
          "name": "stdout"
        },
        {
          "output_type": "stream",
          "text": [
            "/usr/local/lib/python3.6/dist-packages/sklearn/metrics/_classification.py:1272: UndefinedMetricWarning: Precision is ill-defined and being set to 0.0 in labels with no predicted samples. Use `zero_division` parameter to control this behavior.\n",
            "  _warn_prf(average, modifier, msg_start, len(result))\n",
            "/usr/local/lib/python3.6/dist-packages/sklearn/metrics/_classification.py:1272: UndefinedMetricWarning: Recall is ill-defined and being set to 0.0 in labels with no true samples. Use `zero_division` parameter to control this behavior.\n",
            "  _warn_prf(average, modifier, msg_start, len(result))\n"
          ],
          "name": "stderr"
        },
        {
          "output_type": "stream",
          "text": [
            "Epoch 1/10, training loss: 0.7409117306218567, validation loss: 0.6923315525054932\n",
            "\t     precision: 0.5811\n",
            "\t        recall: 0.5811\n",
            "\t            F1: 0.5811\n",
            "\t      accuracy: 0.5811\n"
          ],
          "name": "stdout"
        },
        {
          "output_type": "display_data",
          "data": {
            "application/vnd.jupyter.widget-view+json": {
              "model_id": "4c07c026cdf443e8a79f1c28e359150c",
              "version_minor": 0,
              "version_major": 2
            },
            "text/plain": [
              "HBox(children=(FloatProgress(value=0.0, description='Loss: ', max=2200.0, style=ProgressStyle(description_widt…"
            ]
          },
          "metadata": {
            "tags": []
          }
        },
        {
          "output_type": "stream",
          "text": [
            "\n",
            "Epoch 2/10, training loss: 0.6837297877703201, validation loss: 0.7096642851829529\n",
            "\t     precision: 0.5928\n",
            "\t        recall: 0.5928\n",
            "\t            F1: 0.5928\n",
            "\t      accuracy: 0.5928\n"
          ],
          "name": "stdout"
        },
        {
          "output_type": "display_data",
          "data": {
            "application/vnd.jupyter.widget-view+json": {
              "model_id": "836091cc52d84a49a8a6eff0cefa2d1a",
              "version_minor": 0,
              "version_major": 2
            },
            "text/plain": [
              "HBox(children=(FloatProgress(value=0.0, description='Loss: ', max=2200.0, style=ProgressStyle(description_widt…"
            ]
          },
          "metadata": {
            "tags": []
          }
        },
        {
          "output_type": "stream",
          "text": [
            "\n",
            "Epoch 3/10, training loss: 0.6614306548373265, validation loss: 0.687567949295044\n",
            "\t     precision: 0.5339\n",
            "\t        recall: 0.5339\n",
            "\t            F1: 0.5339\n",
            "\t      accuracy: 0.5339\n"
          ],
          "name": "stdout"
        },
        {
          "output_type": "display_data",
          "data": {
            "application/vnd.jupyter.widget-view+json": {
              "model_id": "4be7247a8831434593d7f9dad3bb293b",
              "version_minor": 0,
              "version_major": 2
            },
            "text/plain": [
              "HBox(children=(FloatProgress(value=0.0, description='Loss: ', max=2200.0, style=ProgressStyle(description_widt…"
            ]
          },
          "metadata": {
            "tags": []
          }
        },
        {
          "output_type": "stream",
          "text": [
            "\n",
            "Epoch 4/10, training loss: 0.6520563455467875, validation loss: 0.6999945044517517\n",
            "\t     precision: 0.5250\n",
            "\t        recall: 0.5250\n",
            "\t            F1: 0.5250\n",
            "\t      accuracy: 0.5250\n"
          ],
          "name": "stdout"
        },
        {
          "output_type": "display_data",
          "data": {
            "application/vnd.jupyter.widget-view+json": {
              "model_id": "149ee9dfdf2b48bc871e45b3054cb6a3",
              "version_minor": 0,
              "version_major": 2
            },
            "text/plain": [
              "HBox(children=(FloatProgress(value=0.0, description='Loss: ', max=2200.0, style=ProgressStyle(description_widt…"
            ]
          },
          "metadata": {
            "tags": []
          }
        },
        {
          "output_type": "stream",
          "text": [
            "\n",
            "Epoch 5/10, training loss: 0.6419426423108036, validation loss: 0.6951918601989746\n",
            "\t     precision: 0.5872\n",
            "\t        recall: 0.5872\n",
            "\t            F1: 0.5872\n",
            "\t      accuracy: 0.5872\n"
          ],
          "name": "stdout"
        },
        {
          "output_type": "display_data",
          "data": {
            "application/vnd.jupyter.widget-view+json": {
              "model_id": "9dc310bc29b44393aa66e929d3cace76",
              "version_minor": 0,
              "version_major": 2
            },
            "text/plain": [
              "HBox(children=(FloatProgress(value=0.0, description='Loss: ', max=2200.0, style=ProgressStyle(description_widt…"
            ]
          },
          "metadata": {
            "tags": []
          }
        },
        {
          "output_type": "stream",
          "text": [
            "\n",
            "Epoch 6/10, training loss: 0.6350690793787891, validation loss: 0.7108058333396912\n",
            "\t     precision: 0.5772\n",
            "\t        recall: 0.5772\n",
            "\t            F1: 0.5772\n",
            "\t      accuracy: 0.5772\n"
          ],
          "name": "stdout"
        },
        {
          "output_type": "display_data",
          "data": {
            "application/vnd.jupyter.widget-view+json": {
              "model_id": "3c6f74dcb6154e0f812c1da0e49696d9",
              "version_minor": 0,
              "version_major": 2
            },
            "text/plain": [
              "HBox(children=(FloatProgress(value=0.0, description='Loss: ', max=2200.0, style=ProgressStyle(description_widt…"
            ]
          },
          "metadata": {
            "tags": []
          }
        },
        {
          "output_type": "stream",
          "text": [
            "\n",
            "Epoch 7/10, training loss: 0.6300912909480658, validation loss: 0.7092313766479492\n",
            "\t     precision: 0.5578\n",
            "\t        recall: 0.5578\n",
            "\t            F1: 0.5578\n",
            "\t      accuracy: 0.5578\n"
          ],
          "name": "stdout"
        },
        {
          "output_type": "display_data",
          "data": {
            "application/vnd.jupyter.widget-view+json": {
              "model_id": "c6f2fe48afda46f99e67c5001c3f8f1e",
              "version_minor": 0,
              "version_major": 2
            },
            "text/plain": [
              "HBox(children=(FloatProgress(value=0.0, description='Loss: ', max=2200.0, style=ProgressStyle(description_widt…"
            ]
          },
          "metadata": {
            "tags": []
          }
        },
        {
          "output_type": "stream",
          "text": [
            "\n",
            "Epoch 8/10, training loss: 0.6192058887027881, validation loss: 0.7372382283210754\n",
            "\t     precision: 0.5372\n",
            "\t        recall: 0.5372\n",
            "\t            F1: 0.5372\n",
            "\t      accuracy: 0.5372\n"
          ],
          "name": "stdout"
        },
        {
          "output_type": "display_data",
          "data": {
            "application/vnd.jupyter.widget-view+json": {
              "model_id": "e108c67c24d74572823ac174d023cfa3",
              "version_minor": 0,
              "version_major": 2
            },
            "text/plain": [
              "HBox(children=(FloatProgress(value=0.0, description='Loss: ', max=2200.0, style=ProgressStyle(description_widt…"
            ]
          },
          "metadata": {
            "tags": []
          }
        },
        {
          "output_type": "stream",
          "text": [
            "\n",
            "Epoch 9/10, training loss: 0.6156164637478915, validation loss: 0.7131742238998413\n",
            "\t     precision: 0.5378\n",
            "\t        recall: 0.5378\n",
            "\t            F1: 0.5378\n",
            "\t      accuracy: 0.5378\n"
          ],
          "name": "stdout"
        },
        {
          "output_type": "display_data",
          "data": {
            "application/vnd.jupyter.widget-view+json": {
              "model_id": "192ac5cb5e4e43f691f3a7dd3c829d91",
              "version_minor": 0,
              "version_major": 2
            },
            "text/plain": [
              "HBox(children=(FloatProgress(value=0.0, description='Loss: ', max=2200.0, style=ProgressStyle(description_widt…"
            ]
          },
          "metadata": {
            "tags": []
          }
        },
        {
          "output_type": "stream",
          "text": [
            "\n",
            "Epoch 10/10, training loss: 0.6012436822903428, validation loss: 0.7605730295181274\n",
            "\t     precision: 0.5867\n",
            "\t        recall: 0.5867\n",
            "\t            F1: 0.5867\n",
            "\t      accuracy: 0.5867\n",
            "Training time: 229.88241982460022s\n"
          ],
          "name": "stdout"
        }
      ]
    },
    {
      "cell_type": "markdown",
      "metadata": {
        "id": "aCg_uclHqkDs"
      },
      "source": [
        "The above multi-instance learning model shows an accuracy of 58% on MNIST data."
      ]
    }
  ]
}