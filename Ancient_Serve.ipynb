{
  "nbformat": 4,
  "nbformat_minor": 0,
  "metadata": {
    "colab": {
      "name": "Ancient Serve.ipynb",
      "provenance": [],
      "collapsed_sections": [],
      "machine_shape": "hm",
      "include_colab_link": true
    },
    "kernelspec": {
      "name": "python3",
      "display_name": "Python 3"
    },
    "language_info": {
      "name": "python"
    },
    "accelerator": "GPU"
  },
  "cells": [
    {
      "cell_type": "markdown",
      "metadata": {
        "id": "view-in-github",
        "colab_type": "text"
      },
      "source": [
        "<a href=\"https://colab.research.google.com/github/nupursjsu/Advanced-Deep-Learning/blob/master/Ancient_Serve.ipynb\" target=\"_parent\"><img src=\"https://colab.research.google.com/assets/colab-badge.svg\" alt=\"Open In Colab\"/></a>"
      ]
    },
    {
      "cell_type": "code",
      "metadata": {
        "colab": {
          "base_uri": "https://localhost:8080/"
        },
        "id": "_RkQ-0T97294",
        "outputId": "4107f25b-073d-42a6-832f-bb41abf78bb8"
      },
      "source": [
        "from google.colab import drive\n",
        "drive.mount('/content/drive')"
      ],
      "execution_count": 1,
      "outputs": [
        {
          "output_type": "stream",
          "text": [
            "Mounted at /content/drive\n"
          ],
          "name": "stdout"
        }
      ]
    },
    {
      "cell_type": "code",
      "metadata": {
        "colab": {
          "base_uri": "https://localhost:8080/",
          "height": 1000
        },
        "id": "AmHRoJmP7hfB",
        "outputId": "c11d3af6-f3e0-4bc4-f34f-ef880dd336dd"
      },
      "source": [
        "import json\n",
        "import numpy as np\n",
        "from sklearn.model_selection import train_test_split\n",
        "import tensorflow.keras as keras\n",
        "import matplotlib.pyplot as plt\n",
        "\n",
        "\n",
        "DATA_PATH = \"/content/drive/MyDrive/Raga_Data/data_10.json\"\n",
        "\n",
        "\n",
        "def load_data(data_path):\n",
        "    \"\"\"Loads training dataset from json file.\n",
        "\n",
        "        :param data_path (str): Path to json file containing data\n",
        "        :return X (ndarray): Inputs\n",
        "        :return y (ndarray): Targets\n",
        "    \"\"\"\n",
        "\n",
        "    with open(data_path, \"r\") as fp:\n",
        "      data = json.load(fp)\n",
        "    data['labels']=data['labels']\n",
        "    data['mapping']=data['mapping']\n",
        "    data['mfcc']=data['mfcc']\n",
        "\n",
        "    X = np.array(data[\"mfcc\"])\n",
        "    y = np.array(data[\"labels\"])\n",
        "    return X, y\n",
        "\n",
        "\n",
        "def plot_history(history):\n",
        "    \"\"\"Plots accuracy/loss for training/validation set as a function of the epochs\n",
        "\n",
        "        :param history: Training history of model\n",
        "        :return:\n",
        "    \"\"\"\n",
        "\n",
        "    fig, axs = plt.subplots(2)\n",
        "\n",
        "    # create accuracy sublpot\n",
        "    axs[0].plot(history.history[\"accuracy\"], label=\"train accuracy\")\n",
        "    axs[0].plot(history.history[\"val_accuracy\"], label=\"test accuracy\")\n",
        "    axs[0].set_ylabel(\"Accuracy\")\n",
        "    axs[0].legend(loc=\"lower right\")\n",
        "    axs[0].set_title(\"Accuracy eval\")\n",
        "\n",
        "    # create error sublpot\n",
        "    axs[1].plot(history.history[\"loss\"], label=\"train error\")\n",
        "    axs[1].plot(history.history[\"val_loss\"], label=\"test error\")\n",
        "    axs[1].set_ylabel(\"Error\")\n",
        "    axs[1].set_xlabel(\"Epoch\")\n",
        "    axs[1].legend(loc=\"upper right\")\n",
        "    axs[1].set_title(\"Error eval\")\n",
        "\n",
        "    plt.show()\n",
        "\n",
        "\n",
        "def prepare_datasets(test_size, validation_size):\n",
        "    \"\"\"Loads data and splits it into train, validation and test sets.\n",
        "\n",
        "    :param test_size (float): Value in [0, 1] indicating percentage of data set to allocate to test split\n",
        "    :param validation_size (float): Value in [0, 1] indicating percentage of train set to allocate to validation split\n",
        "\n",
        "    :return X_train (ndarray): Input training set\n",
        "    :return X_validation (ndarray): Input validation set\n",
        "    :return X_test (ndarray): Input test set\n",
        "    :return y_train (ndarray): Target training set\n",
        "    :return y_validation (ndarray): Target validation set\n",
        "    :return y_test (ndarray): Target test set\n",
        "    \"\"\"\n",
        "\n",
        "    # load data\n",
        "    X, y = load_data(DATA_PATH)\n",
        "\n",
        "    # create train, validation and test split\n",
        "    X_train, X_test, y_train, y_test = train_test_split(X, y, test_size=test_size)\n",
        "    X_train, X_validation, y_train, y_validation = train_test_split(X_train, y_train, test_size=validation_size)\n",
        "\n",
        "    return X_train, X_validation, X_test, y_train, y_validation, y_test\n",
        "\n",
        "\n",
        "def build_model(input_shape):\n",
        "    \"\"\"Generates RNN-LSTM model\n",
        "\n",
        "    :param input_shape (tuple): Shape of input set\n",
        "    :return model: RNN-LSTM model\n",
        "    \"\"\"\n",
        "\n",
        "    # build network topology\n",
        "    model = keras.Sequential()\n",
        "\n",
        "    # 2 LSTM layers\n",
        "    # model.add(keras.layers.LSTM(64, input_shape=input_shape, return_sequences=True))\n",
        "    model.add(keras.layers.Bidirectional(keras.layers.LSTM(128, return_sequences=True), input_shape=input_shape))\n",
        "    model.add(keras.layers.Bidirectional(keras.layers.LSTM(64, return_sequences=True)))\n",
        "    model.add(keras.layers.LSTM(64,return_sequences=True))\n",
        "    model.add(keras.layers.SimpleRNN(64))\n",
        "\n",
        "\n",
        "    # dense layer\n",
        "    model.add(keras.layers.Dense(128, activation='relu'))\n",
        "    model.add(keras.layers.Dense(64, activation='relu'))\n",
        "    model.add(keras.layers.Dense(32, activation='relu'))\n",
        "    model.add(keras.layers.Dropout(0.1))\n",
        "\n",
        "    # output layer\n",
        "    model.add(keras.layers.Dense(5, activation='softmax'))\n",
        "\n",
        "    return model\n",
        "\n",
        "\n",
        "if __name__ == \"__main__\":\n",
        "\n",
        "    # get train, validation, test splits\n",
        "    X_train, X_validation, X_test, y_train, y_validation, y_test = prepare_datasets(0.25, 0.2)\n",
        "\n",
        "    # create network\n",
        "    input_shape = (X_train.shape[1], X_train.shape[2]) # 130, 13\n",
        "    model = build_model(input_shape)\n",
        "\n",
        "    # compile model\n",
        "    optimiser = keras.optimizers.Adam(learning_rate=0.001)\n",
        "    model.compile(optimizer=optimiser,\n",
        "                  loss='sparse_categorical_crossentropy',\n",
        "                  metrics=['accuracy'])\n",
        "\n",
        "    model.summary()\n",
        "\n",
        "    # train model\n",
        "    history = model.fit(X_train, y_train, validation_data=(X_validation, y_validation), batch_size=32, epochs=150\n",
        "                        )\n",
        "\n",
        "    # plot accuracy/error for training and validation\n",
        "    plot_history(history)\n",
        "\n",
        "    # evaluate model on test set\n",
        "    test_loss, test_acc = model.evaluate(X_test, y_test, verbose=2)\n",
        "    print('\\nTest accuracy:', test_acc)"
      ],
      "execution_count": 2,
      "outputs": [
        {
          "output_type": "stream",
          "text": [
            "Model: \"sequential\"\n",
            "_________________________________________________________________\n",
            "Layer (type)                 Output Shape              Param #   \n",
            "=================================================================\n",
            "bidirectional (Bidirectional (None, 130, 256)          145408    \n",
            "_________________________________________________________________\n",
            "bidirectional_1 (Bidirection (None, 130, 128)          164352    \n",
            "_________________________________________________________________\n",
            "lstm_2 (LSTM)                (None, 130, 64)           49408     \n",
            "_________________________________________________________________\n",
            "simple_rnn (SimpleRNN)       (None, 64)                8256      \n",
            "_________________________________________________________________\n",
            "dense (Dense)                (None, 128)               8320      \n",
            "_________________________________________________________________\n",
            "dense_1 (Dense)              (None, 64)                8256      \n",
            "_________________________________________________________________\n",
            "dense_2 (Dense)              (None, 32)                2080      \n",
            "_________________________________________________________________\n",
            "dropout (Dropout)            (None, 32)                0         \n",
            "_________________________________________________________________\n",
            "dense_3 (Dense)              (None, 5)                 165       \n",
            "=================================================================\n",
            "Total params: 386,245\n",
            "Trainable params: 386,245\n",
            "Non-trainable params: 0\n",
            "_________________________________________________________________\n",
            "Epoch 1/150\n",
            "27/27 [==============================] - 43s 234ms/step - loss: 1.5666 - accuracy: 0.3095 - val_loss: 1.5262 - val_accuracy: 0.3541\n",
            "Epoch 2/150\n",
            "27/27 [==============================] - 4s 133ms/step - loss: 1.4777 - accuracy: 0.3456 - val_loss: 1.5072 - val_accuracy: 0.3445\n",
            "Epoch 3/150\n",
            "27/27 [==============================] - 4s 142ms/step - loss: 1.4712 - accuracy: 0.3435 - val_loss: 1.4961 - val_accuracy: 0.3541\n",
            "Epoch 4/150\n",
            "27/27 [==============================] - 4s 135ms/step - loss: 1.4288 - accuracy: 0.3360 - val_loss: 1.4982 - val_accuracy: 0.3541\n",
            "Epoch 5/150\n",
            "27/27 [==============================] - 4s 142ms/step - loss: 1.4093 - accuracy: 0.3521 - val_loss: 1.5692 - val_accuracy: 0.3397\n",
            "Epoch 6/150\n",
            "27/27 [==============================] - 4s 131ms/step - loss: 1.3529 - accuracy: 0.3835 - val_loss: 1.5508 - val_accuracy: 0.2440\n",
            "Epoch 7/150\n",
            "27/27 [==============================] - 4s 130ms/step - loss: 1.4234 - accuracy: 0.3583 - val_loss: 1.4166 - val_accuracy: 0.3876\n",
            "Epoch 8/150\n",
            "27/27 [==============================] - 4s 138ms/step - loss: 1.2797 - accuracy: 0.4218 - val_loss: 1.4588 - val_accuracy: 0.3923\n",
            "Epoch 9/150\n",
            "27/27 [==============================] - 4s 138ms/step - loss: 1.3388 - accuracy: 0.4279 - val_loss: 1.3968 - val_accuracy: 0.4354\n",
            "Epoch 10/150\n",
            "27/27 [==============================] - 4s 133ms/step - loss: 1.2647 - accuracy: 0.4657 - val_loss: 1.5443 - val_accuracy: 0.4115\n",
            "Epoch 11/150\n",
            "27/27 [==============================] - 4s 131ms/step - loss: 1.1972 - accuracy: 0.5227 - val_loss: 1.3630 - val_accuracy: 0.4306\n",
            "Epoch 12/150\n",
            "27/27 [==============================] - 4s 134ms/step - loss: 1.2322 - accuracy: 0.4640 - val_loss: 1.3733 - val_accuracy: 0.4067\n",
            "Epoch 13/150\n",
            "27/27 [==============================] - 4s 133ms/step - loss: 1.1020 - accuracy: 0.5721 - val_loss: 1.4629 - val_accuracy: 0.4115\n",
            "Epoch 14/150\n",
            "27/27 [==============================] - 4s 132ms/step - loss: 1.1365 - accuracy: 0.5448 - val_loss: 1.3665 - val_accuracy: 0.4498\n",
            "Epoch 15/150\n",
            "27/27 [==============================] - 4s 137ms/step - loss: 1.0880 - accuracy: 0.5569 - val_loss: 1.2600 - val_accuracy: 0.4737\n",
            "Epoch 16/150\n",
            "27/27 [==============================] - 4s 137ms/step - loss: 1.0161 - accuracy: 0.6157 - val_loss: 1.3500 - val_accuracy: 0.4593\n",
            "Epoch 17/150\n",
            "27/27 [==============================] - 4s 138ms/step - loss: 1.0577 - accuracy: 0.5588 - val_loss: 1.3369 - val_accuracy: 0.4545\n",
            "Epoch 18/150\n",
            "27/27 [==============================] - 4s 138ms/step - loss: 0.9331 - accuracy: 0.6269 - val_loss: 1.4136 - val_accuracy: 0.4498\n",
            "Epoch 19/150\n",
            "27/27 [==============================] - 4s 134ms/step - loss: 1.0019 - accuracy: 0.5809 - val_loss: 1.2775 - val_accuracy: 0.5167\n",
            "Epoch 20/150\n",
            "27/27 [==============================] - 4s 133ms/step - loss: 0.9049 - accuracy: 0.6592 - val_loss: 1.3510 - val_accuracy: 0.5120\n",
            "Epoch 21/150\n",
            "27/27 [==============================] - 4s 135ms/step - loss: 0.8970 - accuracy: 0.6408 - val_loss: 1.5718 - val_accuracy: 0.4833\n",
            "Epoch 22/150\n",
            "27/27 [==============================] - 4s 135ms/step - loss: 1.0769 - accuracy: 0.6344 - val_loss: 1.3521 - val_accuracy: 0.4163\n",
            "Epoch 23/150\n",
            "27/27 [==============================] - 4s 139ms/step - loss: 0.8742 - accuracy: 0.6733 - val_loss: 1.4248 - val_accuracy: 0.5120\n",
            "Epoch 24/150\n",
            "27/27 [==============================] - 4s 136ms/step - loss: 0.7676 - accuracy: 0.7089 - val_loss: 1.4147 - val_accuracy: 0.4450\n",
            "Epoch 25/150\n",
            "27/27 [==============================] - 4s 137ms/step - loss: 0.9623 - accuracy: 0.6523 - val_loss: 1.2365 - val_accuracy: 0.5550\n",
            "Epoch 26/150\n",
            "27/27 [==============================] - 3s 129ms/step - loss: 0.7818 - accuracy: 0.6892 - val_loss: 1.3492 - val_accuracy: 0.5789\n",
            "Epoch 27/150\n",
            "27/27 [==============================] - 4s 132ms/step - loss: 0.7590 - accuracy: 0.7193 - val_loss: 1.1274 - val_accuracy: 0.5789\n",
            "Epoch 28/150\n",
            "27/27 [==============================] - 4s 138ms/step - loss: 0.6068 - accuracy: 0.7744 - val_loss: 1.4109 - val_accuracy: 0.5311\n",
            "Epoch 29/150\n",
            "27/27 [==============================] - 4s 135ms/step - loss: 0.6419 - accuracy: 0.7721 - val_loss: 1.3048 - val_accuracy: 0.5407\n",
            "Epoch 30/150\n",
            "27/27 [==============================] - 4s 135ms/step - loss: 0.5241 - accuracy: 0.8033 - val_loss: 1.5228 - val_accuracy: 0.5981\n",
            "Epoch 31/150\n",
            "27/27 [==============================] - 4s 140ms/step - loss: 0.6087 - accuracy: 0.7728 - val_loss: 1.2743 - val_accuracy: 0.6029\n",
            "Epoch 32/150\n",
            "27/27 [==============================] - 3s 129ms/step - loss: 0.4212 - accuracy: 0.8324 - val_loss: 1.3983 - val_accuracy: 0.5837\n",
            "Epoch 33/150\n",
            "27/27 [==============================] - 4s 133ms/step - loss: 0.4999 - accuracy: 0.8205 - val_loss: 1.2811 - val_accuracy: 0.5981\n",
            "Epoch 34/150\n",
            "27/27 [==============================] - 4s 136ms/step - loss: 0.4241 - accuracy: 0.8506 - val_loss: 1.2453 - val_accuracy: 0.5646\n",
            "Epoch 35/150\n",
            "27/27 [==============================] - 4s 139ms/step - loss: 0.3982 - accuracy: 0.8572 - val_loss: 1.6775 - val_accuracy: 0.5789\n",
            "Epoch 36/150\n",
            "27/27 [==============================] - 4s 139ms/step - loss: 1.0276 - accuracy: 0.6892 - val_loss: 1.2979 - val_accuracy: 0.5263\n",
            "Epoch 37/150\n",
            "27/27 [==============================] - 4s 136ms/step - loss: 0.8236 - accuracy: 0.6589 - val_loss: 1.2460 - val_accuracy: 0.5789\n",
            "Epoch 38/150\n",
            "27/27 [==============================] - 4s 130ms/step - loss: 0.5831 - accuracy: 0.7690 - val_loss: 1.4516 - val_accuracy: 0.5885\n",
            "Epoch 39/150\n",
            "27/27 [==============================] - 4s 134ms/step - loss: 0.4856 - accuracy: 0.8437 - val_loss: 1.3982 - val_accuracy: 0.5598\n",
            "Epoch 40/150\n",
            "27/27 [==============================] - 4s 132ms/step - loss: 0.4305 - accuracy: 0.8620 - val_loss: 1.4151 - val_accuracy: 0.5502\n",
            "Epoch 41/150\n",
            "27/27 [==============================] - 4s 130ms/step - loss: 0.4976 - accuracy: 0.8233 - val_loss: 1.2618 - val_accuracy: 0.6220\n",
            "Epoch 42/150\n",
            "27/27 [==============================] - 4s 136ms/step - loss: 0.3740 - accuracy: 0.8652 - val_loss: 1.5867 - val_accuracy: 0.5837\n",
            "Epoch 43/150\n",
            "27/27 [==============================] - 4s 135ms/step - loss: 0.3302 - accuracy: 0.8879 - val_loss: 1.4147 - val_accuracy: 0.5981\n",
            "Epoch 44/150\n",
            "27/27 [==============================] - 4s 132ms/step - loss: 0.3043 - accuracy: 0.8959 - val_loss: 1.6278 - val_accuracy: 0.6124\n",
            "Epoch 45/150\n",
            "27/27 [==============================] - 4s 133ms/step - loss: 0.2302 - accuracy: 0.9154 - val_loss: 1.6232 - val_accuracy: 0.5885\n",
            "Epoch 46/150\n",
            "27/27 [==============================] - 4s 138ms/step - loss: 0.3414 - accuracy: 0.8961 - val_loss: 1.4272 - val_accuracy: 0.6172\n",
            "Epoch 47/150\n",
            "27/27 [==============================] - 4s 137ms/step - loss: 0.1981 - accuracy: 0.9291 - val_loss: 1.9562 - val_accuracy: 0.5694\n",
            "Epoch 48/150\n",
            "27/27 [==============================] - 4s 135ms/step - loss: 0.3360 - accuracy: 0.8875 - val_loss: 1.5243 - val_accuracy: 0.6172\n",
            "Epoch 49/150\n",
            "27/27 [==============================] - 4s 140ms/step - loss: 0.4726 - accuracy: 0.8403 - val_loss: 1.3270 - val_accuracy: 0.6316\n",
            "Epoch 50/150\n",
            "27/27 [==============================] - 4s 130ms/step - loss: 0.4644 - accuracy: 0.8487 - val_loss: 1.5960 - val_accuracy: 0.5981\n",
            "Epoch 51/150\n",
            "27/27 [==============================] - 4s 135ms/step - loss: 0.3981 - accuracy: 0.8811 - val_loss: 1.3238 - val_accuracy: 0.6651\n",
            "Epoch 52/150\n",
            "27/27 [==============================] - 4s 135ms/step - loss: 0.2229 - accuracy: 0.9246 - val_loss: 1.5731 - val_accuracy: 0.6364\n",
            "Epoch 53/150\n",
            "27/27 [==============================] - 3s 129ms/step - loss: 0.2074 - accuracy: 0.9452 - val_loss: 1.4728 - val_accuracy: 0.6316\n",
            "Epoch 54/150\n",
            "27/27 [==============================] - 4s 140ms/step - loss: 0.1937 - accuracy: 0.9345 - val_loss: 1.5073 - val_accuracy: 0.6507\n",
            "Epoch 55/150\n",
            "27/27 [==============================] - 4s 134ms/step - loss: 0.1364 - accuracy: 0.9530 - val_loss: 1.5453 - val_accuracy: 0.6507\n",
            "Epoch 56/150\n",
            "27/27 [==============================] - 4s 136ms/step - loss: 0.2715 - accuracy: 0.9182 - val_loss: 1.5101 - val_accuracy: 0.6124\n",
            "Epoch 57/150\n",
            "27/27 [==============================] - 4s 133ms/step - loss: 0.2576 - accuracy: 0.9336 - val_loss: 1.6565 - val_accuracy: 0.5742\n",
            "Epoch 58/150\n",
            "27/27 [==============================] - 4s 136ms/step - loss: 0.3793 - accuracy: 0.8820 - val_loss: 1.4130 - val_accuracy: 0.6220\n",
            "Epoch 59/150\n",
            "27/27 [==============================] - 4s 134ms/step - loss: 0.2753 - accuracy: 0.8986 - val_loss: 1.5555 - val_accuracy: 0.6172\n",
            "Epoch 60/150\n",
            "27/27 [==============================] - 4s 138ms/step - loss: 0.1611 - accuracy: 0.9530 - val_loss: 1.6258 - val_accuracy: 0.6124\n",
            "Epoch 61/150\n",
            "27/27 [==============================] - 4s 136ms/step - loss: 0.1646 - accuracy: 0.9347 - val_loss: 1.6095 - val_accuracy: 0.6507\n",
            "Epoch 62/150\n",
            "27/27 [==============================] - 4s 136ms/step - loss: 0.1529 - accuracy: 0.9455 - val_loss: 1.7122 - val_accuracy: 0.5789\n",
            "Epoch 63/150\n",
            "27/27 [==============================] - 4s 140ms/step - loss: 0.1578 - accuracy: 0.9576 - val_loss: 1.8029 - val_accuracy: 0.6220\n",
            "Epoch 64/150\n",
            "27/27 [==============================] - 4s 137ms/step - loss: 0.4394 - accuracy: 0.8842 - val_loss: 1.4129 - val_accuracy: 0.5885\n",
            "Epoch 65/150\n",
            "27/27 [==============================] - 4s 134ms/step - loss: 0.3021 - accuracy: 0.9112 - val_loss: 1.4767 - val_accuracy: 0.6364\n",
            "Epoch 66/150\n",
            "27/27 [==============================] - 4s 137ms/step - loss: 0.2376 - accuracy: 0.9340 - val_loss: 1.6915 - val_accuracy: 0.5789\n",
            "Epoch 67/150\n",
            "27/27 [==============================] - 4s 140ms/step - loss: 0.2827 - accuracy: 0.9187 - val_loss: 1.6955 - val_accuracy: 0.5742\n",
            "Epoch 68/150\n",
            "27/27 [==============================] - 4s 139ms/step - loss: 0.1990 - accuracy: 0.9384 - val_loss: 1.8635 - val_accuracy: 0.6029\n",
            "Epoch 69/150\n",
            "27/27 [==============================] - 4s 137ms/step - loss: 0.2600 - accuracy: 0.9364 - val_loss: 1.4538 - val_accuracy: 0.6507\n",
            "Epoch 70/150\n",
            "27/27 [==============================] - 4s 136ms/step - loss: 0.1215 - accuracy: 0.9630 - val_loss: 1.6624 - val_accuracy: 0.6316\n",
            "Epoch 71/150\n",
            "27/27 [==============================] - 4s 136ms/step - loss: 0.1680 - accuracy: 0.9511 - val_loss: 1.6656 - val_accuracy: 0.6029\n",
            "Epoch 72/150\n",
            "27/27 [==============================] - 4s 134ms/step - loss: 0.1652 - accuracy: 0.9511 - val_loss: 1.6466 - val_accuracy: 0.6411\n",
            "Epoch 73/150\n",
            "27/27 [==============================] - 4s 130ms/step - loss: 0.2906 - accuracy: 0.9053 - val_loss: 1.6948 - val_accuracy: 0.5837\n",
            "Epoch 74/150\n",
            "27/27 [==============================] - 4s 133ms/step - loss: 0.7248 - accuracy: 0.7994 - val_loss: 1.2512 - val_accuracy: 0.5742\n",
            "Epoch 75/150\n",
            "27/27 [==============================] - 4s 133ms/step - loss: 0.5044 - accuracy: 0.8296 - val_loss: 1.5391 - val_accuracy: 0.6124\n",
            "Epoch 76/150\n",
            "27/27 [==============================] - 4s 136ms/step - loss: 0.2564 - accuracy: 0.9238 - val_loss: 1.3627 - val_accuracy: 0.6459\n",
            "Epoch 77/150\n",
            "27/27 [==============================] - 4s 144ms/step - loss: 0.2504 - accuracy: 0.9147 - val_loss: 1.3516 - val_accuracy: 0.6938\n",
            "Epoch 78/150\n",
            "27/27 [==============================] - 4s 135ms/step - loss: 0.5715 - accuracy: 0.8372 - val_loss: 1.2626 - val_accuracy: 0.6459\n",
            "Epoch 79/150\n",
            "27/27 [==============================] - 4s 135ms/step - loss: 0.3591 - accuracy: 0.8805 - val_loss: 1.3449 - val_accuracy: 0.6603\n",
            "Epoch 80/150\n",
            "27/27 [==============================] - 4s 130ms/step - loss: 0.1350 - accuracy: 0.9627 - val_loss: 1.4955 - val_accuracy: 0.6746\n",
            "Epoch 81/150\n",
            "27/27 [==============================] - 4s 131ms/step - loss: 0.1497 - accuracy: 0.9512 - val_loss: 1.6787 - val_accuracy: 0.6316\n",
            "Epoch 82/150\n",
            "27/27 [==============================] - 4s 134ms/step - loss: 0.1487 - accuracy: 0.9561 - val_loss: 1.7047 - val_accuracy: 0.6316\n",
            "Epoch 83/150\n",
            "27/27 [==============================] - 4s 132ms/step - loss: 0.0778 - accuracy: 0.9791 - val_loss: 1.9203 - val_accuracy: 0.6555\n",
            "Epoch 84/150\n",
            "27/27 [==============================] - 3s 129ms/step - loss: 0.1611 - accuracy: 0.9554 - val_loss: 1.8829 - val_accuracy: 0.6411\n",
            "Epoch 85/150\n",
            "27/27 [==============================] - 4s 140ms/step - loss: 0.0971 - accuracy: 0.9662 - val_loss: 1.8243 - val_accuracy: 0.6459\n",
            "Epoch 86/150\n",
            "27/27 [==============================] - 4s 133ms/step - loss: 0.0936 - accuracy: 0.9785 - val_loss: 1.8749 - val_accuracy: 0.6507\n",
            "Epoch 87/150\n",
            "27/27 [==============================] - 4s 137ms/step - loss: 0.2036 - accuracy: 0.9326 - val_loss: 1.6931 - val_accuracy: 0.6124\n",
            "Epoch 88/150\n",
            "27/27 [==============================] - 4s 134ms/step - loss: 0.1351 - accuracy: 0.9555 - val_loss: 1.6335 - val_accuracy: 0.6268\n",
            "Epoch 89/150\n",
            "27/27 [==============================] - 4s 133ms/step - loss: 0.0645 - accuracy: 0.9808 - val_loss: 1.7340 - val_accuracy: 0.6699\n",
            "Epoch 90/150\n",
            "27/27 [==============================] - 4s 134ms/step - loss: 0.1355 - accuracy: 0.9582 - val_loss: 1.9994 - val_accuracy: 0.6220\n",
            "Epoch 91/150\n",
            "27/27 [==============================] - 4s 139ms/step - loss: 0.1894 - accuracy: 0.9476 - val_loss: 1.4343 - val_accuracy: 0.6651\n",
            "Epoch 92/150\n",
            "27/27 [==============================] - 4s 135ms/step - loss: 0.0999 - accuracy: 0.9726 - val_loss: 1.4914 - val_accuracy: 0.6459\n",
            "Epoch 93/150\n",
            "27/27 [==============================] - 4s 133ms/step - loss: 0.0795 - accuracy: 0.9816 - val_loss: 1.6123 - val_accuracy: 0.6411\n",
            "Epoch 94/150\n",
            "27/27 [==============================] - 4s 139ms/step - loss: 0.1366 - accuracy: 0.9661 - val_loss: 1.6725 - val_accuracy: 0.6794\n",
            "Epoch 95/150\n",
            "27/27 [==============================] - 4s 134ms/step - loss: 0.1015 - accuracy: 0.9778 - val_loss: 1.7008 - val_accuracy: 0.7033\n",
            "Epoch 96/150\n",
            "27/27 [==============================] - 4s 133ms/step - loss: 0.1435 - accuracy: 0.9530 - val_loss: 1.7192 - val_accuracy: 0.6364\n",
            "Epoch 97/150\n",
            "27/27 [==============================] - 4s 134ms/step - loss: 0.1728 - accuracy: 0.9558 - val_loss: 1.5036 - val_accuracy: 0.7033\n",
            "Epoch 98/150\n",
            "27/27 [==============================] - 4s 133ms/step - loss: 0.0474 - accuracy: 0.9823 - val_loss: 1.7317 - val_accuracy: 0.6699\n",
            "Epoch 99/150\n",
            "27/27 [==============================] - 4s 140ms/step - loss: 0.0194 - accuracy: 0.9923 - val_loss: 1.8438 - val_accuracy: 0.6938\n",
            "Epoch 100/150\n",
            "27/27 [==============================] - 4s 134ms/step - loss: 0.0139 - accuracy: 0.9973 - val_loss: 1.9470 - val_accuracy: 0.6986\n",
            "Epoch 101/150\n",
            "27/27 [==============================] - 4s 138ms/step - loss: 0.0238 - accuracy: 0.9976 - val_loss: 1.9746 - val_accuracy: 0.6699\n",
            "Epoch 102/150\n",
            "27/27 [==============================] - 4s 137ms/step - loss: 0.0121 - accuracy: 0.9949 - val_loss: 2.0793 - val_accuracy: 0.6746\n",
            "Epoch 103/150\n",
            "27/27 [==============================] - 4s 138ms/step - loss: 0.0030 - accuracy: 0.9998 - val_loss: 2.1475 - val_accuracy: 0.6842\n",
            "Epoch 104/150\n",
            "27/27 [==============================] - 4s 140ms/step - loss: 0.0025 - accuracy: 1.0000 - val_loss: 2.2072 - val_accuracy: 0.6890\n",
            "Epoch 105/150\n",
            "27/27 [==============================] - 4s 140ms/step - loss: 0.0024 - accuracy: 1.0000 - val_loss: 2.2639 - val_accuracy: 0.6890\n",
            "Epoch 106/150\n",
            "27/27 [==============================] - 4s 139ms/step - loss: 0.0015 - accuracy: 1.0000 - val_loss: 2.3101 - val_accuracy: 0.6890\n",
            "Epoch 107/150\n",
            "27/27 [==============================] - 4s 143ms/step - loss: 0.0013 - accuracy: 1.0000 - val_loss: 2.3524 - val_accuracy: 0.6890\n",
            "Epoch 108/150\n",
            "27/27 [==============================] - 4s 135ms/step - loss: 0.0014 - accuracy: 1.0000 - val_loss: 2.4065 - val_accuracy: 0.6794\n",
            "Epoch 109/150\n",
            "27/27 [==============================] - 4s 139ms/step - loss: 0.0012 - accuracy: 1.0000 - val_loss: 2.4475 - val_accuracy: 0.6794\n",
            "Epoch 110/150\n",
            "27/27 [==============================] - 4s 135ms/step - loss: 0.0014 - accuracy: 1.0000 - val_loss: 2.4820 - val_accuracy: 0.6842\n",
            "Epoch 111/150\n",
            "27/27 [==============================] - 4s 137ms/step - loss: 4.7561e-04 - accuracy: 1.0000 - val_loss: 2.5073 - val_accuracy: 0.6842\n",
            "Epoch 112/150\n",
            "27/27 [==============================] - 4s 130ms/step - loss: 8.3226e-04 - accuracy: 1.0000 - val_loss: 2.5309 - val_accuracy: 0.6842\n",
            "Epoch 113/150\n",
            "27/27 [==============================] - 4s 137ms/step - loss: 0.0012 - accuracy: 1.0000 - val_loss: 2.5451 - val_accuracy: 0.6890\n",
            "Epoch 114/150\n",
            "27/27 [==============================] - 4s 130ms/step - loss: 0.0011 - accuracy: 1.0000 - val_loss: 2.5693 - val_accuracy: 0.6890\n",
            "Epoch 115/150\n",
            "27/27 [==============================] - 4s 134ms/step - loss: 4.7547e-04 - accuracy: 1.0000 - val_loss: 2.5867 - val_accuracy: 0.6890\n",
            "Epoch 116/150\n",
            "27/27 [==============================] - 4s 136ms/step - loss: 6.0099e-04 - accuracy: 1.0000 - val_loss: 2.6060 - val_accuracy: 0.6890\n",
            "Epoch 117/150\n",
            "27/27 [==============================] - 4s 135ms/step - loss: 4.8199e-04 - accuracy: 1.0000 - val_loss: 2.6261 - val_accuracy: 0.6890\n",
            "Epoch 118/150\n",
            "27/27 [==============================] - 4s 136ms/step - loss: 4.0965e-04 - accuracy: 1.0000 - val_loss: 2.6459 - val_accuracy: 0.6986\n",
            "Epoch 119/150\n",
            "27/27 [==============================] - 4s 134ms/step - loss: 3.4437e-04 - accuracy: 1.0000 - val_loss: 2.6690 - val_accuracy: 0.6986\n",
            "Epoch 120/150\n",
            "27/27 [==============================] - 4s 137ms/step - loss: 3.2627e-04 - accuracy: 1.0000 - val_loss: 2.6881 - val_accuracy: 0.6938\n",
            "Epoch 121/150\n",
            "27/27 [==============================] - 4s 135ms/step - loss: 3.2552e-04 - accuracy: 1.0000 - val_loss: 2.7063 - val_accuracy: 0.6938\n",
            "Epoch 122/150\n",
            "27/27 [==============================] - 4s 134ms/step - loss: 3.0702e-04 - accuracy: 1.0000 - val_loss: 2.7249 - val_accuracy: 0.6938\n",
            "Epoch 123/150\n",
            "27/27 [==============================] - 4s 137ms/step - loss: 3.8175e-04 - accuracy: 1.0000 - val_loss: 2.7427 - val_accuracy: 0.6938\n",
            "Epoch 124/150\n",
            "27/27 [==============================] - 4s 139ms/step - loss: 2.6522e-04 - accuracy: 1.0000 - val_loss: 2.7579 - val_accuracy: 0.6938\n",
            "Epoch 125/150\n",
            "27/27 [==============================] - 4s 133ms/step - loss: 2.7417e-04 - accuracy: 1.0000 - val_loss: 2.7759 - val_accuracy: 0.6938\n",
            "Epoch 126/150\n",
            "27/27 [==============================] - 4s 131ms/step - loss: 2.8805e-04 - accuracy: 1.0000 - val_loss: 2.7932 - val_accuracy: 0.6890\n",
            "Epoch 127/150\n",
            "27/27 [==============================] - 4s 136ms/step - loss: 4.8080e-04 - accuracy: 1.0000 - val_loss: 2.8042 - val_accuracy: 0.6890\n",
            "Epoch 128/150\n",
            "27/27 [==============================] - 4s 132ms/step - loss: 2.3991e-04 - accuracy: 1.0000 - val_loss: 2.8180 - val_accuracy: 0.6890\n",
            "Epoch 129/150\n",
            "27/27 [==============================] - 4s 131ms/step - loss: 3.0431e-04 - accuracy: 1.0000 - val_loss: 2.8342 - val_accuracy: 0.6890\n",
            "Epoch 130/150\n",
            "27/27 [==============================] - 4s 138ms/step - loss: 4.1193e-04 - accuracy: 1.0000 - val_loss: 2.8537 - val_accuracy: 0.6890\n",
            "Epoch 131/150\n",
            "27/27 [==============================] - 4s 135ms/step - loss: 7.2395e-04 - accuracy: 1.0000 - val_loss: 2.8735 - val_accuracy: 0.6890\n",
            "Epoch 132/150\n",
            "27/27 [==============================] - 4s 139ms/step - loss: 1.2526e-04 - accuracy: 1.0000 - val_loss: 2.8851 - val_accuracy: 0.6890\n",
            "Epoch 133/150\n",
            "27/27 [==============================] - 4s 134ms/step - loss: 2.7344e-04 - accuracy: 1.0000 - val_loss: 2.8952 - val_accuracy: 0.6890\n",
            "Epoch 134/150\n",
            "27/27 [==============================] - 4s 134ms/step - loss: 3.3548e-04 - accuracy: 1.0000 - val_loss: 2.9095 - val_accuracy: 0.6890\n",
            "Epoch 135/150\n",
            "27/27 [==============================] - 4s 139ms/step - loss: 1.9520e-04 - accuracy: 1.0000 - val_loss: 2.9200 - val_accuracy: 0.6890\n",
            "Epoch 136/150\n",
            "27/27 [==============================] - 4s 136ms/step - loss: 1.7365e-04 - accuracy: 1.0000 - val_loss: 2.9320 - val_accuracy: 0.6890\n",
            "Epoch 137/150\n",
            "27/27 [==============================] - 4s 134ms/step - loss: 1.7494e-04 - accuracy: 1.0000 - val_loss: 2.9453 - val_accuracy: 0.6890\n",
            "Epoch 138/150\n",
            "27/27 [==============================] - 4s 134ms/step - loss: 2.3875e-04 - accuracy: 1.0000 - val_loss: 2.9598 - val_accuracy: 0.6890\n",
            "Epoch 139/150\n",
            "27/27 [==============================] - 4s 137ms/step - loss: 2.9645e-04 - accuracy: 1.0000 - val_loss: 2.9688 - val_accuracy: 0.6890\n",
            "Epoch 140/150\n",
            "27/27 [==============================] - 4s 138ms/step - loss: 9.8684e-05 - accuracy: 1.0000 - val_loss: 2.9674 - val_accuracy: 0.6890\n",
            "Epoch 141/150\n",
            "27/27 [==============================] - 4s 136ms/step - loss: 2.3674e-04 - accuracy: 1.0000 - val_loss: 2.9797 - val_accuracy: 0.6890\n",
            "Epoch 142/150\n",
            "27/27 [==============================] - 4s 139ms/step - loss: 2.2564e-04 - accuracy: 1.0000 - val_loss: 2.9949 - val_accuracy: 0.6938\n",
            "Epoch 143/150\n",
            "27/27 [==============================] - 4s 138ms/step - loss: 1.7086e-04 - accuracy: 1.0000 - val_loss: 3.0068 - val_accuracy: 0.6890\n",
            "Epoch 144/150\n",
            "27/27 [==============================] - 4s 139ms/step - loss: 1.2284e-04 - accuracy: 1.0000 - val_loss: 3.0200 - val_accuracy: 0.6890\n",
            "Epoch 145/150\n",
            "27/27 [==============================] - 4s 135ms/step - loss: 2.4803e-04 - accuracy: 1.0000 - val_loss: 3.0377 - val_accuracy: 0.6890\n",
            "Epoch 146/150\n",
            "27/27 [==============================] - 4s 137ms/step - loss: 1.1408e-04 - accuracy: 1.0000 - val_loss: 3.0486 - val_accuracy: 0.6842\n",
            "Epoch 147/150\n",
            "27/27 [==============================] - 4s 132ms/step - loss: 2.3683e-04 - accuracy: 1.0000 - val_loss: 3.0621 - val_accuracy: 0.6842\n",
            "Epoch 148/150\n",
            "27/27 [==============================] - 4s 139ms/step - loss: 1.4872e-04 - accuracy: 1.0000 - val_loss: 3.0729 - val_accuracy: 0.6842\n",
            "Epoch 149/150\n",
            "27/27 [==============================] - 4s 138ms/step - loss: 1.1566e-04 - accuracy: 1.0000 - val_loss: 3.0770 - val_accuracy: 0.6890\n",
            "Epoch 150/150\n",
            "27/27 [==============================] - 4s 134ms/step - loss: 2.7195e-04 - accuracy: 1.0000 - val_loss: 3.0879 - val_accuracy: 0.6890\n"
          ],
          "name": "stdout"
        },
        {
          "output_type": "display_data",
          "data": {
            "image/png": "[encoded data removed]",
            "text/plain": [
              "<Figure size 432x288 with 2 Axes>"
            ]
          },
          "metadata": {
            "tags": [],
            "needs_background": "light"
          }
        },
        {
          "output_type": "stream",
          "text": [
            "11/11 - 0s - loss: 3.0023 - accuracy: 0.6810\n",
            "\n",
            "Test accuracy: 0.681034505367279\n"
          ],
          "name": "stdout"
        }
      ]
    },
    {
      "cell_type": "code",
      "metadata": {
        "colab": {
          "base_uri": "https://localhost:8080/"
        },
        "id": "IDONqkyhFO-g",
        "outputId": "e9eb56c9-219d-4d75-fca3-6dbea9498532"
      },
      "source": [
        "model.save('my_model')"
      ],
      "execution_count": 3,
      "outputs": [
        {
          "output_type": "stream",
          "text": [
            "WARNING:absl:Found untraced functions such as lstm_cell_6_layer_call_and_return_conditional_losses, lstm_cell_6_layer_call_fn, lstm_cell_1_layer_call_and_return_conditional_losses, lstm_cell_1_layer_call_fn, lstm_cell_2_layer_call_and_return_conditional_losses while saving (showing 5 of 25). These functions will not be directly callable after loading.\n",
            "WARNING:absl:Found untraced functions such as lstm_cell_6_layer_call_and_return_conditional_losses, lstm_cell_6_layer_call_fn, lstm_cell_1_layer_call_and_return_conditional_losses, lstm_cell_1_layer_call_fn, lstm_cell_2_layer_call_and_return_conditional_losses while saving (showing 5 of 25). These functions will not be directly callable after loading.\n"
          ],
          "name": "stderr"
        },
        {
          "output_type": "stream",
          "text": [
            "INFO:tensorflow:Assets written to: my_model/assets\n"
          ],
          "name": "stdout"
        },
        {
          "output_type": "stream",
          "text": [
            "INFO:tensorflow:Assets written to: my_model/assets\n"
          ],
          "name": "stderr"
        }
      ]
    },
    {
      "cell_type": "code",
      "metadata": {
        "colab": {
          "base_uri": "https://localhost:8080/"
        },
        "id": "EcYzbBFcFoCM",
        "outputId": "38cc1940-e94c-49a4-af9c-b3af3aa1f4f8"
      },
      "source": [
        "!zip -r example.zip '/content/my_model'"
      ],
      "execution_count": 4,
      "outputs": [
        {
          "output_type": "stream",
          "text": [
            "  adding: content/my_model/ (stored 0%)\n",
            "  adding: content/my_model/assets/ (stored 0%)\n",
            "  adding: content/my_model/variables/ (stored 0%)\n",
            "  adding: content/my_model/variables/variables.data-00000-of-00001 (deflated 6%)\n",
            "  adding: content/my_model/variables/variables.index (deflated 72%)\n",
            "  adding: content/my_model/saved_model.pb (deflated 89%)\n"
          ],
          "name": "stdout"
        }
      ]
    },
    {
      "cell_type": "code",
      "metadata": {
        "id": "T7B4FkuV8OU3"
      },
      "source": [
        "data_path=\"/content/drive/MyDrive/Final_MFCC_data.json\""
      ],
      "execution_count": null,
      "outputs": []
    },
    {
      "cell_type": "code",
      "metadata": {
        "id": "z2PVUbq974oO"
      },
      "source": [
        "with open('/content/drive/MyDrive/Raga_Data/data_10.json', \"r\") as fp:\n",
        "        data = json.load(fp)"
      ],
      "execution_count": 6,
      "outputs": []
    },
    {
      "cell_type": "code",
      "metadata": {
        "colab": {
          "base_uri": "https://localhost:8080/"
        },
        "id": "h5pnTsfu3GUX",
        "outputId": "a63ed6bf-430b-4590-d7ba-931782ed195f"
      },
      "source": [
        "data['mapping']"
      ],
      "execution_count": 7,
      "outputs": [
        {
          "output_type": "execute_result",
          "data": {
            "text/plain": [
              "['De╠äs╠ü',\n",
              " 'Bhairavi',\n",
              " 'Bila╠äsakha╠äni╠ä to╠äd╠úi╠ä',\n",
              " 'Ba╠äge╠äs╠üri╠ä',\n",
              " 'Ahira bhairav']"
            ]
          },
          "metadata": {
            "tags": []
          },
          "execution_count": 7
        }
      ]
    },
    {
      "cell_type": "code",
      "metadata": {
        "colab": {
          "base_uri": "https://localhost:8080/"
        },
        "id": "WEXUHz-28RbC",
        "outputId": "e029eb1e-5437-474a-97d2-b95481e8dd8f"
      },
      "source": [
        "set(data['labels'])"
      ],
      "execution_count": 8,
      "outputs": [
        {
          "output_type": "execute_result",
          "data": {
            "text/plain": [
              "{0, 1, 2, 3, 4}"
            ]
          },
          "metadata": {
            "tags": []
          },
          "execution_count": 8
        }
      ]
    },
    {
      "cell_type": "code",
      "metadata": {
        "id": "zOrL5AQ_oCD6"
      },
      "source": [
        "import zipfile\n",
        "with zipfile.ZipFile('/content/example.zip', 'r') as zip_ref:\n",
        "    zip_ref.extractall('model')"
      ],
      "execution_count": null,
      "outputs": []
    },
    {
      "cell_type": "code",
      "metadata": {
        "id": "yToPveHOoNDp"
      },
      "source": [
        "import keras\n"
      ],
      "execution_count": null,
      "outputs": []
    },
    {
      "cell_type": "code",
      "metadata": {
        "id": "V0rkcVF-oOae"
      },
      "source": [
        "model=keras.models.load_model('/content/my_model')"
      ],
      "execution_count": 9,
      "outputs": []
    },
    {
      "cell_type": "code",
      "metadata": {
        "colab": {
          "base_uri": "https://localhost:8080/"
        },
        "id": "mKl8TUDFxffC",
        "outputId": "aeae3cac-ceac-481e-bd5f-54cddb82ce6a"
      },
      "source": [
        "# Fetch the Keras session and save the model\n",
        "# The signature definition is defined by the input and output tensors,\n",
        "# and stored with the default serving key\n",
        "import tempfile\n",
        "import os\n",
        "import tensorflow as tf\n",
        "\n",
        "# os.mkdir('model_folder')\n",
        "# MODEL_DIR='model_folder'\n",
        "MODEL_DIR = tempfile.gettempdir()\n",
        "version = 1\n",
        "export_path = os.path.join(MODEL_DIR, str(version))\n",
        "print('export_path = {}\\n'.format(export_path))\n",
        "\n",
        "tf.keras.models.save_model(\n",
        "    model,\n",
        "    export_path,\n",
        "    overwrite=True,\n",
        "    include_optimizer=True,\n",
        "    save_format=None,\n",
        "    signatures=None,\n",
        "    options=None\n",
        ")\n",
        "\n",
        "print('\\nSaved model:')\n",
        "!ls -l {export_path}"
      ],
      "execution_count": 10,
      "outputs": [
        {
          "output_type": "stream",
          "text": [
            "export_path = /tmp/1\n",
            "\n"
          ],
          "name": "stdout"
        },
        {
          "output_type": "stream",
          "text": [
            "WARNING:absl:Found untraced functions such as lstm_cell_13_layer_call_and_return_conditional_losses, lstm_cell_13_layer_call_fn, lstm_cell_8_layer_call_and_return_conditional_losses, lstm_cell_8_layer_call_fn, lstm_cell_9_layer_call_and_return_conditional_losses while saving (showing 5 of 25). These functions will not be directly callable after loading.\n",
            "WARNING:absl:Found untraced functions such as lstm_cell_13_layer_call_and_return_conditional_losses, lstm_cell_13_layer_call_fn, lstm_cell_8_layer_call_and_return_conditional_losses, lstm_cell_8_layer_call_fn, lstm_cell_9_layer_call_and_return_conditional_losses while saving (showing 5 of 25). These functions will not be directly callable after loading.\n"
          ],
          "name": "stderr"
        },
        {
          "output_type": "stream",
          "text": [
            "INFO:tensorflow:Assets written to: /tmp/1/assets\n"
          ],
          "name": "stdout"
        },
        {
          "output_type": "stream",
          "text": [
            "INFO:tensorflow:Assets written to: /tmp/1/assets\n"
          ],
          "name": "stderr"
        },
        {
          "output_type": "stream",
          "text": [
            "\n",
            "Saved model:\n",
            "total 5960\n",
            "drwxr-xr-x 2 root root    4096 Mar 30 20:45 assets\n",
            "-rw-r--r-- 1 root root 6094315 Mar 30 20:45 saved_model.pb\n",
            "drwxr-xr-x 2 root root    4096 Mar 30 20:45 variables\n"
          ],
          "name": "stdout"
        }
      ]
    },
    {
      "cell_type": "code",
      "metadata": {
        "colab": {
          "base_uri": "https://localhost:8080/"
        },
        "id": "HG23W7uZxivT",
        "outputId": "849d9a30-0e85-4086-e522-faf36381f41a"
      },
      "source": [
        "!saved_model_cli show --dir {export_path} --all"
      ],
      "execution_count": 11,
      "outputs": [
        {
          "output_type": "stream",
          "text": [
            "\n",
            "MetaGraphDef with tag-set: 'serve' contains the following SignatureDefs:\n",
            "\n",
            "signature_def['__saved_model_init_op']:\n",
            "  The given SavedModel SignatureDef contains the following input(s):\n",
            "  The given SavedModel SignatureDef contains the following output(s):\n",
            "    outputs['__saved_model_init_op'] tensor_info:\n",
            "        dtype: DT_INVALID\n",
            "        shape: unknown_rank\n",
            "        name: NoOp\n",
            "  Method name is: \n",
            "\n",
            "signature_def['serving_default']:\n",
            "  The given SavedModel SignatureDef contains the following input(s):\n",
            "    inputs['bidirectional_input'] tensor_info:\n",
            "        dtype: DT_FLOAT\n",
            "        shape: (-1, 130, 13)\n",
            "        name: serving_default_bidirectional_input:0\n",
            "  The given SavedModel SignatureDef contains the following output(s):\n",
            "    outputs['dense_3'] tensor_info:\n",
            "        dtype: DT_FLOAT\n",
            "        shape: (-1, 5)\n",
            "        name: StatefulPartitionedCall:0\n",
            "  Method name is: tensorflow/serving/predict\n",
            "WARNING: Logging before flag parsing goes to stderr.\n",
            "W0330 20:45:44.962210 140518755342208 deprecation.py:506] From /usr/local/lib/python2.7/dist-packages/tensorflow_core/python/ops/resource_variable_ops.py:1786: calling __init__ (from tensorflow.python.ops.resource_variable_ops) with constraint is deprecated and will be removed in a future version.\n",
            "Instructions for updating:\n",
            "If using Keras pass *_constraint arguments to layers.\n",
            "\n",
            "Defined Functions:\n",
            "  Function Name: '__call__'\n",
            "    Option #1\n",
            "      Callable with:\n",
            "        Argument #1\n",
            "          bidirectional_input: TensorSpec(shape=(None, 130, 13), dtype=tf.float32, name=u'bidirectional_input')\n",
            "        Argument #2\n",
            "          DType: bool\n",
            "          Value: False\n",
            "        Argument #3\n",
            "          DType: NoneType\n",
            "          Value: None\n",
            "    Option #2\n",
            "      Callable with:\n",
            "        Argument #1\n",
            "          inputs: TensorSpec(shape=(None, 130, 13), dtype=tf.float32, name=u'inputs')\n",
            "        Argument #2\n",
            "          DType: bool\n",
            "          Value: False\n",
            "        Argument #3\n",
            "          DType: NoneType\n",
            "          Value: None\n",
            "    Option #3\n",
            "      Callable with:\n",
            "        Argument #1\n",
            "          bidirectional_input: TensorSpec(shape=(None, 130, 13), dtype=tf.float32, name=u'bidirectional_input')\n",
            "        Argument #2\n",
            "          DType: bool\n",
            "          Value: True\n",
            "        Argument #3\n",
            "          DType: NoneType\n",
            "          Value: None\n",
            "    Option #4\n",
            "      Callable with:\n",
            "        Argument #1\n",
            "          inputs: TensorSpec(shape=(None, 130, 13), dtype=tf.float32, name=u'inputs')\n",
            "        Argument #2\n",
            "          DType: bool\n",
            "          Value: True\n",
            "        Argument #3\n",
            "          DType: NoneType\n",
            "          Value: None\n",
            "\n",
            "  Function Name: '_default_save_signature'\n",
            "    Option #1\n",
            "      Callable with:\n",
            "        Argument #1\n",
            "          bidirectional_input: TensorSpec(shape=(None, 130, 13), dtype=tf.float32, name=u'bidirectional_input')\n",
            "\n",
            "  Function Name: 'call_and_return_all_conditional_losses'\n",
            "    Option #1\n",
            "      Callable with:\n",
            "        Argument #1\n",
            "          inputs: TensorSpec(shape=(None, 130, 13), dtype=tf.float32, name=u'inputs')\n",
            "        Argument #2\n",
            "          DType: bool\n",
            "          Value: False\n",
            "        Argument #3\n",
            "          DType: NoneType\n",
            "          Value: None\n",
            "    Option #2\n",
            "      Callable with:\n",
            "        Argument #1\n",
            "          bidirectional_input: TensorSpec(shape=(None, 130, 13), dtype=tf.float32, name=u'bidirectional_input')\n",
            "        Argument #2\n",
            "          DType: bool\n",
            "          Value: False\n",
            "        Argument #3\n",
            "          DType: NoneType\n",
            "          Value: None\n",
            "    Option #3\n",
            "      Callable with:\n",
            "        Argument #1\n",
            "          bidirectional_input: TensorSpec(shape=(None, 130, 13), dtype=tf.float32, name=u'bidirectional_input')\n",
            "        Argument #2\n",
            "          DType: bool\n",
            "          Value: True\n",
            "        Argument #3\n",
            "          DType: NoneType\n",
            "          Value: None\n",
            "    Option #4\n",
            "      Callable with:\n",
            "        Argument #1\n",
            "          inputs: TensorSpec(shape=(None, 130, 13), dtype=tf.float32, name=u'inputs')\n",
            "        Argument #2\n",
            "          DType: bool\n",
            "          Value: True\n",
            "        Argument #3\n",
            "          DType: NoneType\n",
            "          Value: None\n"
          ],
          "name": "stdout"
        }
      ]
    },
    {
      "cell_type": "code",
      "metadata": {
        "colab": {
          "base_uri": "https://localhost:8080/"
        },
        "id": "WZMQLRxKxolM",
        "outputId": "6e3c28e3-d2ea-4ba0-a811-9e418a1def41"
      },
      "source": [
        "!echo \"deb http://storage.googleapis.com/tensorflow-serving-apt stable tensorflow-model-server tensorflow-model-server-universal\" | tee /etc/apt/sources.list.d/tensorflow-serving.list && \\\n",
        "curl https://storage.googleapis.com/tensorflow-serving-apt/tensorflow-serving.release.pub.gpg | apt-key add -\n",
        "!apt update"
      ],
      "execution_count": 12,
      "outputs": [
        {
          "output_type": "stream",
          "text": [
            "deb http://storage.googleapis.com/tensorflow-serving-apt stable tensorflow-model-server tensorflow-model-server-universal\n",
            "  % Total    % Received % Xferd  Average Speed   Time    Time     Time  Current\n",
            "                                 Dload  Upload   Total   Spent    Left  Speed\n",
            "100  2943  100  2943    0     0  16081      0 --:--:-- --:--:-- --:--:-- 16170\n",
            "OK\n",
            "Get:1 http://storage.googleapis.com/tensorflow-serving-apt stable InRelease [3,012 B]\n",
            "Get:2 https://cloud.r-project.org/bin/linux/ubuntu bionic-cran40/ InRelease [3,626 B]\n",
            "Ign:3 https://developer.download.nvidia.com/compute/cuda/repos/ubuntu1804/x86_64  InRelease\n",
            "Ign:4 https://developer.download.nvidia.com/compute/machine-learning/repos/ubuntu1804/x86_64  InRelease\n",
            "Hit:5 https://developer.download.nvidia.com/compute/cuda/repos/ubuntu1804/x86_64  Release\n",
            "Get:6 http://security.ubuntu.com/ubuntu bionic-security InRelease [88.7 kB]\n",
            "Hit:7 https://developer.download.nvidia.com/compute/machine-learning/repos/ubuntu1804/x86_64  Release\n",
            "Hit:8 http://archive.ubuntu.com/ubuntu bionic InRelease\n",
            "Get:9 http://ppa.launchpad.net/c2d4u.team/c2d4u4.0+/ubuntu bionic InRelease [15.9 kB]\n",
            "Get:10 http://storage.googleapis.com/tensorflow-serving-apt stable/tensorflow-model-server amd64 Packages [340 B]\n",
            "Get:11 https://cloud.r-project.org/bin/linux/ubuntu bionic-cran40/ Packages [49.8 kB]\n",
            "Get:12 http://archive.ubuntu.com/ubuntu bionic-updates InRelease [88.7 kB]\n",
            "Get:13 http://storage.googleapis.com/tensorflow-serving-apt stable/tensorflow-model-server-universal amd64 Packages [348 B]\n",
            "Hit:15 http://ppa.launchpad.net/cran/libgit2/ubuntu bionic InRelease\n",
            "Get:17 http://archive.ubuntu.com/ubuntu bionic-backports InRelease [74.6 kB]\n",
            "Hit:18 http://ppa.launchpad.net/deadsnakes/ppa/ubuntu bionic InRelease\n",
            "Get:19 http://security.ubuntu.com/ubuntu bionic-security/universe amd64 Packages [1,402 kB]\n",
            "Hit:20 http://ppa.launchpad.net/graphics-drivers/ppa/ubuntu bionic InRelease\n",
            "Get:21 http://security.ubuntu.com/ubuntu bionic-security/main amd64 Packages [2,045 kB]\n",
            "Get:22 http://ppa.launchpad.net/c2d4u.team/c2d4u4.0+/ubuntu bionic/main Sources [1,749 kB]\n",
            "Get:23 http://archive.ubuntu.com/ubuntu bionic-updates/universe amd64 Packages [2,170 kB]\n",
            "Get:24 http://archive.ubuntu.com/ubuntu bionic-updates/main amd64 Packages [2,475 kB]\n",
            "Get:25 http://ppa.launchpad.net/c2d4u.team/c2d4u4.0+/ubuntu bionic/main amd64 Packages [895 kB]\n",
            "Fetched 11.1 MB in 4s (2,889 kB/s)\n",
            "Reading package lists... Done\n",
            "Building dependency tree       \n",
            "Reading state information... Done\n",
            "36 packages can be upgraded. Run 'apt list --upgradable' to see them.\n"
          ],
          "name": "stdout"
        }
      ]
    },
    {
      "cell_type": "code",
      "metadata": {
        "colab": {
          "base_uri": "https://localhost:8080/"
        },
        "id": "3ypzzbnfxqa9",
        "outputId": "10eb8f17-bafc-4ad1-c38f-07b803a0bdc6"
      },
      "source": [
        "!apt-get install tensorflow-model-server"
      ],
      "execution_count": 13,
      "outputs": [
        {
          "output_type": "stream",
          "text": [
            "Reading package lists... Done\n",
            "Building dependency tree       \n",
            "Reading state information... Done\n",
            "The following NEW packages will be installed:\n",
            "  tensorflow-model-server\n",
            "0 upgraded, 1 newly installed, 0 to remove and 36 not upgraded.\n",
            "Need to get 223 MB of archives.\n",
            "After this operation, 0 B of additional disk space will be used.\n",
            "Get:1 http://storage.googleapis.com/tensorflow-serving-apt stable/tensorflow-model-server amd64 tensorflow-model-server all 2.4.1 [223 MB]\n",
            "Fetched 223 MB in 3s (76.1 MB/s)\n",
            "Selecting previously unselected package tensorflow-model-server.\n",
            "(Reading database ... 160980 files and directories currently installed.)\n",
            "Preparing to unpack .../tensorflow-model-server_2.4.1_all.deb ...\n",
            "Unpacking tensorflow-model-server (2.4.1) ...\n",
            "Setting up tensorflow-model-server (2.4.1) ...\n"
          ],
          "name": "stdout"
        }
      ]
    },
    {
      "cell_type": "code",
      "metadata": {
        "colab": {
          "base_uri": "https://localhost:8080/"
        },
        "id": "3nYWa3X8xslN",
        "outputId": "388769ca-7f8d-48c4-bb78-76c591ca3f8f"
      },
      "source": [
        "!apt-get upgrade tensorflow-model-server"
      ],
      "execution_count": 14,
      "outputs": [
        {
          "output_type": "stream",
          "text": [
            "Reading package lists... Done\n",
            "Building dependency tree       \n",
            "Reading state information... Done\n",
            "tensorflow-model-server is already the newest version (2.4.1).\n",
            "Calculating upgrade... Done\n",
            "The following packages have been kept back:\n",
            "  libcudnn8 libcudnn8-dev libnccl-dev libnccl2\n",
            "The following packages will be upgraded:\n",
            "  binutils binutils-common binutils-x86-64-linux-gnu cuda-compat-11-0 gnupg2\n",
            "  libaudit-common libaudit1 libbinutils libc-bin libcublas-dev libcublas10\n",
            "  libcudnn7 libcudnn7-dev libldap-2.4-2 libldap-common libp11-kit0 libperl5.26\n",
            "  libsasl2-2 libsasl2-modules-db libssl-dev libssl1.1 libzstd1 linux-libc-dev\n",
            "  openssl perl perl-base perl-modules-5.26 r-cran-callr r-cran-cpp11\n",
            "  r-cran-gert r-cran-vctrs tar\n",
            "32 upgraded, 0 newly installed, 0 to remove and 4 not upgraded.\n",
            "Need to get 465 MB of archives.\n",
            "After this operation, 70.0 MB of additional disk space will be used.\n",
            "Get:1 https://developer.download.nvidia.com/compute/cuda/repos/ubuntu1804/x86_64  cuda-compat-11-0 450.102.04-1 [6,712 kB]\n",
            "Get:2 https://developer.download.nvidia.com/compute/cuda/repos/ubuntu1804/x86_64  libcublas10 10.2.3.254-1 [43.1 MB]\n",
            "Get:3 http://archive.ubuntu.com/ubuntu bionic-updates/main amd64 libperl5.26 amd64 5.26.1-6ubuntu0.5 [3,534 kB]\n",
            "Get:4 http://ppa.launchpad.net/c2d4u.team/c2d4u4.0+/ubuntu bionic/main amd64 r-cran-callr all 3.6.0-1cran1.1804.0 [414 kB]\n",
            "Get:5 https://developer.download.nvidia.com/compute/cuda/repos/ubuntu1804/x86_64  libcublas-dev 10.2.3.254-1 [42.4 MB]\n",
            "Get:6 http://ppa.launchpad.net/c2d4u.team/c2d4u4.0+/ubuntu bionic/main amd64 r-cran-cpp11 all 0.2.7-1cran1.1804.0 [136 kB]\n",
            "Get:7 https://developer.download.nvidia.com/compute/machine-learning/repos/ubuntu1804/x86_64  libcudnn7-dev 7.6.5.32-1+cuda10.2 [165 MB]\n",
            "Get:8 http://archive.ubuntu.com/ubuntu bionic-updates/main amd64 perl amd64 5.26.1-6ubuntu0.5 [201 kB]\n",
            "Get:9 http://archive.ubuntu.com/ubuntu bionic-updates/main amd64 perl-base amd64 5.26.1-6ubuntu0.5 [1,391 kB]\n",
            "Get:10 http://archive.ubuntu.com/ubuntu bionic-updates/main amd64 perl-modules-5.26 all 5.26.1-6ubuntu0.5 [2,762 kB]\n",
            "Get:11 http://archive.ubuntu.com/ubuntu bionic-updates/main amd64 tar amd64 1.29b-2ubuntu0.2 [234 kB]\n",
            "Get:12 http://archive.ubuntu.com/ubuntu bionic-updates/main amd64 libc-bin amd64 2.27-3ubuntu1.4 [643 kB]\n",
            "Get:13 http://archive.ubuntu.com/ubuntu bionic-updates/main amd64 libaudit-common all 1:2.8.2-1ubuntu1.1 [4,068 B]\n",
            "Get:14 http://archive.ubuntu.com/ubuntu bionic-updates/main amd64 libaudit1 amd64 1:2.8.2-1ubuntu1.1 [38.7 kB]\n",
            "Get:15 http://archive.ubuntu.com/ubuntu bionic-updates/main amd64 libzstd1 amd64 1.3.3+dfsg-2ubuntu1.2 [189 kB]\n",
            "Get:16 http://archive.ubuntu.com/ubuntu bionic-updates/main amd64 libp11-kit0 amd64 0.23.9-2ubuntu0.1 [187 kB]\n",
            "Get:17 http://archive.ubuntu.com/ubuntu bionic-updates/main amd64 libssl-dev amd64 1.1.1-1ubuntu2.1~18.04.9 [1,566 kB]\n",
            "Get:18 http://archive.ubuntu.com/ubuntu bionic-updates/main amd64 libssl1.1 amd64 1.1.1-1ubuntu2.1~18.04.9 [1,301 kB]\n",
            "Get:19 http://archive.ubuntu.com/ubuntu bionic-updates/main amd64 openssl amd64 1.1.1-1ubuntu2.1~18.04.9 [614 kB]\n",
            "Get:20 http://archive.ubuntu.com/ubuntu bionic-updates/main amd64 binutils-x86-64-linux-gnu amd64 2.30-21ubuntu1~18.04.5 [1,839 kB]\n",
            "Get:21 http://archive.ubuntu.com/ubuntu bionic-updates/main amd64 binutils-common amd64 2.30-21ubuntu1~18.04.5 [197 kB]\n",
            "Get:22 http://archive.ubuntu.com/ubuntu bionic-updates/main amd64 binutils amd64 2.30-21ubuntu1~18.04.5 [3,388 B]\n",
            "Get:23 http://archive.ubuntu.com/ubuntu bionic-updates/main amd64 libbinutils amd64 2.30-21ubuntu1~18.04.5 [489 kB]\n",
            "Get:24 http://ppa.launchpad.net/c2d4u.team/c2d4u4.0+/ubuntu bionic/main amd64 r-cran-gert amd64 1.3.0-1cran1.1804.0 [175 kB]\n",
            "Get:25 http://archive.ubuntu.com/ubuntu bionic-updates/main amd64 libsasl2-modules-db amd64 2.1.27~101-g0780600+dfsg-3ubuntu2.3 [15.0 kB]\n",
            "Get:26 http://archive.ubuntu.com/ubuntu bionic-updates/main amd64 libsasl2-2 amd64 2.1.27~101-g0780600+dfsg-3ubuntu2.3 [49.2 kB]\n",
            "Get:27 http://archive.ubuntu.com/ubuntu bionic-updates/main amd64 libldap-common all 2.4.45+dfsg-1ubuntu1.10 [15.8 kB]\n",
            "Get:28 http://archive.ubuntu.com/ubuntu bionic-updates/main amd64 libldap-2.4-2 amd64 2.4.45+dfsg-1ubuntu1.10 [154 kB]\n",
            "Get:29 http://archive.ubuntu.com/ubuntu bionic-updates/main amd64 linux-libc-dev amd64 4.15.0-140.144 [993 kB]\n",
            "Get:30 http://archive.ubuntu.com/ubuntu bionic-updates/universe amd64 gnupg2 all 2.2.4-1ubuntu1.4 [5,292 B]\n",
            "Get:31 http://ppa.launchpad.net/c2d4u.team/c2d4u4.0+/ubuntu bionic/main amd64 r-cran-vctrs amd64 0.3.7-1cran1.1804.0 [978 kB]\n",
            "Get:32 https://developer.download.nvidia.com/compute/machine-learning/repos/ubuntu1804/x86_64  libcudnn7 7.6.5.32-1+cuda10.2 [189 MB]\n",
            "Fetched 465 MB in 8s (60.6 MB/s)\n",
            "Extracting templates from packages: 100%\n",
            "Preconfiguring packages ...\n",
            "(Reading database ... 160981 files and directories currently installed.)\n",
            "Preparing to unpack .../libperl5.26_5.26.1-6ubuntu0.5_amd64.deb ...\n",
            "Unpacking libperl5.26:amd64 (5.26.1-6ubuntu0.5) over (5.26.1-6ubuntu0.3) ...\n",
            "Preparing to unpack .../perl_5.26.1-6ubuntu0.5_amd64.deb ...\n",
            "Unpacking perl (5.26.1-6ubuntu0.5) over (5.26.1-6ubuntu0.3) ...\n",
            "Preparing to unpack .../perl-base_5.26.1-6ubuntu0.5_amd64.deb ...\n",
            "Unpacking perl-base (5.26.1-6ubuntu0.5) over (5.26.1-6ubuntu0.3) ...\n",
            "Setting up perl-base (5.26.1-6ubuntu0.5) ...\n",
            "(Reading database ... 160981 files and directories currently installed.)\n",
            "Preparing to unpack .../perl-modules-5.26_5.26.1-6ubuntu0.5_all.deb ...\n",
            "Unpacking perl-modules-5.26 (5.26.1-6ubuntu0.5) over (5.26.1-6ubuntu0.3) ...\n",
            "Preparing to unpack .../tar_1.29b-2ubuntu0.2_amd64.deb ...\n",
            "Unpacking tar (1.29b-2ubuntu0.2) over (1.29b-2ubuntu0.1) ...\n",
            "Setting up tar (1.29b-2ubuntu0.2) ...\n",
            "update-alternatives: warning: forcing reinstallation of alternative /usr/sbin/rmt-tar because link group rmt is broken\n",
            "(Reading database ... 160981 files and directories currently installed.)\n",
            "Preparing to unpack .../libc-bin_2.27-3ubuntu1.4_amd64.deb ...\n",
            "Unpacking libc-bin (2.27-3ubuntu1.4) over (2.27-3ubuntu1.2) ...\n",
            "Setting up libc-bin (2.27-3ubuntu1.4) ...\n",
            "/sbin/ldconfig.real: /usr/local/lib/python3.7/dist-packages/ideep4py/lib/libmkldnn.so.0 is not a symbolic link\n",
            "\n",
            "(Reading database ... 160981 files and directories currently installed.)\n",
            "Preparing to unpack .../libaudit-common_1%3a2.8.2-1ubuntu1.1_all.deb ...\n",
            "Unpacking libaudit-common (1:2.8.2-1ubuntu1.1) over (1:2.8.2-1ubuntu1) ...\n",
            "Setting up libaudit-common (1:2.8.2-1ubuntu1.1) ...\n",
            "(Reading database ... 160981 files and directories currently installed.)\n",
            "Preparing to unpack .../libaudit1_1%3a2.8.2-1ubuntu1.1_amd64.deb ...\n",
            "Unpacking libaudit1:amd64 (1:2.8.2-1ubuntu1.1) over (1:2.8.2-1ubuntu1) ...\n",
            "Setting up libaudit1:amd64 (1:2.8.2-1ubuntu1.1) ...\n",
            "(Reading database ... 160981 files and directories currently installed.)\n",
            "Preparing to unpack .../libzstd1_1.3.3+dfsg-2ubuntu1.2_amd64.deb ...\n",
            "Unpacking libzstd1:amd64 (1.3.3+dfsg-2ubuntu1.2) over (1.3.3+dfsg-2ubuntu1.1) ...\n",
            "Setting up libzstd1:amd64 (1.3.3+dfsg-2ubuntu1.2) ...\n",
            "(Reading database ... 160981 files and directories currently installed.)\n",
            "Preparing to unpack .../libp11-kit0_0.23.9-2ubuntu0.1_amd64.deb ...\n",
            "Unpacking libp11-kit0:amd64 (0.23.9-2ubuntu0.1) over (0.23.9-2) ...\n",
            "Setting up libp11-kit0:amd64 (0.23.9-2ubuntu0.1) ...\n",
            "(Reading database ... 160981 files and directories currently installed.)\n",
            "Preparing to unpack .../00-libssl-dev_1.1.1-1ubuntu2.1~18.04.9_amd64.deb ...\n",
            "Unpacking libssl-dev:amd64 (1.1.1-1ubuntu2.1~18.04.9) over (1.1.1-1ubuntu2.1~18.04.8) ...\n",
            "Preparing to unpack .../01-libssl1.1_1.1.1-1ubuntu2.1~18.04.9_amd64.deb ...\n",
            "Unpacking libssl1.1:amd64 (1.1.1-1ubuntu2.1~18.04.9) over (1.1.1-1ubuntu2.1~18.04.8) ...\n",
            "Preparing to unpack .../02-openssl_1.1.1-1ubuntu2.1~18.04.9_amd64.deb ...\n",
            "Unpacking openssl (1.1.1-1ubuntu2.1~18.04.9) over (1.1.1-1ubuntu2.1~18.04.6) ...\n",
            "Preparing to unpack .../03-binutils-x86-64-linux-gnu_2.30-21ubuntu1~18.04.5_amd64.deb ...\n",
            "Unpacking binutils-x86-64-linux-gnu (2.30-21ubuntu1~18.04.5) over (2.30-21ubuntu1~18.04.4) ...\n",
            "Preparing to unpack .../04-binutils-common_2.30-21ubuntu1~18.04.5_amd64.deb ...\n",
            "Unpacking binutils-common:amd64 (2.30-21ubuntu1~18.04.5) over (2.30-21ubuntu1~18.04.4) ...\n",
            "Preparing to unpack .../05-binutils_2.30-21ubuntu1~18.04.5_amd64.deb ...\n",
            "Unpacking binutils (2.30-21ubuntu1~18.04.5) over (2.30-21ubuntu1~18.04.4) ...\n",
            "Preparing to unpack .../06-libbinutils_2.30-21ubuntu1~18.04.5_amd64.deb ...\n",
            "Unpacking libbinutils:amd64 (2.30-21ubuntu1~18.04.5) over (2.30-21ubuntu1~18.04.4) ...\n",
            "Preparing to unpack .../07-cuda-compat-11-0_450.102.04-1_amd64.deb ...\n",
            "Unpacking cuda-compat-11-0 (450.102.04-1) over (450.80.02-1) ...\n",
            "Preparing to unpack .../08-libcublas10_10.2.3.254-1_amd64.deb ...\n",
            "Unpacking libcublas10 (10.2.3.254-1) over (10.2.1.243-1) ...\n",
            "Preparing to unpack .../09-libcublas-dev_10.2.3.254-1_amd64.deb ...\n",
            "Unpacking libcublas-dev (10.2.3.254-1) over (10.2.1.243-1) ...\n",
            "Preparing to unpack .../10-libcudnn7-dev_7.6.5.32-1+cuda10.2_amd64.deb ...\n",
            "update-alternatives: removing manually selected alternative - switching libcudnn to auto mode\n",
            "update-alternatives: using /usr/include/x86_64-linux-gnu/cudnn_v8.h to provide /usr/include/cudnn.h (libcudnn) in auto mode\n",
            "Unpacking libcudnn7-dev (7.6.5.32-1+cuda10.2) over (7.6.5.32-1+cuda10.1) ...\n",
            "Preparing to unpack .../11-libcudnn7_7.6.5.32-1+cuda10.2_amd64.deb ...\n",
            "Unpacking libcudnn7 (7.6.5.32-1+cuda10.2) over (7.6.5.32-1+cuda10.1) ...\n",
            "Preparing to unpack .../12-libsasl2-modules-db_2.1.27~101-g0780600+dfsg-3ubuntu2.3_amd64.deb ...\n",
            "Unpacking libsasl2-modules-db:amd64 (2.1.27~101-g0780600+dfsg-3ubuntu2.3) over (2.1.27~101-g0780600+dfsg-3ubuntu2.1) ...\n",
            "Preparing to unpack .../13-libsasl2-2_2.1.27~101-g0780600+dfsg-3ubuntu2.3_amd64.deb ...\n",
            "Unpacking libsasl2-2:amd64 (2.1.27~101-g0780600+dfsg-3ubuntu2.3) over (2.1.27~101-g0780600+dfsg-3ubuntu2.1) ...\n",
            "Preparing to unpack .../14-libldap-common_2.4.45+dfsg-1ubuntu1.10_all.deb ...\n",
            "Unpacking libldap-common (2.4.45+dfsg-1ubuntu1.10) over (2.4.45+dfsg-1ubuntu1.6) ...\n",
            "Preparing to unpack .../15-libldap-2.4-2_2.4.45+dfsg-1ubuntu1.10_amd64.deb ...\n",
            "Unpacking libldap-2.4-2:amd64 (2.4.45+dfsg-1ubuntu1.10) over (2.4.45+dfsg-1ubuntu1.6) ...\n",
            "Preparing to unpack .../16-linux-libc-dev_4.15.0-140.144_amd64.deb ...\n",
            "Unpacking linux-libc-dev:amd64 (4.15.0-140.144) over (4.15.0-118.119) ...\n",
            "Preparing to unpack .../17-r-cran-callr_3.6.0-1cran1.1804.0_all.deb ...\n",
            "Unpacking r-cran-callr (3.6.0-1cran1.1804.0) over (3.5.1-1cran1.1804.0) ...\n",
            "Preparing to unpack .../18-r-cran-cpp11_0.2.7-1cran1.1804.0_all.deb ...\n",
            "Unpacking r-cran-cpp11 (0.2.7-1cran1.1804.0) over (0.2.6-1cran1.1804.0) ...\n",
            "Preparing to unpack .../19-r-cran-gert_1.3.0-1cran1.1804.0_amd64.deb ...\n",
            "Unpacking r-cran-gert (1.3.0-1cran1.1804.0) over (1.2.0-1cran1.1804.0) ...\n",
            "Preparing to unpack .../20-r-cran-vctrs_0.3.7-1cran1.1804.0_amd64.deb ...\n",
            "Unpacking r-cran-vctrs (0.3.7-1cran1.1804.0) over (0.3.6-1cran1.1804.0) ...\n",
            "Preparing to unpack .../21-gnupg2_2.2.4-1ubuntu1.4_all.deb ...\n",
            "Unpacking gnupg2 (2.2.4-1ubuntu1.4) over (2.2.4-1ubuntu1.3) ...\n",
            "Setting up libcudnn7 (7.6.5.32-1+cuda10.2) ...\n",
            "Setting up r-cran-callr (3.6.0-1cran1.1804.0) ...\n",
            "Setting up r-cran-gert (1.3.0-1cran1.1804.0) ...\n",
            "Setting up libldap-common (2.4.45+dfsg-1ubuntu1.10) ...\n",
            "Setting up cuda-compat-11-0 (450.102.04-1) ...\n",
            "Setting up libsasl2-modules-db:amd64 (2.1.27~101-g0780600+dfsg-3ubuntu2.3) ...\n",
            "Setting up linux-libc-dev:amd64 (4.15.0-140.144) ...\n",
            "Setting up libsasl2-2:amd64 (2.1.27~101-g0780600+dfsg-3ubuntu2.3) ...\n",
            "Setting up libcudnn7-dev (7.6.5.32-1+cuda10.2) ...\n",
            "update-alternatives: using /usr/include/x86_64-linux-gnu/cudnn_v7.h to provide /usr/include/cudnn.h (libcudnn) in manual mode\n",
            "Setting up perl-modules-5.26 (5.26.1-6ubuntu0.5) ...\n",
            "Setting up r-cran-vctrs (0.3.7-1cran1.1804.0) ...\n",
            "Setting up binutils-common:amd64 (2.30-21ubuntu1~18.04.5) ...\n",
            "Setting up gnupg2 (2.2.4-1ubuntu1.4) ...\n",
            "Setting up libcublas10 (10.2.3.254-1) ...\n",
            "Setting up libcublas-dev (10.2.3.254-1) ...\n",
            "Setting up libperl5.26:amd64 (5.26.1-6ubuntu0.5) ...\n",
            "Setting up libldap-2.4-2:amd64 (2.4.45+dfsg-1ubuntu1.10) ...\n",
            "Setting up libssl1.1:amd64 (1.1.1-1ubuntu2.1~18.04.9) ...\n",
            "Setting up openssl (1.1.1-1ubuntu2.1~18.04.9) ...\n",
            "Setting up r-cran-cpp11 (0.2.7-1cran1.1804.0) ...\n",
            "Setting up libbinutils:amd64 (2.30-21ubuntu1~18.04.5) ...\n",
            "Setting up libssl-dev:amd64 (1.1.1-1ubuntu2.1~18.04.9) ...\n",
            "Setting up perl (5.26.1-6ubuntu0.5) ...\n",
            "Setting up binutils-x86-64-linux-gnu (2.30-21ubuntu1~18.04.5) ...\n",
            "Setting up binutils (2.30-21ubuntu1~18.04.5) ...\n",
            "Processing triggers for libc-bin (2.27-3ubuntu1.4) ...\n",
            "/sbin/ldconfig.real: /usr/local/lib/python3.7/dist-packages/ideep4py/lib/libmkldnn.so.0 is not a symbolic link\n",
            "\n",
            "Processing triggers for man-db (2.8.3-2ubuntu0.1) ...\n",
            "Processing triggers for mime-support (3.60ubuntu1) ...\n"
          ],
          "name": "stdout"
        }
      ]
    },
    {
      "cell_type": "code",
      "metadata": {
        "id": "P297d06VxvH8"
      },
      "source": [
        "os.environ[\"MODEL_DIR\"] = MODEL_DIR"
      ],
      "execution_count": 15,
      "outputs": []
    },
    {
      "cell_type": "code",
      "metadata": {
        "colab": {
          "base_uri": "https://localhost:8080/"
        },
        "id": "ru0WhoDyxxMB",
        "outputId": "710b39bc-7293-4360-f577-809b096dd397"
      },
      "source": [
        "%%bash --bg \n",
        "nohup tensorflow_model_server \\\n",
        "  --rest_api_port=8502 \\\n",
        "  --model_name=saved_model \\\n",
        "  --model_base_path=\"${MODEL_DIR}\" >server.log 2>&1\n"
      ],
      "execution_count": 16,
      "outputs": [
        {
          "output_type": "stream",
          "text": [
            "Starting job # 0 in a separate thread.\n"
          ],
          "name": "stdout"
        }
      ]
    },
    {
      "cell_type": "code",
      "metadata": {
        "colab": {
          "base_uri": "https://localhost:8080/"
        },
        "id": "rRoClJuRxzfz",
        "outputId": "776780df-b733-40c2-9059-ecce1bafec77"
      },
      "source": [
        "!tail server.log"
      ],
      "execution_count": 17,
      "outputs": [
        {
          "output_type": "stream",
          "text": [
            "2021-03-30 20:48:07.769153: I tensorflow_serving/model_servers/server.cc:88] Building single TensorFlow model file config:  model_name: saved_model model_base_path: /tmp\n",
            "2021-03-30 20:48:07.769479: I tensorflow_serving/model_servers/server_core.cc:464] Adding/updating models.\n",
            "2021-03-30 20:48:07.769518: I tensorflow_serving/model_servers/server_core.cc:587]  (Re-)adding model: saved_model\n"
          ],
          "name": "stdout"
        }
      ]
    },
    {
      "cell_type": "code",
      "metadata": {
        "colab": {
          "base_uri": "https://localhost:8080/"
        },
        "id": "RGTL0UCfx5LP",
        "outputId": "aeefa686-d580-433c-e582-5d7f6736e493"
      },
      "source": [
        "import librosa\n",
        "signal, sample_rate = librosa.load('/content/Hirabai Barodekar - Laagi Mori Bindiya.mp3')\n",
        "mfcc = librosa.feature.mfcc(signal)\n",
        "mfcc = mfcc.T\n"
      ],
      "execution_count": 18,
      "outputs": [
        {
          "output_type": "stream",
          "text": [
            "/usr/local/lib/python3.7/dist-packages/librosa/core/audio.py:162: UserWarning: PySoundFile failed. Trying audioread instead.\n",
            "  warnings.warn(\"PySoundFile failed. Trying audioread instead.\")\n"
          ],
          "name": "stderr"
        }
      ]
    },
    {
      "cell_type": "code",
      "metadata": {
        "id": "QlPlUDlS4MTG"
      },
      "source": [
        "import librosa\n",
        "import numpy as np\n",
        "import json\n",
        "import requests"
      ],
      "execution_count": 1,
      "outputs": []
    },
    {
      "cell_type": "code",
      "metadata": {
        "id": "cbzBbFM1ziAp"
      },
      "source": [
        "def predict_raga(fp):\n",
        "\n",
        "    y, sr = librosa.load(fp,res_type='kaiser_best')\n",
        "    mfcc = librosa.feature.mfcc(y=y, sr=22050, hop_length=512, n_mfcc=13)\n",
        "    mfcc=mfcc.T\n",
        "\n",
        "    data = {\n",
        "            \"mfcc\": []\n",
        "        }\n",
        "    data[\"mfcc\"].append(mfcc.tolist())\n",
        "\n",
        "    X = np.array(data[\"mfcc\"])\n",
        "\n",
        "    data = json.dumps({\"signature_name\": \"serving_default\", \"instances\": X.tolist()})\n",
        "    print('Data: {} ... {}'.format(data[:50], data[len(data)-52:]))\n",
        "\n",
        "    headers = {\"content-type\": \"application/json\"}\n",
        "    json_response = requests.post('http://34.72.124.124:8501/v1/models/classify_raga:predict', data=data, headers=headers)\n",
        "\n",
        "    predictions = json.loads(json_response.text)['predictions']\n",
        "    class_names = ['De╠äs╠ü',\n",
        "    'Bhairavi',\n",
        "    'Bila╠äsakha╠äni╠ä to╠äd╠úi╠ä',\n",
        "    'Ba╠äge╠äs╠üri╠ä',\n",
        "    'Ahira bhairav']\n",
        "\n",
        "    print(class_names[np.argmax(predictions)])"
      ],
      "execution_count": 4,
      "outputs": []
    },
    {
      "cell_type": "code",
      "metadata": {
        "id": "hhhecwRhyQLM"
      },
      "source": [
        "path='/content/drive/MyDrive/UnZippedRaagas/RagaDatasetNew/Ahira bhairav/'\n",
        "import os\n",
        "\n",
        "_, _, filenames = next(os.walk(path))"
      ],
      "execution_count": null,
      "outputs": []
    },
    {
      "cell_type": "code",
      "metadata": {
        "id": "eFtbIVm31FW5"
      },
      "source": [
        "# for f in filenames:\n",
        "#   predict_raga(path+f)"
      ],
      "execution_count": null,
      "outputs": []
    },
    {
      "cell_type": "code",
      "metadata": {
        "colab": {
          "base_uri": "https://localhost:8080/"
        },
        "id": "N6ukydh63NVV",
        "outputId": "33eace81-0e03-4b4b-f8ce-303ce13a93d2"
      },
      "source": [
        "predict_raga('/content/Hirabai Barodekar - Laagi Mori Bindiya.mp3')"
      ],
      "execution_count": 6,
      "outputs": [
        {
          "output_type": "stream",
          "text": [
            "/usr/local/lib/python3.7/dist-packages/librosa/core/audio.py:162: UserWarning: PySoundFile failed. Trying audioread instead.\n",
            "  warnings.warn(\"PySoundFile failed. Trying audioread instead.\")\n"
          ],
          "name": "stderr"
        },
        {
          "output_type": "stream",
          "text": [
            "Data: {\"signature_name\": \"serving_default\", \"instances\": ... 0.0, 0.0, 0.0, 0.0, 0.0, 0.0, 0.0, 0.0, 0.0, 0.0]]]}\n",
            "Bhairavi\n"
          ],
          "name": "stdout"
        }
      ]
    },
    {
      "cell_type": "code",
      "metadata": {
        "colab": {
          "base_uri": "https://localhost:8080/",
          "height": 35
        },
        "id": "VFf_28KF9Ec1",
        "outputId": "1608ff24-a04f-4925-ace1-39dcf90ed071"
      },
      "source": [
        "import shutil\n",
        "shutil.make_archive('classify_raga', 'zip', MODEL_DIR)"
      ],
      "execution_count": 27,
      "outputs": [
        {
          "output_type": "execute_result",
          "data": {
            "application/vnd.google.colaboratory.intrinsic+json": {
              "type": "string"
            },
            "text/plain": [
              "'/content/classify_raga.zip'"
            ]
          },
          "metadata": {
            "tags": []
          },
          "execution_count": 27
        }
      ]
    },
    {
      "cell_type": "code",
      "metadata": {
        "colab": {
          "base_uri": "https://localhost:8080/",
          "height": 317
        },
        "id": "giyYwB219ak-",
        "outputId": "8de11fc6-566b-469e-f97c-b03663054ffb"
      },
      "source": [
        "import shutil\n",
        "shutil.make_archive('logs', 'zip', '/content/logs')"
      ],
      "execution_count": 28,
      "outputs": [
        {
          "output_type": "error",
          "ename": "FileNotFoundError",
          "evalue": "ignored",
          "traceback": [
            "\u001b[0;31m---------------------------------------------------------------------------\u001b[0m",
            "\u001b[0;31mFileNotFoundError\u001b[0m                         Traceback (most recent call last)",
            "\u001b[0;32m<ipython-input-28-6c18d51c04a8>\u001b[0m in \u001b[0;36m<module>\u001b[0;34m()\u001b[0m\n\u001b[1;32m      1\u001b[0m \u001b[0;32mimport\u001b[0m \u001b[0mshutil\u001b[0m\u001b[0;34m\u001b[0m\u001b[0;34m\u001b[0m\u001b[0m\n\u001b[0;32m----> 2\u001b[0;31m \u001b[0mshutil\u001b[0m\u001b[0;34m.\u001b[0m\u001b[0mmake_archive\u001b[0m\u001b[0;34m(\u001b[0m\u001b[0;34m'logs'\u001b[0m\u001b[0;34m,\u001b[0m \u001b[0;34m'zip'\u001b[0m\u001b[0;34m,\u001b[0m \u001b[0;34m'/content/logs'\u001b[0m\u001b[0;34m)\u001b[0m\u001b[0;34m\u001b[0m\u001b[0;34m\u001b[0m\u001b[0m\n\u001b[0m",
            "\u001b[0;32m/usr/lib/python3.7/shutil.py\u001b[0m in \u001b[0;36mmake_archive\u001b[0;34m(base_name, format, root_dir, base_dir, verbose, dry_run, owner, group, logger)\u001b[0m\n\u001b[1;32m    799\u001b[0m         \u001b[0mbase_name\u001b[0m \u001b[0;34m=\u001b[0m \u001b[0mos\u001b[0m\u001b[0;34m.\u001b[0m\u001b[0mpath\u001b[0m\u001b[0;34m.\u001b[0m\u001b[0mabspath\u001b[0m\u001b[0;34m(\u001b[0m\u001b[0mbase_name\u001b[0m\u001b[0;34m)\u001b[0m\u001b[0;34m\u001b[0m\u001b[0;34m\u001b[0m\u001b[0m\n\u001b[1;32m    800\u001b[0m         \u001b[0;32mif\u001b[0m \u001b[0;32mnot\u001b[0m \u001b[0mdry_run\u001b[0m\u001b[0;34m:\u001b[0m\u001b[0;34m\u001b[0m\u001b[0;34m\u001b[0m\u001b[0m\n\u001b[0;32m--> 801\u001b[0;31m             \u001b[0mos\u001b[0m\u001b[0;34m.\u001b[0m\u001b[0mchdir\u001b[0m\u001b[0;34m(\u001b[0m\u001b[0mroot_dir\u001b[0m\u001b[0;34m)\u001b[0m\u001b[0;34m\u001b[0m\u001b[0;34m\u001b[0m\u001b[0m\n\u001b[0m\u001b[1;32m    802\u001b[0m \u001b[0;34m\u001b[0m\u001b[0m\n\u001b[1;32m    803\u001b[0m     \u001b[0;32mif\u001b[0m \u001b[0mbase_dir\u001b[0m \u001b[0;32mis\u001b[0m \u001b[0;32mNone\u001b[0m\u001b[0;34m:\u001b[0m\u001b[0;34m\u001b[0m\u001b[0;34m\u001b[0m\u001b[0m\n",
            "\u001b[0;31mFileNotFoundError\u001b[0m: [Errno 2] No such file or directory: '/content/logs'"
          ]
        }
      ]
    },
    {
      "cell_type": "code",
      "metadata": {
        "id": "0W2UKgnN9rGY"
      },
      "source": [
        ""
      ],
      "execution_count": null,
      "outputs": []
    }
  ]
}