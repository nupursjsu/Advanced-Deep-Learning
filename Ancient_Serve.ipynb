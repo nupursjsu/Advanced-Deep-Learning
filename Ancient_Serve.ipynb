{
  "nbformat": 4,
  "nbformat_minor": 0,
  "metadata": {
    "colab": {
      "name": "Ancient Serve.ipynb",
      "provenance": [],
      "collapsed_sections": [],
      "machine_shape": "hm",
      "include_colab_link": true
    },
    "kernelspec": {
      "name": "python3",
      "display_name": "Python 3"
    },
    "language_info": {
      "name": "python"
    },
    "accelerator": "GPU"
  },
  "cells": [
    {
      "cell_type": "markdown",
      "metadata": {
        "id": "view-in-github",
        "colab_type": "text"
      },
      "source": [
        "<a href=\"https://colab.research.google.com/github/nupursjsu/Advanced-Deep-Learning/blob/master/Ancient_Serve.ipynb\" target=\"_parent\"><img src=\"https://colab.research.google.com/assets/colab-badge.svg\" alt=\"Open In Colab\"/></a>"
      ]
    },
    {
      "cell_type": "code",
      "metadata": {
        "colab": {
          "base_uri": "https://localhost:8080/"
        },
        "id": "_RkQ-0T97294",
        "outputId": "a996956b-b909-45e9-e5a6-8d3290abc13b"
      },
      "source": [
        "from google.colab import drive\n",
        "drive.mount('/content/drive')"
      ],
      "execution_count": 1,
      "outputs": [
        {
          "output_type": "stream",
          "text": [
            "Mounted at /content/drive\n"
          ],
          "name": "stdout"
        }
      ]
    },
    {
      "cell_type": "code",
      "metadata": {
        "id": "LWyrQv1DyIq1"
      },
      "source": [
        ""
      ],
      "execution_count": null,
      "outputs": []
    },
    {
      "cell_type": "code",
      "metadata": {
        "colab": {
          "base_uri": "https://localhost:8080/",
          "height": 1000
        },
        "id": "AmHRoJmP7hfB",
        "outputId": "bf11d73e-453e-49dd-cce4-637cbe78950b"
      },
      "source": [
        "import json\n",
        "import numpy as np\n",
        "from sklearn.model_selection import train_test_split\n",
        "import tensorflow.keras as keras\n",
        "import matplotlib.pyplot as plt\n",
        "\n",
        "\n",
        "DATA_PATH = \"/content/data_10.json\"\n",
        "\n",
        "\n",
        "def load_data(data_path):\n",
        "    \"\"\"Loads training dataset from json file.\n",
        "\n",
        "        :param data_path (str): Path to json file containing data\n",
        "        :return X (ndarray): Inputs\n",
        "        :return y (ndarray): Targets\n",
        "    \"\"\"\n",
        "\n",
        "    with open(data_path, \"r\") as fp:\n",
        "      data = json.load(fp)\n",
        "    data['labels']=data['labels']\n",
        "    data['mapping']=data['mapping']\n",
        "    data['mfcc']=data['mfcc']\n",
        "\n",
        "    X = np.array(data[\"mfcc\"])\n",
        "    y = np.array(data[\"labels\"])\n",
        "    return X, y\n",
        "\n",
        "\n",
        "def plot_history(history):\n",
        "    \"\"\"Plots accuracy/loss for training/validation set as a function of the epochs\n",
        "\n",
        "        :param history: Training history of model\n",
        "        :return:\n",
        "    \"\"\"\n",
        "\n",
        "    fig, axs = plt.subplots(2)\n",
        "\n",
        "    # create accuracy sublpot\n",
        "    axs[0].plot(history.history[\"accuracy\"], label=\"train accuracy\")\n",
        "    axs[0].plot(history.history[\"val_accuracy\"], label=\"test accuracy\")\n",
        "    axs[0].set_ylabel(\"Accuracy\")\n",
        "    axs[0].legend(loc=\"lower right\")\n",
        "    axs[0].set_title(\"Accuracy eval\")\n",
        "\n",
        "    # create error sublpot\n",
        "    axs[1].plot(history.history[\"loss\"], label=\"train error\")\n",
        "    axs[1].plot(history.history[\"val_loss\"], label=\"test error\")\n",
        "    axs[1].set_ylabel(\"Error\")\n",
        "    axs[1].set_xlabel(\"Epoch\")\n",
        "    axs[1].legend(loc=\"upper right\")\n",
        "    axs[1].set_title(\"Error eval\")\n",
        "\n",
        "    plt.show()\n",
        "\n",
        "\n",
        "def prepare_datasets(test_size, validation_size):\n",
        "    \"\"\"Loads data and splits it into train, validation and test sets.\n",
        "\n",
        "    :param test_size (float): Value in [0, 1] indicating percentage of data set to allocate to test split\n",
        "    :param validation_size (float): Value in [0, 1] indicating percentage of train set to allocate to validation split\n",
        "\n",
        "    :return X_train (ndarray): Input training set\n",
        "    :return X_validation (ndarray): Input validation set\n",
        "    :return X_test (ndarray): Input test set\n",
        "    :return y_train (ndarray): Target training set\n",
        "    :return y_validation (ndarray): Target validation set\n",
        "    :return y_test (ndarray): Target test set\n",
        "    \"\"\"\n",
        "\n",
        "    # load data\n",
        "    X, y = load_data(DATA_PATH)\n",
        "\n",
        "    # create train, validation and test split\n",
        "    X_train, X_test, y_train, y_test = train_test_split(X, y, test_size=test_size)\n",
        "    X_train, X_validation, y_train, y_validation = train_test_split(X_train, y_train, test_size=validation_size)\n",
        "\n",
        "    return X_train, X_validation, X_test, y_train, y_validation, y_test\n",
        "\n",
        "\n",
        "def build_model(input_shape):\n",
        "    \"\"\"Generates RNN-LSTM model\n",
        "\n",
        "    :param input_shape (tuple): Shape of input set\n",
        "    :return model: RNN-LSTM model\n",
        "    \"\"\"\n",
        "\n",
        "    # build network topology\n",
        "    model = keras.Sequential()\n",
        "\n",
        "    # 2 LSTM layers\n",
        "    # model.add(keras.layers.LSTM(64, input_shape=input_shape, return_sequences=True))\n",
        "    model.add(keras.layers.Bidirectional(keras.layers.LSTM(128, return_sequences=True), input_shape=input_shape))\n",
        "    model.add(keras.layers.Bidirectional(keras.layers.LSTM(64, return_sequences=True)))\n",
        "    model.add(keras.layers.LSTM(64,return_sequences=True))\n",
        "    model.add(keras.layers.SimpleRNN(64))\n",
        "\n",
        "\n",
        "    # dense layer\n",
        "    model.add(keras.layers.Dense(128, activation='relu'))\n",
        "    model.add(keras.layers.Dense(64, activation='relu'))\n",
        "    model.add(keras.layers.Dense(32, activation='relu'))\n",
        "    model.add(keras.layers.Dropout(0.1))\n",
        "\n",
        "    # output layer\n",
        "    model.add(keras.layers.Dense(5, activation='softmax'))\n",
        "\n",
        "    return model\n",
        "\n",
        "\n",
        "if __name__ == \"__main__\":\n",
        "\n",
        "    # get train, validation, test splits\n",
        "    X_train, X_validation, X_test, y_train, y_validation, y_test = prepare_datasets(0.25, 0.2)\n",
        "\n",
        "    # create network\n",
        "    input_shape = (X_train.shape[1], X_train.shape[2]) # 130, 13\n",
        "    model = build_model(input_shape)\n",
        "\n",
        "    # compile model\n",
        "    optimiser = keras.optimizers.Adam(learning_rate=0.001)\n",
        "    model.compile(optimizer=optimiser,\n",
        "                  loss='sparse_categorical_crossentropy',\n",
        "                  metrics=['accuracy'])\n",
        "\n",
        "    model.summary()\n",
        "\n",
        "    # train model\n",
        "    history = model.fit(X_train, y_train, validation_data=(X_validation, y_validation), batch_size=32, epochs=150\n",
        "                        )\n",
        "\n",
        "    # plot accuracy/error for training and validation\n",
        "    plot_history(history)\n",
        "\n",
        "    # evaluate model on test set\n",
        "    test_loss, test_acc = model.evaluate(X_test, y_test, verbose=2)\n",
        "    print('\\nTest accuracy:', test_acc)"
      ],
      "execution_count": null,
      "outputs": [
        {
          "output_type": "stream",
          "text": [
            "Model: \"sequential\"\n",
            "_________________________________________________________________\n",
            "Layer (type)                 Output Shape              Param #   \n",
            "=================================================================\n",
            "bidirectional (Bidirectional (None, 130, 256)          145408    \n",
            "_________________________________________________________________\n",
            "bidirectional_1 (Bidirection (None, 130, 128)          164352    \n",
            "_________________________________________________________________\n",
            "lstm_2 (LSTM)                (None, 130, 64)           49408     \n",
            "_________________________________________________________________\n",
            "simple_rnn (SimpleRNN)       (None, 64)                8256      \n",
            "_________________________________________________________________\n",
            "dense (Dense)                (None, 128)               8320      \n",
            "_________________________________________________________________\n",
            "dense_1 (Dense)              (None, 64)                8256      \n",
            "_________________________________________________________________\n",
            "dense_2 (Dense)              (None, 32)                2080      \n",
            "_________________________________________________________________\n",
            "dropout (Dropout)            (None, 32)                0         \n",
            "_________________________________________________________________\n",
            "dense_3 (Dense)              (None, 5)                 165       \n",
            "=================================================================\n",
            "Total params: 386,245\n",
            "Trainable params: 386,245\n",
            "Non-trainable params: 0\n",
            "_________________________________________________________________\n",
            "Epoch 1/150\n",
            "27/27 [==============================] - 19s 185ms/step - loss: 1.5718 - accuracy: 0.3236 - val_loss: 1.5374 - val_accuracy: 0.3876\n",
            "Epoch 2/150\n",
            "27/27 [==============================] - 3s 115ms/step - loss: 1.5448 - accuracy: 0.3679 - val_loss: 1.5327 - val_accuracy: 0.3876\n",
            "Epoch 3/150\n",
            "27/27 [==============================] - 3s 111ms/step - loss: 1.5396 - accuracy: 0.3340 - val_loss: 1.4809 - val_accuracy: 0.3876\n",
            "Epoch 4/150\n",
            "27/27 [==============================] - 3s 109ms/step - loss: 1.5071 - accuracy: 0.3553 - val_loss: 1.4787 - val_accuracy: 0.4067\n",
            "Epoch 5/150\n",
            "27/27 [==============================] - 3s 110ms/step - loss: 1.4696 - accuracy: 0.4056 - val_loss: 1.4786 - val_accuracy: 0.3876\n",
            "Epoch 6/150\n",
            "27/27 [==============================] - 3s 110ms/step - loss: 1.4537 - accuracy: 0.4088 - val_loss: 1.4762 - val_accuracy: 0.3589\n",
            "Epoch 7/150\n",
            "27/27 [==============================] - 3s 108ms/step - loss: 1.4204 - accuracy: 0.4179 - val_loss: 1.4399 - val_accuracy: 0.4258\n",
            "Epoch 8/150\n",
            "27/27 [==============================] - 3s 108ms/step - loss: 1.3780 - accuracy: 0.4579 - val_loss: 1.5377 - val_accuracy: 0.3684\n",
            "Epoch 9/150\n",
            "27/27 [==============================] - 3s 109ms/step - loss: 1.3117 - accuracy: 0.4706 - val_loss: 1.4128 - val_accuracy: 0.4163\n",
            "Epoch 10/150\n",
            "27/27 [==============================] - 3s 109ms/step - loss: 1.2920 - accuracy: 0.4711 - val_loss: 1.4922 - val_accuracy: 0.3636\n",
            "Epoch 11/150\n",
            "27/27 [==============================] - 3s 109ms/step - loss: 1.3055 - accuracy: 0.4499 - val_loss: 1.4144 - val_accuracy: 0.4115\n",
            "Epoch 12/150\n",
            "27/27 [==============================] - 3s 109ms/step - loss: 1.4798 - accuracy: 0.3939 - val_loss: 1.3931 - val_accuracy: 0.4163\n",
            "Epoch 13/150\n",
            "27/27 [==============================] - 3s 110ms/step - loss: 1.3448 - accuracy: 0.4423 - val_loss: 1.4090 - val_accuracy: 0.4498\n",
            "Epoch 14/150\n",
            "27/27 [==============================] - 3s 109ms/step - loss: 1.2829 - accuracy: 0.4559 - val_loss: 1.3977 - val_accuracy: 0.4402\n",
            "Epoch 15/150\n",
            "27/27 [==============================] - 3s 109ms/step - loss: 1.2409 - accuracy: 0.5095 - val_loss: 1.4353 - val_accuracy: 0.4689\n",
            "Epoch 16/150\n",
            "27/27 [==============================] - 3s 109ms/step - loss: 1.1795 - accuracy: 0.5039 - val_loss: 1.4465 - val_accuracy: 0.4354\n",
            "Epoch 17/150\n",
            "27/27 [==============================] - 3s 108ms/step - loss: 1.1204 - accuracy: 0.4825 - val_loss: 1.4077 - val_accuracy: 0.4450\n",
            "Epoch 18/150\n",
            "27/27 [==============================] - 3s 109ms/step - loss: 1.0527 - accuracy: 0.5242 - val_loss: 1.4563 - val_accuracy: 0.3876\n",
            "Epoch 19/150\n",
            "27/27 [==============================] - 3s 109ms/step - loss: 1.0514 - accuracy: 0.5397 - val_loss: 1.4970 - val_accuracy: 0.4450\n",
            "Epoch 20/150\n",
            "27/27 [==============================] - 3s 108ms/step - loss: 1.1141 - accuracy: 0.5725 - val_loss: 1.3714 - val_accuracy: 0.4306\n",
            "Epoch 21/150\n",
            "27/27 [==============================] - 3s 107ms/step - loss: 1.0896 - accuracy: 0.5545 - val_loss: 1.6242 - val_accuracy: 0.3445\n",
            "Epoch 22/150\n",
            "27/27 [==============================] - 3s 107ms/step - loss: 1.2492 - accuracy: 0.5078 - val_loss: 1.3745 - val_accuracy: 0.4593\n",
            "Epoch 23/150\n",
            "27/27 [==============================] - 3s 106ms/step - loss: 1.2839 - accuracy: 0.4730 - val_loss: 1.3962 - val_accuracy: 0.4545\n",
            "Epoch 24/150\n",
            "27/27 [==============================] - 3s 109ms/step - loss: 1.1723 - accuracy: 0.5372 - val_loss: 1.3007 - val_accuracy: 0.4833\n",
            "Epoch 25/150\n",
            "27/27 [==============================] - 3s 110ms/step - loss: 1.0741 - accuracy: 0.5550 - val_loss: 1.2404 - val_accuracy: 0.4737\n",
            "Epoch 26/150\n",
            "27/27 [==============================] - 3s 107ms/step - loss: 1.0365 - accuracy: 0.5807 - val_loss: 1.4521 - val_accuracy: 0.4737\n",
            "Epoch 27/150\n",
            "27/27 [==============================] - 3s 107ms/step - loss: 1.0080 - accuracy: 0.6234 - val_loss: 1.2554 - val_accuracy: 0.5167\n",
            "Epoch 28/150\n",
            "27/27 [==============================] - 3s 108ms/step - loss: 1.0060 - accuracy: 0.5716 - val_loss: 1.3879 - val_accuracy: 0.5455\n",
            "Epoch 29/150\n",
            "27/27 [==============================] - 3s 108ms/step - loss: 0.8653 - accuracy: 0.6466 - val_loss: 1.4773 - val_accuracy: 0.4450\n",
            "Epoch 30/150\n",
            "27/27 [==============================] - 3s 107ms/step - loss: 1.0213 - accuracy: 0.6116 - val_loss: 1.4067 - val_accuracy: 0.4737\n",
            "Epoch 31/150\n",
            "27/27 [==============================] - 3s 110ms/step - loss: 0.8407 - accuracy: 0.6490 - val_loss: 1.2970 - val_accuracy: 0.5311\n",
            "Epoch 32/150\n",
            "27/27 [==============================] - 3s 108ms/step - loss: 0.7409 - accuracy: 0.7046 - val_loss: 1.5129 - val_accuracy: 0.5072\n",
            "Epoch 33/150\n",
            "27/27 [==============================] - 3s 106ms/step - loss: 0.8026 - accuracy: 0.6700 - val_loss: 1.2921 - val_accuracy: 0.5407\n",
            "Epoch 34/150\n",
            "27/27 [==============================] - 3s 106ms/step - loss: 0.8464 - accuracy: 0.6564 - val_loss: 1.2872 - val_accuracy: 0.5120\n",
            "Epoch 35/150\n",
            "27/27 [==============================] - 3s 105ms/step - loss: 0.7344 - accuracy: 0.7205 - val_loss: 1.4377 - val_accuracy: 0.5694\n",
            "Epoch 36/150\n",
            "27/27 [==============================] - 3s 107ms/step - loss: 0.6441 - accuracy: 0.7493 - val_loss: 1.4809 - val_accuracy: 0.4737\n",
            "Epoch 37/150\n",
            "27/27 [==============================] - 3s 106ms/step - loss: 0.8463 - accuracy: 0.6828 - val_loss: 1.4999 - val_accuracy: 0.5024\n",
            "Epoch 38/150\n",
            "27/27 [==============================] - 3s 106ms/step - loss: 0.6708 - accuracy: 0.7233 - val_loss: 1.2836 - val_accuracy: 0.5455\n",
            "Epoch 39/150\n",
            "27/27 [==============================] - 3s 106ms/step - loss: 0.6063 - accuracy: 0.7701 - val_loss: 1.4236 - val_accuracy: 0.5455\n",
            "Epoch 40/150\n",
            "27/27 [==============================] - 3s 106ms/step - loss: 0.5971 - accuracy: 0.7592 - val_loss: 1.4652 - val_accuracy: 0.5598\n",
            "Epoch 41/150\n",
            "27/27 [==============================] - 3s 107ms/step - loss: 0.6194 - accuracy: 0.7462 - val_loss: 1.5810 - val_accuracy: 0.5215\n",
            "Epoch 42/150\n",
            "27/27 [==============================] - 3s 106ms/step - loss: 0.6392 - accuracy: 0.7455 - val_loss: 1.4121 - val_accuracy: 0.5502\n",
            "Epoch 43/150\n",
            "27/27 [==============================] - 3s 106ms/step - loss: 0.5627 - accuracy: 0.7976 - val_loss: 1.3724 - val_accuracy: 0.5455\n",
            "Epoch 44/150\n",
            "27/27 [==============================] - 3s 105ms/step - loss: 0.4995 - accuracy: 0.8261 - val_loss: 1.3664 - val_accuracy: 0.5742\n",
            "Epoch 45/150\n",
            "27/27 [==============================] - 3s 105ms/step - loss: 0.6050 - accuracy: 0.7797 - val_loss: 1.5630 - val_accuracy: 0.5455\n",
            "Epoch 46/150\n",
            "27/27 [==============================] - 3s 106ms/step - loss: 0.5829 - accuracy: 0.7729 - val_loss: 1.5085 - val_accuracy: 0.5646\n",
            "Epoch 47/150\n",
            "27/27 [==============================] - 3s 106ms/step - loss: 0.5624 - accuracy: 0.8019 - val_loss: 1.4449 - val_accuracy: 0.5885\n",
            "Epoch 48/150\n",
            "27/27 [==============================] - 3s 106ms/step - loss: 0.4516 - accuracy: 0.8272 - val_loss: 1.4948 - val_accuracy: 0.6124\n",
            "Epoch 49/150\n",
            "27/27 [==============================] - 3s 106ms/step - loss: 0.5104 - accuracy: 0.8248 - val_loss: 1.5058 - val_accuracy: 0.5502\n",
            "Epoch 50/150\n",
            "27/27 [==============================] - 3s 107ms/step - loss: 0.4587 - accuracy: 0.8271 - val_loss: 1.4648 - val_accuracy: 0.5311\n",
            "Epoch 51/150\n",
            "27/27 [==============================] - 3s 107ms/step - loss: 0.5487 - accuracy: 0.7938 - val_loss: 1.4955 - val_accuracy: 0.5742\n",
            "Epoch 52/150\n",
            "27/27 [==============================] - 3s 108ms/step - loss: 0.5552 - accuracy: 0.8000 - val_loss: 1.5731 - val_accuracy: 0.5646\n",
            "Epoch 53/150\n",
            "27/27 [==============================] - 3s 106ms/step - loss: 0.4834 - accuracy: 0.8256 - val_loss: 1.5824 - val_accuracy: 0.5550\n",
            "Epoch 54/150\n",
            "27/27 [==============================] - 3s 106ms/step - loss: 0.4434 - accuracy: 0.8335 - val_loss: 1.5812 - val_accuracy: 0.6172\n",
            "Epoch 55/150\n",
            "27/27 [==============================] - 3s 108ms/step - loss: 0.3287 - accuracy: 0.8893 - val_loss: 1.6119 - val_accuracy: 0.6077\n",
            "Epoch 56/150\n",
            "27/27 [==============================] - 3s 106ms/step - loss: 0.3141 - accuracy: 0.8822 - val_loss: 1.7591 - val_accuracy: 0.5885\n",
            "Epoch 57/150\n",
            "27/27 [==============================] - 3s 105ms/step - loss: 0.4012 - accuracy: 0.8566 - val_loss: 1.4750 - val_accuracy: 0.5646\n",
            "Epoch 58/150\n",
            "27/27 [==============================] - 3s 104ms/step - loss: 0.3884 - accuracy: 0.8751 - val_loss: 1.5972 - val_accuracy: 0.5885\n",
            "Epoch 59/150\n",
            "27/27 [==============================] - 3s 105ms/step - loss: 0.6280 - accuracy: 0.7801 - val_loss: 1.5717 - val_accuracy: 0.4928\n",
            "Epoch 60/150\n",
            "27/27 [==============================] - 3s 105ms/step - loss: 0.6046 - accuracy: 0.7674 - val_loss: 1.4887 - val_accuracy: 0.5742\n",
            "Epoch 61/150\n",
            "27/27 [==============================] - 3s 105ms/step - loss: 0.4090 - accuracy: 0.8346 - val_loss: 1.4826 - val_accuracy: 0.5407\n",
            "Epoch 62/150\n",
            "27/27 [==============================] - 3s 105ms/step - loss: 0.3727 - accuracy: 0.8606 - val_loss: 1.7066 - val_accuracy: 0.5981\n",
            "Epoch 63/150\n",
            "27/27 [==============================] - 3s 106ms/step - loss: 0.3930 - accuracy: 0.8599 - val_loss: 1.6757 - val_accuracy: 0.5311\n",
            "Epoch 64/150\n",
            "27/27 [==============================] - 3s 106ms/step - loss: 0.3494 - accuracy: 0.8852 - val_loss: 1.4593 - val_accuracy: 0.6316\n",
            "Epoch 65/150\n",
            "27/27 [==============================] - 3s 105ms/step - loss: 0.4125 - accuracy: 0.8216 - val_loss: 1.7948 - val_accuracy: 0.6124\n",
            "Epoch 66/150\n",
            "27/27 [==============================] - 3s 106ms/step - loss: 0.3573 - accuracy: 0.8691 - val_loss: 1.7307 - val_accuracy: 0.5646\n",
            "Epoch 67/150\n",
            "27/27 [==============================] - 3s 107ms/step - loss: 0.3418 - accuracy: 0.8757 - val_loss: 1.9687 - val_accuracy: 0.5359\n",
            "Epoch 68/150\n",
            "27/27 [==============================] - 3s 107ms/step - loss: 0.8485 - accuracy: 0.7683 - val_loss: 1.4226 - val_accuracy: 0.5167\n",
            "Epoch 69/150\n",
            "27/27 [==============================] - 3s 106ms/step - loss: 0.6660 - accuracy: 0.7537 - val_loss: 1.3571 - val_accuracy: 0.5885\n",
            "Epoch 70/150\n",
            "27/27 [==============================] - 3s 106ms/step - loss: 0.4071 - accuracy: 0.8660 - val_loss: 1.8519 - val_accuracy: 0.5646\n",
            "Epoch 71/150\n",
            "27/27 [==============================] - 3s 107ms/step - loss: 0.3265 - accuracy: 0.8891 - val_loss: 1.8223 - val_accuracy: 0.5407\n",
            "Epoch 72/150\n",
            "27/27 [==============================] - 3s 107ms/step - loss: 0.2316 - accuracy: 0.9177 - val_loss: 1.8211 - val_accuracy: 0.5646\n",
            "Epoch 73/150\n",
            "27/27 [==============================] - 3s 106ms/step - loss: 0.1473 - accuracy: 0.9554 - val_loss: 2.2923 - val_accuracy: 0.5646\n",
            "Epoch 74/150\n",
            "27/27 [==============================] - 3s 107ms/step - loss: 0.1180 - accuracy: 0.9540 - val_loss: 2.2025 - val_accuracy: 0.5885\n",
            "Epoch 75/150\n",
            "27/27 [==============================] - 3s 106ms/step - loss: 1.5499 - accuracy: 0.5854 - val_loss: 1.3929 - val_accuracy: 0.4258\n",
            "Epoch 76/150\n",
            "27/27 [==============================] - 3s 105ms/step - loss: 1.2393 - accuracy: 0.5308 - val_loss: 1.4750 - val_accuracy: 0.4498\n",
            "Epoch 77/150\n",
            "27/27 [==============================] - 3s 105ms/step - loss: 0.9600 - accuracy: 0.6458 - val_loss: 1.4101 - val_accuracy: 0.5407\n",
            "Epoch 78/150\n",
            "27/27 [==============================] - 3s 108ms/step - loss: 0.7577 - accuracy: 0.7197 - val_loss: 1.3553 - val_accuracy: 0.5311\n",
            "Epoch 79/150\n",
            "27/27 [==============================] - 3s 107ms/step - loss: 0.7043 - accuracy: 0.7609 - val_loss: 1.5539 - val_accuracy: 0.5502\n",
            "Epoch 80/150\n",
            "27/27 [==============================] - 3s 106ms/step - loss: 0.4647 - accuracy: 0.8297 - val_loss: 1.8298 - val_accuracy: 0.5598\n",
            "Epoch 81/150\n",
            "27/27 [==============================] - 3s 106ms/step - loss: 0.4289 - accuracy: 0.8466 - val_loss: 1.8589 - val_accuracy: 0.5311\n",
            "Epoch 82/150\n",
            "27/27 [==============================] - 3s 106ms/step - loss: 0.3859 - accuracy: 0.8623 - val_loss: 2.0799 - val_accuracy: 0.5120\n",
            "Epoch 83/150\n",
            "27/27 [==============================] - 3s 106ms/step - loss: 0.5024 - accuracy: 0.8244 - val_loss: 1.8917 - val_accuracy: 0.5646\n",
            "Epoch 84/150\n",
            "27/27 [==============================] - 3s 105ms/step - loss: 0.4709 - accuracy: 0.8390 - val_loss: 1.5775 - val_accuracy: 0.6029\n",
            "Epoch 85/150\n",
            "27/27 [==============================] - 3s 105ms/step - loss: 0.3380 - accuracy: 0.8885 - val_loss: 2.3617 - val_accuracy: 0.5120\n",
            "Epoch 86/150\n",
            "27/27 [==============================] - 3s 107ms/step - loss: 0.5225 - accuracy: 0.8381 - val_loss: 1.4948 - val_accuracy: 0.6077\n",
            "Epoch 87/150\n",
            "27/27 [==============================] - 3s 106ms/step - loss: 0.3439 - accuracy: 0.8758 - val_loss: 1.7266 - val_accuracy: 0.6411\n",
            "Epoch 88/150\n",
            "27/27 [==============================] - 3s 108ms/step - loss: 0.2100 - accuracy: 0.9284 - val_loss: 2.0215 - val_accuracy: 0.6077\n",
            "Epoch 89/150\n",
            "27/27 [==============================] - 3s 107ms/step - loss: 0.2244 - accuracy: 0.9328 - val_loss: 2.0798 - val_accuracy: 0.5837\n",
            "Epoch 90/150\n",
            "27/27 [==============================] - 3s 106ms/step - loss: 0.2808 - accuracy: 0.9142 - val_loss: 1.9213 - val_accuracy: 0.5646\n",
            "Epoch 91/150\n",
            "27/27 [==============================] - 3s 106ms/step - loss: 0.3052 - accuracy: 0.8914 - val_loss: 1.7657 - val_accuracy: 0.5933\n",
            "Epoch 92/150\n",
            "27/27 [==============================] - 3s 106ms/step - loss: 0.2369 - accuracy: 0.9439 - val_loss: 1.7146 - val_accuracy: 0.6124\n",
            "Epoch 93/150\n",
            "27/27 [==============================] - 3s 106ms/step - loss: 0.5349 - accuracy: 0.8434 - val_loss: 1.3098 - val_accuracy: 0.5837\n",
            "Epoch 94/150\n",
            "27/27 [==============================] - 3s 106ms/step - loss: 0.4104 - accuracy: 0.8475 - val_loss: 1.6714 - val_accuracy: 0.5407\n",
            "Epoch 95/150\n",
            "27/27 [==============================] - 3s 106ms/step - loss: 0.2960 - accuracy: 0.9161 - val_loss: 1.7905 - val_accuracy: 0.5981\n",
            "Epoch 96/150\n",
            "27/27 [==============================] - 3s 108ms/step - loss: 0.1347 - accuracy: 0.9678 - val_loss: 1.8325 - val_accuracy: 0.6364\n",
            "Epoch 97/150\n",
            "27/27 [==============================] - 3s 107ms/step - loss: 0.1728 - accuracy: 0.9463 - val_loss: 1.7065 - val_accuracy: 0.6124\n",
            "Epoch 98/150\n",
            "27/27 [==============================] - 3s 106ms/step - loss: 0.1802 - accuracy: 0.9498 - val_loss: 1.8838 - val_accuracy: 0.6029\n",
            "Epoch 99/150\n",
            "27/27 [==============================] - 3s 107ms/step - loss: 0.1952 - accuracy: 0.9424 - val_loss: 1.7424 - val_accuracy: 0.6364\n",
            "Epoch 100/150\n",
            "27/27 [==============================] - 3s 107ms/step - loss: 0.1128 - accuracy: 0.9645 - val_loss: 1.9373 - val_accuracy: 0.5981\n",
            "Epoch 101/150\n",
            "27/27 [==============================] - 3s 107ms/step - loss: 0.1734 - accuracy: 0.9575 - val_loss: 1.9825 - val_accuracy: 0.5981\n",
            "Epoch 102/150\n",
            "27/27 [==============================] - 3s 105ms/step - loss: 0.2299 - accuracy: 0.9309 - val_loss: 2.1123 - val_accuracy: 0.5742\n",
            "Epoch 103/150\n",
            "27/27 [==============================] - 3s 107ms/step - loss: 0.3362 - accuracy: 0.9000 - val_loss: 2.0326 - val_accuracy: 0.5742\n",
            "Epoch 104/150\n",
            "27/27 [==============================] - 3s 106ms/step - loss: 0.2403 - accuracy: 0.9166 - val_loss: 2.0376 - val_accuracy: 0.6316\n",
            "Epoch 105/150\n",
            "27/27 [==============================] - 3s 106ms/step - loss: 0.1426 - accuracy: 0.9574 - val_loss: 1.9155 - val_accuracy: 0.6555\n",
            "Epoch 106/150\n",
            "27/27 [==============================] - 3s 110ms/step - loss: 0.1004 - accuracy: 0.9727 - val_loss: 2.0069 - val_accuracy: 0.6316\n",
            "Epoch 107/150\n",
            "27/27 [==============================] - 3s 109ms/step - loss: 0.1272 - accuracy: 0.9610 - val_loss: 2.1517 - val_accuracy: 0.6077\n",
            "Epoch 108/150\n",
            "27/27 [==============================] - 3s 108ms/step - loss: 0.2595 - accuracy: 0.9249 - val_loss: 1.9057 - val_accuracy: 0.6220\n",
            "Epoch 109/150\n",
            "27/27 [==============================] - 3s 109ms/step - loss: 0.2691 - accuracy: 0.9132 - val_loss: 1.8169 - val_accuracy: 0.6124\n",
            "Epoch 110/150\n",
            "27/27 [==============================] - 3s 109ms/step - loss: 0.1850 - accuracy: 0.9433 - val_loss: 2.0573 - val_accuracy: 0.5885\n",
            "Epoch 111/150\n",
            "27/27 [==============================] - 3s 109ms/step - loss: 0.0697 - accuracy: 0.9733 - val_loss: 2.2832 - val_accuracy: 0.6029\n",
            "Epoch 112/150\n",
            "27/27 [==============================] - 3s 108ms/step - loss: 0.0817 - accuracy: 0.9776 - val_loss: 2.2613 - val_accuracy: 0.6268\n",
            "Epoch 113/150\n",
            "27/27 [==============================] - 3s 107ms/step - loss: 0.0525 - accuracy: 0.9840 - val_loss: 2.2511 - val_accuracy: 0.6172\n",
            "Epoch 114/150\n",
            "27/27 [==============================] - 3s 107ms/step - loss: 0.0305 - accuracy: 0.9915 - val_loss: 2.4135 - val_accuracy: 0.5885\n",
            "Epoch 115/150\n",
            "27/27 [==============================] - 3s 106ms/step - loss: 0.0996 - accuracy: 0.9751 - val_loss: 2.3188 - val_accuracy: 0.6172\n",
            "Epoch 116/150\n",
            "27/27 [==============================] - 3s 106ms/step - loss: 0.0673 - accuracy: 0.9841 - val_loss: 2.4142 - val_accuracy: 0.6172\n",
            "Epoch 117/150\n",
            "27/27 [==============================] - 3s 106ms/step - loss: 0.1720 - accuracy: 0.9536 - val_loss: 1.6685 - val_accuracy: 0.6842\n",
            "Epoch 118/150\n",
            "27/27 [==============================] - 3s 106ms/step - loss: 0.1075 - accuracy: 0.9695 - val_loss: 2.3496 - val_accuracy: 0.5789\n",
            "Epoch 119/150\n",
            "27/27 [==============================] - 3s 105ms/step - loss: 0.1440 - accuracy: 0.9531 - val_loss: 2.1287 - val_accuracy: 0.6268\n",
            "Epoch 120/150\n",
            "27/27 [==============================] - 3s 108ms/step - loss: 0.1662 - accuracy: 0.9347 - val_loss: 2.0203 - val_accuracy: 0.6268\n",
            "Epoch 121/150\n",
            "27/27 [==============================] - 3s 106ms/step - loss: 0.1281 - accuracy: 0.9637 - val_loss: 2.2614 - val_accuracy: 0.6268\n",
            "Epoch 122/150\n",
            "27/27 [==============================] - 3s 106ms/step - loss: 0.0763 - accuracy: 0.9745 - val_loss: 2.4461 - val_accuracy: 0.6124\n",
            "Epoch 123/150\n",
            "27/27 [==============================] - 3s 106ms/step - loss: 0.0524 - accuracy: 0.9817 - val_loss: 2.5363 - val_accuracy: 0.6029\n",
            "Epoch 124/150\n",
            "27/27 [==============================] - 3s 108ms/step - loss: 0.0747 - accuracy: 0.9843 - val_loss: 2.2965 - val_accuracy: 0.6316\n",
            "Epoch 125/150\n",
            "27/27 [==============================] - 3s 106ms/step - loss: 0.0560 - accuracy: 0.9847 - val_loss: 2.2414 - val_accuracy: 0.5981\n",
            "Epoch 126/150\n",
            "27/27 [==============================] - 3s 105ms/step - loss: 0.2449 - accuracy: 0.9468 - val_loss: 1.7773 - val_accuracy: 0.6316\n",
            "Epoch 127/150\n",
            "27/27 [==============================] - 3s 110ms/step - loss: 0.0370 - accuracy: 0.9899 - val_loss: 2.0545 - val_accuracy: 0.6172\n",
            "Epoch 128/150\n",
            "27/27 [==============================] - 3s 111ms/step - loss: 0.0315 - accuracy: 0.9945 - val_loss: 2.2360 - val_accuracy: 0.6124\n",
            "Epoch 129/150\n",
            "27/27 [==============================] - 3s 106ms/step - loss: 0.0162 - accuracy: 0.9973 - val_loss: 2.2372 - val_accuracy: 0.6459\n",
            "Epoch 130/150\n",
            "27/27 [==============================] - 3s 109ms/step - loss: 0.0078 - accuracy: 0.9984 - val_loss: 2.2754 - val_accuracy: 0.6555\n",
            "Epoch 131/150\n",
            "27/27 [==============================] - 3s 107ms/step - loss: 0.0081 - accuracy: 0.9991 - val_loss: 2.5431 - val_accuracy: 0.6316\n",
            "Epoch 132/150\n",
            "27/27 [==============================] - 3s 108ms/step - loss: 0.0101 - accuracy: 0.9985 - val_loss: 2.6629 - val_accuracy: 0.6316\n",
            "Epoch 133/150\n",
            "27/27 [==============================] - 3s 108ms/step - loss: 0.0230 - accuracy: 0.9926 - val_loss: 2.6574 - val_accuracy: 0.6364\n",
            "Epoch 134/150\n",
            "27/27 [==============================] - 3s 107ms/step - loss: 0.0596 - accuracy: 0.9854 - val_loss: 2.5479 - val_accuracy: 0.5550\n",
            "Epoch 135/150\n",
            "27/27 [==============================] - 3s 108ms/step - loss: 0.4399 - accuracy: 0.8771 - val_loss: 1.9208 - val_accuracy: 0.6029\n",
            "Epoch 136/150\n",
            "27/27 [==============================] - 3s 108ms/step - loss: 0.3109 - accuracy: 0.8959 - val_loss: 1.7969 - val_accuracy: 0.6411\n",
            "Epoch 137/150\n",
            "27/27 [==============================] - 3s 106ms/step - loss: 0.1501 - accuracy: 0.9556 - val_loss: 2.0230 - val_accuracy: 0.6220\n",
            "Epoch 138/150\n",
            "27/27 [==============================] - 3s 107ms/step - loss: 0.0414 - accuracy: 0.9885 - val_loss: 2.2234 - val_accuracy: 0.6411\n",
            "Epoch 139/150\n",
            "27/27 [==============================] - 3s 106ms/step - loss: 0.0429 - accuracy: 0.9895 - val_loss: 2.3496 - val_accuracy: 0.6411\n",
            "Epoch 140/150\n",
            "27/27 [==============================] - 3s 106ms/step - loss: 0.0397 - accuracy: 0.9873 - val_loss: 2.4699 - val_accuracy: 0.6459\n",
            "Epoch 141/150\n",
            "27/27 [==============================] - 3s 106ms/step - loss: 0.0511 - accuracy: 0.9817 - val_loss: 2.4460 - val_accuracy: 0.6077\n",
            "Epoch 142/150\n",
            "27/27 [==============================] - 3s 104ms/step - loss: 0.1119 - accuracy: 0.9676 - val_loss: 2.0982 - val_accuracy: 0.6364\n",
            "Epoch 143/150\n",
            "27/27 [==============================] - 3s 106ms/step - loss: 0.0703 - accuracy: 0.9808 - val_loss: 2.2984 - val_accuracy: 0.6220\n",
            "Epoch 144/150\n",
            "27/27 [==============================] - 3s 106ms/step - loss: 0.0652 - accuracy: 0.9811 - val_loss: 2.2954 - val_accuracy: 0.6268\n",
            "Epoch 145/150\n",
            "27/27 [==============================] - 3s 106ms/step - loss: 0.0434 - accuracy: 0.9848 - val_loss: 2.5111 - val_accuracy: 0.6316\n",
            "Epoch 146/150\n",
            "27/27 [==============================] - 3s 106ms/step - loss: 0.1298 - accuracy: 0.9677 - val_loss: 2.5198 - val_accuracy: 0.5742\n",
            "Epoch 147/150\n",
            "27/27 [==============================] - 3s 107ms/step - loss: 0.0881 - accuracy: 0.9724 - val_loss: 2.2378 - val_accuracy: 0.6124\n",
            "Epoch 148/150\n",
            "27/27 [==============================] - 3s 106ms/step - loss: 0.1048 - accuracy: 0.9789 - val_loss: 2.0506 - val_accuracy: 0.6316\n",
            "Epoch 149/150\n",
            "27/27 [==============================] - 3s 106ms/step - loss: 0.0417 - accuracy: 0.9849 - val_loss: 2.1898 - val_accuracy: 0.6268\n",
            "Epoch 150/150\n",
            "27/27 [==============================] - 3s 106ms/step - loss: 0.0674 - accuracy: 0.9850 - val_loss: 2.3447 - val_accuracy: 0.6220\n"
          ],
          "name": "stdout"
        },
        {
          "output_type": "display_data",
          "data": {
            "image/png": "[encoded data removed]",
            "text/plain": [
              "<Figure size 432x288 with 2 Axes>"
            ]
          },
          "metadata": {
            "tags": [],
            "needs_background": "light"
          }
        },
        {
          "output_type": "stream",
          "text": [
            "11/11 - 0s - loss: 2.0390 - accuracy: 0.6523\n",
            "\n",
            "Test accuracy: 0.6522988677024841\n"
          ],
          "name": "stdout"
        }
      ]
    },
    {
      "cell_type": "code",
      "metadata": {
        "colab": {
          "base_uri": "https://localhost:8080/"
        },
        "id": "IDONqkyhFO-g",
        "outputId": "ee80f219-67d1-4cb8-b594-2c8f81110bbb"
      },
      "source": [
        "model.save('my_model')"
      ],
      "execution_count": null,
      "outputs": [
        {
          "output_type": "stream",
          "text": [
            "WARNING:absl:Found untraced functions such as lstm_cell_20_layer_call_and_return_conditional_losses, lstm_cell_20_layer_call_fn, lstm_cell_15_layer_call_and_return_conditional_losses, lstm_cell_15_layer_call_fn, lstm_cell_16_layer_call_and_return_conditional_losses while saving (showing 5 of 25). These functions will not be directly callable after loading.\n",
            "WARNING:absl:Found untraced functions such as lstm_cell_20_layer_call_and_return_conditional_losses, lstm_cell_20_layer_call_fn, lstm_cell_15_layer_call_and_return_conditional_losses, lstm_cell_15_layer_call_fn, lstm_cell_16_layer_call_and_return_conditional_losses while saving (showing 5 of 25). These functions will not be directly callable after loading.\n"
          ],
          "name": "stderr"
        },
        {
          "output_type": "stream",
          "text": [
            "INFO:tensorflow:Assets written to: my_model/assets\n"
          ],
          "name": "stdout"
        },
        {
          "output_type": "stream",
          "text": [
            "INFO:tensorflow:Assets written to: my_model/assets\n"
          ],
          "name": "stderr"
        }
      ]
    },
    {
      "cell_type": "code",
      "metadata": {
        "colab": {
          "base_uri": "https://localhost:8080/"
        },
        "id": "EcYzbBFcFoCM",
        "outputId": "d3789a2e-add2-44fc-da93-a6e78ac3c597"
      },
      "source": [
        "!zip -r example.zip '/content/my_model'"
      ],
      "execution_count": null,
      "outputs": [
        {
          "output_type": "stream",
          "text": [
            "  adding: content/my_model/ (stored 0%)\n",
            "  adding: content/my_model/saved_model.pb (deflated 90%)\n",
            "  adding: content/my_model/variables/ (stored 0%)\n",
            "  adding: content/my_model/variables/variables.index (deflated 72%)\n",
            "  adding: content/my_model/variables/variables.data-00000-of-00001 (deflated 5%)\n",
            "  adding: content/my_model/assets/ (stored 0%)\n"
          ],
          "name": "stdout"
        }
      ]
    },
    {
      "cell_type": "code",
      "metadata": {
        "id": "T7B4FkuV8OU3"
      },
      "source": [
        "data_path=\"/content/drive/MyDrive/Final_MFCC_data.json\""
      ],
      "execution_count": null,
      "outputs": []
    },
    {
      "cell_type": "code",
      "metadata": {
        "id": "z2PVUbq974oO"
      },
      "source": [
        "with open('/content/data_10.json', \"r\") as fp:\n",
        "        data = json.load(fp)"
      ],
      "execution_count": null,
      "outputs": []
    },
    {
      "cell_type": "code",
      "metadata": {
        "colab": {
          "base_uri": "https://localhost:8080/"
        },
        "id": "h5pnTsfu3GUX",
        "outputId": "b0208919-9f20-4f9d-a459-d373639b9b55"
      },
      "source": [
        "data['mapping']"
      ],
      "execution_count": null,
      "outputs": [
        {
          "output_type": "execute_result",
          "data": {
            "text/plain": [
              "['De╠äs╠ü',\n",
              " 'Bhairavi',\n",
              " 'Bila╠äsakha╠äni╠ä to╠äd╠úi╠ä',\n",
              " 'Ba╠äge╠äs╠üri╠ä',\n",
              " 'Ahira bhairav']"
            ]
          },
          "metadata": {
            "tags": []
          },
          "execution_count": 58
        }
      ]
    },
    {
      "cell_type": "code",
      "metadata": {
        "colab": {
          "base_uri": "https://localhost:8080/"
        },
        "id": "WEXUHz-28RbC",
        "outputId": "11fc179e-fc94-44d2-890a-7b3736180479"
      },
      "source": [
        "set(data['labels'])"
      ],
      "execution_count": null,
      "outputs": [
        {
          "output_type": "execute_result",
          "data": {
            "text/plain": [
              "{0, 1, 2, 3, 4, 5, 6, 7, 8, 9, 10, 11}"
            ]
          },
          "metadata": {
            "tags": []
          },
          "execution_count": 9
        }
      ]
    },
    {
      "cell_type": "code",
      "metadata": {
        "id": "zOrL5AQ_oCD6"
      },
      "source": [
        "import zipfile\n",
        "with zipfile.ZipFile('/content/example.zip', 'r') as zip_ref:\n",
        "    zip_ref.extractall('model')"
      ],
      "execution_count": null,
      "outputs": []
    },
    {
      "cell_type": "code",
      "metadata": {
        "id": "yToPveHOoNDp"
      },
      "source": [
        "import keras\n"
      ],
      "execution_count": null,
      "outputs": []
    },
    {
      "cell_type": "code",
      "metadata": {
        "id": "V0rkcVF-oOae"
      },
      "source": [
        "model=keras.models.load_model('/content/model/content/my_model')"
      ],
      "execution_count": null,
      "outputs": []
    },
    {
      "cell_type": "code",
      "metadata": {
        "colab": {
          "base_uri": "https://localhost:8080/"
        },
        "id": "mKl8TUDFxffC",
        "outputId": "f8f14aac-7623-4dbd-a138-c4b3f0c44cd5"
      },
      "source": [
        "# Fetch the Keras session and save the model\n",
        "# The signature definition is defined by the input and output tensors,\n",
        "# and stored with the default serving key\n",
        "import tempfile\n",
        "import os\n",
        "import tensorflow as tf\n",
        "\n",
        "# os.mkdir('model_folder')\n",
        "# MODEL_DIR='model_folder'\n",
        "MODEL_DIR = tempfile.gettempdir()\n",
        "version = 1\n",
        "export_path = os.path.join(MODEL_DIR, str(version))\n",
        "print('export_path = {}\\n'.format(export_path))\n",
        "\n",
        "tf.keras.models.save_model(\n",
        "    model,\n",
        "    export_path,\n",
        "    overwrite=True,\n",
        "    include_optimizer=True,\n",
        "    save_format=None,\n",
        "    signatures=None,\n",
        "    options=None\n",
        ")\n",
        "\n",
        "print('\\nSaved model:')\n",
        "!ls -l {export_path}"
      ],
      "execution_count": null,
      "outputs": [
        {
          "output_type": "stream",
          "text": [
            "export_path = /tmp/1\n",
            "\n"
          ],
          "name": "stdout"
        },
        {
          "output_type": "stream",
          "text": [
            "WARNING:absl:Found untraced functions such as lstm_cell_6_layer_call_fn, lstm_cell_6_layer_call_and_return_conditional_losses, lstm_cell_1_layer_call_fn, lstm_cell_1_layer_call_and_return_conditional_losses, lstm_cell_2_layer_call_fn while saving (showing 5 of 25). These functions will not be directly callable after loading.\n",
            "WARNING:absl:Found untraced functions such as lstm_cell_6_layer_call_fn, lstm_cell_6_layer_call_and_return_conditional_losses, lstm_cell_1_layer_call_fn, lstm_cell_1_layer_call_and_return_conditional_losses, lstm_cell_2_layer_call_fn while saving (showing 5 of 25). These functions will not be directly callable after loading.\n"
          ],
          "name": "stderr"
        },
        {
          "output_type": "stream",
          "text": [
            "INFO:tensorflow:Assets written to: /tmp/1/assets\n"
          ],
          "name": "stdout"
        },
        {
          "output_type": "stream",
          "text": [
            "INFO:tensorflow:Assets written to: /tmp/1/assets\n"
          ],
          "name": "stderr"
        },
        {
          "output_type": "stream",
          "text": [
            "\n",
            "Saved model:\n",
            "total 6036\n",
            "drwxr-xr-x 2 root root    4096 Mar 30 06:16 assets\n",
            "-rw-r--r-- 1 root root 6171068 Mar 30 07:00 saved_model.pb\n",
            "drwxr-xr-x 2 root root    4096 Mar 30 07:00 variables\n"
          ],
          "name": "stdout"
        }
      ]
    },
    {
      "cell_type": "code",
      "metadata": {
        "colab": {
          "base_uri": "https://localhost:8080/"
        },
        "id": "HG23W7uZxivT",
        "outputId": "35e3bec8-69e1-443c-e234-78fa0f13ef64"
      },
      "source": [
        "!saved_model_cli show --dir {export_path} --all"
      ],
      "execution_count": null,
      "outputs": [
        {
          "output_type": "stream",
          "text": [
            "\n",
            "MetaGraphDef with tag-set: 'serve' contains the following SignatureDefs:\n",
            "\n",
            "signature_def['__saved_model_init_op']:\n",
            "  The given SavedModel SignatureDef contains the following input(s):\n",
            "  The given SavedModel SignatureDef contains the following output(s):\n",
            "    outputs['__saved_model_init_op'] tensor_info:\n",
            "        dtype: DT_INVALID\n",
            "        shape: unknown_rank\n",
            "        name: NoOp\n",
            "  Method name is: \n",
            "\n",
            "signature_def['serving_default']:\n",
            "  The given SavedModel SignatureDef contains the following input(s):\n",
            "    inputs['bidirectional_input'] tensor_info:\n",
            "        dtype: DT_FLOAT\n",
            "        shape: (-1, 130, 13)\n",
            "        name: serving_default_bidirectional_input:0\n",
            "  The given SavedModel SignatureDef contains the following output(s):\n",
            "    outputs['dense_3'] tensor_info:\n",
            "        dtype: DT_FLOAT\n",
            "        shape: (-1, 5)\n",
            "        name: StatefulPartitionedCall:0\n",
            "  Method name is: tensorflow/serving/predict\n",
            "WARNING: Logging before flag parsing goes to stderr.\n",
            "W0330 07:01:09.819922 139634278111104 deprecation.py:506] From /usr/local/lib/python2.7/dist-packages/tensorflow_core/python/ops/resource_variable_ops.py:1786: calling __init__ (from tensorflow.python.ops.resource_variable_ops) with constraint is deprecated and will be removed in a future version.\n",
            "Instructions for updating:\n",
            "If using Keras pass *_constraint arguments to layers.\n",
            "\n",
            "Defined Functions:\n",
            "  Function Name: '__call__'\n",
            "    Option #1\n",
            "      Callable with:\n",
            "        Argument #1\n",
            "          bidirectional_input: TensorSpec(shape=(None, 130, 13), dtype=tf.float32, name=u'bidirectional_input')\n",
            "        Argument #2\n",
            "          DType: bool\n",
            "          Value: True\n",
            "        Argument #3\n",
            "          DType: NoneType\n",
            "          Value: None\n",
            "    Option #2\n",
            "      Callable with:\n",
            "        Argument #1\n",
            "          inputs: TensorSpec(shape=(None, 130, 13), dtype=tf.float32, name=u'inputs')\n",
            "        Argument #2\n",
            "          DType: bool\n",
            "          Value: True\n",
            "        Argument #3\n",
            "          DType: NoneType\n",
            "          Value: None\n",
            "    Option #3\n",
            "      Callable with:\n",
            "        Argument #1\n",
            "          bidirectional_input: TensorSpec(shape=(None, 130, 13), dtype=tf.float32, name=u'bidirectional_input')\n",
            "        Argument #2\n",
            "          DType: bool\n",
            "          Value: False\n",
            "        Argument #3\n",
            "          DType: NoneType\n",
            "          Value: None\n",
            "    Option #4\n",
            "      Callable with:\n",
            "        Argument #1\n",
            "          inputs: TensorSpec(shape=(None, 130, 13), dtype=tf.float32, name=u'inputs')\n",
            "        Argument #2\n",
            "          DType: bool\n",
            "          Value: False\n",
            "        Argument #3\n",
            "          DType: NoneType\n",
            "          Value: None\n",
            "\n",
            "  Function Name: '_default_save_signature'\n",
            "    Option #1\n",
            "      Callable with:\n",
            "        Argument #1\n",
            "          bidirectional_input: TensorSpec(shape=(None, 130, 13), dtype=tf.float32, name=u'bidirectional_input')\n",
            "\n",
            "  Function Name: 'call_and_return_all_conditional_losses'\n",
            "    Option #1\n",
            "      Callable with:\n",
            "        Argument #1\n",
            "          inputs: TensorSpec(shape=(None, 130, 13), dtype=tf.float32, name=u'inputs')\n",
            "        Argument #2\n",
            "          DType: bool\n",
            "          Value: True\n",
            "        Argument #3\n",
            "          DType: NoneType\n",
            "          Value: None\n",
            "    Option #2\n",
            "      Callable with:\n",
            "        Argument #1\n",
            "          bidirectional_input: TensorSpec(shape=(None, 130, 13), dtype=tf.float32, name=u'bidirectional_input')\n",
            "        Argument #2\n",
            "          DType: bool\n",
            "          Value: True\n",
            "        Argument #3\n",
            "          DType: NoneType\n",
            "          Value: None\n",
            "    Option #3\n",
            "      Callable with:\n",
            "        Argument #1\n",
            "          bidirectional_input: TensorSpec(shape=(None, 130, 13), dtype=tf.float32, name=u'bidirectional_input')\n",
            "        Argument #2\n",
            "          DType: bool\n",
            "          Value: False\n",
            "        Argument #3\n",
            "          DType: NoneType\n",
            "          Value: None\n",
            "    Option #4\n",
            "      Callable with:\n",
            "        Argument #1\n",
            "          inputs: TensorSpec(shape=(None, 130, 13), dtype=tf.float32, name=u'inputs')\n",
            "        Argument #2\n",
            "          DType: bool\n",
            "          Value: False\n",
            "        Argument #3\n",
            "          DType: NoneType\n",
            "          Value: None\n"
          ],
          "name": "stdout"
        }
      ]
    },
    {
      "cell_type": "code",
      "metadata": {
        "colab": {
          "base_uri": "https://localhost:8080/"
        },
        "id": "WZMQLRxKxolM",
        "outputId": "e93e6984-9dd7-4352-bd11-c370ba9f7d86"
      },
      "source": [
        "!echo \"deb http://storage.googleapis.com/tensorflow-serving-apt stable tensorflow-model-server tensorflow-model-server-universal\" | tee /etc/apt/sources.list.d/tensorflow-serving.list && \\\n",
        "curl https://storage.googleapis.com/tensorflow-serving-apt/tensorflow-serving.release.pub.gpg | apt-key add -\n",
        "!apt update"
      ],
      "execution_count": null,
      "outputs": [
        {
          "output_type": "stream",
          "text": [
            "deb http://storage.googleapis.com/tensorflow-serving-apt stable tensorflow-model-server tensorflow-model-server-universal\n",
            "  % Total    % Received % Xferd  Average Speed   Time    Time     Time  Current\n",
            "                                 Dload  Upload   Total   Spent    Left  Speed\n",
            "\r  0     0    0     0    0     0      0      0 --:--:-- --:--:-- --:--:--     0\r100  2943  100  2943    0     0  21800      0 --:--:-- --:--:-- --:--:-- 21800\n",
            "OK\n",
            "Hit:1 http://storage.googleapis.com/tensorflow-serving-apt stable InRelease\n",
            "Hit:2 http://ppa.launchpad.net/c2d4u.team/c2d4u4.0+/ubuntu bionic InRelease\n",
            "Get:3 http://security.ubuntu.com/ubuntu bionic-security InRelease [88.7 kB]\n",
            "Hit:4 http://archive.ubuntu.com/ubuntu bionic InRelease\n",
            "Hit:5 http://ppa.launchpad.net/cran/libgit2/ubuntu bionic InRelease\n",
            "Get:6 http://archive.ubuntu.com/ubuntu bionic-updates InRelease [88.7 kB]\n",
            "Hit:7 https://cloud.r-project.org/bin/linux/ubuntu bionic-cran40/ InRelease\n",
            "Hit:8 http://ppa.launchpad.net/deadsnakes/ppa/ubuntu bionic InRelease\n",
            "Get:9 http://archive.ubuntu.com/ubuntu bionic-backports InRelease [74.6 kB]\n",
            "Hit:10 http://ppa.launchpad.net/graphics-drivers/ppa/ubuntu bionic InRelease\n",
            "Ign:11 https://developer.download.nvidia.com/compute/cuda/repos/ubuntu1804/x86_64  InRelease\n",
            "Ign:12 https://developer.download.nvidia.com/compute/machine-learning/repos/ubuntu1804/x86_64  InRelease\n",
            "Hit:13 https://developer.download.nvidia.com/compute/cuda/repos/ubuntu1804/x86_64  Release\n",
            "Hit:14 https://developer.download.nvidia.com/compute/machine-learning/repos/ubuntu1804/x86_64  Release\n",
            "Fetched 252 kB in 2s (128 kB/s)\n",
            "Reading package lists... Done\n",
            "Building dependency tree       \n",
            "Reading state information... Done\n",
            "5 packages can be upgraded. Run 'apt list --upgradable' to see them.\n"
          ],
          "name": "stdout"
        }
      ]
    },
    {
      "cell_type": "code",
      "metadata": {
        "colab": {
          "base_uri": "https://localhost:8080/"
        },
        "id": "3ypzzbnfxqa9",
        "outputId": "8ab20ce9-90f2-421a-a18e-4d19b655ad23"
      },
      "source": [
        "!apt-get install tensorflow-model-server"
      ],
      "execution_count": null,
      "outputs": [
        {
          "output_type": "stream",
          "text": [
            "Reading package lists... Done\n",
            "Building dependency tree       \n",
            "Reading state information... Done\n",
            "tensorflow-model-server is already the newest version (2.4.1).\n",
            "0 upgraded, 0 newly installed, 0 to remove and 5 not upgraded.\n"
          ],
          "name": "stdout"
        }
      ]
    },
    {
      "cell_type": "code",
      "metadata": {
        "colab": {
          "base_uri": "https://localhost:8080/"
        },
        "id": "3nYWa3X8xslN",
        "outputId": "7b609369-9a09-4689-e638-388c6637324a"
      },
      "source": [
        "!apt-get upgrade tensorflow-model-server"
      ],
      "execution_count": null,
      "outputs": [
        {
          "output_type": "stream",
          "text": [
            "Reading package lists... Done\n",
            "Building dependency tree       \n",
            "Reading state information... Done\n",
            "tensorflow-model-server is already the newest version (2.4.1).\n",
            "Calculating upgrade... Done\n",
            "The following packages have been kept back:\n",
            "  libcudnn8 libcudnn8-dev libnccl-dev libnccl2 linux-headers-generic\n",
            "0 upgraded, 0 newly installed, 0 to remove and 5 not upgraded.\n"
          ],
          "name": "stdout"
        }
      ]
    },
    {
      "cell_type": "code",
      "metadata": {
        "id": "P297d06VxvH8"
      },
      "source": [
        "os.environ[\"MODEL_DIR\"] = MODEL_DIR"
      ],
      "execution_count": null,
      "outputs": []
    },
    {
      "cell_type": "code",
      "metadata": {
        "colab": {
          "base_uri": "https://localhost:8080/"
        },
        "id": "ru0WhoDyxxMB",
        "outputId": "06480d74-4706-4c76-e573-16ae1a213bc4"
      },
      "source": [
        "%%bash --bg \n",
        "nohup tensorflow_model_server \\\n",
        "  --rest_api_port=8502 \\\n",
        "  --model_name=saved_model \\\n",
        "  --model_base_path=\"${MODEL_DIR}\" >server.log 2>&1\n"
      ],
      "execution_count": null,
      "outputs": [
        {
          "output_type": "stream",
          "text": [
            "Starting job # 2 in a separate thread.\n"
          ],
          "name": "stdout"
        }
      ]
    },
    {
      "cell_type": "code",
      "metadata": {
        "colab": {
          "base_uri": "https://localhost:8080/"
        },
        "id": "rRoClJuRxzfz",
        "outputId": "c3a6dcc3-d425-4045-b315-04e16e589a0d"
      },
      "source": [
        "!tail server.log"
      ],
      "execution_count": null,
      "outputs": [
        {
          "output_type": "stream",
          "text": [
            "2021-03-30 07:01:19.403468: I tensorflow_serving/core/loader_harness.cc:66] Approving load for servable version {name: saved_model version: 1}\n",
            "2021-03-30 07:01:19.403481: I tensorflow_serving/core/loader_harness.cc:74] Loading servable version {name: saved_model version: 1}\n",
            "2021-03-30 07:01:19.403512: I external/org_tensorflow/tensorflow/cc/saved_model/reader.cc:32] Reading SavedModel from: /tmp/1\n",
            "2021-03-30 07:01:19.492906: I external/org_tensorflow/tensorflow/cc/saved_model/reader.cc:55] Reading meta graph with tags { serve }\n",
            "2021-03-30 07:01:19.492961: I external/org_tensorflow/tensorflow/cc/saved_model/reader.cc:93] Reading SavedModel debug info (if present) from: /tmp/1\n",
            "2021-03-30 07:01:19.493057: I external/org_tensorflow/tensorflow/core/platform/cpu_feature_guard.cc:142] This TensorFlow binary is optimized with oneAPI Deep Neural Network Library (oneDNN) to use the following CPU instructions in performance-critical operations:  AVX2 AVX512F FMA\n",
            "To enable them in other operations, rebuild TensorFlow with the appropriate compiler flags.\n",
            "2021-03-30 07:01:19.830185: I external/org_tensorflow/tensorflow/cc/saved_model/loader.cc:206] Restoring SavedModel bundle.\n",
            "2021-03-30 07:01:19.876388: I external/org_tensorflow/tensorflow/core/platform/profile_utils/cpu_utils.cc:112] CPU Frequency: 2000189999 Hz\n",
            "2021-03-30 07:01:20.139008: I external/org_tensorflow/tensorflow/cc/saved_model/loader.cc:190] Running initialization op on SavedModel bundle at path: /tmp/1\n"
          ],
          "name": "stdout"
        }
      ]
    },
    {
      "cell_type": "code",
      "metadata": {
        "colab": {
          "base_uri": "https://localhost:8080/"
        },
        "id": "RGTL0UCfx5LP",
        "outputId": "25f204ad-c7e3-4c5e-cb0f-52a57558ee6d"
      },
      "source": [
        "import librosa\n",
        "signal, sample_rate = librosa.load('/content/Rashid Khan - Raga Bilaskhani Todi - Teen Taal - \"Kahe Karat Mose Jhagra\".mp3')\n",
        "mfcc = librosa.feature.mfcc(signal)\n",
        "mfcc = mfcc.T\n"
      ],
      "execution_count": null,
      "outputs": [
        {
          "output_type": "stream",
          "text": [
            "/usr/local/lib/python3.7/dist-packages/librosa/core/audio.py:162: UserWarning: PySoundFile failed. Trying audioread instead.\n",
            "  warnings.warn(\"PySoundFile failed. Trying audioread instead.\")\n"
          ],
          "name": "stderr"
        }
      ]
    },
    {
      "cell_type": "code",
      "metadata": {
        "id": "QlPlUDlS4MTG"
      },
      "source": [
        "import librosa\n",
        "import numpy as np\n",
        "import json\n",
        "import requests"
      ],
      "execution_count": null,
      "outputs": []
    },
    {
      "cell_type": "code",
      "metadata": {
        "id": "ekRm0y0r4goa"
      },
      "source": [
        ""
      ],
      "execution_count": null,
      "outputs": []
    },
    {
      "cell_type": "code",
      "metadata": {
        "id": "cbzBbFM1ziAp"
      },
      "source": [
        "def predict_raga(fp):\n",
        "\n",
        "    y, sr = librosa.load(fp,res_type='kaiser_best')\n",
        "    mfcc = librosa.feature.mfcc(y=y, sr=22050, hop_length=512, n_mfcc=13)\n",
        "    mfcc=mfcc.T\n",
        "\n",
        "    data = {\n",
        "            \"mfcc\": []\n",
        "        }\n",
        "    data[\"mfcc\"].append(mfcc.tolist())\n",
        "\n",
        "    X = np.array(data[\"mfcc\"])\n",
        "\n",
        "    data = json.dumps({\"signature_name\": \"serving_default\", \"instances\": X.tolist()})\n",
        "    print('Data: {} ... {}'.format(data[:50], data[len(data)-52:]))\n",
        "\n",
        "    headers = {\"content-type\": \"application/json\"}\n",
        "    json_response = requests.post('http://34.71.150.59:8502/v1/models/saved_model:predict', data=data, headers=headers)\n",
        "\n",
        "    predictions = json.loads(json_response.text)['predictions']\n",
        "    class_names = ['De╠äs╠ü',\n",
        "    'Bhairavi',\n",
        "    'Bila╠äsakha╠äni╠ä to╠äd╠úi╠ä',\n",
        "    'Ba╠äge╠äs╠üri╠ä',\n",
        "    'Ahira bhairav']\n",
        "\n",
        "    print(class_names[np.argmax(predictions)])"
      ],
      "execution_count": null,
      "outputs": []
    },
    {
      "cell_type": "code",
      "metadata": {
        "id": "hhhecwRhyQLM"
      },
      "source": [
        "path='/content/drive/MyDrive/UnZippedRaagas/RagaDatasetNew/Ahira bhairav/'\n",
        "import os\n",
        "\n",
        "_, _, filenames = next(os.walk(path))"
      ],
      "execution_count": null,
      "outputs": []
    },
    {
      "cell_type": "code",
      "metadata": {
        "id": "eFtbIVm31FW5"
      },
      "source": [
        "# for f in filenames:\n",
        "#   predict_raga(path+f)"
      ],
      "execution_count": null,
      "outputs": []
    },
    {
      "cell_type": "code",
      "metadata": {
        "colab": {
          "base_uri": "https://localhost:8080/",
          "height": 710
        },
        "id": "N6ukydh63NVV",
        "outputId": "8bd505f5-197c-403a-d800-33620a2f1862"
      },
      "source": [
        "predict_raga('/content/drive/MyDrive/UnZippedRaagas/RagaDatasetNew/Bhairavi/Ajoy Chakrabarty - Bhajan.mp3')"
      ],
      "execution_count": null,
      "outputs": [
        {
          "output_type": "stream",
          "text": [
            "/usr/local/lib/python3.7/dist-packages/librosa/core/audio.py:162: UserWarning: PySoundFile failed. Trying audioread instead.\n",
            "  warnings.warn(\"PySoundFile failed. Trying audioread instead.\")\n"
          ],
          "name": "stderr"
        },
        {
          "output_type": "stream",
          "text": [
            "Data: {\"signature_name\": \"serving_default\", \"instances\": ... 0.0, 0.0, 0.0, 0.0, 0.0, 0.0, 0.0, 0.0, 0.0, 0.0]]]}\n"
          ],
          "name": "stdout"
        },
        {
          "output_type": "error",
          "ename": "ConnectionError",
          "evalue": "ignored",
          "traceback": [
            "\u001b[0;31m---------------------------------------------------------------------------\u001b[0m",
            "\u001b[0;31mConnectionRefusedError\u001b[0m                    Traceback (most recent call last)",
            "\u001b[0;32m/usr/local/lib/python3.7/dist-packages/urllib3/connection.py\u001b[0m in \u001b[0;36m_new_conn\u001b[0;34m(self)\u001b[0m\n\u001b[1;32m    158\u001b[0m             conn = connection.create_connection(\n\u001b[0;32m--> 159\u001b[0;31m                 (self._dns_host, self.port), self.timeout, **extra_kw)\n\u001b[0m\u001b[1;32m    160\u001b[0m \u001b[0;34m\u001b[0m\u001b[0m\n",
            "\u001b[0;32m/usr/local/lib/python3.7/dist-packages/urllib3/util/connection.py\u001b[0m in \u001b[0;36mcreate_connection\u001b[0;34m(address, timeout, source_address, socket_options)\u001b[0m\n\u001b[1;32m     79\u001b[0m     \u001b[0;32mif\u001b[0m \u001b[0merr\u001b[0m \u001b[0;32mis\u001b[0m \u001b[0;32mnot\u001b[0m \u001b[0;32mNone\u001b[0m\u001b[0;34m:\u001b[0m\u001b[0;34m\u001b[0m\u001b[0;34m\u001b[0m\u001b[0m\n\u001b[0;32m---> 80\u001b[0;31m         \u001b[0;32mraise\u001b[0m \u001b[0merr\u001b[0m\u001b[0;34m\u001b[0m\u001b[0;34m\u001b[0m\u001b[0m\n\u001b[0m\u001b[1;32m     81\u001b[0m \u001b[0;34m\u001b[0m\u001b[0m\n",
            "\u001b[0;32m/usr/local/lib/python3.7/dist-packages/urllib3/util/connection.py\u001b[0m in \u001b[0;36mcreate_connection\u001b[0;34m(address, timeout, source_address, socket_options)\u001b[0m\n\u001b[1;32m     69\u001b[0m                 \u001b[0msock\u001b[0m\u001b[0;34m.\u001b[0m\u001b[0mbind\u001b[0m\u001b[0;34m(\u001b[0m\u001b[0msource_address\u001b[0m\u001b[0;34m)\u001b[0m\u001b[0;34m\u001b[0m\u001b[0;34m\u001b[0m\u001b[0m\n\u001b[0;32m---> 70\u001b[0;31m             \u001b[0msock\u001b[0m\u001b[0;34m.\u001b[0m\u001b[0mconnect\u001b[0m\u001b[0;34m(\u001b[0m\u001b[0msa\u001b[0m\u001b[0;34m)\u001b[0m\u001b[0;34m\u001b[0m\u001b[0;34m\u001b[0m\u001b[0m\n\u001b[0m\u001b[1;32m     71\u001b[0m             \u001b[0;32mreturn\u001b[0m \u001b[0msock\u001b[0m\u001b[0;34m\u001b[0m\u001b[0;34m\u001b[0m\u001b[0m\n",
            "\u001b[0;31mConnectionRefusedError\u001b[0m: [Errno 111] Connection refused",
            "\nDuring handling of the above exception, another exception occurred:\n",
            "\u001b[0;31mNewConnectionError\u001b[0m                        Traceback (most recent call last)",
            "\u001b[0;32m/usr/local/lib/python3.7/dist-packages/urllib3/connectionpool.py\u001b[0m in \u001b[0;36murlopen\u001b[0;34m(self, method, url, body, headers, retries, redirect, assert_same_host, timeout, pool_timeout, release_conn, chunked, body_pos, **response_kw)\u001b[0m\n\u001b[1;32m    599\u001b[0m                                                   \u001b[0mbody\u001b[0m\u001b[0;34m=\u001b[0m\u001b[0mbody\u001b[0m\u001b[0;34m,\u001b[0m \u001b[0mheaders\u001b[0m\u001b[0;34m=\u001b[0m\u001b[0mheaders\u001b[0m\u001b[0;34m,\u001b[0m\u001b[0;34m\u001b[0m\u001b[0;34m\u001b[0m\u001b[0m\n\u001b[0;32m--> 600\u001b[0;31m                                                   chunked=chunked)\n\u001b[0m\u001b[1;32m    601\u001b[0m \u001b[0;34m\u001b[0m\u001b[0m\n",
            "\u001b[0;32m/usr/local/lib/python3.7/dist-packages/urllib3/connectionpool.py\u001b[0m in \u001b[0;36m_make_request\u001b[0;34m(self, conn, method, url, timeout, chunked, **httplib_request_kw)\u001b[0m\n\u001b[1;32m    353\u001b[0m         \u001b[0;32melse\u001b[0m\u001b[0;34m:\u001b[0m\u001b[0;34m\u001b[0m\u001b[0;34m\u001b[0m\u001b[0m\n\u001b[0;32m--> 354\u001b[0;31m             \u001b[0mconn\u001b[0m\u001b[0;34m.\u001b[0m\u001b[0mrequest\u001b[0m\u001b[0;34m(\u001b[0m\u001b[0mmethod\u001b[0m\u001b[0;34m,\u001b[0m \u001b[0murl\u001b[0m\u001b[0;34m,\u001b[0m \u001b[0;34m**\u001b[0m\u001b[0mhttplib_request_kw\u001b[0m\u001b[0;34m)\u001b[0m\u001b[0;34m\u001b[0m\u001b[0;34m\u001b[0m\u001b[0m\n\u001b[0m\u001b[1;32m    355\u001b[0m \u001b[0;34m\u001b[0m\u001b[0m\n",
            "\u001b[0;32m/usr/lib/python3.7/http/client.py\u001b[0m in \u001b[0;36mrequest\u001b[0;34m(self, method, url, body, headers, encode_chunked)\u001b[0m\n\u001b[1;32m   1276\u001b[0m         \u001b[0;34m\"\"\"Send a complete request to the server.\"\"\"\u001b[0m\u001b[0;34m\u001b[0m\u001b[0;34m\u001b[0m\u001b[0m\n\u001b[0;32m-> 1277\u001b[0;31m         \u001b[0mself\u001b[0m\u001b[0;34m.\u001b[0m\u001b[0m_send_request\u001b[0m\u001b[0;34m(\u001b[0m\u001b[0mmethod\u001b[0m\u001b[0;34m,\u001b[0m \u001b[0murl\u001b[0m\u001b[0;34m,\u001b[0m \u001b[0mbody\u001b[0m\u001b[0;34m,\u001b[0m \u001b[0mheaders\u001b[0m\u001b[0;34m,\u001b[0m \u001b[0mencode_chunked\u001b[0m\u001b[0;34m)\u001b[0m\u001b[0;34m\u001b[0m\u001b[0;34m\u001b[0m\u001b[0m\n\u001b[0m\u001b[1;32m   1278\u001b[0m \u001b[0;34m\u001b[0m\u001b[0m\n",
            "\u001b[0;32m/usr/lib/python3.7/http/client.py\u001b[0m in \u001b[0;36m_send_request\u001b[0;34m(self, method, url, body, headers, encode_chunked)\u001b[0m\n\u001b[1;32m   1322\u001b[0m             \u001b[0mbody\u001b[0m \u001b[0;34m=\u001b[0m \u001b[0m_encode\u001b[0m\u001b[0;34m(\u001b[0m\u001b[0mbody\u001b[0m\u001b[0;34m,\u001b[0m \u001b[0;34m'body'\u001b[0m\u001b[0;34m)\u001b[0m\u001b[0;34m\u001b[0m\u001b[0;34m\u001b[0m\u001b[0m\n\u001b[0;32m-> 1323\u001b[0;31m         \u001b[0mself\u001b[0m\u001b[0;34m.\u001b[0m\u001b[0mendheaders\u001b[0m\u001b[0;34m(\u001b[0m\u001b[0mbody\u001b[0m\u001b[0;34m,\u001b[0m \u001b[0mencode_chunked\u001b[0m\u001b[0;34m=\u001b[0m\u001b[0mencode_chunked\u001b[0m\u001b[0;34m)\u001b[0m\u001b[0;34m\u001b[0m\u001b[0;34m\u001b[0m\u001b[0m\n\u001b[0m\u001b[1;32m   1324\u001b[0m \u001b[0;34m\u001b[0m\u001b[0m\n",
            "\u001b[0;32m/usr/lib/python3.7/http/client.py\u001b[0m in \u001b[0;36mendheaders\u001b[0;34m(self, message_body, encode_chunked)\u001b[0m\n\u001b[1;32m   1271\u001b[0m             \u001b[0;32mraise\u001b[0m \u001b[0mCannotSendHeader\u001b[0m\u001b[0;34m(\u001b[0m\u001b[0;34m)\u001b[0m\u001b[0;34m\u001b[0m\u001b[0;34m\u001b[0m\u001b[0m\n\u001b[0;32m-> 1272\u001b[0;31m         \u001b[0mself\u001b[0m\u001b[0;34m.\u001b[0m\u001b[0m_send_output\u001b[0m\u001b[0;34m(\u001b[0m\u001b[0mmessage_body\u001b[0m\u001b[0;34m,\u001b[0m \u001b[0mencode_chunked\u001b[0m\u001b[0;34m=\u001b[0m\u001b[0mencode_chunked\u001b[0m\u001b[0;34m)\u001b[0m\u001b[0;34m\u001b[0m\u001b[0;34m\u001b[0m\u001b[0m\n\u001b[0m\u001b[1;32m   1273\u001b[0m \u001b[0;34m\u001b[0m\u001b[0m\n",
            "\u001b[0;32m/usr/lib/python3.7/http/client.py\u001b[0m in \u001b[0;36m_send_output\u001b[0;34m(self, message_body, encode_chunked)\u001b[0m\n\u001b[1;32m   1031\u001b[0m         \u001b[0;32mdel\u001b[0m \u001b[0mself\u001b[0m\u001b[0;34m.\u001b[0m\u001b[0m_buffer\u001b[0m\u001b[0;34m[\u001b[0m\u001b[0;34m:\u001b[0m\u001b[0;34m]\u001b[0m\u001b[0;34m\u001b[0m\u001b[0;34m\u001b[0m\u001b[0m\n\u001b[0;32m-> 1032\u001b[0;31m         \u001b[0mself\u001b[0m\u001b[0;34m.\u001b[0m\u001b[0msend\u001b[0m\u001b[0;34m(\u001b[0m\u001b[0mmsg\u001b[0m\u001b[0;34m)\u001b[0m\u001b[0;34m\u001b[0m\u001b[0;34m\u001b[0m\u001b[0m\n\u001b[0m\u001b[1;32m   1033\u001b[0m \u001b[0;34m\u001b[0m\u001b[0m\n",
            "\u001b[0;32m/usr/lib/python3.7/http/client.py\u001b[0m in \u001b[0;36msend\u001b[0;34m(self, data)\u001b[0m\n\u001b[1;32m    971\u001b[0m             \u001b[0;32mif\u001b[0m \u001b[0mself\u001b[0m\u001b[0;34m.\u001b[0m\u001b[0mauto_open\u001b[0m\u001b[0;34m:\u001b[0m\u001b[0;34m\u001b[0m\u001b[0;34m\u001b[0m\u001b[0m\n\u001b[0;32m--> 972\u001b[0;31m                 \u001b[0mself\u001b[0m\u001b[0;34m.\u001b[0m\u001b[0mconnect\u001b[0m\u001b[0;34m(\u001b[0m\u001b[0;34m)\u001b[0m\u001b[0;34m\u001b[0m\u001b[0;34m\u001b[0m\u001b[0m\n\u001b[0m\u001b[1;32m    973\u001b[0m             \u001b[0;32melse\u001b[0m\u001b[0;34m:\u001b[0m\u001b[0;34m\u001b[0m\u001b[0;34m\u001b[0m\u001b[0m\n",
            "\u001b[0;32m/usr/local/lib/python3.7/dist-packages/urllib3/connection.py\u001b[0m in \u001b[0;36mconnect\u001b[0;34m(self)\u001b[0m\n\u001b[1;32m    180\u001b[0m     \u001b[0;32mdef\u001b[0m \u001b[0mconnect\u001b[0m\u001b[0;34m(\u001b[0m\u001b[0mself\u001b[0m\u001b[0;34m)\u001b[0m\u001b[0;34m:\u001b[0m\u001b[0;34m\u001b[0m\u001b[0;34m\u001b[0m\u001b[0m\n\u001b[0;32m--> 181\u001b[0;31m         \u001b[0mconn\u001b[0m \u001b[0;34m=\u001b[0m \u001b[0mself\u001b[0m\u001b[0;34m.\u001b[0m\u001b[0m_new_conn\u001b[0m\u001b[0;34m(\u001b[0m\u001b[0;34m)\u001b[0m\u001b[0;34m\u001b[0m\u001b[0;34m\u001b[0m\u001b[0m\n\u001b[0m\u001b[1;32m    182\u001b[0m         \u001b[0mself\u001b[0m\u001b[0;34m.\u001b[0m\u001b[0m_prepare_conn\u001b[0m\u001b[0;34m(\u001b[0m\u001b[0mconn\u001b[0m\u001b[0;34m)\u001b[0m\u001b[0;34m\u001b[0m\u001b[0;34m\u001b[0m\u001b[0m\n",
            "\u001b[0;32m/usr/local/lib/python3.7/dist-packages/urllib3/connection.py\u001b[0m in \u001b[0;36m_new_conn\u001b[0;34m(self)\u001b[0m\n\u001b[1;32m    167\u001b[0m             raise NewConnectionError(\n\u001b[0;32m--> 168\u001b[0;31m                 self, \"Failed to establish a new connection: %s\" % e)\n\u001b[0m\u001b[1;32m    169\u001b[0m \u001b[0;34m\u001b[0m\u001b[0m\n",
            "\u001b[0;31mNewConnectionError\u001b[0m: <urllib3.connection.HTTPConnection object at 0x7fe6cdb48fd0>: Failed to establish a new connection: [Errno 111] Connection refused",
            "\nDuring handling of the above exception, another exception occurred:\n",
            "\u001b[0;31mMaxRetryError\u001b[0m                             Traceback (most recent call last)",
            "\u001b[0;32m/usr/local/lib/python3.7/dist-packages/requests/adapters.py\u001b[0m in \u001b[0;36msend\u001b[0;34m(self, request, stream, timeout, verify, cert, proxies)\u001b[0m\n\u001b[1;32m    448\u001b[0m                     \u001b[0mretries\u001b[0m\u001b[0;34m=\u001b[0m\u001b[0mself\u001b[0m\u001b[0;34m.\u001b[0m\u001b[0mmax_retries\u001b[0m\u001b[0;34m,\u001b[0m\u001b[0;34m\u001b[0m\u001b[0;34m\u001b[0m\u001b[0m\n\u001b[0;32m--> 449\u001b[0;31m                     \u001b[0mtimeout\u001b[0m\u001b[0;34m=\u001b[0m\u001b[0mtimeout\u001b[0m\u001b[0;34m\u001b[0m\u001b[0;34m\u001b[0m\u001b[0m\n\u001b[0m\u001b[1;32m    450\u001b[0m                 )\n",
            "\u001b[0;32m/usr/local/lib/python3.7/dist-packages/urllib3/connectionpool.py\u001b[0m in \u001b[0;36murlopen\u001b[0;34m(self, method, url, body, headers, retries, redirect, assert_same_host, timeout, pool_timeout, release_conn, chunked, body_pos, **response_kw)\u001b[0m\n\u001b[1;32m    637\u001b[0m             retries = retries.increment(method, url, error=e, _pool=self,\n\u001b[0;32m--> 638\u001b[0;31m                                         _stacktrace=sys.exc_info()[2])\n\u001b[0m\u001b[1;32m    639\u001b[0m             \u001b[0mretries\u001b[0m\u001b[0;34m.\u001b[0m\u001b[0msleep\u001b[0m\u001b[0;34m(\u001b[0m\u001b[0;34m)\u001b[0m\u001b[0;34m\u001b[0m\u001b[0;34m\u001b[0m\u001b[0m\n",
            "\u001b[0;32m/usr/local/lib/python3.7/dist-packages/urllib3/util/retry.py\u001b[0m in \u001b[0;36mincrement\u001b[0;34m(self, method, url, response, error, _pool, _stacktrace)\u001b[0m\n\u001b[1;32m    398\u001b[0m         \u001b[0;32mif\u001b[0m \u001b[0mnew_retry\u001b[0m\u001b[0;34m.\u001b[0m\u001b[0mis_exhausted\u001b[0m\u001b[0;34m(\u001b[0m\u001b[0;34m)\u001b[0m\u001b[0;34m:\u001b[0m\u001b[0;34m\u001b[0m\u001b[0;34m\u001b[0m\u001b[0m\n\u001b[0;32m--> 399\u001b[0;31m             \u001b[0;32mraise\u001b[0m \u001b[0mMaxRetryError\u001b[0m\u001b[0;34m(\u001b[0m\u001b[0m_pool\u001b[0m\u001b[0;34m,\u001b[0m \u001b[0murl\u001b[0m\u001b[0;34m,\u001b[0m \u001b[0merror\u001b[0m \u001b[0;32mor\u001b[0m \u001b[0mResponseError\u001b[0m\u001b[0;34m(\u001b[0m\u001b[0mcause\u001b[0m\u001b[0;34m)\u001b[0m\u001b[0;34m)\u001b[0m\u001b[0;34m\u001b[0m\u001b[0;34m\u001b[0m\u001b[0m\n\u001b[0m\u001b[1;32m    400\u001b[0m \u001b[0;34m\u001b[0m\u001b[0m\n",
            "\u001b[0;31mMaxRetryError\u001b[0m: HTTPConnectionPool(host='34.71.150.59', port=8502): Max retries exceeded with url: /v1/models/saved_model:predict (Caused by NewConnectionError('<urllib3.connection.HTTPConnection object at 0x7fe6cdb48fd0>: Failed to establish a new connection: [Errno 111] Connection refused'))",
            "\nDuring handling of the above exception, another exception occurred:\n",
            "\u001b[0;31mConnectionError\u001b[0m                           Traceback (most recent call last)",
            "\u001b[0;32m<ipython-input-31-6345e0b7a0b7>\u001b[0m in \u001b[0;36m<module>\u001b[0;34m()\u001b[0m\n\u001b[0;32m----> 1\u001b[0;31m \u001b[0mpredict_raga\u001b[0m\u001b[0;34m(\u001b[0m\u001b[0;34m'/content/drive/MyDrive/UnZippedRaagas/RagaDatasetNew/Bhairavi/Ajoy Chakrabarty - Bhajan.mp3'\u001b[0m\u001b[0;34m)\u001b[0m\u001b[0;34m\u001b[0m\u001b[0;34m\u001b[0m\u001b[0m\n\u001b[0m",
            "\u001b[0;32m<ipython-input-29-d7434230a280>\u001b[0m in \u001b[0;36mpredict_raga\u001b[0;34m(fp)\u001b[0m\n\u001b[1;32m     16\u001b[0m \u001b[0;34m\u001b[0m\u001b[0m\n\u001b[1;32m     17\u001b[0m     \u001b[0mheaders\u001b[0m \u001b[0;34m=\u001b[0m \u001b[0;34m{\u001b[0m\u001b[0;34m\"content-type\"\u001b[0m\u001b[0;34m:\u001b[0m \u001b[0;34m\"application/json\"\u001b[0m\u001b[0;34m}\u001b[0m\u001b[0;34m\u001b[0m\u001b[0;34m\u001b[0m\u001b[0m\n\u001b[0;32m---> 18\u001b[0;31m     \u001b[0mjson_response\u001b[0m \u001b[0;34m=\u001b[0m \u001b[0mrequests\u001b[0m\u001b[0;34m.\u001b[0m\u001b[0mpost\u001b[0m\u001b[0;34m(\u001b[0m\u001b[0;34m'http://34.71.150.59:8502/v1/models/saved_model:predict'\u001b[0m\u001b[0;34m,\u001b[0m \u001b[0mdata\u001b[0m\u001b[0;34m=\u001b[0m\u001b[0mdata\u001b[0m\u001b[0;34m,\u001b[0m \u001b[0mheaders\u001b[0m\u001b[0;34m=\u001b[0m\u001b[0mheaders\u001b[0m\u001b[0;34m)\u001b[0m\u001b[0;34m\u001b[0m\u001b[0;34m\u001b[0m\u001b[0m\n\u001b[0m\u001b[1;32m     19\u001b[0m \u001b[0;34m\u001b[0m\u001b[0m\n\u001b[1;32m     20\u001b[0m     \u001b[0mpredictions\u001b[0m \u001b[0;34m=\u001b[0m \u001b[0mjson\u001b[0m\u001b[0;34m.\u001b[0m\u001b[0mloads\u001b[0m\u001b[0;34m(\u001b[0m\u001b[0mjson_response\u001b[0m\u001b[0;34m.\u001b[0m\u001b[0mtext\u001b[0m\u001b[0;34m)\u001b[0m\u001b[0;34m[\u001b[0m\u001b[0;34m'predictions'\u001b[0m\u001b[0;34m]\u001b[0m\u001b[0;34m\u001b[0m\u001b[0;34m\u001b[0m\u001b[0m\n",
            "\u001b[0;32m/usr/local/lib/python3.7/dist-packages/requests/api.py\u001b[0m in \u001b[0;36mpost\u001b[0;34m(url, data, json, **kwargs)\u001b[0m\n\u001b[1;32m    117\u001b[0m     \"\"\"\n\u001b[1;32m    118\u001b[0m \u001b[0;34m\u001b[0m\u001b[0m\n\u001b[0;32m--> 119\u001b[0;31m     \u001b[0;32mreturn\u001b[0m \u001b[0mrequest\u001b[0m\u001b[0;34m(\u001b[0m\u001b[0;34m'post'\u001b[0m\u001b[0;34m,\u001b[0m \u001b[0murl\u001b[0m\u001b[0;34m,\u001b[0m \u001b[0mdata\u001b[0m\u001b[0;34m=\u001b[0m\u001b[0mdata\u001b[0m\u001b[0;34m,\u001b[0m \u001b[0mjson\u001b[0m\u001b[0;34m=\u001b[0m\u001b[0mjson\u001b[0m\u001b[0;34m,\u001b[0m \u001b[0;34m**\u001b[0m\u001b[0mkwargs\u001b[0m\u001b[0;34m)\u001b[0m\u001b[0;34m\u001b[0m\u001b[0;34m\u001b[0m\u001b[0m\n\u001b[0m\u001b[1;32m    120\u001b[0m \u001b[0;34m\u001b[0m\u001b[0m\n\u001b[1;32m    121\u001b[0m \u001b[0;34m\u001b[0m\u001b[0m\n",
            "\u001b[0;32m/usr/local/lib/python3.7/dist-packages/requests/api.py\u001b[0m in \u001b[0;36mrequest\u001b[0;34m(method, url, **kwargs)\u001b[0m\n\u001b[1;32m     59\u001b[0m     \u001b[0;31m# cases, and look like a memory leak in others.\u001b[0m\u001b[0;34m\u001b[0m\u001b[0;34m\u001b[0m\u001b[0;34m\u001b[0m\u001b[0m\n\u001b[1;32m     60\u001b[0m     \u001b[0;32mwith\u001b[0m \u001b[0msessions\u001b[0m\u001b[0;34m.\u001b[0m\u001b[0mSession\u001b[0m\u001b[0;34m(\u001b[0m\u001b[0;34m)\u001b[0m \u001b[0;32mas\u001b[0m \u001b[0msession\u001b[0m\u001b[0;34m:\u001b[0m\u001b[0;34m\u001b[0m\u001b[0;34m\u001b[0m\u001b[0m\n\u001b[0;32m---> 61\u001b[0;31m         \u001b[0;32mreturn\u001b[0m \u001b[0msession\u001b[0m\u001b[0;34m.\u001b[0m\u001b[0mrequest\u001b[0m\u001b[0;34m(\u001b[0m\u001b[0mmethod\u001b[0m\u001b[0;34m=\u001b[0m\u001b[0mmethod\u001b[0m\u001b[0;34m,\u001b[0m \u001b[0murl\u001b[0m\u001b[0;34m=\u001b[0m\u001b[0murl\u001b[0m\u001b[0;34m,\u001b[0m \u001b[0;34m**\u001b[0m\u001b[0mkwargs\u001b[0m\u001b[0;34m)\u001b[0m\u001b[0;34m\u001b[0m\u001b[0;34m\u001b[0m\u001b[0m\n\u001b[0m\u001b[1;32m     62\u001b[0m \u001b[0;34m\u001b[0m\u001b[0m\n\u001b[1;32m     63\u001b[0m \u001b[0;34m\u001b[0m\u001b[0m\n",
            "\u001b[0;32m/usr/local/lib/python3.7/dist-packages/requests/sessions.py\u001b[0m in \u001b[0;36mrequest\u001b[0;34m(self, method, url, params, data, headers, cookies, files, auth, timeout, allow_redirects, proxies, hooks, stream, verify, cert, json)\u001b[0m\n\u001b[1;32m    528\u001b[0m         }\n\u001b[1;32m    529\u001b[0m         \u001b[0msend_kwargs\u001b[0m\u001b[0;34m.\u001b[0m\u001b[0mupdate\u001b[0m\u001b[0;34m(\u001b[0m\u001b[0msettings\u001b[0m\u001b[0;34m)\u001b[0m\u001b[0;34m\u001b[0m\u001b[0;34m\u001b[0m\u001b[0m\n\u001b[0;32m--> 530\u001b[0;31m         \u001b[0mresp\u001b[0m \u001b[0;34m=\u001b[0m \u001b[0mself\u001b[0m\u001b[0;34m.\u001b[0m\u001b[0msend\u001b[0m\u001b[0;34m(\u001b[0m\u001b[0mprep\u001b[0m\u001b[0;34m,\u001b[0m \u001b[0;34m**\u001b[0m\u001b[0msend_kwargs\u001b[0m\u001b[0;34m)\u001b[0m\u001b[0;34m\u001b[0m\u001b[0;34m\u001b[0m\u001b[0m\n\u001b[0m\u001b[1;32m    531\u001b[0m \u001b[0;34m\u001b[0m\u001b[0m\n\u001b[1;32m    532\u001b[0m         \u001b[0;32mreturn\u001b[0m \u001b[0mresp\u001b[0m\u001b[0;34m\u001b[0m\u001b[0;34m\u001b[0m\u001b[0m\n",
            "\u001b[0;32m/usr/local/lib/python3.7/dist-packages/requests/sessions.py\u001b[0m in \u001b[0;36msend\u001b[0;34m(self, request, **kwargs)\u001b[0m\n\u001b[1;32m    641\u001b[0m \u001b[0;34m\u001b[0m\u001b[0m\n\u001b[1;32m    642\u001b[0m         \u001b[0;31m# Send the request\u001b[0m\u001b[0;34m\u001b[0m\u001b[0;34m\u001b[0m\u001b[0;34m\u001b[0m\u001b[0m\n\u001b[0;32m--> 643\u001b[0;31m         \u001b[0mr\u001b[0m \u001b[0;34m=\u001b[0m \u001b[0madapter\u001b[0m\u001b[0;34m.\u001b[0m\u001b[0msend\u001b[0m\u001b[0;34m(\u001b[0m\u001b[0mrequest\u001b[0m\u001b[0;34m,\u001b[0m \u001b[0;34m**\u001b[0m\u001b[0mkwargs\u001b[0m\u001b[0;34m)\u001b[0m\u001b[0;34m\u001b[0m\u001b[0;34m\u001b[0m\u001b[0m\n\u001b[0m\u001b[1;32m    644\u001b[0m \u001b[0;34m\u001b[0m\u001b[0m\n\u001b[1;32m    645\u001b[0m         \u001b[0;31m# Total elapsed time of the request (approximately)\u001b[0m\u001b[0;34m\u001b[0m\u001b[0;34m\u001b[0m\u001b[0;34m\u001b[0m\u001b[0m\n",
            "\u001b[0;32m/usr/local/lib/python3.7/dist-packages/requests/adapters.py\u001b[0m in \u001b[0;36msend\u001b[0;34m(self, request, stream, timeout, verify, cert, proxies)\u001b[0m\n\u001b[1;32m    514\u001b[0m                 \u001b[0;32mraise\u001b[0m \u001b[0mSSLError\u001b[0m\u001b[0;34m(\u001b[0m\u001b[0me\u001b[0m\u001b[0;34m,\u001b[0m \u001b[0mrequest\u001b[0m\u001b[0;34m=\u001b[0m\u001b[0mrequest\u001b[0m\u001b[0;34m)\u001b[0m\u001b[0;34m\u001b[0m\u001b[0;34m\u001b[0m\u001b[0m\n\u001b[1;32m    515\u001b[0m \u001b[0;34m\u001b[0m\u001b[0m\n\u001b[0;32m--> 516\u001b[0;31m             \u001b[0;32mraise\u001b[0m \u001b[0mConnectionError\u001b[0m\u001b[0;34m(\u001b[0m\u001b[0me\u001b[0m\u001b[0;34m,\u001b[0m \u001b[0mrequest\u001b[0m\u001b[0;34m=\u001b[0m\u001b[0mrequest\u001b[0m\u001b[0;34m)\u001b[0m\u001b[0;34m\u001b[0m\u001b[0;34m\u001b[0m\u001b[0m\n\u001b[0m\u001b[1;32m    517\u001b[0m \u001b[0;34m\u001b[0m\u001b[0m\n\u001b[1;32m    518\u001b[0m         \u001b[0;32mexcept\u001b[0m \u001b[0mClosedPoolError\u001b[0m \u001b[0;32mas\u001b[0m \u001b[0me\u001b[0m\u001b[0;34m:\u001b[0m\u001b[0;34m\u001b[0m\u001b[0;34m\u001b[0m\u001b[0m\n",
            "\u001b[0;31mConnectionError\u001b[0m: HTTPConnectionPool(host='34.71.150.59', port=8502): Max retries exceeded with url: /v1/models/saved_model:predict (Caused by NewConnectionError('<urllib3.connection.HTTPConnection object at 0x7fe6cdb48fd0>: Failed to establish a new connection: [Errno 111] Connection refused'))"
          ]
        }
      ]
    },
    {
      "cell_type": "code",
      "metadata": {
        "colab": {
          "base_uri": "https://localhost:8080/",
          "height": 34
        },
        "id": "VFf_28KF9Ec1",
        "outputId": "e8d2ad79-0adb-491d-d875-8242f1cc3c7b"
      },
      "source": [
        "import shutil\n",
        "shutil.make_archive('saved_model_name_for_tensor_flow', 'zip', MODEL_DIR)"
      ],
      "execution_count": null,
      "outputs": [
        {
          "output_type": "execute_result",
          "data": {
            "application/vnd.google.colaboratory.intrinsic+json": {
              "type": "string"
            },
            "text/plain": [
              "'/content/saved_model_name_for_tensor_flow.zip'"
            ]
          },
          "metadata": {
            "tags": []
          },
          "execution_count": 20
        }
      ]
    },
    {
      "cell_type": "code",
      "metadata": {
        "colab": {
          "base_uri": "https://localhost:8080/",
          "height": 290
        },
        "id": "giyYwB219ak-",
        "outputId": "c4921c38-1a4d-471c-f4b3-653aaa2ce4c6"
      },
      "source": [
        "import shutil\n",
        "shutil.make_archive('logs', 'zip', '/content/logs')"
      ],
      "execution_count": null,
      "outputs": [
        {
          "output_type": "error",
          "ename": "FileNotFoundError",
          "evalue": "ignored",
          "traceback": [
            "\u001b[0;31m---------------------------------------------------------------------------\u001b[0m",
            "\u001b[0;31mFileNotFoundError\u001b[0m                         Traceback (most recent call last)",
            "\u001b[0;32m<ipython-input-21-6c18d51c04a8>\u001b[0m in \u001b[0;36m<module>\u001b[0;34m()\u001b[0m\n\u001b[1;32m      1\u001b[0m \u001b[0;32mimport\u001b[0m \u001b[0mshutil\u001b[0m\u001b[0;34m\u001b[0m\u001b[0;34m\u001b[0m\u001b[0m\n\u001b[0;32m----> 2\u001b[0;31m \u001b[0mshutil\u001b[0m\u001b[0;34m.\u001b[0m\u001b[0mmake_archive\u001b[0m\u001b[0;34m(\u001b[0m\u001b[0;34m'logs'\u001b[0m\u001b[0;34m,\u001b[0m \u001b[0;34m'zip'\u001b[0m\u001b[0;34m,\u001b[0m \u001b[0;34m'/content/logs'\u001b[0m\u001b[0;34m)\u001b[0m\u001b[0;34m\u001b[0m\u001b[0;34m\u001b[0m\u001b[0m\n\u001b[0m",
            "\u001b[0;32m/usr/lib/python3.7/shutil.py\u001b[0m in \u001b[0;36mmake_archive\u001b[0;34m(base_name, format, root_dir, base_dir, verbose, dry_run, owner, group, logger)\u001b[0m\n\u001b[1;32m    799\u001b[0m         \u001b[0mbase_name\u001b[0m \u001b[0;34m=\u001b[0m \u001b[0mos\u001b[0m\u001b[0;34m.\u001b[0m\u001b[0mpath\u001b[0m\u001b[0;34m.\u001b[0m\u001b[0mabspath\u001b[0m\u001b[0;34m(\u001b[0m\u001b[0mbase_name\u001b[0m\u001b[0;34m)\u001b[0m\u001b[0;34m\u001b[0m\u001b[0;34m\u001b[0m\u001b[0m\n\u001b[1;32m    800\u001b[0m         \u001b[0;32mif\u001b[0m \u001b[0;32mnot\u001b[0m \u001b[0mdry_run\u001b[0m\u001b[0;34m:\u001b[0m\u001b[0;34m\u001b[0m\u001b[0;34m\u001b[0m\u001b[0m\n\u001b[0;32m--> 801\u001b[0;31m             \u001b[0mos\u001b[0m\u001b[0;34m.\u001b[0m\u001b[0mchdir\u001b[0m\u001b[0;34m(\u001b[0m\u001b[0mroot_dir\u001b[0m\u001b[0;34m)\u001b[0m\u001b[0;34m\u001b[0m\u001b[0;34m\u001b[0m\u001b[0m\n\u001b[0m\u001b[1;32m    802\u001b[0m \u001b[0;34m\u001b[0m\u001b[0m\n\u001b[1;32m    803\u001b[0m     \u001b[0;32mif\u001b[0m \u001b[0mbase_dir\u001b[0m \u001b[0;32mis\u001b[0m \u001b[0;32mNone\u001b[0m\u001b[0;34m:\u001b[0m\u001b[0;34m\u001b[0m\u001b[0;34m\u001b[0m\u001b[0m\n",
            "\u001b[0;31mFileNotFoundError\u001b[0m: [Errno 2] No such file or directory: '/content/logs'"
          ]
        }
      ]
    },
    {
      "cell_type": "code",
      "metadata": {
        "id": "0W2UKgnN9rGY"
      },
      "source": [
        ""
      ],
      "execution_count": null,
      "outputs": []
    }
  ]
}