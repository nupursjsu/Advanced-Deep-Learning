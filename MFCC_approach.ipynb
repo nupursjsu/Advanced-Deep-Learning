{
  "nbformat": 4,
  "nbformat_minor": 0,
  "metadata": {
    "colab": {
      "name": "MFCC approach.ipynb",
      "provenance": [],
      "include_colab_link": true
    },
    "kernelspec": {
      "name": "python3",
      "display_name": "Python 3"
    },
    "language_info": {
      "name": "python"
    }
  },
  "cells": [
    {
      "cell_type": "markdown",
      "metadata": {
        "id": "view-in-github",
        "colab_type": "text"
      },
      "source": [
        "<a href=\"https://colab.research.google.com/github/nupursjsu/Advanced-Deep-Learning/blob/master/MFCC_approach.ipynb\" target=\"_parent\"><img src=\"https://colab.research.google.com/assets/colab-badge.svg\" alt=\"Open In Colab\"/></a>"
      ]
    },
    {
      "cell_type": "code",
      "metadata": {
        "colab": {
          "base_uri": "https://localhost:8080/"
        },
        "id": "RPKfuPnz-QXG",
        "outputId": "81734d75-37d4-4321-f628-7e033b472994"
      },
      "source": [
        "!gdown --id 1OwgxRgeH2sqVB4-szobd16ClItJtyFo2"
      ],
      "execution_count": null,
      "outputs": [
        {
          "output_type": "stream",
          "text": [
            "Downloading...\n",
            "From: https://drive.google.com/uc?id=1OwgxRgeH2sqVB4-szobd16ClItJtyFo2\n",
            "To: /content/RagaDatasetNew.zip\n",
            "7.13GB [01:38, 72.6MB/s]\n"
          ],
          "name": "stdout"
        }
      ]
    },
    {
      "cell_type": "code",
      "metadata": {
        "id": "OsDuF9_B-VHH"
      },
      "source": [
        "import zipfile\n",
        "with zipfile.ZipFile('/content/RagaDatasetNew.zip', 'r') as zip_ref:\n",
        "    zip_ref.extractall('/content/processed')"
      ],
      "execution_count": null,
      "outputs": []
    },
    {
      "cell_type": "code",
      "metadata": {
        "id": "9Hdt5PmP87ts"
      },
      "source": [
        "import json\n",
        "import os\n",
        "import math\n",
        "import librosa\n",
        "\n",
        "DATASET_PATH = \"/content/processed/RagaDatasetNew\"\n",
        "JSON_PATH = \"data_10.json\"\n",
        "SAMPLE_RATE = 22050\n",
        "TRACK_DURATION = 30 # measured in seconds\n",
        "SAMPLES_PER_TRACK = SAMPLE_RATE * TRACK_DURATION\n",
        "\n",
        "\n",
        "def save_mfcc(dataset_path, json_path, num_mfcc=13, n_fft=2048, hop_length=512, num_segments=5):\n",
        "    \"\"\"Extracts MFCCs from music dataset and saves them into a json file along witgh genre labels.\n",
        "\n",
        "        :param dataset_path (str): Path to dataset\n",
        "        :param json_path (str): Path to json file used to save MFCCs\n",
        "        :param num_mfcc (int): Number of coefficients to extract\n",
        "        :param n_fft (int): Interval we consider to apply FFT. Measured in # of samples\n",
        "        :param hop_length (int): Sliding window for FFT. Measured in # of samples\n",
        "        :param: num_segments (int): Number of segments we want to divide sample tracks into\n",
        "        :return:\n",
        "        \"\"\"\n",
        "\n",
        "    # dictionary to store mapping, labels, and MFCCs\n",
        "    data = {\n",
        "        \"mapping\": [],\n",
        "        \"labels\": [],\n",
        "        \"mfcc\": []\n",
        "    }\n",
        "\n",
        "    samples_per_segment = int(SAMPLES_PER_TRACK / num_segments)\n",
        "    num_mfcc_vectors_per_segment = math.ceil(samples_per_segment / hop_length)\n",
        "\n",
        "    # loop through all genre sub-folder\n",
        "    for i, (dirpath, dirnames, filenames) in enumerate(os.walk(dataset_path)):\n",
        "\n",
        "        # ensure we're processing a genre sub-folder level\n",
        "        if dirpath is not dataset_path:\n",
        "\n",
        "            # save genre label (i.e., sub-folder name) in the mapping\n",
        "            semantic_label = dirpath.split(\"/\")[-1]\n",
        "            data[\"mapping\"].append(semantic_label)\n",
        "            print(\"\\nProcessing: {}\".format(semantic_label))\n",
        "\n",
        "            # process all audio files in genre sub-dir\n",
        "            for f in filenames:\n",
        "\n",
        "\t\t# load audio file\n",
        "                file_path = os.path.join(dirpath, f)\n",
        "                signal, sample_rate = librosa.load(file_path, sr=SAMPLE_RATE)\n",
        "\n",
        "                # process all segments of audio file\n",
        "                for d in range(num_segments):\n",
        "\n",
        "                    # calculate start and finish sample for current segment\n",
        "                    start = samples_per_segment * d\n",
        "                    finish = start + samples_per_segment\n",
        "\n",
        "                    # extract mfcc\n",
        "                    mfcc = librosa.feature.mfcc(signal[start:finish], sample_rate, n_mfcc=num_mfcc, n_fft=n_fft, hop_length=hop_length)\n",
        "                    mfcc = mfcc.T\n",
        "\n",
        "                    # store only mfcc feature with expected number of vectors\n",
        "                    if len(mfcc) == num_mfcc_vectors_per_segment:\n",
        "                        data[\"mfcc\"].append(mfcc.tolist())\n",
        "                        data[\"labels\"].append(i-1)\n",
        "                        print(\"{}, segment:{}\".format(file_path, d+1))\n",
        "\n",
        "    # save MFCCs to json file\n",
        "    with open(json_path, \"w\") as fp:\n",
        "        json.dump(data, fp, indent=4)\n",
        "        \n",
        "        "
      ],
      "execution_count": null,
      "outputs": []
    },
    {
      "cell_type": "code",
      "metadata": {
        "colab": {
          "base_uri": "https://localhost:8080/"
        },
        "id": "JzH-u3-W88j-",
        "outputId": "161be526-53d0-4a61-d25b-4c7282f70054"
      },
      "source": [
        "save_mfcc(DATASET_PATH, JSON_PATH, num_segments=10)"
      ],
      "execution_count": null,
      "outputs": [
        {
          "output_type": "stream",
          "text": [
            "\n",
            "Processing: Khama╠äj\n"
          ],
          "name": "stdout"
        },
        {
          "output_type": "stream",
          "text": [
            "/usr/local/lib/python3.7/dist-packages/librosa/core/audio.py:162: UserWarning: PySoundFile failed. Trying audioread instead.\n",
            "  warnings.warn(\"PySoundFile failed. Trying audioread instead.\")\n"
          ],
          "name": "stderr"
        },
        {
          "output_type": "stream",
          "text": [
            "/content/processed/RagaDatasetNew/Khama╠äj/Hirabai Barodekar - Kahe Sataao Mohe Sham.mp3, segment:1\n",
            "/content/processed/RagaDatasetNew/Khama╠äj/Hirabai Barodekar - Kahe Sataao Mohe Sham.mp3, segment:2\n",
            "/content/processed/RagaDatasetNew/Khama╠äj/Hirabai Barodekar - Kahe Sataao Mohe Sham.mp3, segment:3\n",
            "/content/processed/RagaDatasetNew/Khama╠äj/Hirabai Barodekar - Kahe Sataao Mohe Sham.mp3, segment:4\n",
            "/content/processed/RagaDatasetNew/Khama╠äj/Hirabai Barodekar - Kahe Sataao Mohe Sham.mp3, segment:5\n",
            "/content/processed/RagaDatasetNew/Khama╠äj/Hirabai Barodekar - Kahe Sataao Mohe Sham.mp3, segment:6\n",
            "/content/processed/RagaDatasetNew/Khama╠äj/Hirabai Barodekar - Kahe Sataao Mohe Sham.mp3, segment:7\n",
            "/content/processed/RagaDatasetNew/Khama╠äj/Hirabai Barodekar - Kahe Sataao Mohe Sham.mp3, segment:8\n",
            "/content/processed/RagaDatasetNew/Khama╠äj/Hirabai Barodekar - Kahe Sataao Mohe Sham.mp3, segment:9\n",
            "/content/processed/RagaDatasetNew/Khama╠äj/Hirabai Barodekar - Kahe Sataao Mohe Sham.mp3, segment:10\n"
          ],
          "name": "stdout"
        },
        {
          "output_type": "stream",
          "text": [
            "/usr/local/lib/python3.7/dist-packages/librosa/core/audio.py:162: UserWarning: PySoundFile failed. Trying audioread instead.\n",
            "  warnings.warn(\"PySoundFile failed. Trying audioread instead.\")\n"
          ],
          "name": "stderr"
        },
        {
          "output_type": "stream",
          "text": [
            "/content/processed/RagaDatasetNew/Khama╠äj/Ajoy Chakrabarty - Mishra Khamaj Thumri.mp3, segment:1\n",
            "/content/processed/RagaDatasetNew/Khama╠äj/Ajoy Chakrabarty - Mishra Khamaj Thumri.mp3, segment:2\n",
            "/content/processed/RagaDatasetNew/Khama╠äj/Ajoy Chakrabarty - Mishra Khamaj Thumri.mp3, segment:3\n",
            "/content/processed/RagaDatasetNew/Khama╠äj/Ajoy Chakrabarty - Mishra Khamaj Thumri.mp3, segment:4\n",
            "/content/processed/RagaDatasetNew/Khama╠äj/Ajoy Chakrabarty - Mishra Khamaj Thumri.mp3, segment:5\n",
            "/content/processed/RagaDatasetNew/Khama╠äj/Ajoy Chakrabarty - Mishra Khamaj Thumri.mp3, segment:6\n",
            "/content/processed/RagaDatasetNew/Khama╠äj/Ajoy Chakrabarty - Mishra Khamaj Thumri.mp3, segment:7\n",
            "/content/processed/RagaDatasetNew/Khama╠äj/Ajoy Chakrabarty - Mishra Khamaj Thumri.mp3, segment:8\n",
            "/content/processed/RagaDatasetNew/Khama╠äj/Ajoy Chakrabarty - Mishra Khamaj Thumri.mp3, segment:9\n",
            "/content/processed/RagaDatasetNew/Khama╠äj/Ajoy Chakrabarty - Mishra Khamaj Thumri.mp3, segment:10\n"
          ],
          "name": "stdout"
        },
        {
          "output_type": "stream",
          "text": [
            "/usr/local/lib/python3.7/dist-packages/librosa/core/audio.py:162: UserWarning: PySoundFile failed. Trying audioread instead.\n",
            "  warnings.warn(\"PySoundFile failed. Trying audioread instead.\")\n"
          ],
          "name": "stderr"
        },
        {
          "output_type": "stream",
          "text": [
            "/content/processed/RagaDatasetNew/Khama╠äj/Ajoy Chakrabarty - Drut Bandish In Tintal.mp3, segment:1\n",
            "/content/processed/RagaDatasetNew/Khama╠äj/Ajoy Chakrabarty - Drut Bandish In Tintal.mp3, segment:2\n",
            "/content/processed/RagaDatasetNew/Khama╠äj/Ajoy Chakrabarty - Drut Bandish In Tintal.mp3, segment:3\n",
            "/content/processed/RagaDatasetNew/Khama╠äj/Ajoy Chakrabarty - Drut Bandish In Tintal.mp3, segment:4\n",
            "/content/processed/RagaDatasetNew/Khama╠äj/Ajoy Chakrabarty - Drut Bandish In Tintal.mp3, segment:5\n",
            "/content/processed/RagaDatasetNew/Khama╠äj/Ajoy Chakrabarty - Drut Bandish In Tintal.mp3, segment:6\n",
            "/content/processed/RagaDatasetNew/Khama╠äj/Ajoy Chakrabarty - Drut Bandish In Tintal.mp3, segment:7\n",
            "/content/processed/RagaDatasetNew/Khama╠äj/Ajoy Chakrabarty - Drut Bandish In Tintal.mp3, segment:8\n",
            "/content/processed/RagaDatasetNew/Khama╠äj/Ajoy Chakrabarty - Drut Bandish In Tintal.mp3, segment:9\n",
            "/content/processed/RagaDatasetNew/Khama╠äj/Ajoy Chakrabarty - Drut Bandish In Tintal.mp3, segment:10\n"
          ],
          "name": "stdout"
        },
        {
          "output_type": "stream",
          "text": [
            "/usr/local/lib/python3.7/dist-packages/librosa/core/audio.py:162: UserWarning: PySoundFile failed. Trying audioread instead.\n",
            "  warnings.warn(\"PySoundFile failed. Trying audioread instead.\")\n"
          ],
          "name": "stderr"
        },
        {
          "output_type": "stream",
          "text": [
            "/content/processed/RagaDatasetNew/Khama╠äj/Abdul Rashid Khan - Laagun Re Junaiyan Tere Paiyan.mp3, segment:1\n",
            "/content/processed/RagaDatasetNew/Khama╠äj/Abdul Rashid Khan - Laagun Re Junaiyan Tere Paiyan.mp3, segment:2\n",
            "/content/processed/RagaDatasetNew/Khama╠äj/Abdul Rashid Khan - Laagun Re Junaiyan Tere Paiyan.mp3, segment:3\n",
            "/content/processed/RagaDatasetNew/Khama╠äj/Abdul Rashid Khan - Laagun Re Junaiyan Tere Paiyan.mp3, segment:4\n",
            "/content/processed/RagaDatasetNew/Khama╠äj/Abdul Rashid Khan - Laagun Re Junaiyan Tere Paiyan.mp3, segment:5\n",
            "/content/processed/RagaDatasetNew/Khama╠äj/Abdul Rashid Khan - Laagun Re Junaiyan Tere Paiyan.mp3, segment:6\n",
            "/content/processed/RagaDatasetNew/Khama╠äj/Abdul Rashid Khan - Laagun Re Junaiyan Tere Paiyan.mp3, segment:7\n",
            "/content/processed/RagaDatasetNew/Khama╠äj/Abdul Rashid Khan - Laagun Re Junaiyan Tere Paiyan.mp3, segment:8\n",
            "/content/processed/RagaDatasetNew/Khama╠äj/Abdul Rashid Khan - Laagun Re Junaiyan Tere Paiyan.mp3, segment:9\n",
            "/content/processed/RagaDatasetNew/Khama╠äj/Abdul Rashid Khan - Laagun Re Junaiyan Tere Paiyan.mp3, segment:10\n"
          ],
          "name": "stdout"
        },
        {
          "output_type": "stream",
          "text": [
            "/usr/local/lib/python3.7/dist-packages/librosa/core/audio.py:162: UserWarning: PySoundFile failed. Trying audioread instead.\n",
            "  warnings.warn(\"PySoundFile failed. Trying audioread instead.\")\n"
          ],
          "name": "stderr"
        },
        {
          "output_type": "stream",
          "text": [
            "/content/processed/RagaDatasetNew/Khama╠äj/Abdul Rashid Khan - More Piyava Gaily Ho Bidesava.mp3, segment:1\n",
            "/content/processed/RagaDatasetNew/Khama╠äj/Abdul Rashid Khan - More Piyava Gaily Ho Bidesava.mp3, segment:2\n",
            "/content/processed/RagaDatasetNew/Khama╠äj/Abdul Rashid Khan - More Piyava Gaily Ho Bidesava.mp3, segment:3\n",
            "/content/processed/RagaDatasetNew/Khama╠äj/Abdul Rashid Khan - More Piyava Gaily Ho Bidesava.mp3, segment:4\n",
            "/content/processed/RagaDatasetNew/Khama╠äj/Abdul Rashid Khan - More Piyava Gaily Ho Bidesava.mp3, segment:5\n",
            "/content/processed/RagaDatasetNew/Khama╠äj/Abdul Rashid Khan - More Piyava Gaily Ho Bidesava.mp3, segment:6\n",
            "/content/processed/RagaDatasetNew/Khama╠äj/Abdul Rashid Khan - More Piyava Gaily Ho Bidesava.mp3, segment:7\n",
            "/content/processed/RagaDatasetNew/Khama╠äj/Abdul Rashid Khan - More Piyava Gaily Ho Bidesava.mp3, segment:8\n",
            "/content/processed/RagaDatasetNew/Khama╠äj/Abdul Rashid Khan - More Piyava Gaily Ho Bidesava.mp3, segment:9\n",
            "/content/processed/RagaDatasetNew/Khama╠äj/Abdul Rashid Khan - More Piyava Gaily Ho Bidesava.mp3, segment:10\n"
          ],
          "name": "stdout"
        },
        {
          "output_type": "stream",
          "text": [
            "/usr/local/lib/python3.7/dist-packages/librosa/core/audio.py:162: UserWarning: PySoundFile failed. Trying audioread instead.\n",
            "  warnings.warn(\"PySoundFile failed. Trying audioread instead.\")\n"
          ],
          "name": "stderr"
        },
        {
          "output_type": "stream",
          "text": [
            "/content/processed/RagaDatasetNew/Khama╠äj/Jagdish Prasad - Thumri Khamaj.mp3, segment:1\n",
            "/content/processed/RagaDatasetNew/Khama╠äj/Jagdish Prasad - Thumri Khamaj.mp3, segment:2\n",
            "/content/processed/RagaDatasetNew/Khama╠äj/Jagdish Prasad - Thumri Khamaj.mp3, segment:3\n",
            "/content/processed/RagaDatasetNew/Khama╠äj/Jagdish Prasad - Thumri Khamaj.mp3, segment:4\n",
            "/content/processed/RagaDatasetNew/Khama╠äj/Jagdish Prasad - Thumri Khamaj.mp3, segment:5\n",
            "/content/processed/RagaDatasetNew/Khama╠äj/Jagdish Prasad - Thumri Khamaj.mp3, segment:6\n",
            "/content/processed/RagaDatasetNew/Khama╠äj/Jagdish Prasad - Thumri Khamaj.mp3, segment:7\n",
            "/content/processed/RagaDatasetNew/Khama╠äj/Jagdish Prasad - Thumri Khamaj.mp3, segment:8\n",
            "/content/processed/RagaDatasetNew/Khama╠äj/Jagdish Prasad - Thumri Khamaj.mp3, segment:9\n",
            "/content/processed/RagaDatasetNew/Khama╠äj/Jagdish Prasad - Thumri Khamaj.mp3, segment:10\n"
          ],
          "name": "stdout"
        },
        {
          "output_type": "stream",
          "text": [
            "/usr/local/lib/python3.7/dist-packages/librosa/core/audio.py:162: UserWarning: PySoundFile failed. Trying audioread instead.\n",
            "  warnings.warn(\"PySoundFile failed. Trying audioread instead.\")\n"
          ],
          "name": "stderr"
        },
        {
          "output_type": "stream",
          "text": [
            "/content/processed/RagaDatasetNew/Khama╠äj/Girija Devi - Thumri Khamaj.mp3, segment:1\n",
            "/content/processed/RagaDatasetNew/Khama╠äj/Girija Devi - Thumri Khamaj.mp3, segment:2\n",
            "/content/processed/RagaDatasetNew/Khama╠äj/Girija Devi - Thumri Khamaj.mp3, segment:3\n",
            "/content/processed/RagaDatasetNew/Khama╠äj/Girija Devi - Thumri Khamaj.mp3, segment:4\n",
            "/content/processed/RagaDatasetNew/Khama╠äj/Girija Devi - Thumri Khamaj.mp3, segment:5\n",
            "/content/processed/RagaDatasetNew/Khama╠äj/Girija Devi - Thumri Khamaj.mp3, segment:6\n",
            "/content/processed/RagaDatasetNew/Khama╠äj/Girija Devi - Thumri Khamaj.mp3, segment:7\n",
            "/content/processed/RagaDatasetNew/Khama╠äj/Girija Devi - Thumri Khamaj.mp3, segment:8\n",
            "/content/processed/RagaDatasetNew/Khama╠äj/Girija Devi - Thumri Khamaj.mp3, segment:9\n",
            "/content/processed/RagaDatasetNew/Khama╠äj/Girija Devi - Thumri Khamaj.mp3, segment:10\n"
          ],
          "name": "stdout"
        },
        {
          "output_type": "stream",
          "text": [
            "/usr/local/lib/python3.7/dist-packages/librosa/core/audio.py:162: UserWarning: PySoundFile failed. Trying audioread instead.\n",
            "  warnings.warn(\"PySoundFile failed. Trying audioread instead.\")\n"
          ],
          "name": "stderr"
        },
        {
          "output_type": "stream",
          "text": [
            "/content/processed/RagaDatasetNew/Khama╠äj/Bismillah Khan - Gazal.mp3, segment:1\n",
            "/content/processed/RagaDatasetNew/Khama╠äj/Bismillah Khan - Gazal.mp3, segment:2\n",
            "/content/processed/RagaDatasetNew/Khama╠äj/Bismillah Khan - Gazal.mp3, segment:3\n",
            "/content/processed/RagaDatasetNew/Khama╠äj/Bismillah Khan - Gazal.mp3, segment:4\n",
            "/content/processed/RagaDatasetNew/Khama╠äj/Bismillah Khan - Gazal.mp3, segment:5\n",
            "/content/processed/RagaDatasetNew/Khama╠äj/Bismillah Khan - Gazal.mp3, segment:6\n",
            "/content/processed/RagaDatasetNew/Khama╠äj/Bismillah Khan - Gazal.mp3, segment:7\n",
            "/content/processed/RagaDatasetNew/Khama╠äj/Bismillah Khan - Gazal.mp3, segment:8\n",
            "/content/processed/RagaDatasetNew/Khama╠äj/Bismillah Khan - Gazal.mp3, segment:9\n",
            "/content/processed/RagaDatasetNew/Khama╠äj/Bismillah Khan - Gazal.mp3, segment:10\n"
          ],
          "name": "stdout"
        },
        {
          "output_type": "stream",
          "text": [
            "/usr/local/lib/python3.7/dist-packages/librosa/core/audio.py:162: UserWarning: PySoundFile failed. Trying audioread instead.\n",
            "  warnings.warn(\"PySoundFile failed. Trying audioread instead.\")\n"
          ],
          "name": "stderr"
        },
        {
          "output_type": "stream",
          "text": [
            "/content/processed/RagaDatasetNew/Khama╠äj/Girija Devi - Jovovahin Tum Shyam - Thumri Khamaj.mp3, segment:1\n",
            "/content/processed/RagaDatasetNew/Khama╠äj/Girija Devi - Jovovahin Tum Shyam - Thumri Khamaj.mp3, segment:2\n",
            "/content/processed/RagaDatasetNew/Khama╠äj/Girija Devi - Jovovahin Tum Shyam - Thumri Khamaj.mp3, segment:3\n",
            "/content/processed/RagaDatasetNew/Khama╠äj/Girija Devi - Jovovahin Tum Shyam - Thumri Khamaj.mp3, segment:4\n",
            "/content/processed/RagaDatasetNew/Khama╠äj/Girija Devi - Jovovahin Tum Shyam - Thumri Khamaj.mp3, segment:5\n",
            "/content/processed/RagaDatasetNew/Khama╠äj/Girija Devi - Jovovahin Tum Shyam - Thumri Khamaj.mp3, segment:6\n",
            "/content/processed/RagaDatasetNew/Khama╠äj/Girija Devi - Jovovahin Tum Shyam - Thumri Khamaj.mp3, segment:7\n",
            "/content/processed/RagaDatasetNew/Khama╠äj/Girija Devi - Jovovahin Tum Shyam - Thumri Khamaj.mp3, segment:8\n",
            "/content/processed/RagaDatasetNew/Khama╠äj/Girija Devi - Jovovahin Tum Shyam - Thumri Khamaj.mp3, segment:9\n",
            "/content/processed/RagaDatasetNew/Khama╠äj/Girija Devi - Jovovahin Tum Shyam - Thumri Khamaj.mp3, segment:10\n"
          ],
          "name": "stdout"
        },
        {
          "output_type": "stream",
          "text": [
            "/usr/local/lib/python3.7/dist-packages/librosa/core/audio.py:162: UserWarning: PySoundFile failed. Trying audioread instead.\n",
            "  warnings.warn(\"PySoundFile failed. Trying audioread instead.\")\n"
          ],
          "name": "stderr"
        },
        {
          "output_type": "stream",
          "text": [
            "/content/processed/RagaDatasetNew/Khama╠äj/Abdul Rashid Khan - Tair Sunaye Re Papihara.mp3, segment:1\n",
            "/content/processed/RagaDatasetNew/Khama╠äj/Abdul Rashid Khan - Tair Sunaye Re Papihara.mp3, segment:2\n",
            "/content/processed/RagaDatasetNew/Khama╠äj/Abdul Rashid Khan - Tair Sunaye Re Papihara.mp3, segment:3\n",
            "/content/processed/RagaDatasetNew/Khama╠äj/Abdul Rashid Khan - Tair Sunaye Re Papihara.mp3, segment:4\n",
            "/content/processed/RagaDatasetNew/Khama╠äj/Abdul Rashid Khan - Tair Sunaye Re Papihara.mp3, segment:5\n",
            "/content/processed/RagaDatasetNew/Khama╠äj/Abdul Rashid Khan - Tair Sunaye Re Papihara.mp3, segment:6\n",
            "/content/processed/RagaDatasetNew/Khama╠äj/Abdul Rashid Khan - Tair Sunaye Re Papihara.mp3, segment:7\n",
            "/content/processed/RagaDatasetNew/Khama╠äj/Abdul Rashid Khan - Tair Sunaye Re Papihara.mp3, segment:8\n",
            "/content/processed/RagaDatasetNew/Khama╠äj/Abdul Rashid Khan - Tair Sunaye Re Papihara.mp3, segment:9\n",
            "/content/processed/RagaDatasetNew/Khama╠äj/Abdul Rashid Khan - Tair Sunaye Re Papihara.mp3, segment:10\n"
          ],
          "name": "stdout"
        },
        {
          "output_type": "stream",
          "text": [
            "/usr/local/lib/python3.7/dist-packages/librosa/core/audio.py:162: UserWarning: PySoundFile failed. Trying audioread instead.\n",
            "  warnings.warn(\"PySoundFile failed. Trying audioread instead.\")\n"
          ],
          "name": "stderr"
        },
        {
          "output_type": "stream",
          "text": [
            "/content/processed/RagaDatasetNew/Khama╠äj/Abdul Rashid Khan - Chanchal Chatur Nodar Kanhale - Khamaj.mp3, segment:1\n",
            "/content/processed/RagaDatasetNew/Khama╠äj/Abdul Rashid Khan - Chanchal Chatur Nodar Kanhale - Khamaj.mp3, segment:2\n",
            "/content/processed/RagaDatasetNew/Khama╠äj/Abdul Rashid Khan - Chanchal Chatur Nodar Kanhale - Khamaj.mp3, segment:3\n",
            "/content/processed/RagaDatasetNew/Khama╠äj/Abdul Rashid Khan - Chanchal Chatur Nodar Kanhale - Khamaj.mp3, segment:4\n",
            "/content/processed/RagaDatasetNew/Khama╠äj/Abdul Rashid Khan - Chanchal Chatur Nodar Kanhale - Khamaj.mp3, segment:5\n",
            "/content/processed/RagaDatasetNew/Khama╠äj/Abdul Rashid Khan - Chanchal Chatur Nodar Kanhale - Khamaj.mp3, segment:6\n",
            "/content/processed/RagaDatasetNew/Khama╠äj/Abdul Rashid Khan - Chanchal Chatur Nodar Kanhale - Khamaj.mp3, segment:7\n",
            "/content/processed/RagaDatasetNew/Khama╠äj/Abdul Rashid Khan - Chanchal Chatur Nodar Kanhale - Khamaj.mp3, segment:8\n",
            "/content/processed/RagaDatasetNew/Khama╠äj/Abdul Rashid Khan - Chanchal Chatur Nodar Kanhale - Khamaj.mp3, segment:9\n",
            "/content/processed/RagaDatasetNew/Khama╠äj/Abdul Rashid Khan - Chanchal Chatur Nodar Kanhale - Khamaj.mp3, segment:10\n"
          ],
          "name": "stdout"
        },
        {
          "output_type": "stream",
          "text": [
            "/usr/local/lib/python3.7/dist-packages/librosa/core/audio.py:162: UserWarning: PySoundFile failed. Trying audioread instead.\n",
            "  warnings.warn(\"PySoundFile failed. Trying audioread instead.\")\n"
          ],
          "name": "stderr"
        },
        {
          "output_type": "stream",
          "text": [
            "/content/processed/RagaDatasetNew/Khama╠äj/Abdul Rashid Khan - Kab Ghar Aao Piya More Paas.mp3, segment:1\n",
            "/content/processed/RagaDatasetNew/Khama╠äj/Abdul Rashid Khan - Kab Ghar Aao Piya More Paas.mp3, segment:2\n",
            "/content/processed/RagaDatasetNew/Khama╠äj/Abdul Rashid Khan - Kab Ghar Aao Piya More Paas.mp3, segment:3\n",
            "/content/processed/RagaDatasetNew/Khama╠äj/Abdul Rashid Khan - Kab Ghar Aao Piya More Paas.mp3, segment:4\n",
            "/content/processed/RagaDatasetNew/Khama╠äj/Abdul Rashid Khan - Kab Ghar Aao Piya More Paas.mp3, segment:5\n",
            "/content/processed/RagaDatasetNew/Khama╠äj/Abdul Rashid Khan - Kab Ghar Aao Piya More Paas.mp3, segment:6\n",
            "/content/processed/RagaDatasetNew/Khama╠äj/Abdul Rashid Khan - Kab Ghar Aao Piya More Paas.mp3, segment:7\n",
            "/content/processed/RagaDatasetNew/Khama╠äj/Abdul Rashid Khan - Kab Ghar Aao Piya More Paas.mp3, segment:8\n",
            "/content/processed/RagaDatasetNew/Khama╠äj/Abdul Rashid Khan - Kab Ghar Aao Piya More Paas.mp3, segment:9\n",
            "/content/processed/RagaDatasetNew/Khama╠äj/Abdul Rashid Khan - Kab Ghar Aao Piya More Paas.mp3, segment:10\n"
          ],
          "name": "stdout"
        },
        {
          "output_type": "stream",
          "text": [
            "/usr/local/lib/python3.7/dist-packages/librosa/core/audio.py:162: UserWarning: PySoundFile failed. Trying audioread instead.\n",
            "  warnings.warn(\"PySoundFile failed. Trying audioread instead.\")\n"
          ],
          "name": "stderr"
        },
        {
          "output_type": "stream",
          "text": [
            "/content/processed/RagaDatasetNew/Khama╠äj/Ajoy Chakrabarty - Raag Khamaj.mp3, segment:1\n",
            "/content/processed/RagaDatasetNew/Khama╠äj/Ajoy Chakrabarty - Raag Khamaj.mp3, segment:2\n",
            "/content/processed/RagaDatasetNew/Khama╠äj/Ajoy Chakrabarty - Raag Khamaj.mp3, segment:3\n",
            "/content/processed/RagaDatasetNew/Khama╠äj/Ajoy Chakrabarty - Raag Khamaj.mp3, segment:4\n",
            "/content/processed/RagaDatasetNew/Khama╠äj/Ajoy Chakrabarty - Raag Khamaj.mp3, segment:5\n",
            "/content/processed/RagaDatasetNew/Khama╠äj/Ajoy Chakrabarty - Raag Khamaj.mp3, segment:6\n",
            "/content/processed/RagaDatasetNew/Khama╠äj/Ajoy Chakrabarty - Raag Khamaj.mp3, segment:7\n",
            "/content/processed/RagaDatasetNew/Khama╠äj/Ajoy Chakrabarty - Raag Khamaj.mp3, segment:8\n",
            "/content/processed/RagaDatasetNew/Khama╠äj/Ajoy Chakrabarty - Raag Khamaj.mp3, segment:9\n",
            "/content/processed/RagaDatasetNew/Khama╠äj/Ajoy Chakrabarty - Raag Khamaj.mp3, segment:10\n"
          ],
          "name": "stdout"
        },
        {
          "output_type": "stream",
          "text": [
            "/usr/local/lib/python3.7/dist-packages/librosa/core/audio.py:162: UserWarning: PySoundFile failed. Trying audioread instead.\n",
            "  warnings.warn(\"PySoundFile failed. Trying audioread instead.\")\n"
          ],
          "name": "stderr"
        },
        {
          "output_type": "stream",
          "text": [
            "/content/processed/RagaDatasetNew/Khama╠äj/Ajoy Chakrabarty - Madhya Bandish In Jhaptal.mp3, segment:1\n",
            "/content/processed/RagaDatasetNew/Khama╠äj/Ajoy Chakrabarty - Madhya Bandish In Jhaptal.mp3, segment:2\n",
            "/content/processed/RagaDatasetNew/Khama╠äj/Ajoy Chakrabarty - Madhya Bandish In Jhaptal.mp3, segment:3\n",
            "/content/processed/RagaDatasetNew/Khama╠äj/Ajoy Chakrabarty - Madhya Bandish In Jhaptal.mp3, segment:4\n",
            "/content/processed/RagaDatasetNew/Khama╠äj/Ajoy Chakrabarty - Madhya Bandish In Jhaptal.mp3, segment:5\n",
            "/content/processed/RagaDatasetNew/Khama╠äj/Ajoy Chakrabarty - Madhya Bandish In Jhaptal.mp3, segment:6\n",
            "/content/processed/RagaDatasetNew/Khama╠äj/Ajoy Chakrabarty - Madhya Bandish In Jhaptal.mp3, segment:7\n",
            "/content/processed/RagaDatasetNew/Khama╠äj/Ajoy Chakrabarty - Madhya Bandish In Jhaptal.mp3, segment:8\n",
            "/content/processed/RagaDatasetNew/Khama╠äj/Ajoy Chakrabarty - Madhya Bandish In Jhaptal.mp3, segment:9\n",
            "/content/processed/RagaDatasetNew/Khama╠äj/Ajoy Chakrabarty - Madhya Bandish In Jhaptal.mp3, segment:10\n"
          ],
          "name": "stdout"
        },
        {
          "output_type": "stream",
          "text": [
            "/usr/local/lib/python3.7/dist-packages/librosa/core/audio.py:162: UserWarning: PySoundFile failed. Trying audioread instead.\n",
            "  warnings.warn(\"PySoundFile failed. Trying audioread instead.\")\n"
          ],
          "name": "stderr"
        },
        {
          "output_type": "stream",
          "text": [
            "/content/processed/RagaDatasetNew/Khama╠äj/Zakir Hussain and Amjad Ali Khan - Raga - Khamaj (With Variations).mp3, segment:1\n",
            "/content/processed/RagaDatasetNew/Khama╠äj/Zakir Hussain and Amjad Ali Khan - Raga - Khamaj (With Variations).mp3, segment:2\n",
            "/content/processed/RagaDatasetNew/Khama╠äj/Zakir Hussain and Amjad Ali Khan - Raga - Khamaj (With Variations).mp3, segment:3\n",
            "/content/processed/RagaDatasetNew/Khama╠äj/Zakir Hussain and Amjad Ali Khan - Raga - Khamaj (With Variations).mp3, segment:4\n",
            "/content/processed/RagaDatasetNew/Khama╠äj/Zakir Hussain and Amjad Ali Khan - Raga - Khamaj (With Variations).mp3, segment:5\n",
            "/content/processed/RagaDatasetNew/Khama╠äj/Zakir Hussain and Amjad Ali Khan - Raga - Khamaj (With Variations).mp3, segment:6\n",
            "/content/processed/RagaDatasetNew/Khama╠äj/Zakir Hussain and Amjad Ali Khan - Raga - Khamaj (With Variations).mp3, segment:7\n",
            "/content/processed/RagaDatasetNew/Khama╠äj/Zakir Hussain and Amjad Ali Khan - Raga - Khamaj (With Variations).mp3, segment:8\n",
            "/content/processed/RagaDatasetNew/Khama╠äj/Zakir Hussain and Amjad Ali Khan - Raga - Khamaj (With Variations).mp3, segment:9\n",
            "/content/processed/RagaDatasetNew/Khama╠äj/Zakir Hussain and Amjad Ali Khan - Raga - Khamaj (With Variations).mp3, segment:10\n"
          ],
          "name": "stdout"
        },
        {
          "output_type": "stream",
          "text": [
            "/usr/local/lib/python3.7/dist-packages/librosa/core/audio.py:162: UserWarning: PySoundFile failed. Trying audioread instead.\n",
            "  warnings.warn(\"PySoundFile failed. Trying audioread instead.\")\n"
          ],
          "name": "stderr"
        },
        {
          "output_type": "stream",
          "text": [
            "/content/processed/RagaDatasetNew/Khama╠äj/Vilayat Khan - Raga Mishra Khamaj - Gat.mp3, segment:1\n",
            "/content/processed/RagaDatasetNew/Khama╠äj/Vilayat Khan - Raga Mishra Khamaj - Gat.mp3, segment:2\n",
            "/content/processed/RagaDatasetNew/Khama╠äj/Vilayat Khan - Raga Mishra Khamaj - Gat.mp3, segment:3\n",
            "/content/processed/RagaDatasetNew/Khama╠äj/Vilayat Khan - Raga Mishra Khamaj - Gat.mp3, segment:4\n",
            "/content/processed/RagaDatasetNew/Khama╠äj/Vilayat Khan - Raga Mishra Khamaj - Gat.mp3, segment:5\n",
            "/content/processed/RagaDatasetNew/Khama╠äj/Vilayat Khan - Raga Mishra Khamaj - Gat.mp3, segment:6\n",
            "/content/processed/RagaDatasetNew/Khama╠äj/Vilayat Khan - Raga Mishra Khamaj - Gat.mp3, segment:7\n",
            "/content/processed/RagaDatasetNew/Khama╠äj/Vilayat Khan - Raga Mishra Khamaj - Gat.mp3, segment:8\n",
            "/content/processed/RagaDatasetNew/Khama╠äj/Vilayat Khan - Raga Mishra Khamaj - Gat.mp3, segment:9\n",
            "/content/processed/RagaDatasetNew/Khama╠äj/Vilayat Khan - Raga Mishra Khamaj - Gat.mp3, segment:10\n"
          ],
          "name": "stdout"
        },
        {
          "output_type": "stream",
          "text": [
            "/usr/local/lib/python3.7/dist-packages/librosa/core/audio.py:162: UserWarning: PySoundFile failed. Trying audioread instead.\n",
            "  warnings.warn(\"PySoundFile failed. Trying audioread instead.\")\n"
          ],
          "name": "stderr"
        },
        {
          "output_type": "stream",
          "text": [
            "/content/processed/RagaDatasetNew/Khama╠äj/Ajoy Chakrabarty - Vilambit Bandish In Ektal.mp3, segment:1\n",
            "/content/processed/RagaDatasetNew/Khama╠äj/Ajoy Chakrabarty - Vilambit Bandish In Ektal.mp3, segment:2\n",
            "/content/processed/RagaDatasetNew/Khama╠äj/Ajoy Chakrabarty - Vilambit Bandish In Ektal.mp3, segment:3\n",
            "/content/processed/RagaDatasetNew/Khama╠äj/Ajoy Chakrabarty - Vilambit Bandish In Ektal.mp3, segment:4\n",
            "/content/processed/RagaDatasetNew/Khama╠äj/Ajoy Chakrabarty - Vilambit Bandish In Ektal.mp3, segment:5\n",
            "/content/processed/RagaDatasetNew/Khama╠äj/Ajoy Chakrabarty - Vilambit Bandish In Ektal.mp3, segment:6\n",
            "/content/processed/RagaDatasetNew/Khama╠äj/Ajoy Chakrabarty - Vilambit Bandish In Ektal.mp3, segment:7\n",
            "/content/processed/RagaDatasetNew/Khama╠äj/Ajoy Chakrabarty - Vilambit Bandish In Ektal.mp3, segment:8\n",
            "/content/processed/RagaDatasetNew/Khama╠äj/Ajoy Chakrabarty - Vilambit Bandish In Ektal.mp3, segment:9\n",
            "/content/processed/RagaDatasetNew/Khama╠äj/Ajoy Chakrabarty - Vilambit Bandish In Ektal.mp3, segment:10\n"
          ],
          "name": "stdout"
        },
        {
          "output_type": "stream",
          "text": [
            "/usr/local/lib/python3.7/dist-packages/librosa/core/audio.py:162: UserWarning: PySoundFile failed. Trying audioread instead.\n",
            "  warnings.warn(\"PySoundFile failed. Trying audioread instead.\")\n"
          ],
          "name": "stderr"
        },
        {
          "output_type": "stream",
          "text": [
            "/content/processed/RagaDatasetNew/Khama╠äj/Vilayat Khan - Bhatiyali Dhun.mp3, segment:1\n",
            "/content/processed/RagaDatasetNew/Khama╠äj/Vilayat Khan - Bhatiyali Dhun.mp3, segment:2\n",
            "/content/processed/RagaDatasetNew/Khama╠äj/Vilayat Khan - Bhatiyali Dhun.mp3, segment:3\n",
            "/content/processed/RagaDatasetNew/Khama╠äj/Vilayat Khan - Bhatiyali Dhun.mp3, segment:4\n",
            "/content/processed/RagaDatasetNew/Khama╠äj/Vilayat Khan - Bhatiyali Dhun.mp3, segment:5\n",
            "/content/processed/RagaDatasetNew/Khama╠äj/Vilayat Khan - Bhatiyali Dhun.mp3, segment:6\n",
            "/content/processed/RagaDatasetNew/Khama╠äj/Vilayat Khan - Bhatiyali Dhun.mp3, segment:7\n",
            "/content/processed/RagaDatasetNew/Khama╠äj/Vilayat Khan - Bhatiyali Dhun.mp3, segment:8\n",
            "/content/processed/RagaDatasetNew/Khama╠äj/Vilayat Khan - Bhatiyali Dhun.mp3, segment:9\n",
            "/content/processed/RagaDatasetNew/Khama╠äj/Vilayat Khan - Bhatiyali Dhun.mp3, segment:10\n"
          ],
          "name": "stdout"
        },
        {
          "output_type": "stream",
          "text": [
            "/usr/local/lib/python3.7/dist-packages/librosa/core/audio.py:162: UserWarning: PySoundFile failed. Trying audioread instead.\n",
            "  warnings.warn(\"PySoundFile failed. Trying audioread instead.\")\n"
          ],
          "name": "stderr"
        },
        {
          "output_type": "stream",
          "text": [
            "/content/processed/RagaDatasetNew/Khama╠äj/Shivkumar Sharma - Raga Mishra Khamaj.mp3, segment:1\n",
            "/content/processed/RagaDatasetNew/Khama╠äj/Shivkumar Sharma - Raga Mishra Khamaj.mp3, segment:2\n",
            "/content/processed/RagaDatasetNew/Khama╠äj/Shivkumar Sharma - Raga Mishra Khamaj.mp3, segment:3\n",
            "/content/processed/RagaDatasetNew/Khama╠äj/Shivkumar Sharma - Raga Mishra Khamaj.mp3, segment:4\n",
            "/content/processed/RagaDatasetNew/Khama╠äj/Shivkumar Sharma - Raga Mishra Khamaj.mp3, segment:5\n",
            "/content/processed/RagaDatasetNew/Khama╠äj/Shivkumar Sharma - Raga Mishra Khamaj.mp3, segment:6\n",
            "/content/processed/RagaDatasetNew/Khama╠äj/Shivkumar Sharma - Raga Mishra Khamaj.mp3, segment:7\n",
            "/content/processed/RagaDatasetNew/Khama╠äj/Shivkumar Sharma - Raga Mishra Khamaj.mp3, segment:8\n",
            "/content/processed/RagaDatasetNew/Khama╠äj/Shivkumar Sharma - Raga Mishra Khamaj.mp3, segment:9\n",
            "/content/processed/RagaDatasetNew/Khama╠äj/Shivkumar Sharma - Raga Mishra Khamaj.mp3, segment:10\n"
          ],
          "name": "stdout"
        },
        {
          "output_type": "stream",
          "text": [
            "/usr/local/lib/python3.7/dist-packages/librosa/core/audio.py:162: UserWarning: PySoundFile failed. Trying audioread instead.\n",
            "  warnings.warn(\"PySoundFile failed. Trying audioread instead.\")\n"
          ],
          "name": "stderr"
        },
        {
          "output_type": "stream",
          "text": [
            "/content/processed/RagaDatasetNew/Khama╠äj/Bade Ghulam Ali Khan - Thumri Mishra Khamaj.mp3, segment:1\n",
            "/content/processed/RagaDatasetNew/Khama╠äj/Bade Ghulam Ali Khan - Thumri Mishra Khamaj.mp3, segment:2\n",
            "/content/processed/RagaDatasetNew/Khama╠äj/Bade Ghulam Ali Khan - Thumri Mishra Khamaj.mp3, segment:3\n",
            "/content/processed/RagaDatasetNew/Khama╠äj/Bade Ghulam Ali Khan - Thumri Mishra Khamaj.mp3, segment:4\n",
            "/content/processed/RagaDatasetNew/Khama╠äj/Bade Ghulam Ali Khan - Thumri Mishra Khamaj.mp3, segment:5\n",
            "/content/processed/RagaDatasetNew/Khama╠äj/Bade Ghulam Ali Khan - Thumri Mishra Khamaj.mp3, segment:6\n",
            "/content/processed/RagaDatasetNew/Khama╠äj/Bade Ghulam Ali Khan - Thumri Mishra Khamaj.mp3, segment:7\n",
            "/content/processed/RagaDatasetNew/Khama╠äj/Bade Ghulam Ali Khan - Thumri Mishra Khamaj.mp3, segment:8\n",
            "/content/processed/RagaDatasetNew/Khama╠äj/Bade Ghulam Ali Khan - Thumri Mishra Khamaj.mp3, segment:9\n",
            "/content/processed/RagaDatasetNew/Khama╠äj/Bade Ghulam Ali Khan - Thumri Mishra Khamaj.mp3, segment:10\n"
          ],
          "name": "stdout"
        },
        {
          "output_type": "stream",
          "text": [
            "/usr/local/lib/python3.7/dist-packages/librosa/core/audio.py:162: UserWarning: PySoundFile failed. Trying audioread instead.\n",
            "  warnings.warn(\"PySoundFile failed. Trying audioread instead.\")\n"
          ],
          "name": "stderr"
        },
        {
          "output_type": "stream",
          "text": [
            "/content/processed/RagaDatasetNew/Khama╠äj/Vilayat Khan - Raga Mishra Khamaj - Aalap.mp3, segment:1\n",
            "/content/processed/RagaDatasetNew/Khama╠äj/Vilayat Khan - Raga Mishra Khamaj - Aalap.mp3, segment:2\n",
            "/content/processed/RagaDatasetNew/Khama╠äj/Vilayat Khan - Raga Mishra Khamaj - Aalap.mp3, segment:3\n",
            "/content/processed/RagaDatasetNew/Khama╠äj/Vilayat Khan - Raga Mishra Khamaj - Aalap.mp3, segment:4\n",
            "/content/processed/RagaDatasetNew/Khama╠äj/Vilayat Khan - Raga Mishra Khamaj - Aalap.mp3, segment:5\n",
            "/content/processed/RagaDatasetNew/Khama╠äj/Vilayat Khan - Raga Mishra Khamaj - Aalap.mp3, segment:6\n",
            "/content/processed/RagaDatasetNew/Khama╠äj/Vilayat Khan - Raga Mishra Khamaj - Aalap.mp3, segment:7\n",
            "/content/processed/RagaDatasetNew/Khama╠äj/Vilayat Khan - Raga Mishra Khamaj - Aalap.mp3, segment:8\n",
            "/content/processed/RagaDatasetNew/Khama╠äj/Vilayat Khan - Raga Mishra Khamaj - Aalap.mp3, segment:9\n",
            "/content/processed/RagaDatasetNew/Khama╠äj/Vilayat Khan - Raga Mishra Khamaj - Aalap.mp3, segment:10\n"
          ],
          "name": "stdout"
        },
        {
          "output_type": "stream",
          "text": [
            "/usr/local/lib/python3.7/dist-packages/librosa/core/audio.py:162: UserWarning: PySoundFile failed. Trying audioread instead.\n",
            "  warnings.warn(\"PySoundFile failed. Trying audioread instead.\")\n"
          ],
          "name": "stderr"
        },
        {
          "output_type": "stream",
          "text": [
            "/content/processed/RagaDatasetNew/Khama╠äj/Abdul Rashid Khan - Dekho Dekho Aaj Shyam.mp3, segment:1\n",
            "/content/processed/RagaDatasetNew/Khama╠äj/Abdul Rashid Khan - Dekho Dekho Aaj Shyam.mp3, segment:2\n",
            "/content/processed/RagaDatasetNew/Khama╠äj/Abdul Rashid Khan - Dekho Dekho Aaj Shyam.mp3, segment:3\n",
            "/content/processed/RagaDatasetNew/Khama╠äj/Abdul Rashid Khan - Dekho Dekho Aaj Shyam.mp3, segment:4\n",
            "/content/processed/RagaDatasetNew/Khama╠äj/Abdul Rashid Khan - Dekho Dekho Aaj Shyam.mp3, segment:5\n",
            "/content/processed/RagaDatasetNew/Khama╠äj/Abdul Rashid Khan - Dekho Dekho Aaj Shyam.mp3, segment:6\n",
            "/content/processed/RagaDatasetNew/Khama╠äj/Abdul Rashid Khan - Dekho Dekho Aaj Shyam.mp3, segment:7\n",
            "/content/processed/RagaDatasetNew/Khama╠äj/Abdul Rashid Khan - Dekho Dekho Aaj Shyam.mp3, segment:8\n",
            "/content/processed/RagaDatasetNew/Khama╠äj/Abdul Rashid Khan - Dekho Dekho Aaj Shyam.mp3, segment:9\n",
            "/content/processed/RagaDatasetNew/Khama╠äj/Abdul Rashid Khan - Dekho Dekho Aaj Shyam.mp3, segment:10\n"
          ],
          "name": "stdout"
        },
        {
          "output_type": "stream",
          "text": [
            "/usr/local/lib/python3.7/dist-packages/librosa/core/audio.py:162: UserWarning: PySoundFile failed. Trying audioread instead.\n",
            "  warnings.warn(\"PySoundFile failed. Trying audioread instead.\")\n"
          ],
          "name": "stderr"
        },
        {
          "output_type": "stream",
          "text": [
            "/content/processed/RagaDatasetNew/Khama╠äj/Murad Ali and Fateh Ali - Raga Mishr Khammaj Thumri.mp3, segment:1\n",
            "/content/processed/RagaDatasetNew/Khama╠äj/Murad Ali and Fateh Ali - Raga Mishr Khammaj Thumri.mp3, segment:2\n",
            "/content/processed/RagaDatasetNew/Khama╠äj/Murad Ali and Fateh Ali - Raga Mishr Khammaj Thumri.mp3, segment:3\n",
            "/content/processed/RagaDatasetNew/Khama╠äj/Murad Ali and Fateh Ali - Raga Mishr Khammaj Thumri.mp3, segment:4\n",
            "/content/processed/RagaDatasetNew/Khama╠äj/Murad Ali and Fateh Ali - Raga Mishr Khammaj Thumri.mp3, segment:5\n",
            "/content/processed/RagaDatasetNew/Khama╠äj/Murad Ali and Fateh Ali - Raga Mishr Khammaj Thumri.mp3, segment:6\n",
            "/content/processed/RagaDatasetNew/Khama╠äj/Murad Ali and Fateh Ali - Raga Mishr Khammaj Thumri.mp3, segment:7\n",
            "/content/processed/RagaDatasetNew/Khama╠äj/Murad Ali and Fateh Ali - Raga Mishr Khammaj Thumri.mp3, segment:8\n",
            "/content/processed/RagaDatasetNew/Khama╠äj/Murad Ali and Fateh Ali - Raga Mishr Khammaj Thumri.mp3, segment:9\n",
            "/content/processed/RagaDatasetNew/Khama╠äj/Murad Ali and Fateh Ali - Raga Mishr Khammaj Thumri.mp3, segment:10\n"
          ],
          "name": "stdout"
        },
        {
          "output_type": "stream",
          "text": [
            "/usr/local/lib/python3.7/dist-packages/librosa/core/audio.py:162: UserWarning: PySoundFile failed. Trying audioread instead.\n",
            "  warnings.warn(\"PySoundFile failed. Trying audioread instead.\")\n"
          ],
          "name": "stderr"
        },
        {
          "output_type": "stream",
          "text": [
            "/content/processed/RagaDatasetNew/Khama╠äj/Pannalal Ghosh - Thumri Khama.mp3, segment:1\n",
            "/content/processed/RagaDatasetNew/Khama╠äj/Pannalal Ghosh - Thumri Khama.mp3, segment:2\n",
            "/content/processed/RagaDatasetNew/Khama╠äj/Pannalal Ghosh - Thumri Khama.mp3, segment:3\n",
            "/content/processed/RagaDatasetNew/Khama╠äj/Pannalal Ghosh - Thumri Khama.mp3, segment:4\n",
            "/content/processed/RagaDatasetNew/Khama╠äj/Pannalal Ghosh - Thumri Khama.mp3, segment:5\n",
            "/content/processed/RagaDatasetNew/Khama╠äj/Pannalal Ghosh - Thumri Khama.mp3, segment:6\n",
            "/content/processed/RagaDatasetNew/Khama╠äj/Pannalal Ghosh - Thumri Khama.mp3, segment:7\n",
            "/content/processed/RagaDatasetNew/Khama╠äj/Pannalal Ghosh - Thumri Khama.mp3, segment:8\n",
            "/content/processed/RagaDatasetNew/Khama╠äj/Pannalal Ghosh - Thumri Khama.mp3, segment:9\n",
            "/content/processed/RagaDatasetNew/Khama╠äj/Pannalal Ghosh - Thumri Khama.mp3, segment:10\n"
          ],
          "name": "stdout"
        },
        {
          "output_type": "stream",
          "text": [
            "/usr/local/lib/python3.7/dist-packages/librosa/core/audio.py:162: UserWarning: PySoundFile failed. Trying audioread instead.\n",
            "  warnings.warn(\"PySoundFile failed. Trying audioread instead.\")\n"
          ],
          "name": "stderr"
        },
        {
          "output_type": "stream",
          "text": [
            "/content/processed/RagaDatasetNew/Khama╠äj/Rajan Mishra and Sajan Mishra - Raga Banarsi Tappa.mp3, segment:1\n",
            "/content/processed/RagaDatasetNew/Khama╠äj/Rajan Mishra and Sajan Mishra - Raga Banarsi Tappa.mp3, segment:2\n",
            "/content/processed/RagaDatasetNew/Khama╠äj/Rajan Mishra and Sajan Mishra - Raga Banarsi Tappa.mp3, segment:3\n",
            "/content/processed/RagaDatasetNew/Khama╠äj/Rajan Mishra and Sajan Mishra - Raga Banarsi Tappa.mp3, segment:4\n",
            "/content/processed/RagaDatasetNew/Khama╠äj/Rajan Mishra and Sajan Mishra - Raga Banarsi Tappa.mp3, segment:5\n",
            "/content/processed/RagaDatasetNew/Khama╠äj/Rajan Mishra and Sajan Mishra - Raga Banarsi Tappa.mp3, segment:6\n",
            "/content/processed/RagaDatasetNew/Khama╠äj/Rajan Mishra and Sajan Mishra - Raga Banarsi Tappa.mp3, segment:7\n",
            "/content/processed/RagaDatasetNew/Khama╠äj/Rajan Mishra and Sajan Mishra - Raga Banarsi Tappa.mp3, segment:8\n",
            "/content/processed/RagaDatasetNew/Khama╠äj/Rajan Mishra and Sajan Mishra - Raga Banarsi Tappa.mp3, segment:9\n",
            "/content/processed/RagaDatasetNew/Khama╠äj/Rajan Mishra and Sajan Mishra - Raga Banarsi Tappa.mp3, segment:10\n"
          ],
          "name": "stdout"
        },
        {
          "output_type": "stream",
          "text": [
            "/usr/local/lib/python3.7/dist-packages/librosa/core/audio.py:162: UserWarning: PySoundFile failed. Trying audioread instead.\n",
            "  warnings.warn(\"PySoundFile failed. Trying audioread instead.\")\n"
          ],
          "name": "stderr"
        },
        {
          "output_type": "stream",
          "text": [
            "/content/processed/RagaDatasetNew/Khama╠äj/Rajan Mishra and Sajan Mishra - Khamaj Ki Thumari.mp3, segment:1\n",
            "/content/processed/RagaDatasetNew/Khama╠äj/Rajan Mishra and Sajan Mishra - Khamaj Ki Thumari.mp3, segment:2\n",
            "/content/processed/RagaDatasetNew/Khama╠äj/Rajan Mishra and Sajan Mishra - Khamaj Ki Thumari.mp3, segment:3\n",
            "/content/processed/RagaDatasetNew/Khama╠äj/Rajan Mishra and Sajan Mishra - Khamaj Ki Thumari.mp3, segment:4\n",
            "/content/processed/RagaDatasetNew/Khama╠äj/Rajan Mishra and Sajan Mishra - Khamaj Ki Thumari.mp3, segment:5\n",
            "/content/processed/RagaDatasetNew/Khama╠äj/Rajan Mishra and Sajan Mishra - Khamaj Ki Thumari.mp3, segment:6\n",
            "/content/processed/RagaDatasetNew/Khama╠äj/Rajan Mishra and Sajan Mishra - Khamaj Ki Thumari.mp3, segment:7\n",
            "/content/processed/RagaDatasetNew/Khama╠äj/Rajan Mishra and Sajan Mishra - Khamaj Ki Thumari.mp3, segment:8\n",
            "/content/processed/RagaDatasetNew/Khama╠äj/Rajan Mishra and Sajan Mishra - Khamaj Ki Thumari.mp3, segment:9\n",
            "/content/processed/RagaDatasetNew/Khama╠äj/Rajan Mishra and Sajan Mishra - Khamaj Ki Thumari.mp3, segment:10\n"
          ],
          "name": "stdout"
        },
        {
          "output_type": "stream",
          "text": [
            "/usr/local/lib/python3.7/dist-packages/librosa/core/audio.py:162: UserWarning: PySoundFile failed. Trying audioread instead.\n",
            "  warnings.warn(\"PySoundFile failed. Trying audioread instead.\")\n"
          ],
          "name": "stderr"
        },
        {
          "output_type": "stream",
          "text": [
            "/content/processed/RagaDatasetNew/Khama╠äj/Prabha Atre - Kaun Gali Gayo Shyam.mp3, segment:1\n",
            "/content/processed/RagaDatasetNew/Khama╠äj/Prabha Atre - Kaun Gali Gayo Shyam.mp3, segment:2\n",
            "/content/processed/RagaDatasetNew/Khama╠äj/Prabha Atre - Kaun Gali Gayo Shyam.mp3, segment:3\n",
            "/content/processed/RagaDatasetNew/Khama╠äj/Prabha Atre - Kaun Gali Gayo Shyam.mp3, segment:4\n",
            "/content/processed/RagaDatasetNew/Khama╠äj/Prabha Atre - Kaun Gali Gayo Shyam.mp3, segment:5\n",
            "/content/processed/RagaDatasetNew/Khama╠äj/Prabha Atre - Kaun Gali Gayo Shyam.mp3, segment:6\n",
            "/content/processed/RagaDatasetNew/Khama╠äj/Prabha Atre - Kaun Gali Gayo Shyam.mp3, segment:7\n",
            "/content/processed/RagaDatasetNew/Khama╠äj/Prabha Atre - Kaun Gali Gayo Shyam.mp3, segment:8\n",
            "/content/processed/RagaDatasetNew/Khama╠äj/Prabha Atre - Kaun Gali Gayo Shyam.mp3, segment:9\n",
            "/content/processed/RagaDatasetNew/Khama╠äj/Prabha Atre - Kaun Gali Gayo Shyam.mp3, segment:10\n"
          ],
          "name": "stdout"
        },
        {
          "output_type": "stream",
          "text": [
            "/usr/local/lib/python3.7/dist-packages/librosa/core/audio.py:162: UserWarning: PySoundFile failed. Trying audioread instead.\n",
            "  warnings.warn(\"PySoundFile failed. Trying audioread instead.\")\n"
          ],
          "name": "stderr"
        },
        {
          "output_type": "stream",
          "text": [
            "/content/processed/RagaDatasetNew/Khama╠äj/Ram Narayan - Mishra Khamal Thumri.mp3, segment:1\n",
            "/content/processed/RagaDatasetNew/Khama╠äj/Ram Narayan - Mishra Khamal Thumri.mp3, segment:2\n",
            "/content/processed/RagaDatasetNew/Khama╠äj/Ram Narayan - Mishra Khamal Thumri.mp3, segment:3\n",
            "/content/processed/RagaDatasetNew/Khama╠äj/Ram Narayan - Mishra Khamal Thumri.mp3, segment:4\n",
            "/content/processed/RagaDatasetNew/Khama╠äj/Ram Narayan - Mishra Khamal Thumri.mp3, segment:5\n",
            "/content/processed/RagaDatasetNew/Khama╠äj/Ram Narayan - Mishra Khamal Thumri.mp3, segment:6\n",
            "/content/processed/RagaDatasetNew/Khama╠äj/Ram Narayan - Mishra Khamal Thumri.mp3, segment:7\n",
            "/content/processed/RagaDatasetNew/Khama╠äj/Ram Narayan - Mishra Khamal Thumri.mp3, segment:8\n",
            "/content/processed/RagaDatasetNew/Khama╠äj/Ram Narayan - Mishra Khamal Thumri.mp3, segment:9\n",
            "/content/processed/RagaDatasetNew/Khama╠äj/Ram Narayan - Mishra Khamal Thumri.mp3, segment:10\n"
          ],
          "name": "stdout"
        },
        {
          "output_type": "stream",
          "text": [
            "/usr/local/lib/python3.7/dist-packages/librosa/core/audio.py:162: UserWarning: PySoundFile failed. Trying audioread instead.\n",
            "  warnings.warn(\"PySoundFile failed. Trying audioread instead.\")\n"
          ],
          "name": "stderr"
        },
        {
          "output_type": "stream",
          "text": [
            "/content/processed/RagaDatasetNew/Khama╠äj/Shrinivas Joshi - Raga Mishra Khamaj.mp3, segment:1\n",
            "/content/processed/RagaDatasetNew/Khama╠äj/Shrinivas Joshi - Raga Mishra Khamaj.mp3, segment:2\n",
            "/content/processed/RagaDatasetNew/Khama╠äj/Shrinivas Joshi - Raga Mishra Khamaj.mp3, segment:3\n",
            "/content/processed/RagaDatasetNew/Khama╠äj/Shrinivas Joshi - Raga Mishra Khamaj.mp3, segment:4\n",
            "/content/processed/RagaDatasetNew/Khama╠äj/Shrinivas Joshi - Raga Mishra Khamaj.mp3, segment:5\n",
            "/content/processed/RagaDatasetNew/Khama╠äj/Shrinivas Joshi - Raga Mishra Khamaj.mp3, segment:6\n",
            "/content/processed/RagaDatasetNew/Khama╠äj/Shrinivas Joshi - Raga Mishra Khamaj.mp3, segment:7\n",
            "/content/processed/RagaDatasetNew/Khama╠äj/Shrinivas Joshi - Raga Mishra Khamaj.mp3, segment:8\n",
            "/content/processed/RagaDatasetNew/Khama╠äj/Shrinivas Joshi - Raga Mishra Khamaj.mp3, segment:9\n",
            "/content/processed/RagaDatasetNew/Khama╠äj/Shrinivas Joshi - Raga Mishra Khamaj.mp3, segment:10\n",
            "\n",
            "Processing: To╠äd╠úi╠ä\n"
          ],
          "name": "stdout"
        },
        {
          "output_type": "stream",
          "text": [
            "/usr/local/lib/python3.7/dist-packages/librosa/core/audio.py:162: UserWarning: PySoundFile failed. Trying audioread instead.\n",
            "  warnings.warn(\"PySoundFile failed. Trying audioread instead.\")\n"
          ],
          "name": "stderr"
        },
        {
          "output_type": "stream",
          "text": [
            "/content/processed/RagaDatasetNew/To╠äd╠úi╠ä/Hirabai Barodekar - Ragai Todi - Kankariya Ji Na Maro.mp3, segment:1\n",
            "/content/processed/RagaDatasetNew/To╠äd╠úi╠ä/Hirabai Barodekar - Ragai Todi - Kankariya Ji Na Maro.mp3, segment:2\n",
            "/content/processed/RagaDatasetNew/To╠äd╠úi╠ä/Hirabai Barodekar - Ragai Todi - Kankariya Ji Na Maro.mp3, segment:3\n",
            "/content/processed/RagaDatasetNew/To╠äd╠úi╠ä/Hirabai Barodekar - Ragai Todi - Kankariya Ji Na Maro.mp3, segment:4\n",
            "/content/processed/RagaDatasetNew/To╠äd╠úi╠ä/Hirabai Barodekar - Ragai Todi - Kankariya Ji Na Maro.mp3, segment:5\n",
            "/content/processed/RagaDatasetNew/To╠äd╠úi╠ä/Hirabai Barodekar - Ragai Todi - Kankariya Ji Na Maro.mp3, segment:6\n",
            "/content/processed/RagaDatasetNew/To╠äd╠úi╠ä/Hirabai Barodekar - Ragai Todi - Kankariya Ji Na Maro.mp3, segment:7\n",
            "/content/processed/RagaDatasetNew/To╠äd╠úi╠ä/Hirabai Barodekar - Ragai Todi - Kankariya Ji Na Maro.mp3, segment:8\n",
            "/content/processed/RagaDatasetNew/To╠äd╠úi╠ä/Hirabai Barodekar - Ragai Todi - Kankariya Ji Na Maro.mp3, segment:9\n",
            "/content/processed/RagaDatasetNew/To╠äd╠úi╠ä/Hirabai Barodekar - Ragai Todi - Kankariya Ji Na Maro.mp3, segment:10\n"
          ],
          "name": "stdout"
        },
        {
          "output_type": "stream",
          "text": [
            "/usr/local/lib/python3.7/dist-packages/librosa/core/audio.py:162: UserWarning: PySoundFile failed. Trying audioread instead.\n",
            "  warnings.warn(\"PySoundFile failed. Trying audioread instead.\")\n"
          ],
          "name": "stderr"
        },
        {
          "output_type": "stream",
          "text": [
            "/content/processed/RagaDatasetNew/To╠äd╠úi╠ä/Ajoy Chakrabarty - Todi.mp3, segment:1\n",
            "/content/processed/RagaDatasetNew/To╠äd╠úi╠ä/Ajoy Chakrabarty - Todi.mp3, segment:2\n",
            "/content/processed/RagaDatasetNew/To╠äd╠úi╠ä/Ajoy Chakrabarty - Todi.mp3, segment:3\n",
            "/content/processed/RagaDatasetNew/To╠äd╠úi╠ä/Ajoy Chakrabarty - Todi.mp3, segment:4\n",
            "/content/processed/RagaDatasetNew/To╠äd╠úi╠ä/Ajoy Chakrabarty - Todi.mp3, segment:5\n",
            "/content/processed/RagaDatasetNew/To╠äd╠úi╠ä/Ajoy Chakrabarty - Todi.mp3, segment:6\n",
            "/content/processed/RagaDatasetNew/To╠äd╠úi╠ä/Ajoy Chakrabarty - Todi.mp3, segment:7\n",
            "/content/processed/RagaDatasetNew/To╠äd╠úi╠ä/Ajoy Chakrabarty - Todi.mp3, segment:8\n",
            "/content/processed/RagaDatasetNew/To╠äd╠úi╠ä/Ajoy Chakrabarty - Todi.mp3, segment:9\n",
            "/content/processed/RagaDatasetNew/To╠äd╠úi╠ä/Ajoy Chakrabarty - Todi.mp3, segment:10\n"
          ],
          "name": "stdout"
        },
        {
          "output_type": "stream",
          "text": [
            "/usr/local/lib/python3.7/dist-packages/librosa/core/audio.py:162: UserWarning: PySoundFile failed. Trying audioread instead.\n",
            "  warnings.warn(\"PySoundFile failed. Trying audioread instead.\")\n"
          ],
          "name": "stderr"
        },
        {
          "output_type": "stream",
          "text": [
            "/content/processed/RagaDatasetNew/To╠äd╠úi╠ä/Omkarnath Thakur - Raga Todi: garwa Main Sang Laagi.mp3, segment:1\n",
            "/content/processed/RagaDatasetNew/To╠äd╠úi╠ä/Omkarnath Thakur - Raga Todi: garwa Main Sang Laagi.mp3, segment:2\n",
            "/content/processed/RagaDatasetNew/To╠äd╠úi╠ä/Omkarnath Thakur - Raga Todi: garwa Main Sang Laagi.mp3, segment:3\n",
            "/content/processed/RagaDatasetNew/To╠äd╠úi╠ä/Omkarnath Thakur - Raga Todi: garwa Main Sang Laagi.mp3, segment:4\n",
            "/content/processed/RagaDatasetNew/To╠äd╠úi╠ä/Omkarnath Thakur - Raga Todi: garwa Main Sang Laagi.mp3, segment:5\n",
            "/content/processed/RagaDatasetNew/To╠äd╠úi╠ä/Omkarnath Thakur - Raga Todi: garwa Main Sang Laagi.mp3, segment:6\n",
            "/content/processed/RagaDatasetNew/To╠äd╠úi╠ä/Omkarnath Thakur - Raga Todi: garwa Main Sang Laagi.mp3, segment:7\n",
            "/content/processed/RagaDatasetNew/To╠äd╠úi╠ä/Omkarnath Thakur - Raga Todi: garwa Main Sang Laagi.mp3, segment:8\n",
            "/content/processed/RagaDatasetNew/To╠äd╠úi╠ä/Omkarnath Thakur - Raga Todi: garwa Main Sang Laagi.mp3, segment:9\n",
            "/content/processed/RagaDatasetNew/To╠äd╠úi╠ä/Omkarnath Thakur - Raga Todi: garwa Main Sang Laagi.mp3, segment:10\n"
          ],
          "name": "stdout"
        },
        {
          "output_type": "stream",
          "text": [
            "/usr/local/lib/python3.7/dist-packages/librosa/core/audio.py:162: UserWarning: PySoundFile failed. Trying audioread instead.\n",
            "  warnings.warn(\"PySoundFile failed. Trying audioread instead.\")\n"
          ],
          "name": "stderr"
        },
        {
          "output_type": "stream",
          "text": [
            "/content/processed/RagaDatasetNew/To╠äd╠úi╠ä/Shujaat Hussain Khan - Ek Prakar (Lullaby) In Raga Todi.mp3, segment:1\n",
            "/content/processed/RagaDatasetNew/To╠äd╠úi╠ä/Shujaat Hussain Khan - Ek Prakar (Lullaby) In Raga Todi.mp3, segment:2\n",
            "/content/processed/RagaDatasetNew/To╠äd╠úi╠ä/Shujaat Hussain Khan - Ek Prakar (Lullaby) In Raga Todi.mp3, segment:3\n",
            "/content/processed/RagaDatasetNew/To╠äd╠úi╠ä/Shujaat Hussain Khan - Ek Prakar (Lullaby) In Raga Todi.mp3, segment:4\n",
            "/content/processed/RagaDatasetNew/To╠äd╠úi╠ä/Shujaat Hussain Khan - Ek Prakar (Lullaby) In Raga Todi.mp3, segment:5\n",
            "/content/processed/RagaDatasetNew/To╠äd╠úi╠ä/Shujaat Hussain Khan - Ek Prakar (Lullaby) In Raga Todi.mp3, segment:6\n",
            "/content/processed/RagaDatasetNew/To╠äd╠úi╠ä/Shujaat Hussain Khan - Ek Prakar (Lullaby) In Raga Todi.mp3, segment:7\n",
            "/content/processed/RagaDatasetNew/To╠äd╠úi╠ä/Shujaat Hussain Khan - Ek Prakar (Lullaby) In Raga Todi.mp3, segment:8\n",
            "/content/processed/RagaDatasetNew/To╠äd╠úi╠ä/Shujaat Hussain Khan - Ek Prakar (Lullaby) In Raga Todi.mp3, segment:9\n",
            "/content/processed/RagaDatasetNew/To╠äd╠úi╠ä/Shujaat Hussain Khan - Ek Prakar (Lullaby) In Raga Todi.mp3, segment:10\n"
          ],
          "name": "stdout"
        },
        {
          "output_type": "stream",
          "text": [
            "/usr/local/lib/python3.7/dist-packages/librosa/core/audio.py:162: UserWarning: PySoundFile failed. Trying audioread instead.\n",
            "  warnings.warn(\"PySoundFile failed. Trying audioread instead.\")\n"
          ],
          "name": "stderr"
        },
        {
          "output_type": "stream",
          "text": [
            "/content/processed/RagaDatasetNew/To╠äd╠úi╠ä/Asad Ali Khan - Raga Miyan ki Todi: Dhrupad in Chautal.mp3, segment:1\n",
            "/content/processed/RagaDatasetNew/To╠äd╠úi╠ä/Asad Ali Khan - Raga Miyan ki Todi: Dhrupad in Chautal.mp3, segment:2\n",
            "/content/processed/RagaDatasetNew/To╠äd╠úi╠ä/Asad Ali Khan - Raga Miyan ki Todi: Dhrupad in Chautal.mp3, segment:3\n",
            "/content/processed/RagaDatasetNew/To╠äd╠úi╠ä/Asad Ali Khan - Raga Miyan ki Todi: Dhrupad in Chautal.mp3, segment:4\n",
            "/content/processed/RagaDatasetNew/To╠äd╠úi╠ä/Asad Ali Khan - Raga Miyan ki Todi: Dhrupad in Chautal.mp3, segment:5\n",
            "/content/processed/RagaDatasetNew/To╠äd╠úi╠ä/Asad Ali Khan - Raga Miyan ki Todi: Dhrupad in Chautal.mp3, segment:6\n",
            "/content/processed/RagaDatasetNew/To╠äd╠úi╠ä/Asad Ali Khan - Raga Miyan ki Todi: Dhrupad in Chautal.mp3, segment:7\n",
            "/content/processed/RagaDatasetNew/To╠äd╠úi╠ä/Asad Ali Khan - Raga Miyan ki Todi: Dhrupad in Chautal.mp3, segment:8\n",
            "/content/processed/RagaDatasetNew/To╠äd╠úi╠ä/Asad Ali Khan - Raga Miyan ki Todi: Dhrupad in Chautal.mp3, segment:9\n",
            "/content/processed/RagaDatasetNew/To╠äd╠úi╠ä/Asad Ali Khan - Raga Miyan ki Todi: Dhrupad in Chautal.mp3, segment:10\n"
          ],
          "name": "stdout"
        },
        {
          "output_type": "stream",
          "text": [
            "/usr/local/lib/python3.7/dist-packages/librosa/core/audio.py:162: UserWarning: PySoundFile failed. Trying audioread instead.\n",
            "  warnings.warn(\"PySoundFile failed. Trying audioread instead.\")\n"
          ],
          "name": "stderr"
        },
        {
          "output_type": "stream",
          "text": [
            "/content/processed/RagaDatasetNew/To╠äd╠úi╠ä/K.G. Ginde - Raag Miyan Ki Todi.mp3, segment:1\n",
            "/content/processed/RagaDatasetNew/To╠äd╠úi╠ä/K.G. Ginde - Raag Miyan Ki Todi.mp3, segment:2\n",
            "/content/processed/RagaDatasetNew/To╠äd╠úi╠ä/K.G. Ginde - Raag Miyan Ki Todi.mp3, segment:3\n",
            "/content/processed/RagaDatasetNew/To╠äd╠úi╠ä/K.G. Ginde - Raag Miyan Ki Todi.mp3, segment:4\n",
            "/content/processed/RagaDatasetNew/To╠äd╠úi╠ä/K.G. Ginde - Raag Miyan Ki Todi.mp3, segment:5\n",
            "/content/processed/RagaDatasetNew/To╠äd╠úi╠ä/K.G. Ginde - Raag Miyan Ki Todi.mp3, segment:6\n",
            "/content/processed/RagaDatasetNew/To╠äd╠úi╠ä/K.G. Ginde - Raag Miyan Ki Todi.mp3, segment:7\n",
            "/content/processed/RagaDatasetNew/To╠äd╠úi╠ä/K.G. Ginde - Raag Miyan Ki Todi.mp3, segment:8\n",
            "/content/processed/RagaDatasetNew/To╠äd╠úi╠ä/K.G. Ginde - Raag Miyan Ki Todi.mp3, segment:9\n",
            "/content/processed/RagaDatasetNew/To╠äd╠úi╠ä/K.G. Ginde - Raag Miyan Ki Todi.mp3, segment:10\n"
          ],
          "name": "stdout"
        },
        {
          "output_type": "stream",
          "text": [
            "/usr/local/lib/python3.7/dist-packages/librosa/core/audio.py:162: UserWarning: PySoundFile failed. Trying audioread instead.\n",
            "  warnings.warn(\"PySoundFile failed. Trying audioread instead.\")\n"
          ],
          "name": "stderr"
        },
        {
          "output_type": "stream",
          "text": [
            "/content/processed/RagaDatasetNew/To╠äd╠úi╠ä/Asad Ali Khan - Raga Miyan ki Todi: Alap Jor & Jhala.mp3, segment:1\n",
            "/content/processed/RagaDatasetNew/To╠äd╠úi╠ä/Asad Ali Khan - Raga Miyan ki Todi: Alap Jor & Jhala.mp3, segment:2\n",
            "/content/processed/RagaDatasetNew/To╠äd╠úi╠ä/Asad Ali Khan - Raga Miyan ki Todi: Alap Jor & Jhala.mp3, segment:3\n",
            "/content/processed/RagaDatasetNew/To╠äd╠úi╠ä/Asad Ali Khan - Raga Miyan ki Todi: Alap Jor & Jhala.mp3, segment:4\n",
            "/content/processed/RagaDatasetNew/To╠äd╠úi╠ä/Asad Ali Khan - Raga Miyan ki Todi: Alap Jor & Jhala.mp3, segment:5\n",
            "/content/processed/RagaDatasetNew/To╠äd╠úi╠ä/Asad Ali Khan - Raga Miyan ki Todi: Alap Jor & Jhala.mp3, segment:6\n",
            "/content/processed/RagaDatasetNew/To╠äd╠úi╠ä/Asad Ali Khan - Raga Miyan ki Todi: Alap Jor & Jhala.mp3, segment:7\n",
            "/content/processed/RagaDatasetNew/To╠äd╠úi╠ä/Asad Ali Khan - Raga Miyan ki Todi: Alap Jor & Jhala.mp3, segment:8\n",
            "/content/processed/RagaDatasetNew/To╠äd╠úi╠ä/Asad Ali Khan - Raga Miyan ki Todi: Alap Jor & Jhala.mp3, segment:9\n",
            "/content/processed/RagaDatasetNew/To╠äd╠úi╠ä/Asad Ali Khan - Raga Miyan ki Todi: Alap Jor & Jhala.mp3, segment:10\n"
          ],
          "name": "stdout"
        },
        {
          "output_type": "stream",
          "text": [
            "/usr/local/lib/python3.7/dist-packages/librosa/core/audio.py:162: UserWarning: PySoundFile failed. Trying audioread instead.\n",
            "  warnings.warn(\"PySoundFile failed. Trying audioread instead.\")\n"
          ],
          "name": "stderr"
        },
        {
          "output_type": "stream",
          "text": [
            "/content/processed/RagaDatasetNew/To╠äd╠úi╠ä/Kumar Gandharva - Raag Todi.mp3, segment:1\n",
            "/content/processed/RagaDatasetNew/To╠äd╠úi╠ä/Kumar Gandharva - Raag Todi.mp3, segment:2\n",
            "/content/processed/RagaDatasetNew/To╠äd╠úi╠ä/Kumar Gandharva - Raag Todi.mp3, segment:3\n",
            "/content/processed/RagaDatasetNew/To╠äd╠úi╠ä/Kumar Gandharva - Raag Todi.mp3, segment:4\n",
            "/content/processed/RagaDatasetNew/To╠äd╠úi╠ä/Kumar Gandharva - Raag Todi.mp3, segment:5\n",
            "/content/processed/RagaDatasetNew/To╠äd╠úi╠ä/Kumar Gandharva - Raag Todi.mp3, segment:6\n",
            "/content/processed/RagaDatasetNew/To╠äd╠úi╠ä/Kumar Gandharva - Raag Todi.mp3, segment:7\n",
            "/content/processed/RagaDatasetNew/To╠äd╠úi╠ä/Kumar Gandharva - Raag Todi.mp3, segment:8\n",
            "/content/processed/RagaDatasetNew/To╠äd╠úi╠ä/Kumar Gandharva - Raag Todi.mp3, segment:9\n",
            "/content/processed/RagaDatasetNew/To╠äd╠úi╠ä/Kumar Gandharva - Raag Todi.mp3, segment:10\n"
          ],
          "name": "stdout"
        },
        {
          "output_type": "stream",
          "text": [
            "/usr/local/lib/python3.7/dist-packages/librosa/core/audio.py:162: UserWarning: PySoundFile failed. Trying audioread instead.\n",
            "  warnings.warn(\"PySoundFile failed. Trying audioread instead.\")\n"
          ],
          "name": "stderr"
        },
        {
          "output_type": "stream",
          "text": [
            "/content/processed/RagaDatasetNew/To╠äd╠úi╠ä/Bismillah Khan - Raga Todi.mp3, segment:1\n",
            "/content/processed/RagaDatasetNew/To╠äd╠úi╠ä/Bismillah Khan - Raga Todi.mp3, segment:2\n",
            "/content/processed/RagaDatasetNew/To╠äd╠úi╠ä/Bismillah Khan - Raga Todi.mp3, segment:3\n",
            "/content/processed/RagaDatasetNew/To╠äd╠úi╠ä/Bismillah Khan - Raga Todi.mp3, segment:4\n",
            "/content/processed/RagaDatasetNew/To╠äd╠úi╠ä/Bismillah Khan - Raga Todi.mp3, segment:5\n",
            "/content/processed/RagaDatasetNew/To╠äd╠úi╠ä/Bismillah Khan - Raga Todi.mp3, segment:6\n",
            "/content/processed/RagaDatasetNew/To╠äd╠úi╠ä/Bismillah Khan - Raga Todi.mp3, segment:7\n",
            "/content/processed/RagaDatasetNew/To╠äd╠úi╠ä/Bismillah Khan - Raga Todi.mp3, segment:8\n",
            "/content/processed/RagaDatasetNew/To╠äd╠úi╠ä/Bismillah Khan - Raga Todi.mp3, segment:9\n",
            "/content/processed/RagaDatasetNew/To╠äd╠úi╠ä/Bismillah Khan - Raga Todi.mp3, segment:10\n"
          ],
          "name": "stdout"
        },
        {
          "output_type": "stream",
          "text": [
            "/usr/local/lib/python3.7/dist-packages/librosa/core/audio.py:162: UserWarning: PySoundFile failed. Trying audioread instead.\n",
            "  warnings.warn(\"PySoundFile failed. Trying audioread instead.\")\n"
          ],
          "name": "stderr"
        },
        {
          "output_type": "stream",
          "text": [
            "/content/processed/RagaDatasetNew/To╠äd╠úi╠ä/Kishori Amonkar - Raga Todi - Tarana in Drut Ektaal.mp3, segment:1\n",
            "/content/processed/RagaDatasetNew/To╠äd╠úi╠ä/Kishori Amonkar - Raga Todi - Tarana in Drut Ektaal.mp3, segment:2\n",
            "/content/processed/RagaDatasetNew/To╠äd╠úi╠ä/Kishori Amonkar - Raga Todi - Tarana in Drut Ektaal.mp3, segment:3\n",
            "/content/processed/RagaDatasetNew/To╠äd╠úi╠ä/Kishori Amonkar - Raga Todi - Tarana in Drut Ektaal.mp3, segment:4\n",
            "/content/processed/RagaDatasetNew/To╠äd╠úi╠ä/Kishori Amonkar - Raga Todi - Tarana in Drut Ektaal.mp3, segment:5\n",
            "/content/processed/RagaDatasetNew/To╠äd╠úi╠ä/Kishori Amonkar - Raga Todi - Tarana in Drut Ektaal.mp3, segment:6\n",
            "/content/processed/RagaDatasetNew/To╠äd╠úi╠ä/Kishori Amonkar - Raga Todi - Tarana in Drut Ektaal.mp3, segment:7\n",
            "/content/processed/RagaDatasetNew/To╠äd╠úi╠ä/Kishori Amonkar - Raga Todi - Tarana in Drut Ektaal.mp3, segment:8\n",
            "/content/processed/RagaDatasetNew/To╠äd╠úi╠ä/Kishori Amonkar - Raga Todi - Tarana in Drut Ektaal.mp3, segment:9\n",
            "/content/processed/RagaDatasetNew/To╠äd╠úi╠ä/Kishori Amonkar - Raga Todi - Tarana in Drut Ektaal.mp3, segment:10\n"
          ],
          "name": "stdout"
        },
        {
          "output_type": "stream",
          "text": [
            "/usr/local/lib/python3.7/dist-packages/librosa/core/audio.py:162: UserWarning: PySoundFile failed. Trying audioread instead.\n",
            "  warnings.warn(\"PySoundFile failed. Trying audioread instead.\")\n"
          ],
          "name": "stderr"
        },
        {
          "output_type": "stream",
          "text": [
            "/content/processed/RagaDatasetNew/To╠äd╠úi╠ä/Veena Sahasrabuddhe - Barkha ki Ritu Aai and Sanch Sanch Ki Je.mp3, segment:1\n",
            "/content/processed/RagaDatasetNew/To╠äd╠úi╠ä/Veena Sahasrabuddhe - Barkha ki Ritu Aai and Sanch Sanch Ki Je.mp3, segment:2\n",
            "/content/processed/RagaDatasetNew/To╠äd╠úi╠ä/Veena Sahasrabuddhe - Barkha ki Ritu Aai and Sanch Sanch Ki Je.mp3, segment:3\n",
            "/content/processed/RagaDatasetNew/To╠äd╠úi╠ä/Veena Sahasrabuddhe - Barkha ki Ritu Aai and Sanch Sanch Ki Je.mp3, segment:4\n",
            "/content/processed/RagaDatasetNew/To╠äd╠úi╠ä/Veena Sahasrabuddhe - Barkha ki Ritu Aai and Sanch Sanch Ki Je.mp3, segment:5\n",
            "/content/processed/RagaDatasetNew/To╠äd╠úi╠ä/Veena Sahasrabuddhe - Barkha ki Ritu Aai and Sanch Sanch Ki Je.mp3, segment:6\n",
            "/content/processed/RagaDatasetNew/To╠äd╠úi╠ä/Veena Sahasrabuddhe - Barkha ki Ritu Aai and Sanch Sanch Ki Je.mp3, segment:7\n",
            "/content/processed/RagaDatasetNew/To╠äd╠úi╠ä/Veena Sahasrabuddhe - Barkha ki Ritu Aai and Sanch Sanch Ki Je.mp3, segment:8\n",
            "/content/processed/RagaDatasetNew/To╠äd╠úi╠ä/Veena Sahasrabuddhe - Barkha ki Ritu Aai and Sanch Sanch Ki Je.mp3, segment:9\n",
            "/content/processed/RagaDatasetNew/To╠äd╠úi╠ä/Veena Sahasrabuddhe - Barkha ki Ritu Aai and Sanch Sanch Ki Je.mp3, segment:10\n"
          ],
          "name": "stdout"
        },
        {
          "output_type": "stream",
          "text": [
            "/usr/local/lib/python3.7/dist-packages/librosa/core/audio.py:162: UserWarning: PySoundFile failed. Trying audioread instead.\n",
            "  warnings.warn(\"PySoundFile failed. Trying audioread instead.\")\n"
          ],
          "name": "stderr"
        },
        {
          "output_type": "stream",
          "text": [
            "/content/processed/RagaDatasetNew/To╠äd╠úi╠ä/Jasraj - Is Nagri Main and Allah Jane Allah Jane.mp3, segment:1\n",
            "/content/processed/RagaDatasetNew/To╠äd╠úi╠ä/Jasraj - Is Nagri Main and Allah Jane Allah Jane.mp3, segment:2\n",
            "/content/processed/RagaDatasetNew/To╠äd╠úi╠ä/Jasraj - Is Nagri Main and Allah Jane Allah Jane.mp3, segment:3\n",
            "/content/processed/RagaDatasetNew/To╠äd╠úi╠ä/Jasraj - Is Nagri Main and Allah Jane Allah Jane.mp3, segment:4\n",
            "/content/processed/RagaDatasetNew/To╠äd╠úi╠ä/Jasraj - Is Nagri Main and Allah Jane Allah Jane.mp3, segment:5\n",
            "/content/processed/RagaDatasetNew/To╠äd╠úi╠ä/Jasraj - Is Nagri Main and Allah Jane Allah Jane.mp3, segment:6\n",
            "/content/processed/RagaDatasetNew/To╠äd╠úi╠ä/Jasraj - Is Nagri Main and Allah Jane Allah Jane.mp3, segment:7\n",
            "/content/processed/RagaDatasetNew/To╠äd╠úi╠ä/Jasraj - Is Nagri Main and Allah Jane Allah Jane.mp3, segment:8\n",
            "/content/processed/RagaDatasetNew/To╠äd╠úi╠ä/Jasraj - Is Nagri Main and Allah Jane Allah Jane.mp3, segment:9\n",
            "/content/processed/RagaDatasetNew/To╠äd╠úi╠ä/Jasraj - Is Nagri Main and Allah Jane Allah Jane.mp3, segment:10\n"
          ],
          "name": "stdout"
        },
        {
          "output_type": "stream",
          "text": [
            "/usr/local/lib/python3.7/dist-packages/librosa/core/audio.py:162: UserWarning: PySoundFile failed. Trying audioread instead.\n",
            "  warnings.warn(\"PySoundFile failed. Trying audioread instead.\")\n"
          ],
          "name": "stderr"
        }
      ]
    },
    {
      "cell_type": "code",
      "metadata": {
        "id": "buKz97aA_7Md"
      },
      "source": [
        ""
      ],
      "execution_count": null,
      "outputs": []
    }
  ]
}